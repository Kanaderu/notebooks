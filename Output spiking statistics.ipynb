{
 "metadata": {
  "name": "",
  "signature": "sha256:de3dcb6fcae75c6e733ac030cf1fe6dc71160a7536513e7429c67323b02f0013"
 },
 "nbformat": 3,
 "nbformat_minor": 0,
 "worksheets": [
  {
   "cells": [
    {
     "cell_type": "heading",
     "level": 1,
     "metadata": {},
     "source": [
      "Notebook description"
     ]
    },
    {
     "cell_type": "markdown",
     "metadata": {},
     "source": [
      "This notebook answers the following:\n",
      " - What are the statistics of an LIF neuron's output spikes given noisy input?\n",
      " - What about a population of adaptive neurons?\n",
      " - What about a population of neurons that adapt at the population level?\n",
      " \n",
      "We know that given a constant input current, an LIF neuron will output spikes at a constant rate. What if we start making the input more noisy through a synapse? (aside: what about if we give spikes directly to the soma?)"
     ]
    },
    {
     "cell_type": "code",
     "collapsed": false,
     "input": [],
     "language": "python",
     "metadata": {},
     "outputs": []
    }
   ],
   "metadata": {}
  }
 ]
}