{
 "cells": [
  {
   "cell_type": "markdown",
   "metadata": {},
   "source": [
    "# Notebook description\n",
    "\n",
    "This notebook goes through the arguments of drift and diffusion. These two processes arise in a collection of particles dominated by random thermal motion."
   ]
  },
  {
   "cell_type": "markdown",
   "metadata": {},
   "source": [
    "# Drift\n",
    "\n",
    "Imagine a big set of $N$ particles. Each one randomly moves around and collides with other particles. At each collision, a particle is sent off at a random velocity in another direction and another speed regardless of its speed or direction prior to the collision. Between each collision, a particle moves for a *mean free time* $t_f$.\n",
    "\n",
    "All the while, an external force $f$ is acting upon all of the particles. This force could result from a force field. For example, we could be talking about charged particles in an electric field. For electric field $E$ and particle charge $q$, $f=qE$.\n",
    "\n",
    "The displacement of the particle between its collisions can be broken down into the sum of two components: one component due to the random velocity induced by the collisions and another component due to the external force. Because the velocity due to collisions is random, its resulting displacement will average to 0, so we need only consider the displacement due to the external force when only thinking in the mean.\n",
    "\n",
    "By Netwon's first law, $f=ma$ where $f$ is the force, $m$ is the particle mass, and $a$ is the particle's acceleration. \n",
    "The displacement $\\delta h$ due to the acceleration during $t_f$ is given by\n",
    "\n",
    "$$\\delta h=\\frac{1}{2}at_f^2$$\n",
    "\n",
    "in terms of the force\n",
    "\n",
    "$$\\delta h=\\frac{1}{2}\\frac{f}{m}t_f^2$$\n",
    "\n",
    "Although it could be difficult to see the effect of the force at the microscopic particle level because of all the random velocities, if we were to zoom out and look at the collection as a whole, it would appear as if the collection of particles were moving with constant velocity $v_{drift}$. This constant velocity would be the mean displacement over the mean free time.\n",
    "\n",
    "$$v_{drift}=\\frac{\\delta h}{t_f}$$\n",
    "\n",
    "Substituting in for the force\n",
    "\n",
    "$$v_{drift}=\\frac{1}{2}\\frac{f}{m}t_f$$\n",
    "\n",
    "In the case of an electric field where $f=qE$,\n",
    "\n",
    "$$v_{drift}=\\frac{1}{2}\\frac{qE}{m}t_f=\\mu E$$\n",
    "\n",
    "where $\\mu = \\frac{qt_f}{2m}$ is the **mobility** of the particle. The important relationship to note is that the drift velocity $v_{drift}$ is linearly proportional to the electric field $E$."
   ]
  },
  {
   "cell_type": "markdown",
   "metadata": {
    "run_control": {
     "frozen": false,
     "read_only": false
    }
   },
   "source": [
    "# Diffusion"
   ]
  },
  {
   "cell_type": "markdown",
   "metadata": {},
   "source": [
    "# Equillibrium"
   ]
  }
 ],
 "metadata": {
  "hide_input": false,
  "kernelspec": {
   "display_name": "Python 3",
   "language": "python",
   "name": "python3"
  },
  "language_info": {
   "codemirror_mode": {
    "name": "ipython",
    "version": 3
   },
   "file_extension": ".py",
   "mimetype": "text/x-python",
   "name": "python",
   "nbconvert_exporter": "python",
   "pygments_lexer": "ipython3",
   "version": "3.6.0"
  },
  "toc": {
   "colors": {
    "hover_highlight": "#DAA520",
    "running_highlight": "#FF0000",
    "selected_highlight": "#FFD700"
   },
   "moveMenuLeft": true,
   "nav_menu": {
    "height": "86px",
    "width": "252px"
   },
   "navigate_menu": true,
   "number_sections": true,
   "sideBar": true,
   "threshold": 4,
   "toc_cell": false,
   "toc_section_display": "block",
   "toc_window_display": false,
   "widenNotebook": false
  }
 },
 "nbformat": 4,
 "nbformat_minor": 2
}
