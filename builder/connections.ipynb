{
 "metadata": {
  "name": "",
  "signature": "sha256:94dced59c0480b1e7c64a3acf2a971e72a13e57b6d727b938e920d6c53652e8c"
 },
 "nbformat": 3,
 "nbformat_minor": 0,
 "worksheets": [
  {
   "cells": [
    {
     "cell_type": "heading",
     "level": 1,
     "metadata": {},
     "source": [
      "Notebook description"
     ]
    },
    {
     "cell_type": "markdown",
     "metadata": {},
     "source": [
      "This notebook describes the connection algorithm used by the Builder. \n",
      "\n",
      "The Builder takes a nengo Network containing Ensembles, Nodes, and Connections and converts it into NGPy Pools, StateSpaces, and WeightedProjections. The Builder must implement the functionality described by the nengo Network but has many degrees of freedom in its actual implementation. Specifically, the Builder implements Connections as WeightedProjections among StateSpaces and Pools. So long as the network structure of these projections effectively implement the nengo Network connectivity, the Builder designer is free to arrange them as seen fit.\n",
      "\n",
      "On hardware, the connection matrix of a WeightedProjection is stored in memory and thus has an associated cost in terms of memory. The Builder designer's goal is to implement the nengo Network's connectivity for the minimum cost in terms of memory used. This notebook will discuss several approaches to implementing network connectivity, which can be divided into per-connection and multi-connection methods:\n",
      "\n",
      "Per-connection methods:\n",
      " - direct translation\n",
      " - decode-transform-encode factorization\n",
      " - transform folding\n",
      " \n",
      "Multi-connection methods:\n",
      " - decode matrix sharing\n",
      " - encoding matrix sharing\n",
      " - Folding transformation matrices into the encoding matrix"
     ]
    },
    {
     "cell_type": "heading",
     "level": 3,
     "metadata": {},
     "source": [
      "Terminology"
     ]
    },
    {
     "cell_type": "markdown",
     "metadata": {},
     "source": [
      "An Ensemble has $N$ neurons and encodes $e$-dimesions with its $N\\times e$ encode matrix, $\\boldsymbol{e}$. \n",
      "\n",
      "Each connection out of an Ensemble specifies a $d$-dimensional function. The function is approximated using a $d\\times N$ decode matrix, $\\boldsymbol{d}$. Optionally, a connection can also specify a transform matrix, $\\boldsymbol{M}$. The transform matrix is applied after the decode matrix and is $e'\\times d$, where $e'$ is the dimensionality of the connection target. Usually, $e'$ is the encoding dimensionality of another Ensemble. If a transformation matrix is not supplied, it is assumed to be the identity matrix\n",
      "\n",
      "A general rule of thumb in constructing networks is that $d\\approx e$ and $N\\approx 50e$."
     ]
    },
    {
     "cell_type": "code",
     "collapsed": false,
     "input": [
      "# symbols for nengo objects"
     ],
     "language": "python",
     "metadata": {},
     "outputs": [],
     "prompt_number": 2
    },
    {
     "cell_type": "code",
     "collapsed": false,
     "input": [
      "# symbols for NGPy objects"
     ],
     "language": "python",
     "metadata": {},
     "outputs": []
    },
    {
     "cell_type": "code",
     "collapsed": false,
     "input": [
      "# put in a picture of a generic network"
     ],
     "language": "python",
     "metadata": {},
     "outputs": []
    },
    {
     "cell_type": "heading",
     "level": 1,
     "metadata": {},
     "source": [
      "Per-connection methods"
     ]
    },
    {
     "cell_type": "markdown",
     "metadata": {},
     "source": [
      "These methods only consider connections individually in their implementation. They are simple to implement, but not very optimal."
     ]
    },
    {
     "cell_type": "heading",
     "level": 2,
     "metadata": {},
     "source": [
      "direct translation"
     ]
    },
    {
     "cell_type": "markdown",
     "metadata": {},
     "source": [
      "The simplest way to implement a Connection between two Ensembles is to translate the Connection directly into a WeightedProjection between the two Pools underlying the two Ensembles that lumps together the decode, transformation, and encode matrices. This WeightedProjection will requires $N^2$ memory per connection because\n",
      "\n",
      "$$\\overbrace{\\boldsymbol{d}}^{N\\times d}\\times \\overbrace{\\boldsymbol{M}}^{d\\times e}\\times \\overbrace{\\boldsymbol{e}}^{e\\times N}$$\n",
      "\n",
      "produces an $N\\times N$ matrix. $N^2$ is very big number, so we always avoid this method."
     ]
    },
    {
     "cell_type": "heading",
     "level": 2,
     "metadata": {},
     "source": [
      "decode-transform-encode factorization"
     ]
    },
    {
     "cell_type": "markdown",
     "metadata": {},
     "source": [
      "The next best connection scheme implements the Connection as three weighted projections: one for each transformation matrix."
     ]
    },
    {
     "cell_type": "code",
     "collapsed": false,
     "input": [
      "# picture of factorization"
     ],
     "language": "python",
     "metadata": {},
     "outputs": [],
     "prompt_number": 3
    },
    {
     "cell_type": "markdown",
     "metadata": {},
     "source": [
      "As three separate matrices per connection, This method requires \n",
      "\n",
      "$$(N\\times d) + (d\\times e) + (e\\times N)$$ \n",
      "\n",
      "memory per connection. Using the rule of thumb assumptions that $d=e$ and $N=50e$, this would cost\n",
      "\n",
      "$$\\left(N\\times \\frac{N}{50}\\right) + \\left(\\frac{N}{50}\\times \\frac{N}{50}\\right) + \\left(\\frac{N}{50}\\times N\\right) \n",
      "\\approx \\frac{N^2}{25}$$\n",
      "\n",
      "memory per connection, which is certainly better than direct translation."
     ]
    },
    {
     "cell_type": "heading",
     "level": 2,
     "metadata": {},
     "source": [
      "Sharing decode matrices"
     ]
    },
    {
     "cell_type": "heading",
     "level": 2,
     "metadata": {},
     "source": [
      "Folding transform matrices into encoding matrices"
     ]
    },
    {
     "cell_type": "code",
     "collapsed": false,
     "input": [
      "%pylab inline\n",
      "img = imread('figs/test.png')\n",
      "imshow(img)"
     ],
     "language": "python",
     "metadata": {},
     "outputs": [
      {
       "output_type": "stream",
       "stream": "stdout",
       "text": [
        "Populating the interactive namespace from numpy and matplotlib\n"
       ]
      },
      {
       "metadata": {},
       "output_type": "pyout",
       "prompt_number": 1,
       "text": [
        "<matplotlib.image.AxesImage at 0x302b3d0>"
       ]
      },
      {
       "metadata": {},
       "output_type": "display_data",
       "png": "[encoded data removed]",
       "text": [
        "<matplotlib.figure.Figure at 0x1ee68d0>"
       ]
      }
     ],
     "prompt_number": 1
    }
   ],
   "metadata": {}
  }
 ]
}