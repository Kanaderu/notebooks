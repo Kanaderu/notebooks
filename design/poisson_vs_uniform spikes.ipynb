{
 "cells": [
  {
   "cell_type": "markdown",
   "metadata": {},
   "source": [
    "# Notebook description\n",
    "<!---define operatorname var-->\n",
    "$\\DeclareMathOperator{\\Var}{Var}$\n",
    "<!---define operatorname var-->This notebook compares Poisson vs uniform spike train encoding. We use the SNR and the latency as specifications.\n",
    "\n",
    "Specifications:\n",
    " - $SNR=20$ or equivalently $NSR=.05$ or that we have a $5\\%$ error.\n",
    " - Latency = $.01$s = $10$ms"
   ]
  },
  {
   "cell_type": "markdown",
   "metadata": {},
   "source": [
    "<div style=\"display:block; border: 1px solid black; padding: 15px;background-color: #EEEEFF;margin: 10px\">\n",
    "<h2>Filtered Poisson spike train statistics</h2>\n",
    "\n",
    "\\begin{align}\n",
    "E[X] &= \\lambda \\\\\n",
    "\\operatorname{Var}(X) &= \\frac{\\lambda}{2\\tau} \\\\\n",
    "SNR &= \\sqrt{2\\lambda\\tau} \\\\\n",
    "\\end{align}\n",
    "</div>"
   ]
  },
  {
   "cell_type": "markdown",
   "metadata": {},
   "source": [
    "<div style=\"display:block; border: 1px solid black; padding: 15px;background-color: #EEEEFF;margin: 10px\">\n",
    "<h2>Filtered uniform spike train statistics</h2>\n",
    "\n",
    "$$\n",
    "E[X] = \\lambda\n",
    "$$\n",
    "\n",
    "<br>\n",
    "\n",
    "\\begin{align*}\n",
    "\\operatorname{Var}(X) &= \\lambda^2\\left(\\frac{1}{2\\lambda\\tau}\\coth\\left(\\frac{1}{2\\lambda\\tau}\\right)-1\\right) \\\\\n",
    "\\operatorname{Var}(X) &\\approx \\frac{1}{12\\tau^2} & \\text{at high }\\lambda\\tau \\\\\n",
    "\\end{align*}\n",
    "\n",
    "<br>\n",
    "\n",
    "\\begin{align*}\n",
    "SNR &= \\frac{1}{\\sqrt{\\frac{1}{2\\lambda\\tau}\\coth\\left(\\frac{1}{2\\lambda\\tau}\\right)-1}} \\\\\n",
    "SNR &\\approx \\sqrt{12}(\\lambda\\tau) & \\text{at high }\\lambda\\tau\\\\\n",
    "\\end{align*}\n",
    "\n",
    "</div>"
   ]
  },
  {
   "cell_type": "code",
   "execution_count": 1,
   "metadata": {
    "collapsed": false
   },
   "outputs": [],
   "source": [
    "import numpy as np\n",
    "from scipy.optimize import fsolve\n",
    "from matplotlib import pyplot as plt\n",
    "%matplotlib inline\n",
    "plt.rc('axes', labelsize=20)"
   ]
  },
  {
   "cell_type": "code",
   "execution_count": 2,
   "metadata": {
    "collapsed": false
   },
   "outputs": [],
   "source": [
    "def p_snr(lam, tau):\n",
    "    return np.sqrt(2.*lam*tau)\n",
    "\n",
    "def u_snr(lam, tau):\n",
    "    return 1./np.sqrt(1./(2.*lam*tau)*(1.+np.exp(-1./lam/tau))/(1.-np.exp(-1./lam/tau))-1)\n",
    "\n",
    "def get_u_lam(snr, tau, approx=False):\n",
    "    if approx:\n",
    "        lam = snr / np.sqrt(12) / tau\n",
    "    else:\n",
    "        ret = fsolve(lambda x: u_snr(x, tau) - snr, 1./tau)\n",
    "        lam = ret[0]\n",
    "        assert np.isclose(u_snr(lam, tau), snr), '%f' % lam\n",
    "    return lam\n",
    "\n",
    "def get_p_lam(snr, tau):\n",
    "    lam = snr**2/2./tau\n",
    "    return lam"
   ]
  },
  {
   "cell_type": "markdown",
   "metadata": {},
   "source": [
    "First let's check the required Poisson and uniform spike rates given the specified SNR and latency. That is, if we simply encoded a value using a Poisson or uniform spike train, what rate would we need to spike at to meet the SNR and latency spec? This is equivalent to assuming we're using a single neuron to encode our value."
   ]
  },
  {
   "cell_type": "code",
   "execution_count": 3,
   "metadata": {
    "collapsed": false
   },
   "outputs": [
    {
     "name": "stdout",
     "output_type": "stream",
     "text": [
      "Poisson spike encoding requires 20000 spks/s\n",
      "Uniform spike encoding requires 577 spks/s (approx)\n",
      "Uniform spike encoding requires 577 spks/s\n"
     ]
    }
   ],
   "source": [
    "snr = 20.\n",
    "tau = .01\n",
    "\n",
    "lam_p = get_p_lam(snr, tau)\n",
    "lam_u_approx = get_u_lam(snr, tau, approx=True)\n",
    "lam_u = get_u_lam(snr, tau)\n",
    "\n",
    "print 'Poisson spike encoding requires %.0f spks/s' % lam_p\n",
    "print 'Uniform spike encoding requires %.0f spks/s (approx)' % lam_u_approx\n",
    "print 'Uniform spike encoding requires %.0f spks/s' % lam_u"
   ]
  },
  {
   "cell_type": "markdown",
   "metadata": {},
   "source": [
    "The uniform spike process encoding requires approximately a $40$-fold lower rate than the Poisson spike process encoding.\n",
    "\n",
    "Note that applying a decode weight $d$ to a single neuron does not change the $SNR$ because $E[dX]=dE[X]$ and $\\Var(dX)=d^2\\Var(X)$ so $SNR(dX) = \\frac{E[dX]}{\\sqrt{\\Var(dX)}} = \\frac{dE[X]}{d\\sqrt{\\Var(X)}}=SNR(X)$.\n",
    "\n",
    "Next, we sweep the firing rate (for constant $\\tau$) and see how the SNR changes for the Poisson vs uniform processes. $\\lambda\\tau$ is the number of spikes in a $\\tau$-long window."
   ]
  },
  {
   "cell_type": "markdown",
   "metadata": {},
   "source": [
    "# Low $\\lambda\\tau$ SNR"
   ]
  },
  {
   "cell_type": "code",
   "execution_count": 9,
   "metadata": {
    "collapsed": false
   },
   "outputs": [
    {
     "data": {
      "image/png": "[encoded data removed]",
      "text/plain": [
       "<matplotlib.figure.Figure at 0x7f69161c3150>"
      ]
     },
     "metadata": {},
     "output_type": "display_data"
    }
   ],
   "source": [
    "lam = np.logspace(-6, np.log10(1./tau), 100)\n",
    "plt.plot(lam*tau, u_snr(lam, tau), label='uniform')\n",
    "plt.plot(lam*tau, p_snr(lam, tau), label='Poisson')\n",
    "plt.xlim(0, max(lam)*tau)\n",
    "plt.legend(loc='best')\n",
    "plt.xlabel(r'$\\lambda\\tau$');"
   ]
  },
  {
   "cell_type": "markdown",
   "metadata": {},
   "source": [
    "We see that for for less than $0.1$ spikes per $\\tau$ (i.e. $\\lambda\\tau<.1$), the $SNR$ looks approximately the same for Poisson and uniform spike processes. For $\\lambda\\tau>.1$, the $SNR$ diverges between the Poisson and uniform spike processes."
   ]
  },
  {
   "cell_type": "markdown",
   "metadata": {},
   "source": [
    "# High $\\lambda\\tau$ SNR"
   ]
  },
  {
   "cell_type": "code",
   "execution_count": 5,
   "metadata": {
    "collapsed": false
   },
   "outputs": [
    {
     "data": {
      "text/plain": [
       "<matplotlib.text.Text at 0x7f691649d110>"
      ]
     },
     "execution_count": 5,
     "metadata": {},
     "output_type": "execute_result"
    },
    {
     "data": {
      "image/png": "[encoded data removed]",
      "text/plain": [
       "<matplotlib.figure.Figure at 0x7f691657d750>"
      ]
     },
     "metadata": {},
     "output_type": "display_data"
    }
   ],
   "source": [
    "# lam = np.linspace(0, .01/tau, 100)[1:]\n",
    "lam = np.logspace(-6, np.log10(10./tau), 100)\n",
    "plt.plot(lam*tau, u_snr(lam, tau), label='uniform')\n",
    "plt.plot(lam*tau, p_snr(lam, tau), label='Poisson')\n",
    "plt.legend(loc='best')\n",
    "plt.xlabel(r'$\\lambda\\tau$');"
   ]
  },
  {
   "cell_type": "markdown",
   "metadata": {},
   "source": [
    "The high $\\lambda\\tau$ plot shows the trend of diverging Poisson and uniform $SNR$ for high $\\lambda\\tau$."
   ]
  },
  {
   "cell_type": "markdown",
   "metadata": {},
   "source": [
    "# Using multiple neurons\n",
    "\n",
    "In practice, we'll never use a single neuron because we need a diversity of tuning curves to approximate arbitrary functions other. Let's say we use $N$ neurons and take the sum of their spike trains as encoding the signal.\n",
    "\n",
    "Now, \n",
    "\n",
    "$$\n",
    "X = X_1 + X_2 + \\ldots + X_N\n",
    "$$"
   ]
  }
 ],
 "metadata": {
  "kernelspec": {
   "display_name": "Python 2",
   "language": "python",
   "name": "python2"
  },
  "language_info": {
   "codemirror_mode": {
    "name": "ipython",
    "version": 2
   },
   "file_extension": ".py",
   "mimetype": "text/x-python",
   "name": "python",
   "nbconvert_exporter": "python",
   "pygments_lexer": "ipython2",
   "version": "2.7.9"
  }
 },
 "nbformat": 4,
 "nbformat_minor": 0
}
