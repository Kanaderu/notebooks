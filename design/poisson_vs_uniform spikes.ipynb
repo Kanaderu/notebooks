{
 "cells": [
  {
   "cell_type": "markdown",
   "metadata": {},
   "source": [
    "# Notebook description\n",
    "<!---define operatorname var-->\n",
    "$\\DeclareMathOperator{\\Var}{Var}$\n",
    "<!---define operatorname var-->This notebook compares Poisson vs uniform spike train encoding. We use the SNR and the latency as specifications.\n",
    "\n",
    "Specifications:\n",
    " - $SNR=20$ or equivalently $NSR=.05$ or that we have a $5\\%$ error.\n",
    " - Latency = $.01$s = $10$ms"
   ]
  },
  {
   "cell_type": "markdown",
   "metadata": {},
   "source": [
    "<div style=\"display:block; border: 1px solid black; padding: 15px;background-color: #EEEEFF;margin: 10px\">\n",
    "<h2>Filtered Poisson spike train statistics</h2>\n",
    "\n",
    "\\begin{align}\n",
    "E[X] &= \\lambda \\\\\n",
    "\\operatorname{Var}(X) &= \\frac{\\lambda}{2\\tau} \\\\\n",
    "SNR &= \\sqrt{2\\lambda\\tau} \\\\\n",
    "\\end{align}\n",
    "</div>"
   ]
  },
  {
   "cell_type": "markdown",
   "metadata": {},
   "source": [
    "<div style=\"display:block; border: 1px solid black; padding: 15px;background-color: #EEEEFF;margin: 10px\">\n",
    "<h2>Filtered uniform spike train statistics</h2>\n",
    "\n",
    "$$\n",
    "E[X] = \\lambda\n",
    "$$\n",
    "\n",
    "<br>\n",
    "\n",
    "\\begin{align*}\n",
    "\\operatorname{Var}(X) &= \\lambda^2\\left(\\frac{1}{2\\lambda\\tau}\\coth\\left(\\frac{1}{2\\lambda\\tau}\\right)-1\\right) \\\\\n",
    "\\operatorname{Var}(X) &\\approx \\frac{1}{12\\tau^2} & \\text{at high }\\lambda\\tau \\\\\n",
    "\\end{align*}\n",
    "\n",
    "<br>\n",
    "\n",
    "\\begin{align*}\n",
    "SNR &= \\frac{1}{\\sqrt{\\frac{1}{2\\lambda\\tau}\\coth\\left(\\frac{1}{2\\lambda\\tau}\\right)-1}} \\\\\n",
    "SNR &\\approx \\sqrt{12}(\\lambda\\tau) & \\text{at high }\\lambda\\tau\\\\\n",
    "\\end{align*}\n",
    "\n",
    "</div>"
   ]
  },
  {
   "cell_type": "code",
   "execution_count": 1,
   "metadata": {
    "collapsed": false
   },
   "outputs": [],
   "source": [
    "import numpy as np\n",
    "from scipy.optimize import fsolve\n",
    "from matplotlib import pyplot as plt\n",
    "%matplotlib inline\n",
    "plt.rc('axes', labelsize=20)"
   ]
  },
  {
   "cell_type": "code",
   "execution_count": 2,
   "metadata": {
    "collapsed": false
   },
   "outputs": [],
   "source": [
    "def p_snr(lam, tau):\n",
    "    return np.sqrt(2.*lam*tau)\n",
    "\n",
    "def u_snr(lam, tau):\n",
    "    return 1./np.sqrt(1./(2.*lam*tau)*(1.+np.exp(-1./lam/tau))/(1.-np.exp(-1./lam/tau))-1)\n",
    "\n",
    "def get_u_lam(snr, tau, approx=False):\n",
    "    if approx:\n",
    "        lam = snr / np.sqrt(12) / tau\n",
    "    else:\n",
    "        ret = fsolve(lambda x: u_snr(x, tau) - snr, 1./tau)\n",
    "        lam = ret[0]\n",
    "        assert np.isclose(u_snr(lam, tau), snr), '%f' % lam\n",
    "    return lam\n",
    "\n",
    "def get_p_lam(snr, tau):\n",
    "    lam = snr**2/2./tau\n",
    "    return lam"
   ]
  },
  {
   "cell_type": "markdown",
   "metadata": {},
   "source": [
    "First let's check the required Poisson and uniform spike rates given the specified SNR and latency. That is, if we simply encoded a value using a Poisson or uniform spike train, what rate would we need to spike at to meet the SNR and latency spec? This is equivalent to assuming we're using a single neuron to encode our value."
   ]
  },
  {
   "cell_type": "code",
   "execution_count": 3,
   "metadata": {
    "collapsed": false
   },
   "outputs": [
    {
     "name": "stdout",
     "output_type": "stream",
     "text": [
      "Poisson spike encoding requires 20000 spks/s\n",
      "Uniform spike encoding requires 577 spks/s (approx)\n",
      "Uniform spike encoding requires 577 spks/s\n"
     ]
    }
   ],
   "source": [
    "snr = 20.\n",
    "tau = .01\n",
    "\n",
    "lam_p = get_p_lam(snr, tau)\n",
    "lam_u_approx = get_u_lam(snr, tau, approx=True)\n",
    "lam_u = get_u_lam(snr, tau)\n",
    "\n",
    "print 'Poisson spike encoding requires %.0f spks/s' % lam_p\n",
    "print 'Uniform spike encoding requires %.0f spks/s (approx)' % lam_u_approx\n",
    "print 'Uniform spike encoding requires %.0f spks/s' % lam_u"
   ]
  },
  {
   "cell_type": "markdown",
   "metadata": {},
   "source": [
    "The uniform spike process encoding requires approximately a $40$-fold lower rate than the Poisson spike process encoding.\n",
    "\n",
    "Note that applying a decode weight $d$ to a single neuron does not change the $SNR$ because $E[dX]=dE[X]$ and $\\Var(dX)=d^2\\Var(X)$ so $SNR(dX) = \\frac{E[dX]}{\\sqrt{\\Var(dX)}} = \\frac{dE[X]}{d\\sqrt{\\Var(X)}}=SNR(X)$.\n",
    "\n",
    "Next, we sweep the firing rate (for constant $\\tau$) and see how the SNR changes for the Poisson vs uniform processes. $\\lambda\\tau$ is the number of spikes in a $\\tau$-long window."
   ]
  },
  {
   "cell_type": "markdown",
   "metadata": {},
   "source": [
    "# Low $\\lambda\\tau$ SNR"
   ]
  },
  {
   "cell_type": "code",
   "execution_count": 4,
   "metadata": {
    "collapsed": false
   },
   "outputs": [
    {
     "data": {
      "image/png": "[encoded data removed]",
      "text/plain": [
       "<matplotlib.figure.Figure at 0x7fe2d8038cd0>"
      ]
     },
     "metadata": {},
     "output_type": "display_data"
    }
   ],
   "source": [
    "lam = np.logspace(-6, np.log10(1./tau), 100)\n",
    "plt.plot(lam*tau, u_snr(lam, tau), label='uniform')\n",
    "plt.plot(lam*tau, p_snr(lam, tau), label='Poisson')\n",
    "plt.xlim(0, max(lam)*tau)\n",
    "plt.legend(loc='best')\n",
    "plt.xlabel(r'$\\lambda\\tau$');"
   ]
  },
  {
   "cell_type": "markdown",
   "metadata": {},
   "source": [
    "We see that for for less than $0.1$ spikes per $\\tau$ (i.e. $\\lambda\\tau<.1$), the $SNR$ looks approximately the same for Poisson and uniform spike processes. For $\\lambda\\tau>.1$, the $SNR$ diverges between the Poisson and uniform spike processes."
   ]
  },
  {
   "cell_type": "markdown",
   "metadata": {},
   "source": [
    "# High $\\lambda\\tau$ SNR"
   ]
  },
  {
   "cell_type": "code",
   "execution_count": 5,
   "metadata": {
    "collapsed": false
   },
   "outputs": [
    {
     "data": {
      "image/png": "[encoded data removed]",
      "text/plain": [
       "<matplotlib.figure.Figure at 0x7fe2fd79d4d0>"
      ]
     },
     "metadata": {},
     "output_type": "display_data"
    }
   ],
   "source": [
    "# lam = np.linspace(0, .01/tau, 100)[1:]\n",
    "lam = np.logspace(-6, np.log10(10./tau), 100)\n",
    "plt.plot(lam*tau, u_snr(lam, tau), label='uniform')\n",
    "plt.plot(lam*tau, p_snr(lam, tau), label='Poisson')\n",
    "plt.legend(loc='best')\n",
    "plt.xlabel(r'$\\lambda\\tau$');"
   ]
  },
  {
   "cell_type": "markdown",
   "metadata": {},
   "source": [
    "The high $\\lambda\\tau$ plot shows the trend of diverging Poisson and uniform $SNR$ for high $\\lambda\\tau$."
   ]
  },
  {
   "cell_type": "markdown",
   "metadata": {},
   "source": [
    "# Using multiple neurons\n",
    "\n",
    "In practice, we'll never use a single neuron because we need a diversity of tuning curves to approximate arbitrary functions. Let's say we use $N$ neurons weighted by decode weights $d_i$ and take the sum of their spike trains as encoding the signal.\n",
    "\n",
    "Now, assuming the filtered processes are independent,\n",
    "\n",
    "$$\n",
    "X = d_1X_1 + d_2X_2 + \\ldots + d_NX_N\n",
    "$$\n",
    "\n",
    "$$\n",
    "E[X] = d_1E[X_1] + d_2E[X_2] + \\ldots + d_NE[X_N]\n",
    "$$\n",
    "\n",
    "$$\n",
    "\\Var(X) = d_1^2\\Var(X_1) + d_2^2\\Var(X_2) + \\ldots + d_N^2\\Var(X_N)\n",
    "$$\n",
    "\n",
    "$$\n",
    "SNR = \\frac{d_1E[X_1] + d_2E[X_2] + \\ldots + d_NE[X_N]}{\\sqrt{d_1^2\\Var(X_1) + d_2^2\\Var(X_2) + \\ldots + d_N^2\\Var(X_N)}}\n",
    "$$\n",
    "\n",
    "If we assume that $d_i=d$ are all the same, then they can be factored out and don't affect the $SNR$.\n",
    "\n",
    "\\begin{align*}\n",
    "SNR &= \\frac{d(E[X_1] + E[X_2] + \\ldots + E[X_N])}\n",
    "    {\\sqrt{d^2(\\Var(X_1) + \\Var(X_2) + \\ldots + \\Var(X_N))}} \\\\\n",
    " &= \\frac{E[X_1] + E[X_2] + \\ldots + E[X_N]}\n",
    "    {\\sqrt{\\Var(X_1) + \\Var(X_2) + \\ldots + \\Var(X_N)}} \\\\\n",
    "\\end{align*}\n",
    "\n",
    "Further, if we assume that the neurons are spiking at the same rate, \n",
    "\n",
    "\\begin{align*}\n",
    "SNR &= \\frac{NE[X_i]}{\\sqrt{N\\Var(X_i)}} \\\\\n",
    " &= \\sqrt{N}\\frac{E[X_i]}{\\sqrt{\\Var(X_i)} } \\\\\n",
    " &= \\sqrt{N}SNR(X_i) \\\\\n",
    "SNR(X_i) &= \\frac{SNR}{\\sqrt{N}}\n",
    "\\end{align*}\n",
    "\n",
    "As we add neurons, how fast must the neurons spike to maintain the same SNR?"
   ]
  },
  {
   "cell_type": "code",
   "execution_count": 17,
   "metadata": {
    "collapsed": false
   },
   "outputs": [
    {
     "data": {
      "image/png": "[encoded data removed]",
      "text/plain": [
       "<matplotlib.figure.Figure at 0x7fe2d7817950>"
      ]
     },
     "metadata": {},
     "output_type": "display_data"
    }
   ],
   "source": [
    "Ns = np.array([1, 2, 5, 10, 20, 50, 100, 200, 500, 1000, 2000, 5000, 10000])\n",
    "lam_p = np.zeros(len(Ns))\n",
    "lam_u = np.zeros(len(Ns))\n",
    "\n",
    "for idx, N in enumerate(Ns):\n",
    "    snr_i = snr/np.sqrt(N)\n",
    "    lam_p[idx] = get_p_lam(snr_i, tau)\n",
    "    lam_u[idx] = get_u_lam(snr_i, tau)\n",
    "\n",
    "clip_idx = Ns<=1000\n",
    "fig, axs= plt.subplots(ncols=2, figsize=(16, 6))\n",
    "axs[0].semilogy(Ns[clip_idx], lam_p[clip_idx]*tau, label='Poisson')\n",
    "axs[0].semilogy(Ns[clip_idx], lam_u[clip_idx]*tau, label='uniform')\n",
    "axs[0].legend(loc='best')\n",
    "axs[0].set_xlabel(r'$N$')\n",
    "axs[0].set_ylabel(r'$\\lambda_i\\tau$')\n",
    "axs[0].set_title(r'up to $N=1000$', fontsize=20)\n",
    "\n",
    "axs[1].semilogy(Ns, lam_p*tau, label='Poisson')\n",
    "axs[1].semilogy(Ns, lam_u*tau, label='uniform')\n",
    "axs[1].legend(loc='best')\n",
    "axs[1].set_xlabel(r'$N$')\n",
    "axs[1].set_ylabel(r'$\\lambda_i\\tau$')\n",
    "axs[1].set_title(r'up to $N=10000$', fontsize=20);"
   ]
  },
  {
   "cell_type": "markdown",
   "metadata": {},
   "source": [
    "As the number of neurons gets very high, $\\lambda_i\\tau$ decreases below $0.1$, and required spike rates of the individual Poisson and uniform processes converge."
   ]
  }
 ],
 "metadata": {
  "kernelspec": {
   "display_name": "Python 2",
   "language": "python",
   "name": "python2"
  },
  "language_info": {
   "codemirror_mode": {
    "name": "ipython",
    "version": 2
   },
   "file_extension": ".py",
   "mimetype": "text/x-python",
   "name": "python",
   "nbconvert_exporter": "python",
   "pygments_lexer": "ipython2",
   "version": "2.7.9"
  }
 },
 "nbformat": 4,
 "nbformat_minor": 0
}
