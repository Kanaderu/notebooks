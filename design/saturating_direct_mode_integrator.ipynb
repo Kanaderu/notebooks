{
 "metadata": {
  "name": "",
  "signature": "sha256:ebbff3e152d18aef90c4b08453b26657c8c2fb0f5e6b18727edb14a403d78dbc"
 },
 "nbformat": 3,
 "nbformat_minor": 0,
 "worksheets": [
  {
   "cells": [
    {
     "cell_type": "heading",
     "level": 1,
     "metadata": {},
     "source": [
      "Notebook description"
     ]
    },
    {
     "cell_type": "markdown",
     "metadata": {},
     "source": [
      "Sometimes we rely on saturation of the neuron tuning curves in an NEF network. For example, an integrator built with neurons will eventually saturate if we drive it with a constant, non-zero input. If we rely on this saturation, then we're in trouble if we try to swap out spiking neurons for direct mode operation to, say, speed up the simulation time. Direct mode, which \"just does the math\", does not saturate. Here is a method to make direct mode saturate without affecting spiking mode behavior."
     ]
    },
    {
     "cell_type": "heading",
     "level": 1,
     "metadata": {},
     "source": [
      "Simulation setup"
     ]
    },
    {
     "cell_type": "code",
     "collapsed": false,
     "input": [
      "%pylab inline"
     ],
     "language": "python",
     "metadata": {},
     "outputs": [
      {
       "output_type": "stream",
       "stream": "stdout",
       "text": [
        "Populating the interactive namespace from numpy and matplotlib\n"
       ]
      }
     ],
     "prompt_number": 1
    },
    {
     "cell_type": "code",
     "collapsed": false,
     "input": [
      "import nengo\n",
      "import numpy as np"
     ],
     "language": "python",
     "metadata": {},
     "outputs": [
      {
       "javascript": [
        "\n",
        "        require([\"widgets/js/widget\", \"widgets/js/manager\"],\n",
        "            function(widget, manager) {\n",
        "          if (typeof widget.DOMWidgetView == 'undefined') {\n",
        "            widget = IPython;\n",
        "          }\n",
        "          if (typeof manager.WidgetManager == 'undefined') {\n",
        "            manager = IPython;\n",
        "          }\n",
        "\n",
        "          var NengoProgressBar = widget.DOMWidgetView.extend({\n",
        "            render: function() {\n",
        "              // $el is the DOM of the widget\n",
        "              this.$el.css({width: '100%', marginBottom: '0.5em'});\n",
        "              this.$el.html([\n",
        "                '<div style=\"',\n",
        "                    'width: 100%;',\n",
        "                    'border: 1px solid #cfcfcf;',\n",
        "                    'border-radius: 4px;',\n",
        "                    'text-align: center;',\n",
        "                    'position: relative;\">',\n",
        "                  '<div class=\"pb-text\" style=\"',\n",
        "                      'position: absolute;',\n",
        "                      'width: 100%;\">',\n",
        "                    '0%',\n",
        "                  '</div>',\n",
        "                  '<div class=\"pb-bar\" style=\"',\n",
        "                      'background-color: #bdd2e6;',\n",
        "                      'width: 0%;',\n",
        "                      'transition: width 0.1s linear;\">',\n",
        "                    '&nbsp;',\n",
        "                  '</div>',\n",
        "                '</div>'].join(''));\n",
        "            },\n",
        "\n",
        "            update: function() {\n",
        "              this.$el.css({width: '100%', marginBottom: '0.5em'});\n",
        "              var progress = 100 * this.model.get('progress');\n",
        "              var text = this.model.get('text');\n",
        "              this.$el.find('div.pb-bar').width(progress.toString() + '%');\n",
        "              this.$el.find('div.pb-text').text(text);\n",
        "            },\n",
        "          });\n",
        "\n",
        "          manager.WidgetManager.register_widget_view(\n",
        "            'NengoProgressBar', NengoProgressBar);\n",
        "        });"
       ],
       "metadata": {},
       "output_type": "display_data",
       "text": [
        "<IPython.core.display.Javascript at 0x7fac9876cad0>"
       ]
      }
     ],
     "prompt_number": 2
    },
    {
     "cell_type": "code",
     "collapsed": false,
     "input": [
      "T = 3.\n",
      "dim = 1\n",
      "pstc = .1"
     ],
     "language": "python",
     "metadata": {},
     "outputs": []
    },
    {
     "cell_type": "code",
     "collapsed": false,
     "input": [
      "def build_integrator(dim, pstc, nneurons=100, stim_val=1., neuron_type=nengo.LIF()):\n",
      "    A = np.zeros((dim, dim))\n",
      "    B = np.eye(dim)\n",
      "    Ap = pstc*A + np.eye(dim)\n",
      "    Bp = pstc*B\n",
      "    net = nengo.Network()\n",
      "    with net:\n",
      "        net.stim = nengo.Node(stim_val*np.ones(dim))\n",
      "        net.stim_probe = nengo.Probe(net.stim, synapse=None)\n",
      "        net.ens = nengo.Ensemble(100, 1, neuron_type=neuron_type)\n",
      "        net.stim_ens_conn = nengo.Connection(net.stim, net.ens, transform=Bp, synapse=None)\n",
      "        net.ens_ens_conn = nengo.Connection(net.ens, net.ens, transform=Ap, function=None, synapse=pstc)\n",
      "        net.probe = nengo.Probe(net.ens, synapse=pstc)\n",
      "    return net\n",
      "\n",
      "def plot_integrator_sim(sim):\n",
      "    t = sim.trange()\n",
      "    plot(t, sim.data[net.stim_probe], 'k', label='input')\n",
      "    plot(t, sim.data[net.probe], 'b', label='network output')\n",
      "    legend(loc='best')\n",
      "    xlabel('time (s)')"
     ],
     "language": "python",
     "metadata": {},
     "outputs": [],
     "prompt_number": 29
    },
    {
     "cell_type": "heading",
     "level": 1,
     "metadata": {},
     "source": [
      "An integrator network with spiking neurons saturates"
     ]
    },
    {
     "cell_type": "code",
     "collapsed": false,
     "input": [
      "net = build_integrator(dim, pstc)\n",
      "sim = nengo.Simulator(net)\n",
      "sim.run(T, progress_bar=False)\n",
      "plot_integrator_sim(sim)"
     ],
     "language": "python",
     "metadata": {},
     "outputs": [
      {
       "metadata": {},
       "output_type": "display_data",
       "png": "[encoded data removed]",
       "text": [
        "<matplotlib.figure.Figure at 0x7fac93b1b5d0>"
       ]
      }
     ],
     "prompt_number": 30
    },
    {
     "cell_type": "markdown",
     "metadata": {},
     "source": [
      "For the constant input of $1$, the network integrates the input as expected for the first second. Afterwards, we see that the network saturates. This is because the tuning curves saturate for input values outside of $-1$ to $1$."
     ]
    },
    {
     "cell_type": "heading",
     "level": 1,
     "metadata": {},
     "source": [
      "An integrator network with direct mode neurons does not saturate"
     ]
    },
    {
     "cell_type": "code",
     "collapsed": false,
     "input": [
      "net = build_integrator(dim, pstc, neuron_type=nengo.Direct())\n",
      "sim = nengo.Simulator(net)\n",
      "sim.run(T, progress_bar=False)\n",
      "t = sim.trange()\n",
      "plot_integrator_sim(sim)"
     ],
     "language": "python",
     "metadata": {},
     "outputs": [
      {
       "metadata": {},
       "output_type": "display_data",
       "png": "[encoded data removed]",
       "text": [
        "<matplotlib.figure.Figure at 0x7fac9307ca90>"
       ]
      }
     ],
     "prompt_number": 31
    },
    {
     "cell_type": "markdown",
     "metadata": {},
     "source": [
      "In contrast to the network with spiking neurons, the direct mode network does not saturate. It mathematically integrates the input."
     ]
    },
    {
     "cell_type": "heading",
     "level": 1,
     "metadata": {},
     "source": [
      "An integrator network with direct mode can be programmed to saturate"
     ]
    },
    {
     "cell_type": "code",
     "collapsed": false,
     "input": [
      "net = build_integrator(dim, pstc, neuron_type=nengo.Direct())\n",
      "net.ens_ens_conn.function = lambda x: np.clip(x, -1., 1.)\n",
      "sim = nengo.Simulator(net)\n",
      "sim.run(T, progress_bar=False)\n",
      "t = sim.trange()\n",
      "plot_integrator_sim(sim)"
     ],
     "language": "python",
     "metadata": {},
     "outputs": [
      {
       "metadata": {},
       "output_type": "display_data",
       "png": "[encoded data removed]",
       "text": [
        "<matplotlib.figure.Figure at 0x7fac92c0e990>"
       ]
      }
     ],
     "prompt_number": 34
    },
    {
     "cell_type": "markdown",
     "metadata": {},
     "source": [
      "It's a simple matter to make the direct mode network saturate during. We simply clip the feedback of the Ensemble back to itself."
     ]
    },
    {
     "cell_type": "heading",
     "level": 1,
     "metadata": {},
     "source": [
      "Fixing the direct mode behavior does not change the spiking network behavior"
     ]
    },
    {
     "cell_type": "code",
     "collapsed": false,
     "input": [
      "net = build_integrator(dim, pstc)\n",
      "net.ens_ens_conn.function = lambda x: np.clip(x, -1., 1.)\n",
      "sim = nengo.Simulator(net)\n",
      "sim.run(T, progress_bar=False)\n",
      "t = sim.trange()\n",
      "plot_integrator_sim(sim)"
     ],
     "language": "python",
     "metadata": {},
     "outputs": [
      {
       "metadata": {},
       "output_type": "display_data",
       "png": "[encoded data removed]",
       "text": [
        "<matplotlib.figure.Figure at 0x7fac92af8350>"
       ]
      }
     ],
     "prompt_number": 35
    },
    {
     "cell_type": "markdown",
     "metadata": {},
     "source": [
      "Applying the direct mode saturation fix with spiking neurons does not qualitatively change the spiking network saturation behavior."
     ]
    }
   ],
   "metadata": {}
  }
 ]
}