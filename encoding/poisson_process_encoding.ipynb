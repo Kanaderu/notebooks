{
 "cells": [
  {
   "cell_type": "markdown",
   "metadata": {},
   "source": [
    "# Notebook description\n",
    "\n",
    "Let's encode a value $v\\in[0, 1)$ using the spikes of a Poisson process. To measure the quality of our encoding, we'll compare our encoding to the precision of a $b$-bit binary encoding."
   ]
  },
  {
   "cell_type": "markdown",
   "metadata": {},
   "source": [
    "# Binary encoding\n",
    "\n",
    "For a $b$-bit encoding, each increment of the $b$-bit number is worth $2^{-b}$. For example, a $2$-bit encoding would be\n",
    "\n",
    "\\begin{matrix}\n",
    "\\text{bits} & v \\\\ \\hline\n",
    "00 & 0 \\\\\n",
    "01 & .25 \\\\\n",
    "10 & .50 \\\\\n",
    "11 & .75 \\\\\n",
    "\\end{matrix}\n",
    "\n",
    "Precision is defined in terms of the the maximum quantization (rounding) error of the $b$-bit encoding. Values of $v$ are rounded to their nearest $b$-bit encoding. Ignoring $v$ values greater than $2^{-(b+1)}$ above the highest representable value (e.g. $\\{v:v>0.75+0.125\\}$ in the above example), we see that the maximum error is given by\n",
    "\n",
    "\\begin{align*}\n",
    "e &= 2^{-(b+1)} \\\\\n",
    " &= 0.5\\cdot2^{-b}\n",
    "\\end{align*}"
   ]
  },
  {
   "cell_type": "markdown",
   "metadata": {},
   "source": [
    "# Poisson encoding\n",
    "\n",
    "We encode $v$ in a Poisson process $\\mathcal{N}(t)$ using the following:\n",
    "- $\\lambda_{max}$ is the maximum spike rate\n",
    "- The spike rate $\\lambda$ encoding $v$ is set such that $v = \\frac{\\lambda}{\\lambda_{max}}$. That is, $\\lambda = v\\lambda_{max}$\n",
    "\n",
    "To decode an estimate of $v$, $\\hat{v}$, we observe $n(T)$, the number of spikes from $\\mathcal{N}(t)$ observed during a $T$-length interval and use\n",
    "\n",
    "$$\\hat{v} = \\frac{n(T)}{\\lambda_{max}T}$$\n",
    "\n",
    "Since $\\mathcal{N}(t)$ is a Poisson process, $n(T)\\sim \\text{Poisson}(\\lambda T)$ and our estimate is correct on expectation:\n",
    "\n",
    "\\begin{align*}\n",
    "E[\\hat{v}] &= \\frac{E[n(T)]}{\\lambda_{max}T} \\\\\n",
    " &= \\frac{\\lambda T}{\\lambda_{max}T} \\\\\n",
    " &= v\n",
    "\\end{align*}"
   ]
  },
  {
   "cell_type": "markdown",
   "metadata": {},
   "source": [
    "We are interested in how long we must set $T$ to obtain an estimate within $b$-bits of precision. That is\n",
    "\n",
    "$$|v-\\hat{v}| \\le e$$\n",
    "\n",
    "Since $\\hat{v}$ is probabilistic (moreover a function of a Poisson random variable, which extends to infinity), it's impossible to guarantee this all of the time, so we define a specification $\\delta$ so that\n",
    "\n",
    "$$P(|v-\\hat{v}| > e) < \\delta$$\n",
    "\n",
    "With substitution, this is equivalent to\n",
    "\n",
    "\\begin{align}\n",
    "P(|\\lambda T-n(T)| > e\\lambda_{max}T) \\le \\delta\n",
    "\\end{align}"
   ]
  },
  {
   "cell_type": "markdown",
   "metadata": {},
   "source": [
    "We can do two things here: \n",
    " 1. Compute the probability directly\n",
    " 2. Use Chebyshev's inequality\n",
    "\n",
    "First we compute the probability directly. We can rewrite the probabilistic condition as\n",
    "\n",
    "$$\n",
    "P(|\\lambda T-n(T)| > e\\lambda_{max}T) = \n",
    "    P(n(T) < \\lambda T - e\\lambda_{max}T) + P(n(T) > \\lambda T + e\\lambda_{max}T)\n",
    "$$\n",
    "\n",
    "Define the $N(T)$ as the CDF of $n(T)$ so that\n",
    "\n",
    "$$\n",
    "P(n(T) < \\lambda T - e\\lambda_{max}T) + P(n(T) > \\lambda T + e\\lambda_{max}T) = \n",
    "    N(\\lambda T - e\\lambda_{max}T) + (1-N(\\lambda T +e\\lambda_{max}T))\n",
    "$$"
   ]
  },
  {
   "cell_type": "markdown",
   "metadata": {},
   "source": [
    "## Using Chebyshev's inequality\n",
    "\n",
    "This looks suspiciously familiar to Chebyshev's inequality, which states that for random variable $X$ with finite expected value $\\mu$ and finite, non-zero, variance $\\sigma^2$.\n",
    "\n",
    "$$P(|X-\\mu|\\ge k\\sigma)\\le\\frac{1}{k^2}$$"
   ]
  }
 ],
 "metadata": {
  "kernelspec": {
   "display_name": "Python 2",
   "language": "python",
   "name": "python2"
  },
  "language_info": {
   "codemirror_mode": {
    "name": "ipython",
    "version": 2
   },
   "file_extension": ".py",
   "mimetype": "text/x-python",
   "name": "python",
   "nbconvert_exporter": "python",
   "pygments_lexer": "ipython2",
   "version": "2.7.6"
  }
 },
 "nbformat": 4,
 "nbformat_minor": 0
}
