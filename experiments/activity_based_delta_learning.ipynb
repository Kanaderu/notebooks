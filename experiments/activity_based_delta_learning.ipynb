{
 "cells": [
  {
   "cell_type": "markdown",
   "metadata": {},
   "source": [
    "# Notebook description\n",
    "\n",
    "This notebook implements the delta learning rule in NEF by modifying the the activity of neurons rather than their decode weights. The delta learning rule is an online learning technique."
   ]
  },
  {
   "cell_type": "markdown",
   "metadata": {},
   "source": [
    "# Background"
   ]
  },
  {
   "cell_type": "markdown",
   "metadata": {
    "collapsed": true
   },
   "source": [
    "For input $x$, we would like to approximate some function $f(x)$ using a linear combination of nonlinear functions $a_i(x)$.\n",
    "\n",
    "$$f(x)\\approx y$$\n",
    "\n",
    "where\n",
    "\n",
    "$$y=\\sum_iw_ia_i(x)$$\n",
    "\n",
    "where $w_i$ is the weight of the $i$th nonlinear function. The error of our approximation is defined as\n",
    "\n",
    "$$e=f(x)-y$$\n",
    "\n",
    "From here, we'll drop the $(x)$ notation for succictness. We define the cost function\n",
    "\n",
    "$$E=\\frac{1}{2}e^2$$\n",
    "\n",
    "that indicates the quality of our $f(x)$ approximation. When $E=0$ our approximation is perfect. To send $E$ to $0$ over time, we would like a rule such that\n",
    "\n",
    "$$\\frac{dE}{dt}\\propto-E$$\n",
    "\n",
    "which will converge to $E=0$. Now,\n",
    "\n",
    "\\begin{align*}\n",
    "\\frac{dE}{dt} &= \\sum_i\\frac{\\partial E}{\\partial w_i}\\frac{dw_i}{dt} \\\\\n",
    "\\end{align*}\n",
    "\n",
    "and\n",
    "\n",
    "\\begin{align*}\n",
    "\\frac{\\partial E}{\\partial w_i} &= \\frac{\\partial E}{\\partial y}\\frac{\\partial y}{\\partial w_i} \\\\\n",
    " &= -(f-y)\\frac{\\partial y}{\\partial w_i} \\\\\n",
    " &= -(f-y)a_i \\\\\n",
    "\\end{align*}\n",
    "\n",
    "Now, we set $\\frac{dw_i}{dt}$ to give us the desired $\\frac{dE}{dt}$.\n",
    "\n",
    "\\begin{align*}\n",
    "\\frac{dw_i}{dt} &= -\\alpha\\frac{\\partial E}{\\partial w_i} \\\\\n",
    " &= \\alpha(f-y)a_i \\\\\n",
    "\\end{align*}\n",
    "\n",
    "where $\\alpha$ is some positive constant. With this $\\frac{dw_i}{dt}$,\n",
    "\n",
    "\\begin{align*}\n",
    "\\frac{dE}{dt} &= \\sum_i\\frac{\\partial E}{\\partial w_i}\\frac{dw_i}{dt} \\\\\n",
    " &= \\sum_i(-(f-y)a_i)(\\alpha(f-y)a_i) \\\\\n",
    " &= -\\alpha\\sum_i(f-y)^2a_i^2 \\\\\n",
    " &= -(2\\alpha\\sum_ia_i^2)E \\\\ \n",
    " &\\propto E \\\\\n",
    "\\end{align*}\n",
    "\n",
    "as we desired."
   ]
  },
  {
   "cell_type": "markdown",
   "metadata": {},
   "source": [
    "# Nengo implementation\n",
    "\n",
    "We'll implement this learning rule in nengo."
   ]
  },
  {
   "cell_type": "markdown",
   "metadata": {},
   "source": [
    "## Setup"
   ]
  },
  {
   "cell_type": "code",
   "execution_count": 1,
   "metadata": {
    "collapsed": false
   },
   "outputs": [
    {
     "name": "stderr",
     "output_type": "stream",
     "text": [
      ":0: FutureWarning: IPython widgets are experimental and may change in the future.\n"
     ]
    }
   ],
   "source": [
    "%matplotlib inline\n",
    "import numpy as np\n",
    "import nengo\n",
    "from matplotlib import pyplot as plt"
   ]
  },
  {
   "cell_type": "code",
   "execution_count": null,
   "metadata": {
    "collapsed": true
   },
   "outputs": [],
   "source": [
    "def delta_net(N_a=10, N_m=64, N_w=64):\n",
    "    net = nengo.Network()\n",
    "    with net:\n",
    "        stim = nengo.Node()\n",
    "        ens_as = [nengo.Ensemble(1, 1) for i in xrange(N_a)]\n",
    "        ens_aw_mult = [nengo.Ensemble(1, 2) for i in xrange(N_a)]"
   ]
  },
  {
   "cell_type": "markdown",
   "metadata": {},
   "source": [
    "# TODO\n",
    "\n",
    "- Currently assumes instantaneous computations. Do analysis if there is dynamics in each operation."
   ]
  }
 ],
 "metadata": {
  "kernelspec": {
   "display_name": "Python 2",
   "language": "python",
   "name": "python2"
  },
  "language_info": {
   "codemirror_mode": {
    "name": "ipython",
    "version": 2
   },
   "file_extension": ".py",
   "mimetype": "text/x-python",
   "name": "python",
   "nbconvert_exporter": "python",
   "pygments_lexer": "ipython2",
   "version": "2.7.3"
  }
 },
 "nbformat": 4,
 "nbformat_minor": 0
}
