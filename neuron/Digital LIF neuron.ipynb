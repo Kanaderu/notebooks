{
 "metadata": {
  "name": "",
  "signature": "sha256:0f927478920d1ca131cbb6b33b1df7b55154b0d28f5edfe0d888e0488dbe9131"
 },
 "nbformat": 3,
 "nbformat_minor": 0,
 "worksheets": [
  {
   "cells": [
    {
     "cell_type": "heading",
     "level": 1,
     "metadata": {},
     "source": [
      "Notebook description"
     ]
    },
    {
     "cell_type": "markdown",
     "metadata": {},
     "source": [
      "This notebook looks at the digital implementation of the LIF neuron. The dynamics of the LIF neuron are described by\n",
      "\n",
      "$$\\tau\\dot{x}=-x+u$$\n",
      "\n",
      "where \n",
      " - $x$ is the neuron state\n",
      " - $\\tau$ is the membrane time constant and\n",
      " - and $u$ is the input to the neuron.\n",
      " \n",
      "When $x$ reaches a predefined threshold $x_{t}$, we declare the neuron as having spiked, reset $x$ to $0$, and hold $x$ fixed for a refactory period $t_{ref}$. Implement the LIF neuron digitally, we make some compromises and optimizations in the math that make it easier to implement on hardware. These modifications include\n",
      " - reseting to the amount a neuron overshoots"
     ]
    },
    {
     "cell_type": "heading",
     "level": 1,
     "metadata": {},
     "source": [
      "LIF neuron analysis"
     ]
    },
    {
     "cell_type": "markdown",
     "metadata": {},
     "source": [
      "The output of the LIF neuron is spikes. We first derive the spike rate of an LIF neuron assuming that the input is constant. We do this by first finding the time, $t_t$ it takes for the neuron to reach threshold and then note that substitute into the equation describing the firing rate \n",
      "\n",
      "$$f=\\frac{1}{t_{ref}+t_t}$$\n",
      "\n",
      "Assuming that $x=x_0$ at $t=0$, \n",
      "\n",
      "\\begin{align}\n",
      "\\tau\\frac{dx}{dt} &= -x + u \\\\\n",
      "\\frac{\\tau}{-x+u}dx &= dt \\\\\n",
      "\\int_{x_0}^{x}\\frac{\\tau}{-x+u}dx &= \\int_{0}^{t} dt \\\\\n",
      "\\tau\\int_{x_0}^{x}\\frac{1}{-x+u}dx &= \\int_{0}^{t} dt. \\\\\n",
      "\\end{align}\n",
      "\n",
      "Substituting with $v=-x+u$ (so $-dv=dx$),\n",
      "\n",
      "\\begin{align}\n",
      "\\tau\\int_{x_0}^{x}\\frac{1}{-x+u}dx &= \\int_{0}^{t} dt \\\\\n",
      "-\\tau\\int\\frac{1}{v}dv &= \\int_{0}^{t} dt \\\\\n",
      "-\\tau[\\ln(v)]_{v_0}^{v} &= t \\\\\n",
      "-\\tau[\\ln(-x+u)]_{x_0}^{x} &= t \\\\\n",
      "-\\tau[\\ln(-x+u)-\\ln(-x_0+u)] &= t \\\\\n",
      "-\\tau\\ln\\left(\\frac{-x+u}{-x_0+u}\\right) &= t. \\\\\n",
      "\\end{align}\n",
      "\n",
      "Setting $t=t_t$ when $x=x_t$, we have\n",
      "\n",
      "$$\n",
      "-\\tau\\ln\\left(\\frac{-x_t+u}{-x_0+u}\\right) = t_t,\n",
      "$$\n",
      "\n",
      "so the firing rate for an LIF neuron with constant input will be\n",
      "\n",
      "$$\n",
      "f = \\frac{1}{t_{ref}-\\tau\\ln\\left(\\frac{-x_t+u}{-x_0+u}\\right)}.\n",
      "$$"
     ]
    }
   ],
   "metadata": {}
  }
 ]
}