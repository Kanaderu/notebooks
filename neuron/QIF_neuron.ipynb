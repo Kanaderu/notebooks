{
 "cells": [
  {
   "cell_type": "markdown",
   "metadata": {},
   "source": [
    "# Notebook description\n",
    "\n",
    "This notebook is for implementing and studying the QIF neuron"
   ]
  },
  {
   "cell_type": "code",
   "execution_count": null,
   "metadata": {
    "collapsed": true
   },
   "outputs": [],
   "source": [
    "import numpy as np\n",
    "from numpy.random import lognormal\n",
    "import matplotlib.pyplot as plt\n",
    "%matplotlib inline"
   ]
  },
  {
   "cell_type": "code",
   "execution_count": null,
   "metadata": {
    "collapsed": true
   },
   "outputs": [],
   "source": [
    "class QIF_heun(QIF):\n",
    "    \"\"\"A spiking quadratic integrate-and-fire neuron model\"\"\"   \n",
    "    def step_math(self, dt, J, spiked, voltage):\n",
    "        \"\"\"Integrate the QIF model one step forward in time using Heun's method\n",
    "\n",
    "        Parameters\n",
    "        ----------\n",
    "        dt : float\n",
    "            simulation time step\n",
    "        J : array of floats\n",
    "            input current to neurons\n",
    "        spiked : array of 0 or 1/dt's\n",
    "            indicates which neurons has spiked during time step\n",
    "        voltage : array of floats\n",
    "            voltage of neurons\n",
    "        \"\"\"\n",
    "        ########### Your code here ###########\n",
    "        vv = voltage\n",
    "        dV = dt / self.tau * (-vv + self.km*vv**2/2 + self.kbg*self.ibg + self.kin*J)\n",
    "        v = vv + dV\n",
    "        dV2 = dt / self.tau * (-v + self.km*v**2/2 + self.kbg*self.ibg + self.kin*J)\n",
    "        dVavg = (dV+dV2)/2.\n",
    "        v = vv + dVavg\n",
    "        \n",
    "        spiked[:] = np.where(v > QIFRate.threshold, 1.0/dt, 0.0)\n",
    "\n",
    "        v[spiked > 0] = 0.\n",
    "        voltage[:] = v\n",
    "\n",
    "# Register the QIF_heun model with Nengo\n",
    "# You should not have to modify this\n",
    "@Builder.register(QIF_heun)\n",
    "def build_qif_heun(model, qif_heun, neurons):\n",
    "    model.sig[neurons]['voltage'] = Signal(\n",
    "        np.zeros(neurons.size_in), name=\"%s.voltage\" % neurons)\n",
    "    model.add_op(SimNeurons(\n",
    "        neurons=qif_heun,\n",
    "        J=model.sig[neurons]['in'],\n",
    "        output=model.sig[neurons]['out'],\n",
    "        states=[model.sig[neurons]['voltage']]))"
   ]
  },
  {
   "cell_type": "code",
   "execution_count": null,
   "metadata": {
    "collapsed": true
   },
   "outputs": [],
   "source": [
    "############### Your Code Here ##############\n",
    "idx = 2\n",
    "dts = [.01, .001, .0001]\n",
    "T = .2\n",
    "net = nengo.Network()\n",
    "with net:\n",
    "    stim = nengo.Node(1.)\n",
    "    neuron_type = QIF(\n",
    "        ptau_list[idx] * tau, a_list[idx], b_list[idx], c_list[idx], ibg)\n",
    "    ens = nengo.Ensemble(1, 1, neuron_type=neuron_type,\n",
    "                       encoders=np.ones((1, 1)))\n",
    "    nengo.Connection(stim, ens, synapse=0)\n",
    "    probe_v = nengo.Probe(ens.neurons, 'voltage')\n",
    "fig, axs = plt.subplots(ncols=3, figsize=(15,4))\n",
    "for idx, dt in enumerate(dts):\n",
    "    sim = nengo.Simulator(net, dt=dt)\n",
    "    sim.run(T, progress_bar=False)\n",
    "    t = sim.trange()\n",
    "    axs[idx].plot(sim.trange(), sim.data[probe_v])\n",
    "    axs[idx].set_ylabel('voltage', fontsize=14)\n",
    "    axs[idx].set_xlabel(r'$t$', fontsize=20)"
   ]
  },
  {
   "cell_type": "code",
   "execution_count": null,
   "metadata": {
    "collapsed": true
   },
   "outputs": [],
   "source": [
    "def check_tuning_curve_accuracy(neuron_model):\n",
    "    \"\"\"Takes in a neuron model (e.g. QIF) and checks the accuracy\"\"\"\n",
    "############### Your Code Here ##############\n",
    "    xs = np.linspace(-1., 1., 30)\n",
    "    N = 5\n",
    "    idx = np.random.choice(np.arange(num_neurons), N, replace=False)\n",
    "    T = 1.\n",
    "    dt = .0001\n",
    "\n",
    "    net = nengo.Network()\n",
    "    with net:\n",
    "        stim = nengo.Node(0.)\n",
    "        encoders = np.random.choice([-1, 1], N, replace=True).reshape((N, 1))\n",
    "        neuron_type = neuron_model(ptau_list[idx] * tau, a_list[idx], b_list[idx], c_list[idx], ibg)\n",
    "        ens = nengo.Ensemble(N, 1, encoders=encoders, neuron_type=neuron_type)\n",
    "        nengo.Connection(stim, ens, synapse=0.)\n",
    "        probe_s = nengo.Probe(ens.neurons, 'spikes')\n",
    "        probe_v = nengo.Probe(ens.neurons, 'voltage')\n",
    "\n",
    "    a_hat = np.zeros((len(xs), N))\n",
    "    for x_idx, x in enumerate(xs):\n",
    "        stim.output = x\n",
    "        sim = nengo.Simulator(net, dt=dt)\n",
    "        sim.run(T, progress_bar=False)\n",
    "        t = sim.trange()\n",
    "        spike_dat = sim.data[probe_s]\n",
    "        for n in xrange(N):\n",
    "            spk_times = t[np.nonzero(spike_dat[:, n])[0]]\n",
    "            if len(spk_times) == 0:\n",
    "                a_hat[x_idx, n] = 0\n",
    "            elif len(spk_times) == 1:\n",
    "                a_hat[x_idx, n] = 1./T\n",
    "            else:\n",
    "                isi = np.diff(spk_times)\n",
    "                a_hat[x_idx, n] = 1./np.mean(isi)\n",
    "\n",
    "    sim = nengo.Simulator(net)\n",
    "    _, a = tuning_curves(ens, sim, inputs=xs.reshape((-1,1)))\n",
    "\n",
    "    a_error = a - a_hat\n",
    "\n",
    "    cc = ['r', 'g', 'b', 'c', 'm']\n",
    "    fig, axs = plt.subplots(ncols=2, figsize=(15,5))\n",
    "    axs[0].set_color_cycle(cc)\n",
    "    axs[0].plot(xs, a)\n",
    "    axs[0].plot(xs, a_hat, 'o', ms=6)\n",
    "    axs[0].set_xlabel(r'$x$', fontsize=20)\n",
    "    axs[0].set_ylabel(r'$a,\\ \\hat{a}$', fontsize=20)\n",
    "    axs[1].set_color_cycle(cc)\n",
    "    axs[1].plot(xs, a_error)\n",
    "    axs[1].set_xlabel(r'$x$', fontsize=20)\n",
    "    axs[1].set_ylabel(r'$a-\\hat{a}$', fontsize=20);"
   ]
  }
 ],
 "metadata": {
  "kernelspec": {
   "display_name": "Python 2",
   "language": "python",
   "name": "python2"
  },
  "language_info": {
   "codemirror_mode": {
    "name": "ipython",
    "version": 2
   },
   "file_extension": ".py",
   "mimetype": "text/x-python",
   "name": "python",
   "nbconvert_exporter": "python",
   "pygments_lexer": "ipython2",
   "version": "2.7.3"
  }
 },
 "nbformat": 4,
 "nbformat_minor": 0
}
