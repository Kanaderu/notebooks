{
 "metadata": {
  "name": "",
  "signature": "sha256:b2165d171462543e91e848bd8fcfbfce254952eefd3f68eaa1aa3d027bbb720c"
 },
 "nbformat": 3,
 "nbformat_minor": 0,
 "worksheets": [
  {
   "cells": [
    {
     "cell_type": "heading",
     "level": 1,
     "metadata": {},
     "source": [
      "Notebook description"
     ]
    },
    {
     "cell_type": "markdown",
     "metadata": {},
     "source": [
      "This notebook looks at the adaptive LIF neuron. Adaptation is a useful mechanism for reducing the amount of spikes that a neuron sends when the stimulus isn't changing. \n",
      "\n",
      "Specifically, \n",
      " - What are the parameters of the adaptive feedback term?\n",
      " - How do the feedback time constant and feedback gain change the neuron response?"
     ]
    },
    {
     "cell_type": "heading",
     "level": 1,
     "metadata": {},
     "source": [
      "Summary of results"
     ]
    },
    {
     "cell_type": "markdown",
     "metadata": {},
     "source": [
      " - You should set your feedback time constant like so...\n",
      " - You should set your feedback strength like so..."
     ]
    },
    {
     "cell_type": "heading",
     "level": 1,
     "metadata": {},
     "source": [
      "Analysis"
     ]
    },
    {
     "cell_type": "markdown",
     "metadata": {},
     "source": [
      "An adaptive LIF neuron is a modified version of an LIF neuron ([here](http://nbviewer.ipython.org/github/fragapanagos/notebooks/blob/master/neuron/LIF_neuron.ipynb) is an LIF neuron analysis).\n",
      "\n",
      "Similar to the standard LIF neuron, the dynamics of an adaptive LIF neuron are like an leaky integrator but unlike the LIF neuron, the adaptive neuron also includes feedback.\n",
      "\n",
      "$$\\tau\\dot{x}=-x+u_{in}+u_f$$\n",
      "\n",
      "where \n",
      " - $x$ is the neuron state\n",
      " - $\\tau$ is the membrane time constant and\n",
      " - $u_{in}$ is the input to the neuron\n",
      " - $u_f$ is the feedback\n",
      "\n",
      "$u_{in}$ can either be controlled directly as an input current or derived from the state of an attached synapse. If $u_{in}$ is derived from a synapse, $u_{in}=\\alpha_{syn} x_{syn}$, where $x_{syn}$ is the synaptic state and $\\alpha_{syn}$ scales the synaptic state. \n",
      "\n",
      "$u_f$ is typically modeled as derived from the state of an attached inhibitory synapse that receives a feedback spike whenever the neuron spikes. Therefore, $u_{f}=\\alpha_f x_f$ where $\\alpha_f<0$ because the feedback term is inhibitory, and $x_f$ is the state of the inhibitory feedback synapse.\n",
      "\n",
      "Expanding $u_{in}$ and $u_f$,\n",
      "\n",
      "$$\\tau\\dot{x}=-x+\\alpha_{syn}x_{syn}+\\alpha_f x_f$$\n",
      "\n"
     ]
    },
    {
     "cell_type": "markdown",
     "metadata": {},
     "source": [
      "Similar to the LIF neuron, the spiking mechanism is triggered by threshold. That is,\n",
      "\n",
      "$$\n",
      "x\\ge x_t \\rightarrow \n",
      "  \\begin{cases}\n",
      "    \\text{soma outputs a spike} \\\\\n",
      "    x :=0 & t_{spk}\\le t < t_{spk}+t_{ref} \\\\\n",
      "    u_{f}\\ := u_{f}+\\delta(t_{spk})\n",
      "  \\end{cases}\n",
      "$$\n",
      "\n",
      "where\n",
      " - $x_t$ is the threshold\n",
      " - $t_{spk}$ is the time at which $x(t)$ crosses threshold and\n",
      " - $t_{ref}$ is the refractory period\n",
      " \n",
      "In words, when $x$ reaches the threshold $x_{t}$, we declare the neuron as having spiked, reset and hold $x$ to $0$ for a refactory period $t_{ref}$, and feed an inhibitory spike back to the adaptive feedback term."
     ]
    },
    {
     "cell_type": "heading",
     "level": 1,
     "metadata": {},
     "source": [
      "Model and function definitions"
     ]
    },
    {
     "cell_type": "markdown",
     "metadata": {},
     "source": [
      "Lots of code in this section to setup the simulations. Only necessary if you're interested in the simulation implementation."
     ]
    },
    {
     "cell_type": "code",
     "collapsed": false,
     "input": [
      "%pylab inline"
     ],
     "language": "python",
     "metadata": {},
     "outputs": [
      {
       "output_type": "stream",
       "stream": "stdout",
       "text": [
        "Populating the interactive namespace from numpy and matplotlib\n"
       ]
      }
     ],
     "prompt_number": 2
    },
    {
     "cell_type": "code",
     "collapsed": false,
     "input": [
      "# import libraries\n",
      "FIGDIR = './figures/'\n",
      "from utils.data import checkdir\n",
      "checkdir(FIGDIR)\n",
      "\n",
      "import numpy as np\n",
      "s = random.seed(2)\n",
      "rng = random.RandomState(s)\n",
      "from utils.signal import make_poisson_spikes, filter_spikes\n",
      "\n",
      "import multiprocessing\n",
      "from utils.plot import plot_continuous, plot_spike_raster, plot_histogram,\\\n",
      "                       plot_contour, plot_scatter, match_xlims, save_close_fig"
     ],
     "language": "python",
     "metadata": {},
     "outputs": [],
     "prompt_number": 3
    },
    {
     "cell_type": "code",
     "collapsed": false,
     "input": [],
     "language": "python",
     "metadata": {},
     "outputs": []
    },
    {
     "cell_type": "heading",
     "level": 1,
     "metadata": {},
     "source": [
      "Principle of operation"
     ]
    },
    {
     "cell_type": "code",
     "collapsed": false,
     "input": [
      "# code showing fast exponential"
     ],
     "language": "python",
     "metadata": {},
     "outputs": []
    }
   ],
   "metadata": {}
  }
 ]
}