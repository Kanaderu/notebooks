{
 "metadata": {
  "name": "",
  "signature": "sha256:7ad39c9e98126917e9b90cd75b3635c324f9a4581f9ff5019cc6956e9cdfc170"
 },
 "nbformat": 3,
 "nbformat_minor": 0,
 "worksheets": [
  {
   "cells": [
    {
     "cell_type": "heading",
     "level": 1,
     "metadata": {},
     "source": [
      "Notebook description"
     ]
    },
    {
     "cell_type": "markdown",
     "metadata": {},
     "source": [
      "This notebook looks at the adaptive LIF neuron. Adaptation is a useful mechanism for reducing the amount of spikes sent between neurons. \n",
      "\n",
      "Specifically, \n",
      " - How do the feedback time constant and feedback gain change the neuron response?\n",
      " "
     ]
    },
    {
     "cell_type": "heading",
     "level": 1,
     "metadata": {},
     "source": [
      "Summary of results"
     ]
    },
    {
     "cell_type": "markdown",
     "metadata": {},
     "source": [
      " - You should set your feedback time constant like so...\n",
      " - You should set your feedback strength like so..."
     ]
    },
    {
     "cell_type": "heading",
     "level": 1,
     "metadata": {},
     "source": [
      "Analysis"
     ]
    },
    {
     "cell_type": "markdown",
     "metadata": {},
     "source": [
      "An adaptive LIF neuron is a modified version of an LIF neuron (See [this notebook](http://nbviewer.ipython.org/github/fragapanagos/notebooks/blob/master/neuron/LIF_neuron.ipynb) for analysis of the LIF neuron).\n",
      "\n",
      "Similar to the standard LIF neuron, the dynamics of an adaptive LIF neuron are like an leaky integrator but unlike the LIF neuron, the adaptive neuron also includes feedback.\n",
      "\n",
      "$$\\tau\\dot{x}=-x+u_{in}+u_{f}$$\n",
      "\n",
      "where \n",
      " - $x$ is the neuron state\n",
      " - $\\tau$ is the membrane time constant and\n",
      " - $u_{in}$ is the input to the neuron\n",
      " - $u_{f}$ is the feedback\n",
      "\n",
      "Similar to the LIF neuron, the firing mechanism is also governed by\n",
      "\n",
      "$$\n",
      "x\\ge x_t \\rightarrow \n",
      "  \\begin{cases}\n",
      "    \\text{soma outputs a spike} \\\\\n",
      "    x:=0 & t_{spk}\\le t < t_{spk}+t_{ref} \\\\\n",
      "    u_{f} -= \\delta(t)\n",
      "  \\end{cases}\n",
      "$$\n",
      "\n",
      "where\n",
      " - $x_t$ is the threshold\n",
      " - $t_{spk}$ is the time at which $x(t)$ crosses threshold and\n",
      " - $t_{ref}$ is the refractory period\n",
      " \n",
      "That is, when $x$ reaches the threshold $x_{t}$, we declare the neuron as having spiked, and reset and hold $x$ to $0$ for a refactory period $t_{ref}$."
     ]
    },
    {
     "cell_type": "heading",
     "level": 1,
     "metadata": {},
     "source": [
      "Principle of operation"
     ]
    },
    {
     "cell_type": "code",
     "collapsed": false,
     "input": [
      "# code showing fast exponential"
     ],
     "language": "python",
     "metadata": {},
     "outputs": []
    }
   ],
   "metadata": {}
  }
 ]
}