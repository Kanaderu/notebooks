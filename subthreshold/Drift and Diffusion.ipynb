{
 "cells": [
  {
   "cell_type": "markdown",
   "metadata": {
    "run_control": {
     "frozen": false,
     "read_only": false
    }
   },
   "source": [
    "# Notebook description\n",
    "\n",
    "This notebook goes through the arguments of drift and diffusion. These two processes arise in a collection of particles dominated by random thermal motion."
   ]
  },
  {
   "cell_type": "markdown",
   "metadata": {},
   "source": [
    "# Drift\n",
    "\n",
    "Imagine a big set of particles in free space. Each particle has a random velocity moving in a random direction at a random speed. \n",
    "\n",
    "![random particles](figures/random_particles.svg)\n",
    "\n",
    "Inevitably, the particles collide with each other. At each collision between particles the particles are sent off at a new random velocities regardless of their original speed or direction prior to the collision (although we know at the individual particle level, this is not true...tracking all of the individual particles would prove intractable and the overall behavior is consistent with our model). \n",
    "\n",
    "![collision](figures/collision.svg)\n",
    "\n",
    "Between each collision, a particle moves through free space for some time. This free time is random, but we'll consider the *mean free time* $t_f$."
   ]
  },
  {
   "cell_type": "markdown",
   "metadata": {},
   "source": [
    "To this collection of randomly moving particles, we'll add an external force $f$ that acts upon all of the particles. For example, we could be talking about charged particles in an electric field, in which case for electric field $E$ and particle charge $q$, \n",
    "\n",
    "$$f=qE$$\n",
    "\n",
    "We would like to know what is the average net effect of this force on the overall velocity of the particles."
   ]
  },
  {
   "cell_type": "markdown",
   "metadata": {
    "run_control": {
     "frozen": false,
     "read_only": false
    }
   },
   "source": [
    "The displacement of a particle between its collisions can be broken down into the sum of two components: \n",
    "* displacement due to the random velocity initial velocity induced by the last collision\n",
    "* displacement due to the external force\n",
    "\n",
    "Because the velocity due to collisions is random, its resulting displacement will average to 0, so we need only consider the displacement due to the external force.\n",
    "\n",
    "By Netwon's first law, $f=ma$ where $f$ is the force, $m$ is the particle mass, and $a$ is the particle's acceleration. \n",
    "The displacement $\\delta h$ due to the acceleration during $t_f$ is given by\n",
    "\n",
    "$$\\delta h=\\frac{1}{2}at_f^2$$\n",
    "\n",
    "or in terms of the external force,\n",
    "\n",
    "$$\\delta h=\\frac{1}{2}\\frac{f}{m}t_f^2$$\n",
    "\n",
    "Although it could be difficult to see the effect of the force at the microscopic particle level because of all the random velocities, if we were to zoom out and look at the collection as a whole, it would appear as if the collection of particles were moving with constant velocity $v_{drift}$. Since we know the displacement over a unit of $t_f$, $v_{drift}$ would be\n",
    "\n",
    "$$v_{drift}=\\frac{\\delta h}{t_f}$$\n",
    "\n",
    "or in terms of the external force,\n",
    "\n",
    "$$v_{drift}=\\frac{1}{2}\\frac{f}{m}t_f$$\n",
    "\n",
    "In the case of an electric field where $f=qE$,\n",
    "\n",
    "$$v_{drift}=\\frac{1}{2}\\frac{qE}{m}t_f=\\mu E$$\n",
    "\n",
    "where $\\mu = \\frac{qt_f}{2m}$ is the **mobility** of the particle. That is, the drift velocity $v_{drift}$ is *linearly proportional* to the electric field $E$.\n",
    "\n",
    "Let's take a moment to review how we got here. We first set up a collection of randomly colliding particles subject to an external force. We found that the particles would drift with some constant average velocity depending on:\n",
    "* the strength of the force\n",
    "* the amount of time between collisions and\n",
    "* the mass of the particles"
   ]
  },
  {
   "cell_type": "markdown",
   "metadata": {},
   "source": [
    "# Diffusion\n",
    "\n",
    "In the previous section, we found the average velocity, $v_{drift}$, of a collection of randomly moving particles subject to an external force. We surmized along the way that there would be no net displacement of an individual particle due to the random velocities induced by collisions. \n",
    "\n",
    "In this section, we will see that although individual particles do not experience net displacement due to the random motions, the collection of particles amazingly exhibits an overall velocity $v_{diff}$ due a concentration gradient. This corresponds to our experience of watching tea from a teabag diffuse into surrounding water (although more is at play in the teacup...)."
   ]
  },
  {
   "cell_type": "markdown",
   "metadata": {
    "run_control": {
     "frozen": false,
     "read_only": false
    }
   },
   "source": [
    "Let's return to our wonderful collection of random particles.\n",
    "\n",
    "![random particles](figures/random_particles.svg)\n",
    "\n",
    "Since we'll be discussing concentration gradients, define the concetration of particles as $N$. $N$ has units of $\\left(\\frac{\\text{particles}}{\\text{volume}}\\right)$."
   ]
  },
  {
   "cell_type": "markdown",
   "metadata": {},
   "source": [
    "Next, let's draw a boundary somewhere through the volume. \n",
    "\n",
    "![random_partitioned](figures/random_particles_partitioned.svg)\n",
    "\n",
    "Particles cross the boundary at random, and the flow $I$ across the boundary describes the net number of particles per unit time passing the boundary in a given direction direction. $I$ has units $\\left(\\frac{\\text{particles}}{\\text{time}}\\right)$. If we consider differently sized volumes and boundaries, we'd expect the flow to change with the size. To avoid considering the specific size of the space, we normalize by the boundary size and cosider the *flow density* $J$ across the boundary intead of the the flow itself. $J$ has units $\\left(\\frac{\\text{particles}}{\\text{time}\\cdot\\text{area}}\\right)$.\n",
    "\n",
    "Now, flow density is related to the diffusion velocity via\n",
    "\n",
    "\\begin{align}\n",
    "J &= Nv_{diff} \\\\\n",
    "v_{diff} &= \\frac{J}{N} \\\\\n",
    "\\end{align}"
   ]
  },
  {
   "cell_type": "markdown",
   "metadata": {},
   "source": [
    "In our quest to find $v_{diff}$, we'll next relate the flow density to the concentration gradient. We'll reduce our analysis to the single dimension along the gradient and express the gradient as \n",
    "\n",
    "$$\\frac{dN}{dh}$$ \n",
    "\n",
    "where $h$ is the distance along the gradient. Instead of working with the continuous gradient, we'll chop up space into compartments and consider the discretized form of the gradient.\n",
    "\n",
    "\n",
    "$$\n",
    "\\frac{dN}{dh}\\approx\\frac{\\Delta N}{\\Delta h}\n",
    "$$\n",
    "\n",
    "Because of the concentration gradient, the concentration of adjacent compartments will differ by $\\Delta N$.\n",
    "\n",
    "![diffusion](figures/diffusion_0.svg)\n",
    "\n",
    "We'll pick the compartment size $\\Delta h$ to be small enough that a particle could, on average, move 1 compartment per unit of mean free time due to the random velocities imparted by collisions with other particles. Let's define the mean magnitude of the random velocities as $v_T$ so that the compartment width will be given by $\\Delta h=v_Tt_f$.\n",
    "\n",
    "\\begin{align}\n",
    "\\Delta N &\\approx \\frac{dN}{dh}\\Delta h \\\\\n",
    "\\Delta N &= \\frac{dN}{dh}t_fv_T \\\\\n",
    "\\end{align}"
   ]
  },
  {
   "cell_type": "markdown",
   "metadata": {
    "run_control": {
     "frozen": false,
     "read_only": false
    }
   },
   "source": [
    "During each unit of $t_f$, half of the particles in each compartment will move left and half will move right. \n",
    "\n",
    "![diffusion](figures/diffusion.svg)\n",
    "\n",
    "Assuming that compartments not shown in our diagram follow the same concentration gradient. We can see that there will be a net concentration movement of $\\frac{\\Delta N}{2}$ particles from a compartment of higher concentration to a compartment of lower concentration. \n",
    "\n",
    "\\begin{align}\n",
    "J &= \\frac{\\Delta N}{2}v_T \\\\\n",
    " &= \\frac{1}{2}\\frac{dN}{dh}t_fv_T^2\n",
    "\\end{align}"
   ]
  },
  {
   "cell_type": "markdown",
   "metadata": {
    "run_control": {
     "frozen": false,
     "read_only": false
    }
   },
   "source": [
    "Returning to our original expression for $v_{diff}$,\n",
    "\n",
    "\\begin{align}\n",
    "v_{diff} &= \\frac{J}{N} \\\\\n",
    "v_{diff} &= \\frac{1}{N}\\frac{1}{2}\\frac{dN}{dh}t_fv_T^2 \\\\\n",
    "\\end{align}\n",
    "\n",
    "The random velocity $v_T$ of particles colliding gives rise to our experience of temperature, hence $v_T$ is known as the thermal velocity. Temperature is related to kinetic energy (and hence thermal velocity) by\n",
    "\n",
    "$$\\frac{1}{2}mv_T^2=\\frac{1}{2}kT$$\n",
    "\n",
    "so that \n",
    "\n",
    "$$v_T^2=\\frac{kT}{m}$$\n",
    "\n",
    "where $k$ is Boltzmann's constant, $m$ is a particle's mass. Substituting for $v_T$ in the $v_{diff}$ equation,\n",
    "\n",
    "\\begin{align}\n",
    "v_{diff} &= \\frac{-1}{2}\\frac{1}{N}\\frac{dN}{dh}kT\\frac{t_f}{m} \\\\\n",
    "v_{diff} &= -D\\frac{1}{N}\\frac{dN}{dh} \\\\\n",
    "\\end{align}\n",
    "\n",
    "where $D=kTt_f/2m$ is the **diffusion constant** of the particles.\n",
    "\n",
    "Note that the mobility and diffusion constants are related\n",
    "\n",
    "$$D=\\frac{kT}{q}\\mu$$"
   ]
  },
  {
   "cell_type": "markdown",
   "metadata": {
    "run_control": {
     "frozen": false,
     "read_only": false
    }
   },
   "source": [
    "# Equillibrium\n",
    "\n",
    "Drift and diffusion oppose each other.\n",
    "\n",
    "$$v_{drift}=v_{diff}$$"
   ]
  }
 ],
 "metadata": {
  "hide_input": false,
  "kernelspec": {
   "display_name": "Python 3",
   "language": "python",
   "name": "python3"
  },
  "language_info": {
   "codemirror_mode": {
    "name": "ipython",
    "version": 3
   },
   "file_extension": ".py",
   "mimetype": "text/x-python",
   "name": "python",
   "nbconvert_exporter": "python",
   "pygments_lexer": "ipython3",
   "version": "3.5.2"
  },
  "toc": {
   "colors": {
    "hover_highlight": "#DAA520",
    "navigate_num": "#000000",
    "navigate_text": "#333333",
    "running_highlight": "#FF0000",
    "selected_highlight": "#FFD700",
    "sidebar_border": "#EEEEEE",
    "wrapper_background": "#FFFFFF"
   },
   "moveMenuLeft": true,
   "nav_menu": {
    "height": "86px",
    "width": "252px"
   },
   "navigate_menu": true,
   "number_sections": true,
   "sideBar": true,
   "threshold": 4,
   "toc_cell": false,
   "toc_section_display": "block",
   "toc_window_display": false,
   "widenNotebook": false
  }
 },
 "nbformat": 4,
 "nbformat_minor": 2
}
