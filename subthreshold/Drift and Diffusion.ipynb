{
 "cells": [
  {
   "cell_type": "markdown",
   "metadata": {},
   "source": [
    "# Notebook description\n",
    "\n",
    "This notebook goes through the arguments of drift and diffusion. These two processes arise in a collection of particles dominated by random thermal motion."
   ]
  },
  {
   "cell_type": "markdown",
   "metadata": {},
   "source": [
    "# Drift\n",
    "\n",
    "Imagine a big set of $N$ particles. Each one randomly moves around and collides with other particles. At each collision, a particle is sent off at a random velocity in another direction and another speed regardless of its speed or direction prior to the collision. Between each collision, a particle moves for a *mean free time* $t_f$.\n",
    "\n",
    "All the while, an external force $f$ is acting upon all of the particles. This force could result from a force field. For example, we could be talking about charged particles in an electric field. For electric field $E$ and particle charge $q$, $f=qE$.\n",
    "\n",
    "The displacement of the particle between its collisions can be broken down into the sum of two components: one component due to the random velocity induced by the collisions and another component due to the external force. Because the velocity due to collisions is random, its resulting displacement will average to 0, so we need only consider the displacement due to the external force when only thinking in the mean.\n",
    "\n",
    "By Netwon's first law, $f=ma$ where $f$ is the force, $m$ is the particle mass, and $a$ is the particle's acceleration. \n",
    "The displacement $\\delta h$ due to the acceleration during $t_f$ is given by\n",
    "\n",
    "$$\\delta h=\\frac{1}{2}at_f^2$$\n",
    "\n",
    "in terms of the force\n",
    "\n",
    "$$\\delta h=\\frac{1}{2}\\frac{f}{m}t_f^2$$\n",
    "\n",
    "Although it could be difficult to see the effect of the force at the microscopic particle level because of all the random velocities, if we were to zoom out and look at the collection as a whole, it would appear as if the collection of particles were moving with constant velocity $v_{drift}$. This constant velocity would be the mean displacement over the mean free time.\n",
    "\n",
    "$$v_{drift}=\\frac{\\delta h}{t_f}$$\n",
    "\n",
    "Substituting in for the force\n",
    "\n",
    "$$v_{drift}=\\frac{1}{2}\\frac{f}{m}t_f$$\n",
    "\n",
    "In the case of an electric field where $f=qE$,\n",
    "\n",
    "$$v_{drift}=\\frac{1}{2}\\frac{qE}{m}t_f=\\mu E$$\n",
    "\n",
    "where $\\mu = \\frac{qt_f}{2m}$ is the **mobility** of the particle. The important relationship to note is that the drift velocity $v_{drift}$ is linearly proportional to the electric field $E$."
   ]
  },
  {
   "cell_type": "markdown",
   "metadata": {
    "run_control": {
     "frozen": false,
     "read_only": false
    }
   },
   "source": [
    "# Diffusion\n",
    "\n",
    "In the previous [Drift](#Drift) section, we found the average, overall velocity, $v_{drift}$, of a collection of randomly moving particles subject to an external force. We surmized along the way, that there would be no net displacement of an individual particle due to the random velocities induced by collisions. \n",
    "\n",
    "In this section, we will see that although individual particles do not experience net displacement due to the random motions, the collection of particles may exhibit an overall velocity $v_{drift}$ due a concentration gradient. This corroborates our intuititve experience of watching tea from a teabag diffuse into surrounding water (although more is actually at play there).\n",
    "\n",
    "In a concentration gradient, the number of particles per unit space varies over space. We'll reduce our analysis to the single dimension along the gradient and express the gradient as \n",
    "\n",
    "$$\\frac{dN}{dh}$$ \n",
    "\n",
    "where $N$ is the number of particles and $h$ is the distance along the gradient. We'll further simplify our analysis by chopping up space into compartments small enough that a particle, on average, could move 1 compartment per unit of mean free time. Let's define the mean magnitude of the velocity due to random motions as $v_T$ so that the compartment width will be given by $\\Delta h=v_Tt_f$.\n",
    "\n",
    "Now, because of the concentration gradient, neighboring compartments will have slightly different numbers of particles.\n",
    "\n",
    "With each unit of $t_f$, half of the particles in each compartment will move left and half will move right. We can see that, because of the concentration gradient, there will be a net movement of\n",
    "\n",
    "$$\\frac{\\Delta N}{2}$$\n",
    "\n",
    "particles from a compartment of higher concentration to a compartment of lower concentration. Now, by the definition of a derivative,\n",
    "\n",
    "$$\\frac{\\Delta N}{\\Delta h}=\\frac{dN}{dh}$$\n",
    "\n",
    "Rearranging and substituting for $\\Delta h$,\n",
    "\n",
    "$$\\Delta N\\approx\\frac{dN}{dh}v_Tt_f$$\n",
    "\n",
    "What is the resulting motion\n",
    "We know that each particle moves\n",
    "Let's consider a compartmentalized model of our particles.\n",
    "\n",
    "$$v_{diff}=\\frac{1}{2N}\\frac{dN}{dh}t_fv_T^2$$\n",
    "\n",
    "The random velocity $v_T$ of particles colliding gives rise to our experience of temperature, hence $v_T$ is known as the thermal velocity. Temperature is related to kinetic energy (and hence thermal velocity) by\n",
    "\n",
    "$$\\frac{1}{2}mv_T^2=\\frac{1}{2}kT$$\n",
    "\n",
    "where $k$ is Boltzmann's constant, $m$ is a particle's mass. Substituting for $v_T$ in the $v_{diff}$ equation,\n",
    "\n",
    "$$v_{diff} = \\frac{-1}{2}\\frac{1}{N}\\frac{dN}{dh}kT\\frac{t_f}{m}$$\n",
    "\n",
    "\n"
   ]
  },
  {
   "cell_type": "markdown",
   "metadata": {},
   "source": [
    "# Equillibrium"
   ]
  }
 ],
 "metadata": {
  "hide_input": false,
  "kernelspec": {
   "display_name": "Python 3",
   "language": "python",
   "name": "python3"
  },
  "language_info": {
   "codemirror_mode": {
    "name": "ipython",
    "version": 3
   },
   "file_extension": ".py",
   "mimetype": "text/x-python",
   "name": "python",
   "nbconvert_exporter": "python",
   "pygments_lexer": "ipython3",
   "version": "3.6.0"
  },
  "toc": {
   "colors": {
    "hover_highlight": "#DAA520",
    "running_highlight": "#FF0000",
    "selected_highlight": "#FFD700"
   },
   "moveMenuLeft": true,
   "nav_menu": {
    "height": "86px",
    "width": "252px"
   },
   "navigate_menu": true,
   "number_sections": true,
   "sideBar": true,
   "threshold": 4,
   "toc_cell": false,
   "toc_section_display": "block",
   "toc_window_display": false,
   "widenNotebook": false
  }
 },
 "nbformat": 4,
 "nbformat_minor": 2
}
