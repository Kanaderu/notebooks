{
 "cells": [
  {
   "cell_type": "markdown",
   "metadata": {
    "run_control": {
     "frozen": false,
     "read_only": false
    }
   },
   "source": [
    "# Notebook description\n",
    "\n",
    "This notebook reviews the building blocks of subthreshold design.\n",
    "\n",
    "Keep in mind which simplifying assumptions we've made for each analysis."
   ]
  },
  {
   "cell_type": "markdown",
   "metadata": {},
   "source": [
    "# Transistor basics\n",
    "\n",
    "[picture showing schematic diagram]\n",
    "\n",
    "For NMOS, the subthreshold current is given by \n",
    "\n",
    "$$I=I_0e^{\\frac{qV_g}{kT}}\\left(e^{\\frac{-qV_s}{kT}}-e^{\\frac{-qV_d}{kT}}\\right)$$\n",
    "\n",
    "See how this is the difference between diode currents. No worries about PMOS form of equation as we can make a substitution as seen in the [NMOS vs PMOS](#NMOS-vs-PMOS) section\n",
    "\n",
    "We're leaving out a $\\kappa$ term and a bunch of channel effects.\n",
    "\n",
    "If $V_s$ is tied to ground\n",
    "\n",
    "$$I=I_0e^{\\frac{qV_{gs}}{kT}}\\left(1-e^{\\frac{-qV_{ds}}{kT}}\\right)$$\n",
    "\n",
    "Further, if $V_{ds}\\gg\\frac{kT}{q}$ we can assume $\\left(1-e^{\\frac{-qV_{ds}}{kT}}\\right)\\approx1$ and simplify the equation to\n",
    "\n",
    "$$I=I_0e^{\\frac{qV_{gs}}{kT}}$$\n",
    "\n",
    "Typically $V_{ds}>3\\frac{kT}{q}$ suffices to make this assumption.\n"
   ]
  },
  {
   "cell_type": "markdown",
   "metadata": {
    "run_control": {
     "frozen": false,
     "read_only": false
    }
   },
   "source": [
    "## NMOS vs PMOS\n",
    "\n",
    "For NMOS\n",
    "\n",
    "$$I=I_0e^{\\frac{qV_g}{kT}}\\left(e^{\\frac{-qV_s}{kT}}-e^{\\frac{-qV_d}{kT}}\\right)$$\n",
    "\n",
    "For PMOS\n",
    "\n",
    "$$I=I_0e^{\\frac{-qV_g}{kT}}\\left(e^{\\frac{qV_s}{kT}}-e^{\\frac{qV_d}{kT}}\\right)$$\n",
    "\n",
    "we can change the reference point in the PMOS (i.e. make a change of variables) and get a similar expression to NMOS. By substituting\n",
    "\n",
    "\\begin{align}\n",
    "V_g &= V_{ref}-V_{g'} \\\\\n",
    "V_s &= V_{ref}-V_{s'} \\\\\n",
    "V_d &= V_{ref}-V_{d'} \\\\\n",
    "\\end{align}\n",
    "\n",
    "into the PMOS current equation, we obtain\n",
    "\n",
    "\\begin{align}\n",
    "I &= I_0e^{\\frac{-q\\left(V_{ref}-V_{g'}\\right)}{kT}}\\left(e^{\\frac{q\\left(V_{ref}-V_{s'}\\right)}{kT}}-e^{\\frac{q\\left(V_{ref}-V_{d'}\\right)}{kT}}\\right) \\\\\n",
    "&= I_0e^{\\frac{-qV_{ref}}{kT}}e^{\\frac{qV_{g'}}{kT}}\n",
    "\\left(e^{\\frac{qV_{ref}}{kT}}e^{\\frac{-qV_{s'}}{kT}}-e^{\\frac{qV_{ref}}{kT}}e^{\\frac{-qV_{d'}}{kT}}\\right) \\\\\n",
    "&= I_0e^{\\frac{-qV_{ref}}{kT}}e^{\\frac{qV_{g'}}{kT}}\n",
    "\\left(e^{\\frac{qV_{ref}}{kT}}e^{\\frac{-qV_{s'}}{kT}}-e^{\\frac{qV_{ref}}{kT}}e^{\\frac{-qV_{d'}}{kT}}\\right) \\\\\n",
    "&= I_0e^{\\frac{qV_{g'}}{kT}}\\left(e^{\\frac{-qV_{s'}}{kT}}-e^{\\frac{-qV_{d'}}{kT}}\\right) \\\\\n",
    "\\end{align}\n",
    "\n",
    "which has the same signage as the NMOS expression. Using consistent equations and then back substituting for the original $V_g$, $V_s$, and $V_d$ afterwards keeps us from having to track differences between the NMOS and PMOS equations throughout our work."
   ]
  },
  {
   "cell_type": "markdown",
   "metadata": {
    "run_control": {
     "frozen": false,
     "read_only": false
    }
   },
   "source": [
    "# Diode connected transistors\n",
    "\n",
    "[picture showing diode connected transistor]\n",
    "\n",
    "In the diode connected configuration, $V_{gs}=V_{ds}$\n",
    "\n",
    "\\begin{align}\n",
    "I &= I_0e^{\\frac{qV_{gs}}{kT}}\\left(1-e^{\\frac{-qV_{ds}}{kT}}\\right) \\\\\n",
    " &= I_0e^{\\frac{qV_{gs}}{kT}}\\left(1-e^{\\frac{-qV_{gs}}{kT}}\\right) \\\\\n",
    " &= I_0\\left(e^{\\frac{qV_{gs}}{kT}}-1\\right) \\\\\n",
    "\\end{align}\n",
    "\n",
    "The current is exponential in the gate voltage and behaves like a diode."
   ]
  },
  {
   "cell_type": "markdown",
   "metadata": {
    "run_control": {
     "frozen": false,
     "read_only": false
    }
   },
   "source": [
    "# Current mirrors\n",
    "\n",
    "$$I=I_0e^{\\frac{-qV_g}{kT}}\\left(e^{\\frac{qV_s}{kT}}-e^{\\frac{qV_d}{kT}}\\right)$$\n",
    "\n",
    "or if $V_s$ is tied to ground\n",
    "\n",
    "$$I=I_0e^{\\frac{-qV_{gs}}{kT}}\\left(1-e^{\\frac{qV_{ds}}{kT}}\\right)$$\n",
    "\n",
    "[picture of current mirror]\n",
    "\n",
    "The input current will be given by\n",
    "\n",
    "$$I_{in}=I_{0in}e^{\\frac{-qV_{in}}{kT}}\\left(1-e^{\\frac{qV_{in}}{kT}}\\right)$$\n",
    "\n",
    "The output current will be given by\n",
    "\n",
    "$$I_{out}=I_{0out}e^{\\frac{-qV_{in}}{kT}}\\left(1-e^{\\frac{qV_{dout}}{kT}}\\right)$$\n",
    "\n",
    "We will show that $I_{out}\\approx cI_{in}$ for some constant $c$. Our approach is to solve for $V_{in}$ in the $I_{in}$ equation and plug in for $V_{in}$ in the $I_{out}$ equation.\n",
    "\n",
    "Solving for $V_{in}$,\n",
    "\n",
    "\\begin{align}\n",
    "I_{in} &= I_{0in}e^{\\frac{-qV_{in}}{kT}}\\left(1-e^{\\frac{qV_{in}}{kT}}\\right) \\\\\n",
    "I_{in} &= I_{0in}\\left(e^{\\frac{-qV_{in}}{kT}}-1\\right) \\\\\n",
    "\\frac{I_{in}}{I_{0in}} &= e^{\\frac{-qV_{in}}{kT}}-1 \\\\\n",
    "\\frac{I_{in}}{I_{0in}}+1 &= e^{\\frac{-qV_{in}}{kT}} \\\\\n",
    "\\ln\\left(\\frac{I_{in}}{I_{0in}}+1\\right) &= \\frac{-qV_{in}}{kT} \\\\\n",
    "V_{in} &= \\frac{-kT}{q}\\ln\\left(\\frac{I_{in}}{I_{0in}}+1\\right) \\\\\n",
    "\\end{align}"
   ]
  },
  {
   "cell_type": "markdown",
   "metadata": {
    "run_control": {
     "frozen": false,
     "read_only": false
    }
   },
   "source": [
    "Substituting $V_{in}$ into the $I_{out}$ equation,\n",
    "\n",
    "\\begin{align}\n",
    "I_{out} &= I_{0out}e^{\\frac{-q}{kT}\\frac{-kT}{q}\\ln\\left(\\frac{I_{in}}{I_{0in}}+1\\right)}\\left(1-e^{\\frac{qV_{dout}}{kT}}\\right) \\\\\n",
    "I_{out} &= I_{0out}e^{\\ln\\left(\\frac{I_{in}}{I_{0in}}+1\\right)}\\left(1-e^{\\frac{qV_{dout}}{kT}}\\right) \\\\\n",
    "I_{out} &= I_{0out}\\left(\\frac{I_{in}}{I_{0in}}+1\\right)\\left(1-e^{\\frac{qV_{dout}}{kT}}\\right) \\\\\n",
    "I_{out} &= I_{0out}\\left(\\frac{I_{in}+I_{0in}}{I_{0in}}\\right)\\left(1-e^{\\frac{qV_{dout}}{kT}}\\right) \\\\\n",
    "I_{out} &= \\frac{I_{0out}}{I_{0in}}\\left(I_{in}+I_{0in}\\right)\\left(1-e^{\\frac{qV_{dout}}{kT}}\\right) \\\\\n",
    "\\end{align}"
   ]
  },
  {
   "cell_type": "markdown",
   "metadata": {
    "run_control": {
     "frozen": false,
     "read_only": false
    }
   },
   "source": [
    "We see that the $I_{out}$ equation contains the term\n",
    "\n",
    "$$\\frac{I_{0out}}{I_{0in}}I_{in}$$\n",
    "\n",
    "When this term dominates,\n",
    "\n",
    "$$I_{out}\\approx cI_{in}$$\n",
    "\n",
    "where $c=\\frac{I_{0out}}{I_{0in}}$"
   ]
  },
  {
   "cell_type": "markdown",
   "metadata": {
    "run_control": {
     "frozen": false,
     "read_only": false
    }
   },
   "source": [
    "# Still unknown\n",
    "\n",
    "What goes into the $I_0$ term?\n",
    "\n",
    "Does the $I_{in}$ term dominate?"
   ]
  }
 ],
 "metadata": {
  "hide_input": false,
  "kernelspec": {
   "display_name": "Python 3",
   "language": "python",
   "name": "python3"
  },
  "language_info": {
   "codemirror_mode": {
    "name": "ipython",
    "version": 3
   },
   "file_extension": ".py",
   "mimetype": "text/x-python",
   "name": "python",
   "nbconvert_exporter": "python",
   "pygments_lexer": "ipython3",
   "version": "3.6.0"
  },
  "toc": {
   "colors": {
    "hover_highlight": "#DAA520",
    "running_highlight": "#FF0000",
    "selected_highlight": "#FFD700"
   },
   "moveMenuLeft": true,
   "nav_menu": {
    "height": "102px",
    "width": "252px"
   },
   "navigate_menu": true,
   "number_sections": true,
   "sideBar": true,
   "threshold": 4,
   "toc_cell": false,
   "toc_section_display": "block",
   "toc_window_display": false,
   "widenNotebook": false
  }
 },
 "nbformat": 4,
 "nbformat_minor": 2
}
