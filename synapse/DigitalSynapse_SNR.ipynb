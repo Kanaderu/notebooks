{
 "metadata": {
  "name": "",
  "signature": "sha256:30ff6c786e09814784c1a8427d62a6c5f8e0ec4ada007e66b40371f86fd99fa4"
 },
 "nbformat": 3,
 "nbformat_minor": 0,
 "worksheets": [
  {
   "cells": [
    {
     "cell_type": "heading",
     "level": 1,
     "metadata": {},
     "source": [
      "notebook description"
     ]
    },
    {
     "cell_type": "markdown",
     "metadata": {},
     "source": [
      "This notebook is for examining the stochastic digital synapse.\n",
      " - How should we set the parameters of the synapse?\n",
      " - What is the SNR of synapse?"
     ]
    },
    {
     "cell_type": "heading",
     "level": 2,
     "metadata": {},
     "source": [
      "Canonical synapse description"
     ]
    },
    {
     "cell_type": "markdown",
     "metadata": {},
     "source": [
      "The goal of the stochastic digital synapse is to approximate the synaptic differential equation\n",
      "\n",
      "$$\n",
      "\\dot{x} = -x + u\n",
      "$$\n",
      "\n",
      "where $x$ is the state of the synapse and $u$ is the spiking input to the synapse. \n",
      "\n",
      "Spikes are modeled as delta functions, so  $u=\\sum_i\\delta(t-t_i)$ and\n",
      "\n",
      "$$\n",
      "x(t) = \\sum_i\\frac{1}{\\tau}e^{-(t-t_i)/\\tau}\\text{u}(t-t_i),\n",
      "$$\n",
      "\n",
      "where $\\text{u}$ is the unit step function. The mathematical synapse has two properties that we will seek to approximate with the stochastic digital synapse:\n",
      " - That the area of the impulse response is 1\n",
      "  - As a consequence, given a input spike rate $f$, the synapse has a mean value of $f$.\n",
      " - That the synaptic impulse response decays exponentially with time constant $\\tau$"
     ]
    },
    {
     "cell_type": "heading",
     "level": 2,
     "metadata": {},
     "source": [
      "Stochastic digital synapse description"
     ]
    },
    {
     "cell_type": "markdown",
     "metadata": {},
     "source": [
      "The stochastic digital synapse has the following parameters:\n",
      " - $x$ - the state of the synapse\n",
      " - $\\Delta t$ - the timestep of the circuit\n",
      " - $h$ - the height of a level\n",
      " - $k$ - the number of levels\n",
      " - $p$ - the probability of a level going from $h$ to $0$\n",
      " \n",
      "The user sets $\\Delta t$ and $k$. It is our job to determine $p$ and $h$."
     ]
    },
    {
     "cell_type": "markdown",
     "metadata": {},
     "source": [
      "The stochastic digital synapse mimics the probabilistic nature of ion channels in the neuron membrane. An ion channel has 2 states: opened and closed. When open, the ion channel allows ions, and hence a current, to flow through the membrane. Although each channel has only two states, the cumulative effect of many channels in the syanpse is to make the state of the synapse effectively continuous.\n",
      "\n",
      "Each time the synapse receives a spike, its value is incremented by $k$ levels, each of which is $h$ high. That is, when a spike arrives at the synapse,\n",
      "\n",
      "$$\n",
      "x := x+ kh\n",
      "$$\n",
      "\n",
      "At each time step, each level is set to $0$ with probability $p$. At each $\\Delta t$, the $k$ levels each switch with probability $p$ from $h$ to $0$. "
     ]
    },
    {
     "cell_type": "heading",
     "level": 2,
     "metadata": {},
     "source": [
      "Deriving synapse parameters"
     ]
    },
    {
     "cell_type": "markdown",
     "metadata": {},
     "source": [
      "We can formulate the two properties of the synapse as requirements for the stochastic digital synapse:\n",
      " - The expected area of the impulse response is 1\n",
      " - The impulse response at each $\\Delta t$ is, on expectation, scaled by $e^{-\\Delta t/\\tau}$"
     ]
    },
    {
     "cell_type": "markdown",
     "metadata": {},
     "source": [
      "Let's start by assuming that spikes only arrive at $\\Delta t$ intervals. We'll handle the case when spikes arrive between $\\Delta t$s later.\n",
      "\n",
      "Given this assumption, each level is modeled by a geometric random variable $X_i$.\n",
      "\n",
      "$$\n",
      "X_i \\sim \\text{geom}(p)\n",
      "$$\n",
      "\n",
      "$X_i$ describes the number of $\\Delta t$s that a level remains at $h$ before being set to $0$. We know that for a geometric random variable, \n",
      "\n",
      "$$\n",
      "E[X_i] = \\frac{1}{p}\n",
      "$$\n",
      "\n",
      "The area for the impulse response will then be given by\n",
      "\n",
      "$$\n",
      "\\text{Area} = \\sum_{i=0}^{k}hX_i\\Delta t,\n",
      "$$\n",
      "\n",
      "so\n",
      "\n",
      "\\begin{align}\n",
      "E[\\text{Area}] &= E\\left[\\sum_{i=0}^{k}hX_i\\Delta t\\right] \\\\\n",
      "1 &= E\\left[\\sum_{i=0}^{k}hX_i\\Delta t\\right] \\\\\n",
      "  &= h\\Delta t\\sum_{i=0}^{k}E[X_i] \\\\\n",
      "  &= h\\Delta t\\sum_{i=0}^{k}\\frac{1}{p} \\\\\n",
      "  &= h\\Delta t\\frac{k}{p} \\\\\n",
      "p &= h\\Delta t k\n",
      "\\end{align}"
     ]
    }
   ],
   "metadata": {}
  }
 ]
}