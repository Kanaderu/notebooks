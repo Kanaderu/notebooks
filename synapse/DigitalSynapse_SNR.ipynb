{
 "metadata": {
  "name": "",
  "signature": "sha256:c1ea08fc4f3bd378d7dc861e600fcf523ba1153f29fd76d5c5b14e9044ba1988"
 },
 "nbformat": 3,
 "nbformat_minor": 0,
 "worksheets": [
  {
   "cells": [
    {
     "cell_type": "heading",
     "level": 1,
     "metadata": {},
     "source": [
      "notebook description"
     ]
    },
    {
     "cell_type": "markdown",
     "metadata": {},
     "source": [
      "This notebook is for examining the stochastic digital synapse.\n",
      " - How should we set the parameters of the synapse?\n",
      " - What is the SNR of synapse?"
     ]
    },
    {
     "cell_type": "heading",
     "level": 2,
     "metadata": {},
     "source": [
      "Canonical synapse description"
     ]
    },
    {
     "cell_type": "markdown",
     "metadata": {},
     "source": [
      "The goal of the stochastic digital synapse is to approximate the synaptic differential equation\n",
      "\n",
      "$$\n",
      "\\dot{x} = -x + u\n",
      "$$\n",
      "\n",
      "where $x$ is the state of the synapse and $u$ is the spiking input to the synapse. The impulse response of the synapse is \n",
      "\n",
      "$$\n",
      "x(t) = \\frac{1}{\\tau}e^{-t/\\tau}\\text{u}(t)\n",
      "$$\n",
      "\n",
      "where $\\text{u}$ is the unit step function. Spikes are modeled as delta functions, so \n",
      "\n",
      "$$\n",
      "x(t) = \\sum_i\\frac{1}{\\tau}e^{-(t-t_i)/\\tau}\\text{u}(t-t_i).\n",
      "$$\n",
      "\n",
      "The mathematical synapse has two properties that we will seek to approximate with the stochastic digital synapse:\n",
      " - That the area of the impulse response is 1\n",
      "  - As a consequence, given a input spike rate $f$, the synapse has a mean value of $f$.\n",
      " - That the synaptic impulse response decays exponentially with time constant $\\tau$"
     ]
    },
    {
     "cell_type": "heading",
     "level": 2,
     "metadata": {},
     "source": [
      "Stochastic digital synapse description"
     ]
    },
    {
     "cell_type": "markdown",
     "metadata": {},
     "source": [
      "The stochastic digital synapse has the following parameters:\n",
      " - $x$ - the state of the synapse\n",
      " - $\\Delta t$ - the timestep of the circuit\n",
      " - $h$ - the height of a level\n",
      " - $k$ - the number of levels\n",
      " - $p$ - the probability of a level going from $h$ to $0$\n",
      " \n",
      "The user sets $\\Delta t$ and $k$. It is our job to determine $p$ and $h$."
     ]
    },
    {
     "cell_type": "markdown",
     "metadata": {},
     "source": [
      "The stochastic digital synapse mimics the probabilistic nature of ion channels in the neuron membrane. An ion channel has 2 states: opened and closed. When open, the ion channel allows ions, and hence a current, to flow through the membrane. Although each channel has only two states, the cumulative effect of many channels in the syanpse is to make the state of the synapse effectively continuous.\n",
      "\n",
      "Each time the synapse receives a spike, its value is incremented by $k$ levels, each of which is $h$ high. That is, when a spike arrives at the synapse,\n",
      "\n",
      "$$\n",
      "x := x+ kh\n",
      "$$\n",
      "\n",
      "At each $\\Delta t$, the $k$ levels each switch with probability $p$ from $h$ to $0$. Since $x$ only decays at each $\\Delta t$ timestep, to simplify our notation when considering the decay of $x$, we use $x(t)=x(\\lfloor t/\\Delta t\\rfloor)=x[n]$, where $n=\\lfloor t/\\Delta t\\rfloor$. In other words\n",
      "\n",
      "$$\n",
      "x(t)=x(n\\Delta t)=x[n] \\quad\\text{for}\\quad n\\Delta t \\le t < (n+1)\\Delta t\n",
      "$$"
     ]
    },
    {
     "cell_type": "markdown",
     "metadata": {},
     "source": [
      "We can formulate the two properties of the synapse as requirements for the stochastic digital synapse:\n",
      " - The expected area of the impulse response is 1\n",
      " - The impulse response at each $\\Delta t$ is, on expectation, scaled by $e^{-\\Delta t/\\tau}$"
     ]
    },
    {
     "cell_type": "heading",
     "level": 3,
     "metadata": {},
     "source": [
      "Preserving impulse area"
     ]
    },
    {
     "cell_type": "markdown",
     "metadata": {},
     "source": [
      "Let's start by assuming that spikes only arrive at $\\Delta t$ intervals. We'll handle the case when spikes arrive between $\\Delta t$s later.\n",
      "\n",
      "The lifetime of the $i$th level, $X_i$, describes the number of $\\Delta t$ intervals that a level is at $h$ and is a geometric random variable.\n",
      "\n",
      "\\begin{align}\n",
      "p_{X_i}(x_i) &= \\text{Pr}(X_i=x_i) \\\\\n",
      " &= (1-p)^{x_i-1}p,\\quad x_i\\in\\{1,2,\\ldots\\}\n",
      "\\end{align}\n",
      "\n",
      "and expected value\n",
      "\n",
      "$$\n",
      "E[X_i] = \\frac{1}{p}.\n",
      "$$\n",
      "\n",
      "Be careful and note this particular formulation of the geometric random variable. There are other formulation that are shifted versions of this one and have different interpretations. "
     ]
    },
    {
     "cell_type": "markdown",
     "metadata": {},
     "source": [
      "Using the geometric model of the level lifetime, the area for the impulse response is given by\n",
      "\n",
      "$$\n",
      "\\text{Area} = \\sum_{i=0}^{k}hX_i\\Delta t,\n",
      "$$\n",
      "\n",
      "so\n",
      "\n",
      "\\begin{align}\n",
      "E[\\text{Area}] &= E\\left[\\sum_{i=0}^{k}hX_i\\Delta t\\right] \\\\\n",
      "1 &= E\\left[\\sum_{i=0}^{k}hX_i\\Delta t\\right] \\\\\n",
      "  &= h\\Delta t\\sum_{i=0}^{k}E[X_i] \\\\\n",
      "  &= h\\Delta t\\sum_{i=0}^{k}\\frac{1}{p} \\\\\n",
      "1 &= h\\Delta t\\frac{k}{p} \\\\\n",
      "p &= h\\Delta t k\n",
      "\\end{align}"
     ]
    },
    {
     "cell_type": "heading",
     "level": 3,
     "metadata": {},
     "source": [
      "Preserving time course"
     ]
    },
    {
     "cell_type": "heading",
     "level": 4,
     "metadata": {},
     "source": [
      "Synapse as random process"
     ]
    },
    {
     "cell_type": "markdown",
     "metadata": {},
     "source": [
      "We describe the time course of the stoachastic digital synapse's impulse response using the random process \n",
      "\n",
      "$$\n",
      "X[n],\n",
      "$$\n",
      "\n",
      "where $X[n]\\in \\{0, \\ldots, k\\}$, and the synapse's value at sample $n$ is\n",
      "\n",
      "$$\n",
      "h\\cdot X[n].\n",
      "$$\n",
      "\n",
      "The distribution of $X[n]$ is given by\n",
      "\n",
      "\\begin{align}\n",
      "p_{X[n]}(x) &= \\text{Pr}(X[n]=x)\\\\\n",
      " &= \\binom{k}{x}(\\text{Pr}(X_i>n))^{x}(\\text{Pr}(X_i\\le n))^{k-x}. \\\\\n",
      "\\end{align}\n",
      "\n",
      "In words, for $X[n]$ to take on the value $x$, where $0\\le x\\le k$,\n",
      " - $x$ of the levels must have lifetimes longer than $n$ intervals\n",
      " - $k-x$ of of the levels must have lifetimes of at most $n$ intervals\n",
      " \n",
      "As a sanity check, consider $X[0]$:\n",
      " - $\\text{Pr}(X[0]=k)=1$ because $\\binom{k}{k}=1$, $\\text{Pr}(X_i>0)=1$, and although $\\text{Pr}(X_i\\le 0)=0$, $(\\text{Pr}(X_i\\le 0))^0=1$\n",
      " - $\\text{Pr}(X[0]=x)=0$ for $x\\neq k$ because $(\\text{Pr}(X_i\\le 0))^{k-x}=0$\n",
      "\n",
      "Defining $q=\\text{Pr}(X_i>n)$,  \n",
      "\n",
      "\\begin{align}\n",
      "p_{X[n]}(x) &= \\binom{k}{x}(\\text{Pr}(X_i>n))^{x}(\\text{Pr}(X_i\\le n))^{k-x} \\\\\n",
      " &= \\binom{k}{x}q^x(1-q)^{k-x},\n",
      "\\end{align}\n",
      "\n",
      "which is the distribution of a binomial random variable, and\n",
      "\n",
      "\\begin{align}\n",
      "q &= \\text{Pr}(X_i>n) \\\\\n",
      "  &= 1-\\text{Pr}(X_i\\le n) \\\\\n",
      "  &= 1-\\left(1-(1-p)^n\\right) \\\\\n",
      "  &= (1-p)^n.\n",
      "\\end{align}"
     ]
    },
    {
     "cell_type": "heading",
     "level": 4,
     "metadata": {},
     "source": [
      "Synapse as Markov process"
     ]
    },
    {
     "cell_type": "markdown",
     "metadata": {},
     "source": [
      "As a Binomial process, the synapse is a Markov process, which means that the distribution of the synapse at a subsequent time step only depends on the current value of the synapse.\n",
      "\n",
      "$$\n",
      "\\text{Pr}\\left(X[n+1]=x\\big|X[n], X[n-1], \\ldots\\right) = \\text{Pr}\\left(X[n+1]=x\\big|X[n]\\right),\n",
      "$$\n",
      "\n",
      "where\n",
      "\n",
      "\\begin{align}\n",
      "p_{X[n+1]|X[n]}(x) &= \\text{Pr}\\left(X[n+1]=x\\big|X[n]=x[n]\\right) \\\\\n",
      "  &= \\binom{x[n]}{x}(1-p)^xp^{x_n-x}\n",
      "\\end{align}\n",
      "\n",
      "for $x\\in\\{0,\\ldots,x[n]\\}$, so the synapse update is also a binomial distribution. As a binomial distribution,\n",
      "\n",
      "$$\n",
      "E\\left[X[n+1]\\big|X[n]\\right] = x[n](1-p).\n",
      "$$"
     ]
    },
    {
     "cell_type": "markdown",
     "metadata": {},
     "source": [
      "Discretizing the impulse response of the continuous time synapse yields the update equation\n",
      "\n",
      "$$\n",
      "x[n+1] = x[n]e^{\\Delta t/\\tau}.\n",
      "$$\n",
      "\n",
      "\n",
      "To preserve this decay rate in expectation for the stochastic synapse, we desire\n",
      "\n",
      "\\begin{align}\n",
      "E\\left[X[n+1]\\big|X[n]\\right] &= x[n]e^{-\\Delta t/\\tau} \\\\\n",
      "x[n](1-p) &= x[n]e^{-\\Delta t/\\tau} \\\\\n",
      "1-p &= e^{-\\Delta t/\\tau} \\\\\n",
      "p &= 1-e^{-\\Delta t/\\tau}\n",
      "\\end{align}"
     ]
    },
    {
     "cell_type": "markdown",
     "metadata": {},
     "source": [
      "From our analysis of preserving the area,\n",
      "\n",
      "$$\n",
      "p = h\\Delta tk\n",
      "$$\n",
      "\n",
      "so\n",
      "\n",
      "$$\n",
      "h=\\frac{1-e^{-\\Delta t/\\tau}}{k\\Delta t}\n",
      "$$"
     ]
    }
   ],
   "metadata": {}
  }
 ]
}