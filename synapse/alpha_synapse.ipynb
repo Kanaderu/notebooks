{
 "cells": [
  {
   "cell_type": "markdown",
   "metadata": {},
   "source": [
    "# Notebook description\n",
    "$\\DeclareMathOperator{\\Var}{Var}$\n",
    "This notebook looks at the alpha synapse."
   ]
  },
  {
   "cell_type": "markdown",
   "metadata": {},
   "source": [
    "# Alpha function\n",
    "\n",
    "The alpha synapse is so named because it's response to a spike (modeled by a delta function) is the alpha function.\n",
    "\n",
    "\\begin{equation*}\n",
    "h(t) = \\frac{1}{\\tau^2}te^{-t/\\tau} \\quad \\textrm{for } t\\ge0\n",
    "\\end{equation*}"
   ]
  },
  {
   "cell_type": "code",
   "execution_count": 1,
   "metadata": {
    "collapsed": false
   },
   "outputs": [],
   "source": [
    "%matplotlib inline\n",
    "import numpy as np\n",
    "from matplotlib import pyplot as plt\n",
    "from scipy.special import lambertw\n",
    "from scipy.optimize import fsolve\n",
    "\n",
    "def alpha(t, tau):\n",
    "    \"\"\"computes the spike (impulse) response of the alpha synapse\"\"\"\n",
    "    ret = np.zeros_like(t)\n",
    "    idx = t>=0\n",
    "    ret[idx] = t[idx]*np.exp(-t[idx]/tau)/tau**2\n",
    "    return ret\n",
    "\n",
    "def step(t, tau):\n",
    "    \"\"\"computes the step response of the alpha synapse\"\"\"\n",
    "    ret = np.zeros_like(t)\n",
    "    idx = t>=0\n",
    "    ret[idx] = 1-(t[idx]+tau)*np.exp(-t[idx]/tau)/tau\n",
    "    return ret\n",
    "\n",
    "def tau_a1(x):\n",
    "    \"\"\"computes the tau_a/tau_1 to match first-order and alpha synapse latencies\"\"\"\n",
    "    assert np.all(x>=0), 'x must be >= 0'\n",
    "    assert np.all(x<=1), 'x must be <= 1'\n",
    "    ret = np.zeros_like(x)\n",
    "    idx = np.logical_and(x>0, x<1)\n",
    "    num = np.log(1-x[idx])\n",
    "    den = 1+lambertw((x[idx]-1)/np.e, -1).real\n",
    "    ret[idx] = num/den\n",
    "    ret[x==0] = 0\n",
    "    ret[x==1] = 1\n",
    "    return ret\n",
    "\n",
    "def tau_a1_inv(tat1):\n",
    "    ret = fsolve(lambda x: tau_a1(x)-tat1, 0.5, )[0]\n",
    "    return ret"
   ]
  },
  {
   "cell_type": "code",
   "execution_count": 2,
   "metadata": {
    "collapsed": false
   },
   "outputs": [
    {
     "data": {
      "image/png": "[encoded data removed]",
      "text/plain": [
       "<matplotlib.figure.Figure at 0x7f2d742a1890>"
      ]
     },
     "metadata": {},
     "output_type": "display_data"
    }
   ],
   "source": [
    "t = np.linspace(0, 8, 100)\n",
    "h = alpha(t, 1)\n",
    "plt.plot(t, h)\n",
    "plt.axvline(1, c='r', ls=':')\n",
    "plt.axhline(np.exp(-1), c='r', ls=':')\n",
    "plt.xlabel(r'$t$ $(\\tau)$', fontsize=20)\n",
    "plt.ylabel(r'$h(t)$ $(1/\\tau)$', fontsize=20)\n",
    "plt.title('alpha synapse impulse response', fontsize=16);"
   ]
  },
  {
   "cell_type": "markdown",
   "metadata": {},
   "source": [
    "Like the first-order synapse (a.k.a. exponential synapse), the alpha synapse also has unit area. To see this,\n",
    "\n",
    "\\begin{align*}\n",
    "\\int_{-\\infty}^{\\infty}h(t)dt &= \\int_{0}^{\\infty}\\frac{1}{\\tau^2}te^{-t/\\tau}dt \\\\\n",
    " &= \\frac{1}{\\tau^2}\\int_{0}^{\\infty}te^{-t/\\tau}dt \\\\\n",
    " &= \\frac{1}{\\tau^2}\\left(\\left[-\\tau te^{-t/\\tau}\\right]_0^{\\infty}-\n",
    "    \\int_{0}^{\\infty}-\\tau e^{-t/\\tau}dt\\right) & \\textrm{integration by parts} \\\\\n",
    " &= \\frac{1}{\\tau^2}\\left(0+\\tau\\int_{0}^{\\infty}e^{-t/\\tau}dt\\right) \\\\\n",
    " &= \\frac{1}{\\tau^2}\\left[-\\tau^2e^{-t/\\tau}\\right]_{0}^{\\infty} \\\\\n",
    " &= 1\n",
    "\\end{align*}"
   ]
  },
  {
   "cell_type": "markdown",
   "metadata": {},
   "source": [
    "# Alpha synapse dynamics\n",
    "\n",
    "From the impulse response, we can derive the transfer function and differential equation that governs the alpha synapse.\n",
    "\n",
    "\\begin{align*}\n",
    "H(s) &= \\mathcal{L}(h(t)) \\\\\n",
    " &= \\frac{1}{\\tau^2}\\frac{1}{(s+\\frac{1}{\\tau})^2} \\\\\n",
    " &= \\frac{1}{\\tau^2}\\frac{1}{(\\frac{1}{\\tau}(\\tau s+1))^2} \\\\\n",
    " &= \\frac{1}{(\\tau s+1)^2} \\\\\n",
    " &= \\frac{1}{\\tau^2s^2+2\\tau s+1} \\\\\n",
    "\\end{align*}\n",
    "\n",
    "If we compare this result to the first-order synapse, we see how the alpha synapse arises from arranging two first-order synapses in series.\n",
    "\n",
    "From the Laplace transform, we can derive the dynamical system\n",
    "\n",
    "\\begin{align*}\n",
    "H(s) &= \\frac{1}{\\tau^2s^2+2\\tau s+1} \\\\\n",
    "\\frac{X(s)}{U(s)} &= \\frac{1}{\\tau^2s^2+2\\tau s+1} \\\\\n",
    "(\\tau^2s^2+2\\tau s+1)X(s) &= U(s) \\\\\n",
    " \\mathcal{L}&\\updownarrow \\\\\n",
    "\\tau^2\\ddot{x}+2\\tau\\dot{x}+x &= u \\\\\n",
    "\\end{align*}\n",
    "\n",
    "Therefore\n",
    "\n",
    "\\begin{equation*}\n",
    "\\ddot{x} = -\\frac{2}{\\tau}\\dot{x}-\\frac{1}{\\tau^2}x+u\n",
    "\\end{equation*}"
   ]
  },
  {
   "cell_type": "markdown",
   "metadata": {},
   "source": [
    "We can rewrite this differential equation as a 2D dynamical system by defining state vector $\\mathbf{x}=\\begin{bmatrix}x_0\\\\x_1\\end{bmatrix}$ and $x_0=\\dot{x}$ and $x_1=x$ so that\n",
    "\n",
    "\\begin{align*}\n",
    "\\dot{x_0} &= -\\frac{2}{\\tau}x_0-\\frac{1}{\\tau^2}x_1+u \\\\\n",
    "\\dot{x_1} &= x_0\n",
    "\\end{align*}\n",
    "\n",
    "\\begin{align*}\n",
    "\\dot{\n",
    "\\begin{bmatrix}\n",
    "x_0 \\\\ x_1\n",
    "\\end{bmatrix}}\n",
    " &=\n",
    "\\begin{bmatrix}\n",
    "-2/\\tau & 1/\\tau^2 \\\\\n",
    "1 & 0 \\\\\n",
    "\\end{bmatrix}\n",
    "\\begin{bmatrix}\n",
    "x_0 \\\\ x_1\n",
    "\\end{bmatrix}\n",
    " +\n",
    "\\begin{bmatrix}\n",
    "1 \\\\ 0\n",
    "\\end{bmatrix}\n",
    "u\n",
    "\\end{align*}\n"
   ]
  },
  {
   "cell_type": "markdown",
   "metadata": {},
   "source": [
    "# Mean, Variance, and SNR\n",
    "\n",
    "We make use of [Campbell's theorem](../theory/campbells_theorem.ipynb) to find the mean and variance. \n",
    "\n",
    "\\begin{align*}\n",
    "E(\\Sigma) &= \\int_0^{\\infty}\\lambda\\frac{1}{\\tau^2}te^{-t/\\tau}dt \\\\\n",
    " &= \\lambda\n",
    "\\end{align*}\n",
    "\n",
    "and\n",
    "\n",
    "\\begin{align*}\n",
    "\\Var(\\Sigma) &= \\int_0^{\\infty}\\lambda\\left(\\frac{1}{\\tau^2}te^{-t/\\tau}\\right)^2dt \\\\\n",
    " &= \\frac{\\lambda}{\\tau^4}\\int_0^{\\infty}t^2e^{-2t/\\tau}dt \\\\\n",
    " &= \\frac{\\lambda}{\\tau^4}\\left(\\left[-\\frac{\\tau}{2}t^2e^{-2t/\\tau}\\right]_0^\\infty-\n",
    "    \\int_0^{\\infty}-\\tau te^{-2t/\\tau}dt\\right) & \\textrm{integration by parts} \\\\\n",
    " &= \\frac{\\lambda}{\\tau^4}\\left(0+\\tau\n",
    "    \\int_0^{\\infty}te^{-2t/\\tau}dt\\right) \\\\\n",
    " &= \\frac{\\lambda}{\\tau^3}\\left(\n",
    "    \\int_0^{\\infty}te^{-2t/\\tau}dt\\right) \\\\\n",
    " &= \\frac{\\lambda}{\\tau^3}\\left(\\left[-\\frac{\\tau}{2}te^{-2t/\\tau}\\right]_0^\\infty-\n",
    "    \\int_0^{\\infty}-\\frac{\\tau}{2}e^{-2t/\\tau}dt\\right) & \\textrm{integration by parts} \\\\\n",
    " &= \\frac{\\lambda}{\\tau^3}\\left(0+\n",
    "    \\frac{\\tau}{2}\\int_0^{\\infty}e^{-2t/\\tau}dt\\right) \\\\\n",
    " &= \\frac{\\lambda}{2\\tau^2}\\left[-\\frac{\\tau}{2}e^{-2t/\\tau}dt\\right]_0^{\\infty} \\\\\n",
    " &= \\frac{\\lambda}{4\\tau} \\\\\n",
    "\\end{align*}\n",
    "\n",
    "This yields\n",
    "\n",
    "\\begin{align*}\n",
    "SNR &= \\frac{\\lambda}{\\sqrt{\\frac{\\lambda}{4\\tau}}} \\\\\n",
    " &= 2\\sqrt{\\lambda\\tau} \\\\\n",
    "\\end{align*}\n",
    "\n",
    "The alpha synapse has $\\sqrt{2}$ improvement over the first-order synapse receiving Poisson spiking input, which has $SNR=\\sqrt{2\\lambda\\tau}$. In other words, for fixed SNR, switching from the first-order synapse to the alpha synapse halves the value of $\\lambda\\tau$. Next, we'll compare the latency of the alpha synapse to the first-order synapse."
   ]
  },
  {
   "cell_type": "markdown",
   "metadata": {},
   "source": [
    "# Step response\n",
    "\n",
    "A first order synapse will have a unit step response of $1-e^{-t/\\tau}$. What is the step response of an alpha synapse? For a unit step, $U(s)=\\frac{1}{s}$, so\n",
    "\n",
    "\\begin{align*}\n",
    "X(s) &= H(s)U(s) \\\\\n",
    " &= \\frac{1}{(\\tau s+1)^2}\\frac{1}{s} \\\\\n",
    " &= -\\frac{\\tau}{(\\tau s+1)^2}-\\frac{\\tau}{\\tau s+1}+\\frac{1}{s} & \\textrm{partial fraction expansion} \\\\\n",
    " &\\updownarrow\\mathcal{L} \\\\\n",
    "x(t) &= -\\tau\\frac{1}{\\tau^2}te^{-t/\\tau}-\\tau\\frac{1}{\\tau}e^{-t/\\tau}+1 \\\\\n",
    " &= -\\frac{1}{\\tau}te^{-t/\\tau}-e^{-t/\\tau}+1 \\\\\n",
    " &= 1-\\frac{1}{\\tau}(t+\\tau)e^{-t/\\tau} \\\\\n",
    "\\end{align*}\n",
    "\n",
    "The first-order synapse and alpha synapse unit step responses are plotted below."
   ]
  },
  {
   "cell_type": "code",
   "execution_count": 3,
   "metadata": {
    "collapsed": false
   },
   "outputs": [
    {
     "data": {
      "image/png": "[encoded data removed]",
      "text/plain": [
       "<matplotlib.figure.Figure at 0x7f2d525cb650>"
      ]
     },
     "metadata": {},
     "output_type": "display_data"
    }
   ],
   "source": [
    "t = np.linspace(0, 8, 100)\n",
    "x = step(t, 1)\n",
    "plt.plot(t, 1-np.exp(-t), 'r', label='first-order')\n",
    "plt.plot(t, x, label='alpha')\n",
    "plt.legend(loc='lower right')\n",
    "plt.xlabel(r'$t$ $(\\tau)$', fontsize=20)\n",
    "plt.ylabel(r'$x$', fontsize=20)\n",
    "plt.title('synapse step response', fontsize=16);"
   ]
  },
  {
   "cell_type": "markdown",
   "metadata": {},
   "source": [
    "The alpha synapse is slower than the first order synapse. This follows from considering the transfer function. High (fast) frequencies (of which a unit step has infinitely many) are attenuated more with the alpha synapse than the first-order synapse. "
   ]
  },
  {
   "cell_type": "markdown",
   "metadata": {},
   "source": [
    "# Match latency, compare SNR\n",
    "\n",
    "So far, we've seen that the alpha synapse has better SNR but is slower than the first-order synapse. To decide whether an alpha synapse yields any gains over the first-order synapse, we need to compare the synapses in terms of an SNR and latency specification. Latency is the time it takes the step response to reach a given $x\\in(0,1)$. We will find the relationship between the first-order synapse time constant, $\\tau_\\alpha$, and the alpha synapse time constant, $\\tau_1$, required to satisfy a latency specification?\n",
    "\n",
    "For a first-order synapse, the latency as a function of $x$ is simple.\n",
    "\n",
    "\\begin{align*}\n",
    "x &= 1-e^{-t/\\tau} \\\\\n",
    "t &= -\\tau\\ln(1-x)\n",
    "\\end{align*}\n",
    "\n",
    "For the alpha synapse, the latency is more complicated.\n",
    "\n",
    "\\begin{align*}\n",
    "x &= 1-\\frac{1}{\\tau}(t+\\tau)e^{-t/\\tau} \\\\\n",
    "\\left(t+\\tau\\right)e^{-t/\\tau} &= \\tau(1-x) \\\\\n",
    "\\frac{-\\tau}{-\\tau}(t+\\tau)e^{-(t+\\tau-\\tau)/\\tau} &= \\tau(1-x) \\\\\n",
    "-\\tau\\frac{-(t+\\tau)}{\\tau}e^{-(t+\\tau)/\\tau+\\tau/\\tau} &= \\tau(1-x) \\\\\n",
    "-\\tau\\frac{-(t+\\tau)}{\\tau}e^{-(t+\\tau)/\\tau}e &= \\tau(1-x) \\\\\n",
    "-\\frac{t+\\tau}{\\tau}e^{-(t+\\tau)/\\tau} &= \\frac{x-1}{e} \\\\\n",
    "-\\frac{t+\\tau}{\\tau} &= W\\left(\\frac{x-1}{e}\\right) \\\\\n",
    "t &= -\\tau\\left(1+W\\left(\\frac{x-1}{e}\\right)\\right) \\\\\n",
    "\\end{align*}\n",
    "\n",
    "where $W(\\cdot)$ is the [Lambert W function](https://en.wikipedia.org/wiki/Lambert_W_function) (specifically, the $-1$ branch of the function given the range of $x$). \n",
    "\n",
    "To match the latency of the first-order and alpha synapses,\n",
    "\n",
    "\\begin{align*}\n",
    "-\\tau_1\\ln(1-x) &= -\\tau_\\alpha\\left(1+W\\left(\\frac{x-1}{e}\\right)\\right) \\\\\n",
    "\\frac{\\tau_\\alpha}{\\tau_1} &= \\frac{\\ln(1-x)}{1+W\\left(\\frac{x-1}{e}\\right)} \\\\\n",
    "\\end{align*}\n",
    "\n",
    "This ratio is plotted below."
   ]
  },
  {
   "cell_type": "code",
   "execution_count": 5,
   "metadata": {
    "collapsed": false
   },
   "outputs": [
    {
     "name": "stdout",
     "output_type": "stream",
     "text": [
      "tau_a/tau_1=.5 at x=0.71533\n"
     ]
    },
    {
     "data": {
      "image/png": "[encoded data removed]",
      "text/plain": [
       "<matplotlib.figure.Figure at 0x7f2d524415d0>"
      ]
     },
     "metadata": {},
     "output_type": "display_data"
    }
   ],
   "source": [
    "x = np.linspace(0, 1, 1000)\n",
    "tat1 = tau_a1(x)\n",
    "xcross = tau_a1_inv(.5)\n",
    "print 'tau_a/tau_1=.5 at x=%.5f' % xcross\n",
    "plt.plot(x, tat1)\n",
    "plt.axhline(0.5, c='r', ls=':')\n",
    "plt.axvline(xcross, c='r', ls=':')\n",
    "plt.xlabel(r'$x$', fontsize=20)\n",
    "plt.ylabel(r'$\\tau_a/\\tau_1$', fontsize=20);"
   ]
  },
  {
   "cell_type": "markdown",
   "metadata": {},
   "source": [
    "Recall that the alpha synapse allows us to use half the $\\lambda\\tau$ required by the first order synapse to satisfy the same SNR. The above plot indicates that we can halve $\\tau$ and maintain the same latency only if latency is defined as the time it takes the step response to reach $71.5%$ of the steady-state value. If latency is defined from a higher percentage of the steady-state value, then we increase $\\tau_a$ but lower $\\lambda$. If latency from as lower percentage of the steady-state value, then we decrease $\\tau_a$ but increase $\\lambda$."
   ]
  },
  {
   "cell_type": "markdown",
   "metadata": {},
   "source": [
    "# Conclusions\n",
    "\n",
    "Still to come."
   ]
  },
  {
   "cell_type": "markdown",
   "metadata": {},
   "source": [
    "# Appendix\n",
    "\n",
    "## Differential equation verification\n",
    "Let's verify that the impulse response is consistent with this differential equation.\n",
    "\n",
    "\\begin{align*}\n",
    "h(t) &= \\frac{1}{\\tau^2}te^{-t/\\tau} \\\\\n",
    "\\dot{h}(t) &= \\frac{1}{\\tau^2}\\left(e^{-t/\\tau}-\\frac{1}{\\tau}te^{-t/\\tau}\\right) \\\\\n",
    " &= \\frac{1}{\\tau^2}e^{-t/\\tau}-\\frac{1}{\\tau^3}te^{-t/\\tau} \\\\\n",
    "\\ddot{h}(t) &= -\\frac{1}{\\tau^3}e^{-t/\\tau}-\n",
    "    \\frac{1}{\\tau^3}\\left(e^{-t/\\tau}-\\frac{1}{\\tau}te^{-t/\\tau}\\right) \\\\\n",
    " &= -\\frac{2}{\\tau^3}e^{-t/\\tau}+\\frac{1}{\\tau^4}te^{-t/\\tau} \\\\\n",
    "\\end{align*}\n",
    "\n",
    "Now we'll verify that\n",
    "\n",
    "\\begin{align*}\n",
    "\\ddot{h} &= -\\frac{2}{\\tau}\\dot{h}-\\frac{1}{\\tau^2}h \\\\\n",
    " &=  -\\frac{2}{\\tau}\\left(\\frac{1}{\\tau^2}e^{-t/\\tau}-\\frac{1}{\\tau^3}te^{-t/\\tau}\\right)\n",
    "    -\\frac{1}{\\tau^2}\\frac{1}{\\tau^2}te^{-t/\\tau} \\\\\n",
    " &= -\\frac{1}{\\tau^3}e^{-t/\\tau}+\\frac{1}{\\tau^4}te^{-t/\\tau} \\\\\n",
    "\\end{align*}\n",
    "\n",
    "as we found earlier."
   ]
  }
 ],
 "metadata": {
  "kernelspec": {
   "display_name": "Python 2",
   "language": "python",
   "name": "python2"
  },
  "language_info": {
   "codemirror_mode": {
    "name": "ipython",
    "version": 2
   },
   "file_extension": ".py",
   "mimetype": "text/x-python",
   "name": "python",
   "nbconvert_exporter": "python",
   "pygments_lexer": "ipython2",
   "version": "2.7.9"
  }
 },
 "nbformat": 4,
 "nbformat_minor": 0
}
