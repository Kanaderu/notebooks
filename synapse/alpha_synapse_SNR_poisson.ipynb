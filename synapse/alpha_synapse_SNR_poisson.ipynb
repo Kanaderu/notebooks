{
 "cells": [
  {
   "cell_type": "markdown",
   "metadata": {},
   "source": [
    "# Notebook description\n",
    "$\\DeclareMathOperator{\\Var}{Var}$\n",
    "This notebook looks at the alpha synapse in response to Poisson spiking input."
   ]
  },
  {
   "cell_type": "markdown",
   "metadata": {},
   "source": [
    "# Mean, Variance, and SNR\n",
    "\n",
    "We make use of [Campbell's theorem](../theory/campbells_theorem.ipynb) to find the mean and variance. \n",
    "\n",
    "\\begin{align*}\n",
    "E(\\Sigma) &= \\int_0^{\\infty}\\lambda\\frac{1}{\\tau^2}te^{-t/\\tau}dt \\\\\n",
    " &= \\lambda\n",
    "\\end{align*}\n",
    "\n",
    "and\n",
    "\n",
    "\\begin{align*}\n",
    "\\Var(\\Sigma) &= \\int_0^{\\infty}\\lambda\\left(\\frac{1}{\\tau^2}te^{-t/\\tau}\\right)^2dt \\\\\n",
    " &= \\frac{\\lambda}{\\tau^4}\\int_0^{\\infty}t^2e^{-2t/\\tau}dt \\\\\n",
    " &= \\frac{\\lambda}{\\tau^4}\\left(\\left[-\\frac{\\tau}{2}t^2e^{-2t/\\tau}\\right]_0^\\infty-\n",
    "    \\int_0^{\\infty}-\\tau te^{-2t/\\tau}dt\\right) & \\textrm{integration by parts} \\\\\n",
    " &= \\frac{\\lambda}{\\tau^4}\\left(0+\\tau\n",
    "    \\int_0^{\\infty}te^{-2t/\\tau}dt\\right) \\\\\n",
    " &= \\frac{\\lambda}{\\tau^3}\\left(\n",
    "    \\int_0^{\\infty}te^{-2t/\\tau}dt\\right) \\\\\n",
    " &= \\frac{\\lambda}{\\tau^3}\\left(\\left[-\\frac{\\tau}{2}te^{-2t/\\tau}\\right]_0^\\infty-\n",
    "    \\int_0^{\\infty}-\\frac{\\tau}{2}e^{-2t/\\tau}dt\\right) & \\textrm{integration by parts} \\\\\n",
    " &= \\frac{\\lambda}{\\tau^3}\\left(0+\n",
    "    \\frac{\\tau}{2}\\int_0^{\\infty}e^{-2t/\\tau}dt\\right) \\\\\n",
    " &= \\frac{\\lambda}{2\\tau^2}\\left[-\\frac{\\tau}{2}e^{-2t/\\tau}dt\\right]_0^{\\infty} \\\\\n",
    " &= \\frac{\\lambda}{4\\tau} \\\\\n",
    "\\end{align*}\n",
    "\n",
    "This yields\n",
    "\n",
    "\\begin{align*}\n",
    "SNR &= \\frac{\\lambda}{\\sqrt{\\frac{\\lambda}{4\\tau}}} \\\\\n",
    " &= 2\\sqrt{\\lambda\\tau} \\\\\n",
    "\\end{align*}"
   ]
  }
 ],
 "metadata": {
  "kernelspec": {
   "display_name": "Python 2",
   "language": "python",
   "name": "python2"
  },
  "language_info": {
   "codemirror_mode": {
    "name": "ipython",
    "version": 2
   },
   "file_extension": ".py",
   "mimetype": "text/x-python",
   "name": "python",
   "nbconvert_exporter": "python",
   "pygments_lexer": "ipython2",
   "version": "2.7.3"
  }
 },
 "nbformat": 4,
 "nbformat_minor": 0
}
