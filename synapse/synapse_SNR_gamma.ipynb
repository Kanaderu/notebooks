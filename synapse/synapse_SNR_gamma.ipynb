{
 "cells": [
  {
   "cell_type": "markdown",
   "metadata": {},
   "source": [
    "# Notebook description\n",
    "<!---define operatorname var-->\n",
    "$\\DeclareMathOperator{\\Var}{Var}$\n",
    "<!---define operatorname var-->"
   ]
  },
  {
   "cell_type": "markdown",
   "metadata": {},
   "source": [
    "This notebook looks at the signal to noise ratio (SNR) of a synapse with input spike train with frequency $\\lambda$ and interspike intervals (ISIs) following a Gamma distribition.\n",
    "\n",
    "The pdf of the gamma distribution is given by\n",
    "$$\n",
    "f_X(x) = \\frac{\\lambda^k}{\\Gamma(k)}x^{k-1}e^{-\\lambda x}\n",
    "$$\n",
    "\n",
    "We are particularly interested in cases when $k$ is a positive integer, in which case\n",
    "\n",
    "$$\n",
    "f_X(x) = \\frac{\\lambda^k}{(k-1)!}x^{k-1}e^{-\\lambda x}\n",
    "$$\n",
    "\n",
    "which is the pdf of the Erlang distribution."
   ]
  },
  {
   "cell_type": "code",
   "execution_count": 1,
   "metadata": {
    "collapsed": true
   },
   "outputs": [],
   "source": [
    "%matplotlib inline\n",
    "from matplotlib import pyplot as plt\n",
    "import numpy as np\n",
    "\n",
    "s = np.random.seed(2)\n",
    "rng = np.random.RandomState(s)"
   ]
  },
  {
   "cell_type": "markdown",
   "metadata": {},
   "source": [
    "# Summary of results"
   ]
  },
  {
   "cell_type": "markdown",
   "metadata": {},
   "source": [
    "<div style=\"display:block; border: 1px solid black; padding: 15px;background-color: #EEEEFF;margin: 10px\">\n",
    "\\begin{align*}\n",
    "E[X] &= \\\\\n",
    "\\Var(X) &=  \\\\\n",
    "SNR &=  \\\\\n",
    "\\end{align*}\n",
    "</div>"
   ]
  },
  {
   "cell_type": "markdown",
   "metadata": {},
   "source": [
    "# Derivations"
   ]
  },
  {
   "cell_type": "markdown",
   "metadata": {},
   "source": [
    "\\begin{align*}\n",
    "E[X] &= E\\left[\\frac{1}{T}\\left(1-e^{-T/\\tau}\\right)\\right]\\sum_{i=0}^{\\infty}E\\left[e^{-T/\\tau}\\right]^i \\\\\n",
    " &= E\\left[\\frac{1}{T}\\left(1-e^{-T/\\tau}\\right)\\right]\n",
    "    \\sum_{i=0}^{\\infty}\\left(\\frac{\\lambda\\tau}{1+\\lambda\\tau}\\right)^{ki} \\\\\n",
    " &= E\\left[\\frac{1}{T}\\left(1-e^{-T/\\tau}\\right)\\right]\n",
    "    \\frac{1}{1-\\left(\\frac{\\lambda\\tau}{1+\\lambda\\tau}\\right)^{k}} \\\\\n",
    " &= E\\left[\\frac{1}{T}\\left(1-e^{-T/\\tau}\\right)\\right]\n",
    "    \\frac{(1+\\lambda\\tau)^k}{(1+\\lambda\\tau)^k-(\\lambda\\tau)^k} \\\\\n",
    "\\end{align*}\n",
    "\n",
    "---"
   ]
  },
  {
   "cell_type": "markdown",
   "metadata": {},
   "source": [
    "We [know](http://nbviewer.ipython.org/github/fragapanagos/notebooks/blob/master/theory/campbell_theorem.ipynb#Filtered-Renewal-processes) that first-order, low-passed filtered renewal processes have moments\n",
    "\\begin{align*}\n",
    "E[X] &= \\frac{1}{\\tau}\\sum_{i=1}^\\infty E\\left[e^{-T/\\tau}\\right]^i \\\\\n",
    "E[X^2] &= \\frac{1}{\\tau^2}\\sum_{i=1}^{\\infty}E\\left[e^{-2T/\\tau}\\right]^i\\left(1 +\n",
    "    2\\sum_{j=1}^{\\infty}E\\left[e^{-T/\\tau}\\right]^{j}\\right) \\\\\n",
    "\\end{align*}\n",
    "\n",
    "Therefore, our first steps will be to compute $E\\left[e^{-2T/\\tau}\\right]$ and $E\\left[e^{-T/\\tau}\\right]$, or rather $E\\left[e^{-cT/\\tau}\\right]$."
   ]
  },
  {
   "cell_type": "markdown",
   "metadata": {},
   "source": [
    "\\begin{align*}\n",
    "E[e^{-cT/\\tau}] &= \\int_{-\\infty}^{\\infty}e^{-ct/\\tau}f_T(t)dt \\\\\n",
    " &= \\int_{0}^{\\infty}e^{-ct/\\tau}\\frac{\\lambda^k}{\\Gamma(k)}t^{k-1}e^{-\\lambda t}dt \\\\\n",
    " &= \\frac{\\lambda^k}{\\Gamma(k)}\\int_{0}^{\\infty}t^{k-1}e^{-ct/\\tau}e^{-\\lambda t}dt \\\\\n",
    " &= \\frac{\\lambda^k}{\\Gamma(k)}\\int_{0}^{\\infty}t^{k-1}e^{-t(c/\\tau+\\lambda)}dt \\\\\n",
    " &= \\frac{\\lambda^k}{\\Gamma(k)}\\int_{0}^{\\infty}\\left(\\frac{\\tau}{c+\\lambda\\tau}u\\right)^{k-1}\n",
    "     e^{-u}\\frac{\\tau}{c+\\lambda\\tau}du & u = t(c/\\tau+\\lambda) \\\\\n",
    " &= \\frac{\\lambda^k}{\\Gamma(k)}\\int_{0}^{\\infty}\\left(\\frac{\\tau}{c+\\lambda\\tau}\\right)^ku^{k-1}e^{-u}du \\\\\n",
    " &= \\frac{\\lambda^k}{\\Gamma(k)}\\left(\\frac{\\tau}{c+\\lambda\\tau}\\right)^k\\int_{0}^{\\infty}u^{k-1}e^{-u}du \\\\\n",
    " &= \\frac{\\lambda^k}{\\Gamma(k)}\\left(\\frac{\\tau}{c+\\lambda\\tau}\\right)^k\\Gamma(k) \\\\\n",
    " &= \\left(\\frac{\\lambda\\tau}{c+\\lambda\\tau}\\right)^k \\\\\n",
    "\\end{align*}"
   ]
  },
  {
   "cell_type": "markdown",
   "metadata": {},
   "source": [
    "Here, we expand on our substitution of $u$ for $t$.\n",
    "\n",
    "\\begin{align*}\n",
    "u &= t(c/\\tau+\\lambda) \\\\\n",
    " &= t\\frac{c+\\lambda\\tau}{\\tau} \\\\\n",
    "\\frac{\\tau}{c+\\lambda\\tau}u &= t \\\\\n",
    "\\frac{\\tau}{c+\\lambda\\tau}du &= dt \\\\\n",
    "\\end{align*}"
   ]
  },
  {
   "cell_type": "markdown",
   "metadata": {},
   "source": [
    "## Synapse mean"
   ]
  },
  {
   "cell_type": "markdown",
   "metadata": {},
   "source": [
    "## Syanpse variance"
   ]
  },
  {
   "cell_type": "markdown",
   "metadata": {},
   "source": [
    "# Simulation setup"
   ]
  },
  {
   "cell_type": "code",
   "execution_count": 20,
   "metadata": {
    "collapsed": false
   },
   "outputs": [],
   "source": [
    "%matplotlib inline\n",
    "import numpy as np\n",
    "from matplotlib import pyplot as plt\n",
    "\n",
    "s = np.random.seed(2)\n",
    "rng = np.random.RandomState(s)"
   ]
  },
  {
   "cell_type": "code",
   "execution_count": null,
   "metadata": {
    "collapsed": true
   },
   "outputs": [],
   "source": [
    "def th_mean(lam, k)"
   ]
  },
  {
   "cell_type": "markdown",
   "metadata": {},
   "source": [
    "# Theoretical plots"
   ]
  },
  {
   "cell_type": "markdown",
   "metadata": {},
   "source": [
    "# Fixed rate simulations"
   ]
  },
  {
   "cell_type": "markdown",
   "metadata": {},
   "source": [
    "# Variable rate simulations"
   ]
  },
  {
   "cell_type": "code",
   "execution_count": null,
   "metadata": {
    "collapsed": true
   },
   "outputs": [],
   "source": [
    "def check_theory(lams, k, n=30., tau=.01, trials=300):\n",
    "    # lams array of frequencies to test\n",
    "    # n number of time constants to consider in each experiment\n",
    "    # tau time constant of the filter\n",
    "\n",
    "    nfreqs = len(lams) # number of frequencies to test\n",
    "    obs_mean = np.zeros(nfreqs)\n",
    "#     obs_var = np.zeros(nfreqs)\n",
    "#     obs_snr = np.zeros(nfreqs)\n",
    "    for lam_idx, lam in enumerate(lams):\n",
    "        nspikes = int(n*tau*lam/float(k))\n",
    "        isi = rng.gamma(k, 1./lam, (trials, nspikes))\n",
    "        spike_times = np.cumsum(isi, axis=1)\n",
    "        spike_vals = spike_value(spike_times, tau)\n",
    "        exp_state = np.sum(spike_vals, axis=1)\n",
    "        obs_mean[lam_idx] = np.mean(exp_state)\n",
    "#         obs_var[lam_idx] = np.var(exp_state)\n",
    "#         obs_snr[lam_idx] = get_snr(obs_mean[lam_idx], obs_var[lam_idx])\n",
    "\n",
    "#     mean_th = th_mean(lams)\n",
    "#     var_th = th_var(lams, tau)\n",
    "#     snr_th = th_snr(lams, tau)\n",
    "\n",
    "#     plt.figure(figsize=(12,4))\n",
    "#     plt.subplot(131)\n",
    "    plt.plot(lams*tau, obs_mean*tau, 'b', label='simulation')\n",
    "#     plt.plot(lams*tau, mean_th*tau, 'r--', label='theory')\n",
    "    plt.ylabel(r'$E[x]\\tau$', fontsize=20)\n",
    "    plt.legend(loc='upper left', fontsize=16)\n",
    "#     plt.subplot(132)\n",
    "#     plt.plot(lams*tau, obs_var*tau**2, 'b')\n",
    "#     plt.plot(lams*tau, var_th*tau**2, 'r--')\n",
    "    plt.xlabel(r'$\\lambda\\tau$', fontsize=20)\n",
    "#     plt.ylabel(r'$\\operatorname{Var}(x)\\tau^2$', fontsize=20)\n",
    "#     plt.title(r'$%d$, $%d\\tau$ trials' % (trials, k), fontsize=20)\n",
    "#     plt.subplot(133)\n",
    "#     plt.plot(lams*tau, obs_snr, 'b')\n",
    "#     plt.plot(lams*tau, snr_th, 'r--')\n",
    "#     plt.ylabel(r'$SNR(x)$', fontsize=20)\n",
    "#     plt.tight_layout()\n",
    "    \n",
    "lams = np.linspace(5, 1000, 50)\n",
    "check_theory(lams, k=30, trials=10000)"
   ]
  },
  {
   "cell_type": "markdown",
   "metadata": {},
   "source": [
    "# Appendix"
   ]
  },
  {
   "cell_type": "markdown",
   "metadata": {},
   "source": [
    "Verify the formula for $E\\left[e^{cT/\\tau}\\right]$"
   ]
  },
  {
   "cell_type": "code",
   "execution_count": 45,
   "metadata": {
    "collapsed": true
   },
   "outputs": [],
   "source": [
    "# check the formula for E[e^{cT/tau}]\n",
    "def check_E_decay(lam, k, c=1., tau=0.01, n_trials=1000):\n",
    "    t = rng.gamma(k, 1./lam, n_trials)\n",
    "    x = np.exp(-c*t/tau)\n",
    "    mean_obs = np.mean(x)\n",
    "    mean_th = (lam*tau/(c+lam*tau))**k\n",
    "    \n",
    "    print mean_th, mean_obs, np.abs(mean_obs - mean_th)/mean_th"
   ]
  },
  {
   "cell_type": "code",
   "execution_count": 46,
   "metadata": {
    "collapsed": false
   },
   "outputs": [
    {
     "name": "stdout",
     "output_type": "stream",
     "text": [
      "0.909090909091 0.910296020194 0.00132562221351\n"
     ]
    }
   ],
   "source": [
    "check_E_decay(lam=1000., k=1., c=1, n_trials=10000)"
   ]
  },
  {
   "cell_type": "code",
   "execution_count": 54,
   "metadata": {
    "collapsed": false
   },
   "outputs": [
    {
     "name": "stdout",
     "output_type": "stream",
     "text": [
      "0.833333333333 0.833905838075 0.000687005689963\n"
     ]
    }
   ],
   "source": [
    "check_E_decay(lam=1000., k=1., c=2, n_trials=10000)"
   ]
  }
 ],
 "metadata": {
  "kernelspec": {
   "display_name": "Python 2",
   "language": "python",
   "name": "python2"
  },
  "language_info": {
   "codemirror_mode": {
    "name": "ipython",
    "version": 2
   },
   "file_extension": ".py",
   "mimetype": "text/x-python",
   "name": "python",
   "nbconvert_exporter": "python",
   "pygments_lexer": "ipython2",
   "version": "2.7.9"
  }
 },
 "nbformat": 4,
 "nbformat_minor": 0
}
