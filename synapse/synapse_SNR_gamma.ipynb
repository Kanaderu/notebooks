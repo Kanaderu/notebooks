{
 "cells": [
  {
   "cell_type": "markdown",
   "metadata": {},
   "source": [
    "# Notebook description\n",
    "<!---define operatorname var-->\n",
    "$\\DeclareMathOperator{\\Var}{Var}$\n",
    "<!---define operatorname var-->"
   ]
  },
  {
   "cell_type": "markdown",
   "metadata": {},
   "source": [
    "This notebook looks at the signal to noise ratio (SNR) of a synapse with input spike train with frequency $\\lambda$ and interspike intervals (ISIs) following a Gamma distribition.\n",
    "\n",
    "The pdf of the gamma distribution is given by\n",
    "$$\n",
    "f_X(x) = \\frac{\\lambda^k}{\\Gamma(k)}x^{k-1}e^{-\\lambda x}\n",
    "$$\n",
    "\n",
    "We are particularly interested in cases when $k$ is a positive integer, in which case\n",
    "\n",
    "$$\n",
    "f_X(x) = \\frac{\\lambda^k}{(k-1)!}x^{k-1}e^{-\\lambda x}\n",
    "$$\n",
    "\n",
    "which is the pdf of the Erlang distribution."
   ]
  },
  {
   "cell_type": "markdown",
   "metadata": {},
   "source": [
    "# Summary of results"
   ]
  },
  {
   "cell_type": "markdown",
   "metadata": {},
   "source": [
    "<div style=\"display:block; border: 1px solid black; padding: 15px;background-color: #EEEEFF;margin: 10px\">\n",
    "\\begin{align*}\n",
    "E[X] &= \\\\\n",
    "\\Var(X) &=  \\\\\n",
    "SNR &=  \\\\\n",
    "\\end{align*}\n",
    "</div>"
   ]
  },
  {
   "cell_type": "markdown",
   "metadata": {},
   "source": [
    "# Derivations"
   ]
  },
  {
   "cell_type": "markdown",
   "metadata": {},
   "source": [
    "We [know](http://nbviewer.ipython.org/github/fragapanagos/notebooks/blob/master/theory/campbell_theorem.ipynb#Filtered-Renewal-processes) that first-order, low-passed filtered renewal processes have moments\n",
    "\\begin{align*}\n",
    "E[X] &= \\frac{1}{\\tau}\\sum_{i=1}^\\infty E\\left[e^{-T/\\tau}\\right]^i \\\\\n",
    "E[X^2] &= \\frac{1}{\\tau^2}\\sum_{i=1}^{\\infty}E\\left[e^{-2T/\\tau}\\right]^i\\left(1 +\n",
    "    2\\sum_{j=1}^{\\infty}E\\left[e^{-T/\\tau}\\right]^{j}\\right) \\\\\n",
    "\\end{align*}\n",
    "\n",
    "Therefore, our first steps will be to compute $E\\left[e^{-2T/\\tau}\\right]$ and $E\\left[e^{-T/\\tau}\\right]$, or rather $E\\left[e^{-cT/\\tau}\\right]$."
   ]
  },
  {
   "cell_type": "markdown",
   "metadata": {},
   "source": [
    "\\begin{align*}\n",
    "E[e^{-cT/\\tau}] &= \\int_{-\\infty}^{\\infty}e^{-ct/\\tau}f_T(t)dt \\\\\n",
    " &= \\int_{0}^{\\infty}e^{-ct/\\tau}\\frac{\\lambda^k}{\\Gamma(k)}t^{k-1}e^{-\\lambda t}dt \\\\\n",
    " &= \\frac{\\lambda^k}{\\Gamma(k)}\\int_{0}^{\\infty}t^{k-1}e^{-ct/\\tau}e^{-\\lambda t}dt \\\\\n",
    " &= \\frac{\\lambda^k}{\\Gamma(k)}\\int_{0}^{\\infty}t^{k-1}e^{-t(c/\\tau-\\lambda)}dt \\\\\n",
    " &= \\frac{\\lambda^k}{\\Gamma(k)}\\int_{0}^{\\infty}\\left(\\frac{\\tau}{c-\\lambda\\tau}z\\right)^{k-1}\n",
    "     e^{-z}\\frac{\\tau}{c-\\lambda\\tau}dz & \\text{(see below) where } z = t(c/\\tau-\\lambda) \\\\\n",
    " &= \\frac{\\lambda^k}{\\Gamma(k)}\\int_{0}^{\\infty}\\left(\\frac{\\tau}{c-\\lambda\\tau}\\right)^kz^{k-1}e^{-z}dz \\\\\n",
    " &= \\frac{\\lambda^k}{\\Gamma(k)}\\left(\\frac{\\tau}{c-\\lambda\\tau}\\right)^k\\int_{0}^{\\infty}z^{k-1}e^{-z}dz \\\\\n",
    " &= \\frac{\\lambda^k}{\\Gamma(k)}\\left(\\frac{\\tau}{c-\\lambda\\tau}\\right)^k\\Gamma(k) \\\\\n",
    " &= \\left(\\frac{\\lambda\\tau}{c-\\lambda\\tau}\\right)^k \\\\\n",
    "\\end{align*}"
   ]
  },
  {
   "cell_type": "markdown",
   "metadata": {},
   "source": [
    "Here, we expand on our substitution of $z$ for $t$.\n",
    "\n",
    "\\begin{align*}\n",
    "z &= t(c/\\tau-\\lambda) \\\\\n",
    " &= t\\frac{c-\\lambda\\tau}{\\tau} \\\\\n",
    "\\frac{\\tau}{c-\\lambda\\tau}z &= t \\\\\n",
    "\\frac{\\tau}{c-\\lambda\\tau}dz &= dt \\\\\n",
    "\\end{align*}\n",
    "\n",
    "Note that this substitution requires $c>\\lambda\\tau$ for the limits to be consistent."
   ]
  },
  {
   "cell_type": "markdown",
   "metadata": {},
   "source": [
    "## Synapse mean"
   ]
  },
  {
   "cell_type": "markdown",
   "metadata": {},
   "source": [
    "\\begin{align*}\n",
    "E[X] &= \\frac{1}{\\tau}\\sum_{i=1}^\\infty E\\left[e^{-T/\\tau}\\right]^i \\\\\n",
    " &= \\frac{1}{\\tau}\\sum_{i=1}^\\infty\\left(\\frac{\\lambda\\tau}{1-\\lambda\\tau}\\right)^{ki} \\\\\n",
    " &= \\frac{1}{\\tau}\\frac{\\left(\\frac{\\lambda\\tau}{1-\\lambda\\tau}\\right)^k}\n",
    "     {1-\\left(\\frac{\\lambda\\tau}{1-\\lambda\\tau}\\right)^k} &\n",
    "     \\text{(see below) assuming } \\left|\\frac{\\lambda\\tau}{1-\\lambda\\tau}\\right|<1 \\\\\n",
    " &= \\frac{1}{\\tau}\\frac{(\\lambda\\tau)^k}{(1-\\lambda\\tau)^k-(\\lambda\\tau)^k}\n",
    "\\end{align*}"
   ]
  },
  {
   "cell_type": "markdown",
   "metadata": {},
   "source": [
    "Here, we look at the implications of our assumption required for the summation to converge\n",
    "\n",
    "$$\n",
    "\\left|\\frac{\\lambda\\tau}{1-\\lambda\\tau}\\right|<1\n",
    "$$\n",
    "\n",
    "becomes\n",
    "\n",
    "\\begin{align*}\n",
    "\\frac{\\lambda\\tau}{1-\\lambda\\tau} &< 1 \\\\\n",
    "\\lambda\\tau &< 1-\\lambda\\tau \\\\\n",
    "\\lambda\\tau &< \\frac{1}{2} \\\\\n",
    "\\end{align*}\n",
    "\n",
    "or\n",
    "\n",
    "\\begin{align*}\n",
    "-\\frac{\\lambda\\tau}{1-\\lambda\\tau} &< 1 \\\\\n",
    "\\frac{\\lambda\\tau}{1-\\lambda\\tau} &\\ge -1 \\\\\n",
    "\\lambda\\tau &\\ge -1+\\lambda\\tau \\\\\n",
    "0 &\\ge -1 \\\\\n",
    "\\end{align*}\n",
    "\n",
    "which is trivally true. Therefore, we only require that $\\lambda\\tau<\\frac{1}{2}$ (i.e. less than 1 spike per $\\tau$).\n"
   ]
  },
  {
   "cell_type": "markdown",
   "metadata": {},
   "source": [
    "## Syanpse variance"
   ]
  },
  {
   "cell_type": "markdown",
   "metadata": {},
   "source": [
    "\\begin{align*}\n",
    "E[X^2] &= \\frac{1}{\\tau^2}\\sum_{i=1}^{\\infty}E\\left[e^{-2T/\\tau}\\right]^i\\left(1 +\n",
    "    2\\sum_{j=1}^{\\infty}E\\left[e^{-T/\\tau}\\right]^{j}\\right) \\\\\n",
    " &= \\frac{1}{\\tau^2}\\sum_{i=1}^{\\infty}\\left(\\frac{\\lambda\\tau}{2-\\lambda\\tau}\\right)^{ki}\\left(1 +\n",
    "    2\\sum_{j=1}^{\\infty}\\left(\\frac{\\lambda\\tau}{1-\\lambda\\tau}\\right)^{kj}\\right) \\\\\n",
    " &= \\frac{1}{\\tau^2}\\frac{(\\lambda\\tau)^k}{(2-\\lambda\\tau)^k-(\\lambda\\tau)^k}\\left(1 +\n",
    "    2\\frac{(\\lambda\\tau)^k}{(1-\\lambda\\tau)^k-(\\lambda\\tau)^k}\\right) \\\\\n",
    " &= \\frac{1}{\\tau^2}\\left(\\frac{(\\lambda\\tau)^k}{(2-\\lambda\\tau)^k-(\\lambda\\tau)^k} +\n",
    "    2\\frac{(\\lambda\\tau)^k}{(2-\\lambda\\tau)^k-(\\lambda\\tau)^k}\n",
    "    \\frac{(\\lambda\\tau)^k}{(1-\\lambda\\tau)^k-(\\lambda\\tau)^k}\\right) \\\\\n",
    " &= \\frac{1}{\\tau^2}\\left(\\frac{(\\lambda\\tau)^k\\left[(1-\\lambda\\tau)^k-(\\lambda\\tau)^k\\right]+2(\\lambda\\tau)^{2k}}\n",
    "    {\\left[(2-\\lambda\\tau)^k-(\\lambda\\tau)^k\\right]\\left[(1-\\lambda\\tau)^k-(\\lambda\\tau)^k\\right]}\\right) \\\\\n",
    " &= \\frac{1}{\\tau^2}\\left(\\frac{(\\lambda\\tau)^k\\left[(1-\\lambda\\tau)^k+(\\lambda\\tau)^k\\right]}\n",
    "    {\\left[(2-\\lambda\\tau)^k-(\\lambda\\tau)^k\\right]\\left[(1-\\lambda\\tau)^k-(\\lambda\\tau)^k\\right]}\\right) \\\\\n",
    "\\end{align*}\n",
    "\n",
    "\\begin{align*}\n",
    "\\Var(X) &= E[X^2] - E[X]^2 \\\\\n",
    " &= \\frac{1}{\\tau^2}\\left(\\frac{(\\lambda\\tau)^k\\left[(1-\\lambda\\tau)^k+(\\lambda\\tau)^k\\right]}\n",
    "    {\\left[(2-\\lambda\\tau)^k-(\\lambda\\tau)^k\\right]\\left[(1-\\lambda\\tau)^k-(\\lambda\\tau)^k\\right]}\\right)\n",
    "    - \\left(\\frac{1}{\\tau}\\frac{(\\lambda\\tau)^k}{(1-\\lambda\\tau)^k-(\\lambda\\tau)^k}\\right)^2\n",
    "\\end{align*}\n",
    "\n",
    "This is pretty ugly..."
   ]
  }
 ],
 "metadata": {
  "kernelspec": {
   "display_name": "Python 2",
   "language": "python",
   "name": "python2"
  },
  "language_info": {
   "codemirror_mode": {
    "name": "ipython",
    "version": 2
   },
   "file_extension": ".py",
   "mimetype": "text/x-python",
   "name": "python",
   "nbconvert_exporter": "python",
   "pygments_lexer": "ipython2",
   "version": "2.7.3"
  }
 },
 "nbformat": 4,
 "nbformat_minor": 0
}
