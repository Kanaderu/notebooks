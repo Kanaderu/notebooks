{
 "cells": [
  {
   "cell_type": "markdown",
   "metadata": {},
   "source": [
    "# Notebook description\n",
    "<!---define operatorname var-->\n",
    "$\\DeclareMathOperator{\\Var}{Var}$\n",
    "<!---define operatorname var-->"
   ]
  },
  {
   "cell_type": "markdown",
   "metadata": {},
   "source": [
    "This notebook looks at the signal to noise ratio (SNR) of a synapse with input spike train with frequency $\\lambda$ and interspike intervals (ISIs) following a Gamma distribition.\n",
    "\n",
    "The pdf of the gamma distribution is given by\n",
    "$$\n",
    "f_X(x) = \\frac{\\lambda^k}{\\Gamma(k)}x^{k-1}e^{-\\lambda x}\n",
    "$$\n",
    "\n",
    "We are particularly interested in cases when $k$ is a positive integer, in which case\n",
    "\n",
    "$$\n",
    "f_X(x) = \\frac{\\lambda^k}{(k-1)!}x^{k-1}e^{-\\lambda x}\n",
    "$$\n",
    "\n",
    "which is the pdf of the Erlang distribution."
   ]
  },
  {
   "cell_type": "code",
   "execution_count": 2,
   "metadata": {
    "collapsed": true
   },
   "outputs": [],
   "source": [
    "%matplotlib inline\n",
    "from matplotlib import pyplot as plt\n",
    "import numpy as np\n",
    "from scipy.stats import gamma\n",
    "import scipy\n",
    "\n",
    "s = np.random.seed(2)\n",
    "rng = np.random.RandomState(s)"
   ]
  },
  {
   "cell_type": "markdown",
   "metadata": {},
   "source": [
    "# Summary of results"
   ]
  },
  {
   "cell_type": "markdown",
   "metadata": {},
   "source": [
    "<div style=\"display:block; border: 1px solid black; padding: 15px;background-color: #EEEEFF;margin: 10px\">\n",
    "\\begin{align*}\n",
    "E[X] &= \\\\\n",
    "\\Var(X) &=  \\\\\n",
    "SNR &=  \\\\\n",
    "\\end{align*}\n",
    "</div>"
   ]
  },
  {
   "cell_type": "markdown",
   "metadata": {},
   "source": [
    "# Derivations\n",
    "\n",
    "We know from considering a filtered renewal process with a different first interval distribution (see [here](http://nbviewer.ipython.org/github/fragapanagos/notebooks/blob/master/theory/filtered_renewal_processes.ipynb#Filtered-renewal-process-with-different-first-interval)) that \n",
    "\n",
    "\\begin{align*}\n",
    "E[X] &= \\frac{1}{\\tau}E\\left[e^{-T_1/\\tau}\\right]\\sum_{i=0}^{\\infty}E\\left[e^{-T/\\tau}\\right]^i \\\\\n",
    "E[X^2] &= \\frac{1}{\\tau^2}E\\left[e^{-2T_1/\\tau}\\right]\\sum_{i=0}^{\\infty}E\\left[e^{-2T/\\tau}\\right]^i\n",
    "    \\left(1 + 2\\sum_{j=1}^{\\infty}E\\left[e^{-T/\\tau}\\right]^j\\right) \\\\\n",
    "\\end{align*}\n",
    "\n",
    "The first interval $T_1$ can be decomposed as $T_1=UT^*$ where $U$ and $T^*$ are independent, $U\\sim\\mathrm{Uniform}(0,1)$, and $T^*$ is a random variable describing the length of the interval containing the point in time of the synapse we're considering. Surprisingly, $T^*\\neq T$. This is known as the [inspection paradox](http://en.wikipedia.org/wiki/Renewal_theory#The_inspection_paradox), a result from a field called renewal theory. Rather, the PDF of $T^*$ is given by\n",
    "\n",
    "$$\n",
    "f_{T^*}(t)=\\frac{tf_T(t)}{E[T]}\n",
    "$$\n",
    "\n",
    "so the PDF of $T_1$ ends up bing\n",
    "\n",
    "$$\n",
    "f_{T_1}(t)=\\frac{1-F_T(t)}{E[T]}\n",
    "$$"
   ]
  },
  {
   "cell_type": "markdown",
   "metadata": {},
   "source": [
    "## Synapse mean\n",
    "\n",
    "\\begin{align*}\n",
    "E[X] &= \\frac{1}{\\tau}E\\left[e^{-T_1/\\tau}\\right]\\sum_{i=0}^{\\infty}E\\left[e^{-T/\\tau}\\right]^i \\\\\n",
    " &= \\frac{1}{\\tau}E\\left[e^{-T_1/\\tau}\\right]\n",
    "    \\sum_{i=0}^{\\infty}\\left(\\frac{\\lambda\\tau}{1+\\lambda\\tau}\\right)^{ki} \\\\\n",
    " &= \\frac{1}{\\tau}E\\left[e^{-T_1/\\tau}\\right]\n",
    "    \\frac{1}{1-\\left(\\frac{\\lambda\\tau}{1+\\lambda\\tau}\\right)^{k}} \\\\\n",
    " &= \\frac{1}{\\tau}E\\left[e^{-T_1/\\tau}\\right]\n",
    "    \\frac{(1+\\lambda\\tau)^k}{(1+\\lambda\\tau)^k-(\\lambda\\tau)^k} \\\\\n",
    "\\end{align*}\n",
    "\n",
    "This is as far as I can go until getting a handle on $E\\left[e^{-T_1/\\tau}\\right]$..."
   ]
  },
  {
   "cell_type": "markdown",
   "metadata": {},
   "source": [
    "## Synapse variance\n",
    "\n",
    "## Synapse SNR"
   ]
  },
  {
   "cell_type": "code",
   "execution_count": 27,
   "metadata": {
    "collapsed": true
   },
   "outputs": [],
   "source": [
    "def th_mean(lam, k, tau):\n",
    "    pass\n",
    "\n",
    "\n",
    "def th_mean_no_bias(lam, k, tau):\n",
    "    x = lam*tau\n",
    "    a = lam/(k-1)\n",
    "    b = 1+x\n",
    "    c_num = (1+x)**(k-1)-x**(k-1)\n",
    "    c_den = (1+x)**k-x**k\n",
    "    c = c_num/c_den\n",
    "    ret = a*b*c\n",
    "    return ret\n",
    "\n",
    "\n",
    "def th_mean_memoryless(lam, k, tau):\n",
    "    x = lam*tau\n",
    "    ret = x**k/((1+x)**k-x**k)/tau\n",
    "    return ret\n",
    "\n",
    "\n",
    "def approx_mean(lam, k):\n",
    "    return lam/k"
   ]
  },
  {
   "cell_type": "code",
   "execution_count": 28,
   "metadata": {
    "collapsed": false
   },
   "outputs": [
    {
     "data": {
      "image/png": "[encoded data removed]",
      "text/plain": [
       "<matplotlib.figure.Figure at 0x7f408d125f90>"
      ]
     },
     "metadata": {},
     "output_type": "display_data"
    }
   ],
   "source": [
    "def check_theory(lams, k, tau=.01, n_tau_ss=10, n_tau=30, n_samples=100, n_trials=300):\n",
    "    min_nspikes = 100\n",
    "    nfreqs = len(lams) # number of frequencies to test\n",
    "    mean_obs = np.zeros(nfreqs)\n",
    "\n",
    "    for lam_idx, lam in enumerate(lams):\n",
    "        nspikes = max(2*int(n_tau*tau*lam/float(k)), min_nspikes)\n",
    "        isi = rng.gamma(k, 1./lam, (n_trials, nspikes))\n",
    "        spike_times = np.cumsum(isi, axis=1)\n",
    "        obs_trial_mean = np.zeros(n_trials)\n",
    "        for trial_idx in xrange(n_trials):\n",
    "            t_samples = rng.uniform(0., spike_times[trial_idx][-1]-n_tau_ss*tau, n_samples)\n",
    "            x = np.zeros(n_samples)\n",
    "            for sample_idx, t in enumerate(t_samples):\n",
    "                tp = spike_times[trial_idx]-t\n",
    "                tp = tp[tp>=0]\n",
    "                x[sample_idx] = np.sum(np.exp(-tp[tp>=0]/tau))/tau\n",
    "            obs_trial_mean[trial_idx] = np.mean(x)        \n",
    "        mean_obs[lam_idx] = np.mean(obs_trial_mean)\n",
    "\n",
    "\n",
    "#     mean_th = th_mean(lams, k, tau)\n",
    "    mean_th_memoryless = th_mean_memoryless(lams, k, tau)\n",
    "    mean_th_no_bias = th_mean_no_bias(lams, k, tau)\n",
    "    mean_approx = approx_mean(lams, k)\n",
    "    \n",
    "    fig, axs = plt.subplots(ncols=3, figsize=(12,4), sharex=True)\n",
    "    axs[0].plot(lams*tau, mean_obs*tau, 'b', label='simulation')\n",
    "#     axs[0].plot(lams*tau, mean_th*tau, 'r', label='theory')\n",
    "    axs[0].plot(lams*tau, mean_th_memoryless*tau, 'g', label='memoryless theory')\n",
    "    axs[0].plot(lams*tau, mean_th_no_bias*tau, 'm', label='no bias theory')\n",
    "    axs[0].plot(lams*tau, mean_approx*tau, 'k:', label='approx')\n",
    "    axs[0].set_ylabel(r'$E[x]\\tau$', fontsize=20)\n",
    "    axs[0].legend(loc='upper left', bbox_to_anchor=(1,1), fontsize=16)\n",
    "    axs[1].set_xlabel(r'$\\lambda\\tau$', fontsize=20)\n",
    "\n",
    "    \n",
    "lams = np.linspace(1, 1000, 30)\n",
    "check_theory(lams, k=10, n_trials=1000, n_samples=1)"
   ]
  },
  {
   "cell_type": "markdown",
   "metadata": {},
   "source": [
    "# Assuming unbiased first interval\n",
    "\n",
    "Accounting for the bias in $T^*$ produces a distribution that's hard to analyze, here, we assume that $T^*$ follows the same distribution as $T$."
   ]
  },
  {
   "cell_type": "markdown",
   "metadata": {},
   "source": [
    "## Synapse mean\n",
    "\n",
    "\\begin{align*}\n",
    "E[X] &= \\frac{1}{\\tau}E\\left[e^{-T_1/\\tau}\\right]\\sum_{i=0}^{\\infty}E\\left[e^{-T/\\tau}\\right]^i \\\\\n",
    " &= \\frac{1}{\\tau}E\\left[\\frac{\\tau}{T}\\left(1-e^{-T/\\tau}\\right)\\right]\n",
    "    \\sum_{i=0}^{\\infty}\\left(\\frac{\\lambda\\tau}{1+\\lambda\\tau}\\right)^{ki} \\\\\n",
    " &= \\frac{\\lambda}{k-1}\\left(\\frac{(1+\\lambda\\tau)^{k-1}-(\\lambda\\tau)^{k-1}}{(1+\\lambda\\tau)^{k-1}}\\right)\n",
    "    \\frac{1}{1-\\left(\\frac{\\lambda\\tau}{1+\\lambda\\tau}\\right)^{k}} \\\\\n",
    " &= \\frac{\\lambda}{k-1}\\left(\\frac{(1+\\lambda\\tau)^{k-1}-(\\lambda\\tau)^{k-1}}{(1+\\lambda\\tau)^{k-1}}\\right)\n",
    "    \\frac{\\left(1+\\lambda\\tau\\right)^k}{\\left(1+\\lambda\\tau\\right)^k-\\left(\\lambda\\tau\\right)^k} \\\\\n",
    " &= \\frac{\\lambda(1+\\lambda\\tau)}{k-1}\\frac{(1+\\lambda\\tau)^{k-1}-(\\lambda\\tau)^{k-1}}\n",
    "    {(1+\\lambda\\tau)^k-(\\lambda\\tau)^k} \\\\\n",
    "\\end{align*}"
   ]
  },
  {
   "cell_type": "markdown",
   "metadata": {},
   "source": [
    "##Synapse variance\n",
    "\n",
    "\\begin{align*}\n",
    "E[X^2] &= \\frac{1}{\\tau^2}E\\left[e^{-2T_1/\\tau}\\right]\\sum_{i=0}^{\\infty}E\\left[e^{-2T/\\tau}\\right]^i\n",
    "    \\left(1 + 2\\sum_{j=1}^{\\infty}E\\left[e^{-T/\\tau}\\right]^j\\right) \\\\\n",
    "\\end{align*}\n",
    "\n",
    "##Synapse SNR\n",
    "\n",
    "---"
   ]
  },
  {
   "cell_type": "markdown",
   "metadata": {},
   "source": [
    "# Assuming process is memoryless\n",
    "\n",
    "It's hard to account for the nonmemorylessness of the gamma renewal process. Here we compute the synaptic statistics assuming it is memoryless. This will give us approximations to the actual statistics.\n",
    "\n",
    "## Synapse mean"
   ]
  },
  {
   "cell_type": "markdown",
   "metadata": {},
   "source": [
    "\\begin{align*}\n",
    "E[X] &= \\frac{1}{\\tau}\\sum_{i=1}^\\infty E\\left[e^{-T/\\tau}\\right]^i \\\\\n",
    " &= \\frac{1}{\\tau}\\sum_{i=1}^\\infty \\left(\\frac{\\lambda\\tau}{1+\\lambda\\tau}\\right)^{ki} \\\\\n",
    " &= \\frac{1}{\\tau}\\frac{\\left(\\frac{\\lambda\\tau}{1+\\lambda\\tau}\\right)^k}\n",
    "    {1-\\left(\\frac{\\lambda\\tau}{1+\\lambda\\tau}\\right)^k} \\\\\n",
    " &= \\frac{1}{\\tau}\\frac{(\\lambda\\tau)^k}{(1+\\lambda\\tau)^k-(\\lambda\\tau)^k} \\\\\n",
    "\\end{align*}"
   ]
  },
  {
   "cell_type": "markdown",
   "metadata": {},
   "source": [
    "## Syanpse variance"
   ]
  },
  {
   "cell_type": "markdown",
   "metadata": {},
   "source": [
    "\\begin{align*}\n",
    "E[X^2] &= \\frac{1}{\\tau^2}\\sum_{i=1}^{\\infty}E\\left[e^{-2T/\\tau}\\right]^i\\left(1 +\n",
    "    2\\sum_{j=1}^{\\infty}E\\left[e^{-T/\\tau}\\right]^{j}\\right) \\\\\n",
    " &=  \\frac{1}{\\tau^2}\\frac{(\\lambda\\tau)^k}{(2+\\lambda\\tau)^k-(\\lambda\\tau)^k}\\left(1 +\n",
    "    2\\frac{(\\lambda\\tau)^k}{(1+\\lambda\\tau)^k-(\\lambda\\tau)^k}\\right) \\\\\n",
    " &= \\frac{1}{\\tau^2}\\frac{(\\lambda\\tau)^k}{(2+\\lambda\\tau)^k-(\\lambda\\tau)^k}\n",
    "    \\frac{(1+\\lambda\\tau)^k+(\\lambda\\tau)^k}{(1+\\lambda\\tau)^k-(\\lambda\\tau)^k} \\\\\n",
    "\\end{align*}\n",
    "\n",
    "\\begin{align*}\n",
    "\\Var(X) &= E[X^2] - E[X]^2 \\\\\n",
    " &= \\frac{1}{\\tau^2}\\frac{(\\lambda\\tau)^k}{(2+\\lambda\\tau)^k-(\\lambda\\tau)^k}\n",
    "    \\frac{(1+\\lambda\\tau)^k+(\\lambda\\tau)^k}{(1+\\lambda\\tau)^k-(\\lambda\\tau)^k} -\n",
    "    \\frac{1}{\\tau^2}\\left(\\frac{(\\lambda\\tau)^k}{(1+\\lambda\\tau)^k-(\\lambda\\tau)^k}\\right)^2 \\\\\n",
    " &= \\frac{1}{\\tau^2}\\frac{(\\lambda\\tau)^k}{(1+\\lambda\\tau)^k-(\\lambda\\tau)^k}\n",
    "    \\left(\\frac{(1+\\lambda\\tau)^k+(\\lambda\\tau)^k}{(2+\\lambda\\tau)^k-(\\lambda\\tau)^k} -\n",
    "    \\frac{(\\lambda\\tau)^k}{(1+\\lambda\\tau)^k-(\\lambda\\tau)^k}\\right) \\\\\n",
    " &= \\frac{1}{\\tau^2}\\frac{(\\lambda\\tau)^k}{(1+\\lambda\\tau)^k-(\\lambda\\tau)^k}\n",
    "    \\left(\\frac{\\left((1+\\lambda\\tau)^k+(\\lambda\\tau)^k\\right)\\left((1+\\lambda\\tau)^k-(\\lambda\\tau)^k\\right) -\n",
    "    (\\lambda\\tau)^k\\left((2+\\lambda\\tau)^k-(\\lambda\\tau)^k\\right)}\n",
    "    {\\left((2+\\lambda\\tau)^k-(\\lambda\\tau)^k\\right)\\left((1+\\lambda\\tau)^k-(\\lambda\\tau)^k\\right)}\\right) \\\\\n",
    " &= \\frac{1}{\\tau^2}\\frac{(\\lambda\\tau)^k}{\\left((1+\\lambda\\tau)^k-(\\lambda\\tau)^k\\right)^2}\n",
    "    \\left(\\frac{(1+\\lambda\\tau)^{2k}-(\\lambda\\tau)^{2k} -\n",
    "    (\\lambda\\tau)^k(2+\\lambda\\tau)^k+(\\lambda\\tau)^{2k}}\n",
    "    {(2+\\lambda\\tau)^k-(\\lambda\\tau)^k}\\right) \\\\\n",
    " &= \\frac{1}{\\tau^2}\\frac{(\\lambda\\tau)^k}{\\left((1+\\lambda\\tau)^k-(\\lambda\\tau)^k\\right)^2}\n",
    "    \\left(\\frac{(1+\\lambda\\tau)^{2k} -\n",
    "    (\\lambda\\tau)^k(2+\\lambda\\tau)^k}\n",
    "    {(2+\\lambda\\tau)^k-(\\lambda\\tau)^k}\\right) \\\\\n",
    "\\end{align*}"
   ]
  },
  {
   "cell_type": "markdown",
   "metadata": {},
   "source": [
    "## Synapse SNR\n",
    "\n",
    "\\begin{align*}\n",
    "SNR &= \\frac{E[X]}{\\sqrt{\\Var(X)}} \\\\\n",
    " &= \\frac{\\frac{1}{\\tau}\\frac{(\\lambda\\tau)^k}{(1+\\lambda\\tau)^k-(\\lambda\\tau)^k}}\n",
    "    {\\sqrt{\\frac{1}{\\tau^2}\\frac{(\\lambda\\tau)^k}{\\left((1+\\lambda\\tau)^k-(\\lambda\\tau)^k\\right)^2}\n",
    "    \\left(\\frac{(1+\\lambda\\tau)^{2k} -\n",
    "    (\\lambda\\tau)^k(2+\\lambda\\tau)^k}\n",
    "    {(2+\\lambda\\tau)^k-(\\lambda\\tau)^k}\\right)}} \\\\\n",
    " &= \\frac{\\sqrt{(\\lambda\\tau)^k}}\n",
    "    {\\sqrt{\n",
    "    \\frac{(1+\\lambda\\tau)^{2k} -\n",
    "    (\\lambda\\tau)^k(2+\\lambda\\tau)^k}\n",
    "    {(2+\\lambda\\tau)^k-(\\lambda\\tau)^k}}} \\\\\n",
    " &= \\sqrt{\\frac{-(\\lambda\\tau)^{2k}+(\\lambda\\tau)^k(2+\\lambda\\tau)^k}\n",
    "    {(1+\\lambda\\tau)^{2k} -\n",
    "    (\\lambda\\tau)^k(2+\\lambda\\tau)^k}} \\\\\n",
    "\\end{align*}"
   ]
  },
  {
   "cell_type": "markdown",
   "metadata": {},
   "source": [
    "---\n",
    "# Appendix"
   ]
  },
  {
   "cell_type": "markdown",
   "metadata": {},
   "source": [
    "## Supplementary proofs"
   ]
  },
  {
   "cell_type": "markdown",
   "metadata": {},
   "source": [
    "For $E\\left[e^{-2T/\\tau}\\right]$ and $E\\left[e^{-T/\\tau}\\right]$, or rather $E\\left[e^{-cT/\\tau}\\right]$.\n",
    "\n",
    "\\begin{align*}\n",
    "E[e^{-cT/\\tau}] &= \\int_{-\\infty}^{\\infty}e^{-ct/\\tau}f_T(t)dt \\\\\n",
    " &= \\int_{0}^{\\infty}e^{-ct/\\tau}\\frac{\\lambda^k}{\\Gamma(k)}t^{k-1}e^{-\\lambda t}dt \\\\\n",
    " &= \\frac{\\lambda^k}{\\Gamma(k)}\\int_{0}^{\\infty}t^{k-1}e^{-ct/\\tau}e^{-\\lambda t}dt \\\\\n",
    " &= \\frac{\\lambda^k}{\\Gamma(k)}\\int_{0}^{\\infty}t^{k-1}e^{-t(c/\\tau+\\lambda)}dt \\\\\n",
    " &= \\frac{\\lambda^k}{\\Gamma(k)}\\int_{0}^{\\infty}\\left(\\frac{\\tau}{c+\\lambda\\tau}u\\right)^{k-1}\n",
    "     e^{-u}\\frac{\\tau}{c+\\lambda\\tau}du & u = t(c/\\tau+\\lambda) \\\\\n",
    " &= \\frac{\\lambda^k}{\\Gamma(k)}\\int_{0}^{\\infty}\\left(\\frac{\\tau}{c+\\lambda\\tau}\\right)^ku^{k-1}e^{-u}du \\\\\n",
    " &= \\frac{\\lambda^k}{\\Gamma(k)}\\left(\\frac{\\tau}{c+\\lambda\\tau}\\right)^k\\int_{0}^{\\infty}u^{k-1}e^{-u}du \\\\\n",
    " &= \\frac{\\lambda^k}{\\Gamma(k)}\\left(\\frac{\\tau}{c+\\lambda\\tau}\\right)^k\\Gamma(k) \\\\\n",
    " &= \\left(\\frac{\\lambda\\tau}{c+\\lambda\\tau}\\right)^k \\\\\n",
    "\\end{align*}\n",
    "\n",
    "---"
   ]
  },
  {
   "cell_type": "markdown",
   "metadata": {},
   "source": [
    "Assuming $T^*\\sim T$, so that $T_1=UT$ where $U\\sim\\mathrm{Uniform}(0,1)$,\n",
    "\n",
    "\\begin{align*}\n",
    "E\\left[e^{-cT_1/\\tau}\\right] &= E\\left[e^{-cUT/\\tau}\\right] \\\\\n",
    " &= E\\left[E\\left[e^{-cUT/\\tau}|T\\right]\\right] \\\\\n",
    " &= E\\left[\\int_0^1e^{-cuT/\\tau}du\\right] \\\\\n",
    " &= E\\left[-\\frac{\\tau}{cT}\\left[e^{-cuT/\\tau}\\right]_0^1\\right] \\\\\n",
    " &= E\\left[\\frac{\\tau}{cT}\\left(1-e^{-cT/\\tau}\\right)\\right] \\\\\n",
    "\\end{align*}\n",
    "\n",
    "---"
   ]
  },
  {
   "cell_type": "markdown",
   "metadata": {},
   "source": [
    "\\begin{align*}\n",
    "E\\left[\\frac{1}{T}\\left(1-e^{-T/\\tau}\\right)\\right] &= \n",
    "    \\int_{-\\infty}^{\\infty}\\frac{1}{t}\\left(1-e^{-t/\\tau}\\right)f_T(t)dt \\\\\n",
    " &= \\int_{-\\infty}^{\\infty}\\frac{1}{t}\\left(1-e^{-t/\\tau}\\right)\n",
    "    \\frac{\\lambda^k}{\\Gamma(k)}t^{k-1}e^{-\\lambda t}dt \\\\\n",
    " &= \\frac{\\lambda^k}{\\Gamma(k)}\\int_{-\\infty}^{\\infty}\\frac{1}{t}\\left(1-e^{-t/\\tau}\\right)\n",
    "    t^{k-1}e^{-\\lambda t}dt \\\\\n",
    " &\\ldots & \\mathrm{Mathematica} \\\\\n",
    " &= \\frac{\\lambda^k}{\\Gamma(k)}\\Gamma(k-1)\n",
    "    \\left(\\left(\\frac{1}{\\lambda}\\right)^{k-1}-\\left(\\frac{\\tau}{1+\\lambda\\tau}\\right)^{k-1}\\right) \\\\\n",
    " &= \\frac{\\lambda^k}{k-1}\n",
    "    \\left(\\left(\\frac{1}{\\lambda}\\right)^{k-1}-\\left(\\frac{\\tau}{1+\\lambda\\tau}\\right)^{k-1}\\right) \\\\\n",
    " &= \\frac{\\lambda}{k-1}\\left(1-\\left(\\frac{\\lambda\\tau}{1+\\lambda\\tau}\\right)^{k-1}\\right) \\\\\n",
    " &= \\frac{\\lambda}{k-1}\\left(\\frac{(1+\\lambda\\tau)^{k-1}-(\\lambda\\tau)^{k-1}}{(1+\\lambda\\tau)^{k-1}}\\right) \\\\\n",
    "\\end{align*}\n",
    "\n",
    "---"
   ]
  },
  {
   "cell_type": "markdown",
   "metadata": {},
   "source": [
    "## Verification of expected values\n",
    "\n",
    "Verify that\n",
    "\n",
    "$$\n",
    "\\frac{1}{\\tau}E[e^{T_1/\\tau}]=\n",
    "    E\\left[\\frac{1}{T}\\left(1-e^{-T/\\tau}\\right)\\right]=\n",
    "    \\frac{\\lambda}{k-1}\\left(\\frac{(1+\\lambda\\tau)^{k-1}-(\\lambda\\tau)^{k-1}}{(1+\\lambda\\tau)^{k-1}}\\right) \\\\\n",
    "$$"
   ]
  },
  {
   "cell_type": "code",
   "execution_count": 30,
   "metadata": {
    "collapsed": false
   },
   "outputs": [
    {
     "name": "stdout",
     "output_type": "stream",
     "text": [
      "relative (to mean_th) differences\n",
      "mean_th - mean_obs_T1    = +0.005076\n",
      "mean_th - mean_obs_T     = +0.003388\n",
      "mean_obs_T1 - mean_obs_T = -0.001688\n"
     ]
    },
    {
     "data": {
      "image/png": "[encoded data removed]",
      "text/plain": [
       "<matplotlib.figure.Figure at 0x7f1339691710>"
      ]
     },
     "metadata": {},
     "output_type": "display_data"
    }
   ],
   "source": [
    "def check_E_first_decay(lam, k, tau=0.01, n_trials=1000):\n",
    "    t = rng.gamma(k, 1./lam, n_trials)\n",
    "    x_T = (1.-np.exp(-t/tau)) / t\n",
    "    mean_obs_T1 = np.mean(x_T)\n",
    "    \n",
    "    t = rng.gamma(k, 1./lam, n_trials)\n",
    "    tfrac = rng.uniform(0, 1, n_trials)\n",
    "    t1 = t - t*tfrac\n",
    "    x_T1 = np.exp(-t1/tau)/tau\n",
    "    mean_obs_T = np.mean(x_T1)\n",
    "    \n",
    "    a = (1+lam*tau)**(k-1.)\n",
    "    mean_th = lam/(k-1.) * ((a-(lam*tau)**(k-1.))/a)\n",
    "    \n",
    "    plt.figure(figsize=(8,4))\n",
    "    plt.subplot(121)\n",
    "    plt.hist(x_T1, bins=30, histtype='stepfilled', normed=True)\n",
    "    plt.axvline(mean_th, c='r', lw=2)\n",
    "    plt.axvline(mean_obs_T1, c='g', ls='--', lw=2)\n",
    "    plt.subplot(122)\n",
    "    plt.hist(x_T, bins=30, histtype='stepfilled', normed=True)\n",
    "    plt.axvline(mean_th, c='r', lw=2)\n",
    "    plt.axvline(mean_obs_T, c='g', ls='--', lw=2)\n",
    "    \n",
    "    print 'relative (to mean_th) differences'\n",
    "    print 'mean_th - mean_obs_T1    = %+f' % ((mean_th - mean_obs_T1) / mean_th)\n",
    "    print 'mean_th - mean_obs_T     = %+f' % ((mean_th - mean_obs_T) / mean_th)\n",
    "    print 'mean_obs_T1 - mean_obs_T = %+f' % ((mean_obs_T1 - mean_obs_T) / mean_th)\n",
    "\n",
    "check_E_first_decay(lam=100., k=5., n_trials=10000)"
   ]
  },
  {
   "cell_type": "code",
   "execution_count": 26,
   "metadata": {
    "collapsed": false
   },
   "outputs": [
    {
     "data": {
      "image/png": "[encoded data removed]",
      "text/plain": [
       "<matplotlib.figure.Figure at 0x7f406ac93f90>"
      ]
     },
     "metadata": {},
     "output_type": "display_data"
    }
   ],
   "source": [
    "def check_T1(lam, k, n_trials=5000, n_intervals=10000):\n",
    "    # generate spike times\n",
    "    # sample within time to pick T1\n",
    "    isi = rng.gamma(k, 1./lam, n_intervals)\n",
    "    spike_times = np.cumsum(isi)\n",
    "    t_vals = rng.uniform(0, spike_times[-1], n_trials)\n",
    "    t1 = np.zeros(n_trials)\n",
    "    for idx, t in enumerate(t_vals):\n",
    "        x = spike_times-t\n",
    "        t1[idx] = x[x>=0][0]\n",
    "    \n",
    "    # sample gamma to generate an interval\n",
    "    # sample from uniform within that gama to generate t\n",
    "    t = rng.gamma(k, 1./lam, n_trials)\n",
    "    tfrac = rng.uniform(0, 1, n_trials)\n",
    "    t1_unbiased = t*tfrac\n",
    "    \n",
    "    t1_biased = None\n",
    "    \n",
    "    fig, axs = plt.subplots(ncols=3, figsize=(12,4), sharex=True, sharey=True)\n",
    "    \n",
    "    axs[0].hist(t1, bins=100, histtype='stepfilled', normed=True)\n",
    "    axs[1].hist(t1_unbiased, bins=100, histtype='stepfilled', normed=True)\n",
    "    \n",
    "    rv = gamma(k, scale=1./lam)\n",
    "    xlims = axs[0].get_xlim()\n",
    "    T = np.linspace(xlims[0], xlims[1], 100)\n",
    "    T_pdf = rv.pdf(T)\n",
    "    Tb_pdf = T*T_pdf/rv.mean()\n",
    "    T1_pdf = (1-rv.cdf(T))/rv.mean()\n",
    "    for ax in axs:\n",
    "        ax.plot(T, T_pdf, 'r', lw=2, label=r'$f_T(t)$')\n",
    "        ax.plot(T, Tb_pdf, 'k', lw=2, label=r'$f_{T^*}(t)$')\n",
    "        ax.plot(T, T1_pdf, 'c', lw=2, label=r'$f_{T_1}(t)$')\n",
    "    \n",
    "    axs[2].legend(loc='upper left', bbox_to_anchor=(1,1), fontsize=20)\n",
    "    axs[1].set_xlabel(r'$t$', fontsize=20)\n",
    "    axs[0].set_title('reference samples', fontsize=14)\n",
    "    axs[1].set_title('size-unbiased samples', fontsize=14)\n",
    "    axs[2].set_title('size-biased samples', fontsize=14)\n",
    "    \n",
    "    \n",
    "check_T1(100, 10)"
   ]
  }
 ],
 "metadata": {
  "kernelspec": {
   "display_name": "Python 2",
   "language": "python",
   "name": "python2"
  },
  "language_info": {
   "codemirror_mode": {
    "name": "ipython",
    "version": 2
   },
   "file_extension": ".py",
   "mimetype": "text/x-python",
   "name": "python",
   "nbconvert_exporter": "python",
   "pygments_lexer": "ipython2",
   "version": "2.7.9"
  }
 },
 "nbformat": 4,
 "nbformat_minor": 0
}
