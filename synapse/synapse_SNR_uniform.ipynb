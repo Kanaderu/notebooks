{
 "metadata": {
  "name": "",
  "signature": "sha256:3a080ba7395984fb9f38b8d812d3f5ef03d689abbaad36a1dbf788cf2e317e24"
 },
 "nbformat": 3,
 "nbformat_minor": 0,
 "worksheets": [
  {
   "cells": [
    {
     "cell_type": "heading",
     "level": 1,
     "metadata": {},
     "source": [
      "Notebook description"
     ]
    },
    {
     "cell_type": "markdown",
     "metadata": {},
     "source": [
      "This notebook looks at the asymptotic SNR of a synapse with uniform input spike rate $\\lambda$ "
     ]
    },
    {
     "cell_type": "markdown",
     "metadata": {},
     "source": [
      "$$SNR = \\mu / \\sigma$$\n",
      "\n",
      "where $\\mu$ is the mean of the signal and $\\sigma$ is the standard devation of the signal.\n",
      "\n",
      "The synapse is a first order lowpass filter described by\n",
      "$$\\tau\\dot{x}=-x+\\sum_i\\delta(t-t_i)$$\n",
      "\n",
      "where $x$ is the synapse state and $u$ is the spike input. Each spike delivers an impulse input to the synapse.\n",
      "\n",
      "We would like to obtain expressions for $\\mu=E[X]$ and $\\sigma = \\sqrt{Var(X)}$ where $X$ is the random variable describing the state of the synapse. \n",
      "\n",
      "The value of the synapse is \n",
      "\n",
      "$$x=\\sum_{i=0}^{\\infty} \\frac{1}{\\tau}e^{-t_i/\\tau}$$\n",
      "\n",
      "where $N$ is the number of spikes received and $t_i$ is the time since arrival of the $i$th spike. In this notebook, $t_i=\\frac{1}{\\lambda}$"
     ]
    },
    {
     "cell_type": "markdown",
     "metadata": {},
     "source": [
      "\\begin{align}\n",
      "E[x] &= E\\left[\\sum_{i=0}^{\\infty} \\frac{1}{\\tau}e^{-(t_i+t_0)/\\tau}\\right] \\\\\n",
      " &= \\frac{1}{\\tau}\\sum_{i=0}^{\\infty}e^{-t_i/\\tau} E\\left[e^{-t_0/\\tau}\\right] \\\\\n",
      " &= \\frac{1}{\\tau}\\sum_{i=0}^{\\infty}e^{-t_i/\\tau} \\int_0^{1/\\lambda}\\frac{1}{1/\\lambda}e^{-t_0/\\tau}dt_0 \\\\\n",
      " &= \\lambda\\frac{1}{\\tau}\\sum_{i=0}^{\\infty}e^{-t_i/\\tau} \\left(-\\tau\\left[e^{-t_0/\\tau}\\right]_0^{1/\\lambda}\\right) \\\\\n",
      " &= \\lambda\\sum_{i=0}^{\\infty}e^{-t_i/\\tau} \\left(1-e^{-1/\\lambda\\tau}\\right) \\\\\n",
      " &= \\lambda\\left(1-e^{-1/\\lambda\\tau}\\right)\\sum_{i=0}^{\\infty}\\left(e^{-1/\\lambda\\tau}\\right)^i  \\\\\n",
      " &= \\lambda\\left(1-e^{-1/\\lambda\\tau}\\right)\\frac{1}{1-e^{-1/\\lambda\\tau}}  \\\\\n",
      " &= \\lambda\n",
      "\\end{align}"
     ]
    },
    {
     "cell_type": "markdown",
     "metadata": {},
     "source": [
      "\\begin{align}\n",
      "E[x^2] &= E\\left[\\left(\\sum_{i=0}^{\\infty} \\frac{1}{\\tau}e^{-(t_i+t_0)/\\tau}\\right)^2\\right] \\\\\n",
      " &= E\\left[\\left(\\frac{1}{\\tau}e^{-t_0/\\tau}\\sum_{i=0}^{\\infty} e^{-t_i/\\tau}\\right)^2\\right] \\\\\n",
      " &= E\\left[\\left(\\frac{1}{\\tau}e^{-t_0/\\tau}\\right)^2\\left(\\sum_{i=0}^{\\infty} e^{-t_i/\\tau}\\right)^2\\right] \\\\\n",
      " &= \\frac{1}{\\tau^2}E\\left[\\left(e^{-t_0/\\tau}\\right)^2\\right]\\left(\\sum_{i=0}^{\\infty} e^{-t_i/\\tau}\\right)^2 \\\\\n",
      " &= \\frac{1}{\\tau^2}E\\left[e^{-2t_0/\\tau}\\right]\\frac{1}{\\left(1-e^{-1/\\lambda\\tau}\\right)^2} \\\\\n",
      " &= \\frac{1}{\\tau^2}\\frac{1}{\\left(1-e^{-1/\\lambda\\tau}\\right)^2}\n",
      "    \\lambda\\int_0^{1/\\lambda}e^{-2t_0/\\tau}dt_0 \\\\\n",
      " &= \\lambda\\frac{1}{\\tau^2}\\frac{1}{\\left(1-e^{-1/\\lambda\\tau}\\right)^2}\n",
      "    \\left(-\\frac{\\tau}{2}\\left[e^{-2t_0/\\tau}\\right]_0^{1/\\lambda}\\right) \\\\\n",
      " &= \\lambda\\frac{1}{2\\tau}\\frac{1}{\\left(1-e^{-1/\\lambda\\tau}\\right)^2}\\left(1-e^{-2/\\lambda\\tau}\\right) \\\\\n",
      " &= \\lambda\\frac{1}{2\\tau}\\frac{1}{\\left(1-e^{-1/\\lambda\\tau}\\right)^2}\n",
      "    \\left(1-e^{-1/\\lambda\\tau}\\right)\\left(1+e^{-1/\\lambda\\tau}\\right) \\\\\n",
      " &= \\lambda\\frac{1}{2\\tau}\\frac{1+e^{-1/\\lambda\\tau}}{1-e^{-1/\\lambda\\tau}} \\\\\n",
      "\\end{align}"
     ]
    },
    {
     "cell_type": "markdown",
     "metadata": {},
     "source": [
      "\\begin{align}\n",
      "Var(x) &= E[x^2]-E[x]^2 \\\\\n",
      " &=  \\lambda\\frac{1}{2\\tau}\\frac{1+e^{-1/\\lambda\\tau}}{1-e^{-1/\\lambda\\tau}} - \\lambda^2\n",
      "\\end{align}"
     ]
    }
   ],
   "metadata": {}
  }
 ]
}