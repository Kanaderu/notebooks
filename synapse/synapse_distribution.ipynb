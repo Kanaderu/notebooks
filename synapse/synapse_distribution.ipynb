{
 "metadata": {
  "name": "",
  "signature": "sha256:0775e8ed95dc82a07f1ab3f881b7dc833d2a9b82f33fc6d05da93f0e80dd77df"
 },
 "nbformat": 3,
 "nbformat_minor": 0,
 "worksheets": [
  {
   "cells": [
    {
     "cell_type": "heading",
     "level": 1,
     "metadata": {},
     "source": [
      "Notebook description"
     ]
    },
    {
     "cell_type": "markdown",
     "metadata": {},
     "source": [
      "Here are some questions this notebook seeks to answer:\n",
      " - What is the steady state distribution of the synapse under Poission input spiking statistics?\n",
      "  - Is there a difference if we randomly generate spike times relative to the current time for each experiment versus just binning the state values of a synapse over time? \n",
      " - What is the SNR for a synapse receiving both positive and negative spikes? Does it even mean anything?\n",
      "\n",
      "The problem with the SNR measure is that if a synapse is bombarded with positive spikes and negative spikes at equal rates, the $E[x]=0$ and so $SNR(x)=0$.\n"
     ]
    },
    {
     "cell_type": "heading",
     "level": 1,
     "metadata": {},
     "source": [
      "Simulation models"
     ]
    },
    {
     "cell_type": "code",
     "collapsed": false,
     "input": [
      "%pylab inline"
     ],
     "language": "python",
     "metadata": {},
     "outputs": [
      {
       "output_type": "stream",
       "stream": "stdout",
       "text": [
        "Populating the interactive namespace from numpy and matplotlib\n"
       ]
      }
     ],
     "prompt_number": 1
    },
    {
     "cell_type": "code",
     "collapsed": false,
     "input": [
      "# define the models and functions used in simulation\n",
      "def synapse_state(spike_times, tau=1., spike_weights=None):\n",
      "    \"\"\"computes the current state due to spike times previous to the current time\"\"\"\n",
      "    x = np.exp(-spike_times/tau)/tau\n",
      "    state = sum(x)\n",
      "    return state"
     ],
     "language": "python",
     "metadata": {},
     "outputs": [],
     "prompt_number": 2
    },
    {
     "cell_type": "heading",
     "level": 1,
     "metadata": {},
     "source": [
      "Synapse distribution measurement"
     ]
    },
    {
     "cell_type": "markdown",
     "metadata": {},
     "source": [
      "First we seek to answer it makes a difference how we measure the synapse state to build the steady-state distribution."
     ]
    },
    {
     "cell_type": "code",
     "collapsed": false,
     "input": [
      "# uniform spiking input\n",
      "nexp = 30 # number of experiments\n",
      "nspikes = 1000 # number of spikes in each experiment\n",
      "nfreqs = 100 # number of frequencies to test\n",
      "\n",
      "freqs = np.linspace(1, 1000, nfreqs) # firing rate\n",
      "tau = .01\n",
      "\n",
      "uniform_mean = np.zeros(nfreqs)\n",
      "uniform_var = np.zeros(nfreqs)\n",
      "uniform_snr = np.zeros(nfreqs)\n",
      "exp_state = np.zeros(nexp)\n",
      "for freq_idx, freq in enumerate(freqs):\n",
      "    shifts = np.arange(nexp, dtype=float)/(nexp*freq)\n",
      "    st = np.arange(nspikes)/freq\n",
      "    for i in xrange(nexp):\n",
      "        exp_state[i] = synapse_state(st+shifts[i], tau=tau)\n",
      "    uniform_mean[freq_idx] = np.mean(exp_state)\n",
      "    uniform_var[freq_idx] = np.var(exp_state)\n",
      "    uniform_snr[freq_idx] = uniform_mean[freq_idx]/np.sqrt(uniform_var[freq_idx])\n",
      "    \n",
      "subplot(311)\n",
      "plot(freqs, uniform_mean)\n",
      "subplot(312)\n",
      "plot(freqs, uniform_var)\n",
      "subplot(313)\n",
      "plot(freqs, uniform_snr)"
     ],
     "language": "python",
     "metadata": {},
     "outputs": [
      {
       "metadata": {},
       "output_type": "pyout",
       "prompt_number": 5,
       "text": [
        "[<matplotlib.lines.Line2D at 0x32035d0>]"
       ]
      },
      {
       "metadata": {},
       "output_type": "display_data",
       "png": "[encoded data removed]",
       "text": [
        "<matplotlib.figure.Figure at 0x2cc26d0>"
       ]
      }
     ],
     "prompt_number": 5
    },
    {
     "cell_type": "code",
     "collapsed": false,
     "input": [],
     "language": "python",
     "metadata": {},
     "outputs": []
    }
   ],
   "metadata": {}
  }
 ]
}