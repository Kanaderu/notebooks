{
 "metadata": {
  "name": "",
  "signature": "sha256:1376bfb344672bd8fefbdd277e8d7755e713e1d1e3f69c87da9fa537311c75a6"
 },
 "nbformat": 3,
 "nbformat_minor": 0,
 "worksheets": [
  {
   "cells": [
    {
     "cell_type": "heading",
     "level": 1,
     "metadata": {},
     "source": [
      "Notebook description"
     ]
    },
    {
     "cell_type": "markdown",
     "metadata": {},
     "source": [
      "Here are some questions this notebook seeks to answer:\n",
      " - What is the steady state distribution of the synapse under Poission input spiking statistics?\n",
      "  - Is there a difference if we randomly generate spike times relative to the current time for each experiment versus just binning the state values of a synapse over time? \n",
      " - What is the SNR for a synapse receiving both positive and negative spikes? Does it even mean anything?\n",
      "\n",
      "We know from the synapse_SNR notebook that for synapse with state $x$, synaptic time constant $\\tau$, and Poisson input rate $\\lambda$,\n",
      "\n",
      "\\begin{align}\n",
      "E[x] &= \\lambda \\\\\n",
      "Var(x) &= \\frac{\\lambda}{2\\tau} \\\\\n",
      "SNR(x) &= \\sqrt{2\\lambda\\tau} \\\\\n",
      " &= \\frac{E[x]}{\\sqrt{Var(x)}}\n",
      "\\end{align}\n",
      "\n",
      "The problem with defining the SNR in this way is that if a synapse is bombarded with equal parts \n"
     ]
    }
   ],
   "metadata": {}
  }
 ]
}