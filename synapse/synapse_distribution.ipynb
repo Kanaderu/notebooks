{
 "metadata": {
  "name": "",
  "signature": "sha256:a8665509dadcb25f3ffce6500bef4eaa2bf489bd0ea05af5469961056dec5322"
 },
 "nbformat": 3,
 "nbformat_minor": 0,
 "worksheets": [
  {
   "cells": [
    {
     "cell_type": "heading",
     "level": 1,
     "metadata": {},
     "source": [
      "Notebook description"
     ]
    },
    {
     "cell_type": "markdown",
     "metadata": {},
     "source": [
      "Here are some questions this notebook seeks to answer:\n",
      " - What is the steady state distribution of the synapse under Poission input spiking statistics?\n",
      "  - Is there a difference if we randomly generate spike times relative to the current time for each experiment versus just binning the state values of a synapse over time? \n",
      " - What is the SNR for a synapse receiving both positive and negative spikes? Does it even mean anything?\n",
      "\n",
      "We know from the synapse_SNR notebook that for synapse with state $x$, synaptic time constant $\\tau$, and Poisson input rate $\\lambda$,\n",
      "\n",
      "\\begin{align}\n",
      "E[x] &= \\lambda \\\\\n",
      "Var(x) &= \\frac{\\lambda}{2\\tau} \\\\\n",
      "SNR(x) &= \\sqrt{2\\lambda\\tau} \\\\\n",
      " &= \\frac{E[x]}{\\sqrt{Var(x)}}\n",
      "\\end{align}\n",
      "\n",
      "The problem with defining the SNR in this way is that if a synapse is bombarded with positive spikes and negative spikes at equal rates, the $E[x]=0$ and so $SNR(x)=0$.\n"
     ]
    },
    {
     "cell_type": "heading",
     "level": 1,
     "metadata": {},
     "source": [
      "Simulation models"
     ]
    },
    {
     "cell_type": "code",
     "collapsed": false,
     "input": [
      "%pylab inline"
     ],
     "language": "python",
     "metadata": {},
     "outputs": [
      {
       "output_type": "stream",
       "stream": "stdout",
       "text": [
        "Populating the interactive namespace from numpy and matplotlib\n"
       ]
      }
     ],
     "prompt_number": 3
    },
    {
     "cell_type": "code",
     "collapsed": false,
     "input": [
      "# define the models and functions used in simulation\n",
      "def synapse_state(spike_times, tau=1., spike_weights=None):\n",
      "    \"\"\"computes the current state due to spike times previous to the current time\"\"\"\n",
      "    x = np.exp(-spike_times/tau)/tau\n",
      "    state = sum(x)\n",
      "    return state"
     ],
     "language": "python",
     "metadata": {},
     "outputs": [],
     "prompt_number": 8
    },
    {
     "cell_type": "heading",
     "level": 1,
     "metadata": {},
     "source": [
      "Synapse distribution measurement"
     ]
    },
    {
     "cell_type": "markdown",
     "metadata": {},
     "source": [
      "First we seek to answer it makes a difference how we measure the synapse state to build the steady-state distribution."
     ]
    },
    {
     "cell_type": "code",
     "collapsed": false,
     "input": [
      "# time in units of tau and input rate in units of 1/tau\n",
      "n = 30 # number of experiments\n",
      "\n",
      "f = 100\n",
      "shifts = np.linspace(0,1,n)\n",
      "st = np.arange(100)\n",
      "x = np.zeros(n)\n",
      "for i in xrange(n):\n",
      "    x[i] = synapse_state(st+shifts[i])\n",
      "plot(x)\n",
      "print mean(x)"
     ],
     "language": "python",
     "metadata": {},
     "outputs": [
      {
       "output_type": "stream",
       "stream": "stdout",
       "text": [
        "1.00082818456\n"
       ]
      },
      {
       "metadata": {},
       "output_type": "display_data",
       "png": "[encoded data removed]",
       "text": [
        "<matplotlib.figure.Figure at 0x7fc97906a5d0>"
       ]
      }
     ],
     "prompt_number": 24
    },
    {
     "cell_type": "code",
     "collapsed": false,
     "input": [],
     "language": "python",
     "metadata": {},
     "outputs": []
    }
   ],
   "metadata": {}
  }
 ]
}