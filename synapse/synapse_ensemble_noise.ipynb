{
 "metadata": {
  "name": "",
  "signature": "sha256:66f067f854f8b767578214a5862f50638272bd7eb8939c04996bde32bbb6db29"
 },
 "nbformat": 3,
 "nbformat_minor": 0,
 "worksheets": [
  {
   "cells": [
    {
     "cell_type": "heading",
     "level": 1,
     "metadata": {},
     "source": [
      "Notebook description"
     ]
    },
    {
     "cell_type": "markdown",
     "metadata": {},
     "source": [
      "We know the noise properties for a synapse receiving [Poisson](http://nbviewer.ipython.org/github/fragapanagos/notebooks/blob/master/synapse/synapse_SNR_poisson.ipynb) and [uniform](http://nbviewer.ipython.org/github/fragapanagos/notebooks/blob/master/synapse/synapse_SNR_uniform.ipynb) spikes. This notebook examines the noise properties for a synapse receiving weighted spikes as in NEF when reading out the decoded values. Specifically,\n",
      " - how does the variance of the synapse depend on the input spike rate and decoding weights?\n",
      " \n",
      "[TODO]\n",
      " - pretty block diagram\n",
      " - resolve discrepancy between decode var and est and pred vars\n",
      " - var as function of spike rate in plot"
     ]
    },
    {
     "cell_type": "heading",
     "level": 1,
     "metadata": {},
     "source": [
      "Summary of results"
     ]
    },
    {
     "cell_type": "markdown",
     "metadata": {},
     "source": [
      "The synaptic variance will be\n",
      "\n",
      "\\begin{align}\n",
      "\\operatorname{Var}(X) &= \\sum_i^Nd_i^2\\operatorname{Var}(X_i) \\\\\n",
      "\\end{align}\n",
      "\n",
      "For [uniform](http://nbviewer.ipython.org/github/fragapanagos/notebooks/blob/master/synapse/synapse_SNR_uniform.ipynb) input spikes (as with LIF neurons),\n",
      "\n",
      "\\begin{align}\n",
      "\\operatorname{Var}(X_i) &= \\lambda_i^2\\left(\\frac{1}{2\\lambda_i\\tau}\\coth\\left(\\frac{1}{2\\lambda_i\\tau}\\right)-1\\right) \\\\\n",
      "\\operatorname{Var}(X_i) &\\approx \\frac{1}{12\\tau^2} \\\\\n",
      "\\end{align}"
     ]
    },
    {
     "cell_type": "heading",
     "level": 1,
     "metadata": {},
     "source": [
      "Analysis"
     ]
    },
    {
     "cell_type": "markdown",
     "metadata": {},
     "source": [
      "For indepedent random variables $X$ and $Y$,\n",
      "\n",
      "$$\\operatorname{Var}(X+Y) = \\operatorname{Var}(X)+\\operatorname{Var}(Y)$$\n",
      "\n",
      "For scalar $d$\n",
      "\n",
      "$$\\operatorname{Var}(dX) = d^2\\operatorname{Var}(X)$$\n",
      "\n",
      "For a synapse receiving the sum of weighted spikes,\n",
      "\n",
      "\\begin{align}\n",
      "\\operatorname{Var}(X) &= \\sum_i^Nd_i^2\\operatorname{Var}(X_i) \\\\\n",
      "\\end{align}\n",
      "\n",
      "where \n",
      " - $X$ is the synaptic state\n",
      " - $N$ is the number of inputs\n",
      " - $d_i$ is the decoding weight of the $i$th neuron, and\n",
      " - $X_i$ is the synaptic state resulting from filtering the $i$th neuron's unweighted spikes\n",
      "\n",
      "In NEF, $X_i$ are the filtered spikes of LIF neurons, which spike uniformly. Therefore,\n",
      "\n",
      "\\begin{align}\n",
      "\\operatorname{Var}(X_i) &= \\lambda_i^2\\left(\\frac{1}{2\\lambda_i\\tau}\\coth\\left(\\frac{1}{2\\lambda_i\\tau}\\right)-1\\right) \\\\\n",
      "\\operatorname{Var}(X_i) &\\approx \\frac{1}{12\\tau^2} \\\\\n",
      "\\end{align}\n",
      "\n",
      "as derived [here](http://nbviewer.ipython.org/github/fragapanagos/notebooks/blob/master/synapse/synapse_SNR_uniform.ipynb), where\n",
      " - $\\lambda_i$ is the $i$th neuron's spike rate, and\n",
      " - $\\tau$ is the synaptic time constant"
     ]
    },
    {
     "cell_type": "heading",
     "level": 1,
     "metadata": {},
     "source": [
      "Setup"
     ]
    },
    {
     "cell_type": "code",
     "collapsed": false,
     "input": [
      "%matplotlib inline\n",
      "%load_ext autoreload\n",
      "%autoreload 2\n",
      "\n",
      "import matplotlib.pyplot as plt\n",
      "import numpy as np\n",
      "import nengo\n",
      "\n",
      "from utils.synapse import th_u_var, th_p_var\n",
      "from neuron.utils.plot import make_blue_cmap, make_red_cmap, make_color_cycle"
     ],
     "language": "python",
     "metadata": {},
     "outputs": [
      {
       "javascript": [
        "\n",
        "        require([\"widgets/js/widget\", \"widgets/js/manager\"],\n",
        "            function(widget, manager) {\n",
        "          if (typeof widget.DOMWidgetView == 'undefined') {\n",
        "            widget = IPython;\n",
        "          }\n",
        "          if (typeof manager.WidgetManager == 'undefined') {\n",
        "            manager = IPython;\n",
        "          }\n",
        "\n",
        "          var NengoProgressBar = widget.DOMWidgetView.extend({\n",
        "            render: function() {\n",
        "              // $el is the DOM of the widget\n",
        "              this.$el.css({width: '100%', marginBottom: '0.5em'});\n",
        "              this.$el.html([\n",
        "                '<div style=\"',\n",
        "                    'width: 100%;',\n",
        "                    'border: 1px solid #cfcfcf;',\n",
        "                    'border-radius: 4px;',\n",
        "                    'text-align: center;',\n",
        "                    'position: relative;\">',\n",
        "                  '<div class=\"pb-text\" style=\"',\n",
        "                      'position: absolute;',\n",
        "                      'width: 100%;\">',\n",
        "                    '0%',\n",
        "                  '</div>',\n",
        "                  '<div class=\"pb-bar\" style=\"',\n",
        "                      'background-color: #bdd2e6;',\n",
        "                      'width: 0%;',\n",
        "                      'transition: width 0.1s linear;\">',\n",
        "                    '&nbsp;',\n",
        "                  '</div>',\n",
        "                '</div>'].join(''));\n",
        "            },\n",
        "\n",
        "            update: function() {\n",
        "              this.$el.css({width: '100%', marginBottom: '0.5em'});\n",
        "              var progress = 100 * this.model.get('progress');\n",
        "              var text = this.model.get('text');\n",
        "              this.$el.find('div.pb-bar').width(progress.toString() + '%');\n",
        "              this.$el.find('div.pb-text').text(text);\n",
        "            },\n",
        "          });\n",
        "\n",
        "          manager.WidgetManager.register_widget_view(\n",
        "            'NengoProgressBar', NengoProgressBar);\n",
        "        });"
       ],
       "metadata": {},
       "output_type": "display_data",
       "text": [
        "<IPython.core.display.Javascript at 0x7f29bf66ea50>"
       ]
      }
     ],
     "prompt_number": 1
    },
    {
     "cell_type": "code",
     "collapsed": false,
     "input": [
      "def build_net(N=10, u=.5, tau=.01):\n",
      "    net = nengo.Network(seed=1)\n",
      "    with net:\n",
      "        net.stim = nengo.Node(u)\n",
      "        net.ens = nengo.Ensemble(N, 1, seed=1)\n",
      "        net.out = nengo.Node(None, size_in=1)\n",
      "        nengo.Connection(net.stim, net.ens, synapse=None)\n",
      "        net.conn = nengo.Connection(net.ens, net.out, synapse=tau)\n",
      "        net.p = nengo.Probe(net.ens, synapse=tau)\n",
      "        net.prates = nengo.Probe(net.ens.neurons, 'spikes', synapse=tau)\n",
      "    return net\n",
      "\n",
      "bcmap = make_blue_cmap()\n",
      "rcmap = make_red_cmap()"
     ],
     "language": "python",
     "metadata": {},
     "outputs": [],
     "prompt_number": 2
    },
    {
     "cell_type": "heading",
     "level": 1,
     "metadata": {},
     "source": [
      "Simulation"
     ]
    },
    {
     "cell_type": "code",
     "collapsed": false,
     "input": [
      "T = 2.\n",
      "N = 200\n",
      "u = .5\n",
      "tau = .01\n",
      "\n",
      "net = build_net(N, u, tau)\n",
      "sim = nengo.Simulator(net, dt=1e-4)\n",
      "sim.run(T, progress_bar=False)\n",
      "t = sim.trange()\n",
      "decode = sim.data[net.p]\n",
      "rates = sim.data[net.prates]\n",
      "\n",
      "encoders = sim.data[net.ens].encoders.reshape(-1)\n",
      "decoders = sim.data[net.conn].decoders.reshape(-1)\n",
      "gain = sim.data[net.ens].gain\n",
      "bias = sim.data[net.ens].bias\n",
      "\n",
      "f = net.ens.neuron_type.rates(u*encoders, gain, bias)"
     ],
     "language": "python",
     "metadata": {},
     "outputs": [],
     "prompt_number": 3
    },
    {
     "cell_type": "code",
     "collapsed": false,
     "input": [
      "# plot decode and spike rates\n",
      "N_plot = 10\n",
      "cc = make_color_cycle(N_plot, plt.cm.Set1)\n",
      "\n",
      "fig, axs = plt.subplots(ncols=2, figsize=(14, 4))\n",
      "axs[0].plot(t, decode)\n",
      "axs[1].set_color_cycle(cc)\n",
      "axs[1].plot(t, rates[:,:N_plot], alpha=.8)\n",
      "axs[1].plot(axs[1].get_xlim(), [f[:N_plot], f[:N_plot]], alpha=.8)\n",
      "axs[0].set_ylabel('decode', fontsize=12)\n",
      "axs[0].set_xlabel('time', fontsize=12)\n",
      "axs[1].set_ylabel('rates', fontsize=12)\n",
      "axs[1].set_xlabel('time', fontsize=12)"
     ],
     "language": "python",
     "metadata": {},
     "outputs": [
      {
       "metadata": {},
       "output_type": "pyout",
       "prompt_number": 5,
       "text": [
        "<matplotlib.text.Text at 0x7f29b820af90>"
       ]
      },
      {
       "metadata": {},
       "output_type": "display_data",
       "png": "[encoded data removed]",
       "text": [
        "<matplotlib.figure.Figure at 0x7f29b8306e50>"
       ]
      }
     ],
     "prompt_number": 5
    },
    {
     "cell_type": "code",
     "collapsed": false,
     "input": [
      "idx = t>10*tau\n",
      "mu_decode = np.mean(decode[idx])\n",
      "var_decode = np.var(decode[idx])\n",
      "std_decode = np.sqrt(var_decode)\n",
      "var_rates = np.var(rates[idx], axis=0)\n",
      "\n",
      "est_var_decode = np.sum(decoders**2 * var_rates)\n",
      "est_std_decode = np.sqrt(est_var_decode)\n",
      "\n",
      "pred_var_rates = np.zeros_like(f)\n",
      "pred_var_rates[f>0] = th_u_var(f[f>0], tau) # uniform spikes\n",
      "# pred_var_rates[f>0] = th_p_var(f[f>0], tau) # poisson spikes\n",
      "pred_var_decode = np.sum(decoders**2 * pred_var_rates)\n",
      "pred_std_decode = np.sqrt(pred_var_decode)\n",
      "\n",
      "print 'observed  decode variance %e' % var_decode\n",
      "print 'estimated decode variance %e (from observed rates)' % est_var_decode\n",
      "print 'predicted decode variance %e (from theoretical rates)' % pred_var_decode\n",
      "print\n",
      "print 'observed  decode std %e' % std_decode\n",
      "print 'estimated decode std %e (from observed rates)' % est_std_decode\n",
      "print 'predicted decode std %e (from theoretical rates)' % pred_std_decode"
     ],
     "language": "python",
     "metadata": {},
     "outputs": [
      {
       "output_type": "stream",
       "stream": "stdout",
       "text": [
        "observed  decode variance 9.513437e-05\n",
        "estimated decode variance 9.080727e-05 (from observed rates)\n",
        "predicted decode variance 9.081077e-05 (from theoretical rates)\n",
        "\n",
        "observed  decode std 9.753685e-03\n",
        "estimated decode std 9.529285e-03 (from observed rates)\n",
        "predicted decode std 9.529469e-03 (from theoretical rates)\n"
       ]
      }
     ],
     "prompt_number": 8
    }
   ],
   "metadata": {}
  }
 ]
}