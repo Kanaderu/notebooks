{
 "metadata": {
  "name": "",
  "signature": "sha256:51d749226d2aa34e378c3b9bbddcb696b29e2bcd8ad14fba87584aaf56b737c7"
 },
 "nbformat": 3,
 "nbformat_minor": 0,
 "worksheets": [
  {
   "cells": [
    {
     "cell_type": "code",
     "collapsed": false,
     "input": [
      "# initialize pylab and constants\n",
      "% pylab inline\n",
      "k = 10.  # number of time constants to consider\n",
      "tau = .1  # time constant of the filter\n",
      "freq = 2000.  # frequency of spikes in\n",
      "total_time = k*tau \n",
      "E_N_float = freq*k*tau\n",
      "E_N = round(E_N_float)\n",
      "\n",
      "s = random.seed(2)\n",
      "rng = random.RandomState(s)"
     ],
     "language": "python",
     "metadata": {},
     "outputs": [
      {
       "output_type": "stream",
       "stream": "stdout",
       "text": [
        "Populating the interactive namespace from numpy and matplotlib\n"
       ]
      }
     ],
     "prompt_number": 1
    },
    {
     "cell_type": "heading",
     "level": 1,
     "metadata": {},
     "source": [
      "Notebook description"
     ]
    },
    {
     "cell_type": "markdown",
     "metadata": {},
     "source": [
      "This notebook looks at the signal to noise ratio (SNR) of different synapse implementations.\n",
      "\n",
      "$$SNR = \\mu / \\sigma$$\n",
      "\n",
      "at the steady state where $\\mu$ is the mean of the signal and $\\sigma$ is the standard devation of the signal.\n",
      "\n",
      "The synapse is a first order lowpass filter described by\n",
      "$$\\tau\\dot{x}=-x+u$$\n",
      "\n",
      "where $x$ is the synapse state and $u$ is the input. $u$ is the spike input. Each spike delivers an impulse input to the synapse. That is,\n",
      "$$u=\\sum_i\\delta(t-t_i)$$\n",
      "\n",
      "We model the input spike train as a Poisson process with frequency $\\lambda$.\n",
      "\n",
      "We would like to obtain expressions for $\\mu=E[X]$ and $\\sigma = \\sqrt{Var(X)}$ where $X$ is the random variable describing the state of the synapse. \n",
      "\n",
      "Consider from the perspective of a point in time of the synapse. Each spike that arrive before that point in time contributes \n",
      "\n",
      "$$\\frac{1}{\\tau}e^{-t_i/\\tau}$$\n",
      "\n",
      "to the synapse's state. The value of the synapse is then\n",
      "\n",
      "$$x=\\sum_{i=1}^{N} \\frac{1}{\\tau}e^{-t_i/\\tau}$$\n",
      "\n",
      "where $N$ is the number of spikes received and $t_i$ is the time since arrival of the $i$th spike. "
     ]
    },
    {
     "cell_type": "heading",
     "level": 2,
     "metadata": {},
     "source": [
      "Synapse mean"
     ]
    },
    {
     "cell_type": "markdown",
     "metadata": {},
     "source": [
      "For random variable, $N$, describing the number of spikes received, and random variable, $t_i$, describing the time since the arrival of the $i$th spike. "
     ]
    },
    {
     "cell_type": "markdown",
     "metadata": {},
     "source": [
      "\\begin{aligned}\n",
      "E[X] &= E\\left[\\sum_{i=1}^{N}\\frac{1}{\\tau}e^{-t_i/\\tau}\\right] \\\\\n",
      " &= E\\left[E\\left[\\sum_{i=1}^{N}\\frac{1}{\\tau}e^{-t_i/\\tau}\\bigg|N\\right]\\right]\\qquad\\text{law of total expectation} \\\\\n",
      " &= E\\left[\\sum_{i=1}^{N}E\\left[\\frac{1}{\\tau}e^{-t_i/\\tau}\\bigg|N\\right]\\right] \\\\\n",
      " &= E\\left[\\sum_{i=1}^{N}E\\left[\\frac{1}{\\tau}e^{-t_i/\\tau}\\right]\\right] \\\\\n",
      " &= E\\left[\\sum_{i=1}^{N}1\\right]E\\left[\\frac{1}{\\tau}e^{-t_i/\\tau}\\right] \\\\\n",
      " &= E[N]E\\left[\\frac{1}{\\tau}e^{-t_i/\\tau}\\right] \\\\\n",
      "\\end{aligned}"
     ]
    },
    {
     "cell_type": "markdown",
     "metadata": {},
     "source": [
      "Since the impulse response is a decaying exponential, it never reaches 0. To avoid having to then consider all spikes since the beginning of time,  we make the simplifying assumption that the impulse response is negligible after a certain time. That is, we only consider spikes within $k\\tau$ of the current time, where $k$ is an arbitrary, positive value. The higher $k$ is, the further back in time we consider. As $N$ is the number of spikes from a Poisson spike train with rate $\\lambda$ received within $k\\tau$, $E[N]=\\lambda k\\tau$. In addition, spike times within a time period are uniform for a Poisson spike train, so $t_i$ is uniform and"
     ]
    },
    {
     "cell_type": "markdown",
     "metadata": {},
     "source": [
      "\\begin{aligned}\n",
      "E\\left[\\frac{1}{\\tau}e^{-t_i/\\tau}\\right] &= \\int_0^{k\\tau}\\frac{1}{k\\tau}\\frac{1}{\\tau}e^{-t_i/\\tau}dt_i \\\\\n",
      " &= \\frac{1}{k\\tau}\\int_0^{k\\tau}\\frac{1}{\\tau}e^{-t_i/\\tau}dt_i \\\\\n",
      " &= \\frac{1}{k\\tau}\\left(1-e^{-k\\tau/\\tau}\\right) \\\\\n",
      " &=  \\frac{1}{k\\tau}\\left(1-e^{-k}\\right)\n",
      "\\end{aligned}"
     ]
    },
    {
     "cell_type": "markdown",
     "metadata": {},
     "source": [
      "Therefore "
     ]
    },
    {
     "cell_type": "markdown",
     "metadata": {},
     "source": [
      "\\begin{aligned}\n",
      "E[X] &= E[N] E\\left[\\frac{1}{\\tau}e^{-t_i/\\tau}\\right] \\\\\n",
      " &= \\lambda k\\tau \\frac{1}{k\\tau}\\left(1-e^{-k}\\right) \\\\\n",
      " &= \\lambda \\left(1-e^{-k}\\right)\n",
      "\\end{aligned}"
     ]
    },
    {
     "cell_type": "markdown",
     "metadata": {},
     "source": [
      "Taking the limit as $k$ tends to infinity yields"
     ]
    },
    {
     "cell_type": "markdown",
     "metadata": {},
     "source": [
      "\\begin{aligned}\n",
      "\\lim_{k\\rightarrow\\infty}E[X] &= \\lim_{k\\rightarrow\\infty}\\lambda \\left(1-e^{-k}\\right) \\\\\n",
      " &=\\lambda\n",
      "\\end{aligned}"
     ]
    },
    {
     "cell_type": "markdown",
     "metadata": {},
     "source": [
      "as would be expected."
     ]
    },
    {
     "cell_type": "heading",
     "level": 2,
     "metadata": {},
     "source": [
      "Synapse mean simulation validation"
     ]
    },
    {
     "cell_type": "markdown",
     "metadata": {},
     "source": [
      "To validate the mean calculation, I simulate a synapse with Poison spike train input and check the following:\n",
      "\n",
      "Do spikes that fall within a time period uniformly produce an exponential ISI distribution between consecutive spikes?\n",
      "\n",
      "Does the simulated mean contribution of each spike match the theoretical mean contribution?\n",
      "\n",
      "$$E\\left[\\frac{1}{\\tau}e^{-t_i/\\tau}\\right] = \\frac{1}{k\\tau}\\left(1-e^{-k}\\right)$$\n",
      "\n",
      "Does the simulated mean of the synapse match the theoretical mean of the synapse?\n",
      "\n",
      "$$E[X]=\\lambda\\left(1-e^{-k}\\right)$$\n"
     ]
    },
    {
     "cell_type": "code",
     "collapsed": false,
     "input": [
      "# predictions to check that math works out\n",
      "def spike_contribution(t, tau):\n",
      "    \"\"\"Computes the contribution of a spike to the current state\n",
      "    \n",
      "    Parameters:\n",
      "    -----------\n",
      "    t : float\n",
      "        Time since arrival of spike\n",
      "    tau : float\n",
      "        Synaptic time constant\n",
      "    \"\"\"\n",
      "    return 1./tau*exp(-t/tau)\n",
      "\n",
      "\n",
      "def mean_spike_contribution(k, tau):\n",
      "    \"\"\"Computes the theoretical mean contribution of a spike \n",
      "    that fell within k time constants of the current time\n",
      "    \n",
      "    Parameters:\n",
      "    -----------\n",
      "    k : int\n",
      "        Number of time constants within the current time to consider\n",
      "    tau : float\n",
      "        Time constant of synapse under consideration\n",
      "    \"\"\"\n",
      "    return (1-exp(-k))/(k*tau)\n",
      "\n",
      "\n",
      "def mean_state(k, freq):\n",
      "    \"\"\"Computes the mean state of the lowpass filter\n",
      "    given the frequency of the spike input and the number of \n",
      "    time constants to look back in time.\n",
      "    \n",
      "    Parameters:\n",
      "    -----------\n",
      "    k: int\n",
      "        Number of time constants within the current time to consider\n",
      "    freq: float\n",
      "        Frequency of spike train input\n",
      "    \"\"\"\n",
      "    return freq*(1-exp(-k))"
     ],
     "language": "python",
     "metadata": {},
     "outputs": [],
     "prompt_number": 2
    },
    {
     "cell_type": "code",
     "collapsed": false,
     "input": [
      "# what are the ISIs between consecutive spikes if they are uniformly distributed?\n",
      "\n",
      "print 'we expect %.1f spikes in %.3fs. Rounding to %d' % (E_N_float, total_time, E_N)\n",
      "\n",
      "# generate spike times\n",
      "times = sort(rng.uniform(0, total_time, E_N))\n",
      "fig=figure('spike times', figsize=(8,3))\n",
      "ax = fig.add_subplot(111)\n",
      "ax.stem(times/tau, ones(times.shape))\n",
      "ax.set_xlabel('time/tau', fontsize=16)\n",
      "ax.set_ylim(ylim()[0], ylim()[1]*1.1)\n",
      "ax.set_yticks([])\n",
      "ax.set_title('Spike times distributed uniformly', fontsize=16)\n",
      "\n",
      "# analyze ISIs of spikes. Do they follow an exponential distribution?\n",
      "ISIs = diff(times)\n",
      "fig=figure('ISI histogram', figsize=(8,3))\n",
      "ax = fig.add_subplot(111)\n",
      "ret = ax.hist(ISIs/tau, bins=50, normed=True, histtype='stepfilled')\n",
      "ax.set_xlabel('ISIs/tau', fontsize=16)\n",
      "ax.set_title('ISIs are exponentially distributed', fontsize=16)\n"
     ],
     "language": "python",
     "metadata": {},
     "outputs": [
      {
       "output_type": "stream",
       "stream": "stdout",
       "text": [
        "we expect 2000.0 spikes in 1.000s. Rounding to 2000\n"
       ]
      },
      {
       "metadata": {},
       "output_type": "pyout",
       "prompt_number": 3,
       "text": [
        "<matplotlib.text.Text at 0x5c1a290>"
       ]
      },
      {
       "metadata": {},
       "output_type": "display_data",
       "png": "[encoded data removed]",
       "text": [
        "<matplotlib.figure.Figure at 0x246c410>"
       ]
      },
      {
       "metadata": {},
       "output_type": "display_data",
       "png": "[encoded data removed]",
       "text": [
        "<matplotlib.figure.Figure at 0x5af1c10>"
       ]
      }
     ],
     "prompt_number": 3
    },
    {
     "cell_type": "code",
     "collapsed": false,
     "input": [
      "# what is the contribution of each spike that fell within k*tau periods of the current time?\n",
      "contributions = spike_contribution(times, tau)\n",
      "mean_contribution_obs = mean(contributions)\n",
      "mean_contribution_th = mean_spike_contribution(k, tau)\n",
      "\n",
      "fig=figure('spike contributions', figsize=(8,6))\n",
      "ax=fig.add_subplot(111)\n",
      "ax.hist(contributions, bins=50, normed=True, histtype='stepfilled')\n",
      "ax.plot([mean_contribution_obs]*2, ylim(), 'r', label='observed mean spike contribution')\n",
      "ax.plot([mean_contribution_th]*2, ylim(), 'r:', label='theoretical mean spike contribution')\n",
      "ax.legend(loc='upper right')\n",
      "ax.set_title('Distribution of spike contributions to current state', fontsize=16)\n",
      "ax.set_xlabel('Contribution of spike to current state', fontsize=16)\n",
      "\n",
      "print 'observed mean spike contribution = %.6f, theoretical mean spike contribution = %.6f, observed/theory x 100 = %.2f%%' % \\\n",
      "    (mean_contribution_obs, mean_contribution_th, mean_contribution_obs/mean_contribution_th*100)"
     ],
     "language": "python",
     "metadata": {},
     "outputs": [
      {
       "output_type": "stream",
       "stream": "stdout",
       "text": [
        "observed mean spike contribution = 1.017545, theoretical mean spike contribution = 0.999955, observed/theory x 100 = 101.76%\n"
       ]
      },
      {
       "metadata": {},
       "output_type": "display_data",
       "png": "[encoded data removed]",
       "text": [
        "<matplotlib.figure.Figure at 0x5afa850>"
       ]
      }
     ],
     "prompt_number": 4
    },
    {
     "cell_type": "code",
     "collapsed": false,
     "input": [
      "trials = 500\n",
      "states = zeros(trials)\n",
      "for t in xrange(trials):\n",
      "    times = sort(rng.uniform(0, total_time, E_N))\n",
      "    contributions = spike_contribution(times, tau)\n",
      "    states[t] = sum(contributions)\n",
      "mean_state_obs = mean(states)\n",
      "mean_state_th = mean_state(k, freq)\n",
      "fig=figure('synapse state', figsize=(8,3))\n",
      "ax=fig.add_subplot(111)\n",
      "ret=ax.hist(states, bins=30)\n",
      "ax.plot([mean_state_th]*2, ylim(), 'r', label='theoretical mean_state')\n",
      "ax.plot([mean_state_obs]*2, ylim(), 'r:', label='observed mean_state')\n",
      "ax.set_title('synapse value in %d simulations' % trials, fontsize=16)\n",
      "ax.set_xlabel('mean value of synapse', fontsize=16)\n",
      "ax.legend(loc='upper left')\n",
      "print 'observed mean state = %.6f, theoretical mean state = %.6f, observed/theory x 100 = %.2f%%' % \\\n",
      "    (mean_state_obs, mean_state_th, mean_state_obs/mean_state_th * 100)"
     ],
     "language": "python",
     "metadata": {},
     "outputs": [
      {
       "output_type": "stream",
       "stream": "stdout",
       "text": [
        "observed mean state = 2002.503742, theoretical mean state = 1999.909200, observed/theory x 100 = 100.13%\n"
       ]
      },
      {
       "metadata": {},
       "output_type": "display_data",
       "png": "[encoded data removed]",
       "text": [
        "<matplotlib.figure.Figure at 0x24769d0>"
       ]
      }
     ],
     "prompt_number": 5
    },
    {
     "cell_type": "heading",
     "level": 2,
     "metadata": {},
     "source": [
      "Syanpse variance"
     ]
    },
    {
     "cell_type": "markdown",
     "metadata": {},
     "source": [
      "By definition, \n",
      "\n",
      "$$Var(X) = E[X^2] - E[X]^2$$\n",
      "\n",
      "We've determined $E[X]$ already, so let's look at $E[X^2]$."
     ]
    },
    {
     "cell_type": "markdown",
     "metadata": {},
     "source": [
      "\\begin{aligned}\n",
      "E[X^2] &= E\\left[\\left(\\sum_{i=1}^{N}\\frac{1}{\\tau}e^{-t_i/\\tau}\\right)^2\\right] \\\\\n",
      " &= E\\left[\\left(\\sum_{i=1}^{N}\\frac{1}{\\tau}e^{-t_i/\\tau}\\right)\\left(\\sum_{j=1}^{N}\\frac{1}{\\tau}e^{-t_j/\\tau}\\right)\\right] \\\\\n",
      " &= E\\left[\\frac{1}{\\tau^2}\\left(e^{-t_0/\\tau}+e^{-t_1/\\tau}+\\ldots+e^{-t_N/\\tau}\\right)\n",
      "  \\left(e^{-t_0/\\tau}+e^{-t_1/\\tau}+\\ldots+e^{-t_N/\\tau}\\right)\\right] \\\\\n",
      " &= E\\left[\\frac{1}{\\tau^2}\\left(\\overbrace{\\sum_{i=0}^{N-1}e^{-2t_i/\\tau}}^{\\text{squared terms}} + \n",
      "  \\overbrace{\\sum_{i=0,i\\neq j}^{N-1}\\sum_{j=0}^{N-1}e^{-t_i/\\tau}e^{-t_j/\\tau}}^{\\text{cross terms}}\\right)\\right] \\\\\n",
      " &= E\\left[\\frac{1}{\\tau}\\sum_{i=0}^{N-1}\\frac{1}{\\tau}e^{-2t_i/\\tau}+\n",
      "  \\sum_{i=0,i\\neq j}^{N-1}\\sum_{j=0}^{N-1}\\frac{1}{\\tau}e^{-t_i/\\tau}\\frac{1}{\\tau}e^{-t_j/\\tau}\\right] \\\\\n",
      " &= E\\left[\\frac{1}{\\tau}\\sum_{i=0}^{N-1}\\frac{1}{\\tau}e^{-2t_i/\\tau}\\right]+\n",
      "  E\\left[\\sum_{i=0,i\\neq j}^{N-1}\\sum_{j=0}^{N-1}\\frac{1}{\\tau}e^{-t_i/\\tau}\\frac{1}{\\tau}e^{-t_j/\\tau}\\right] \\\\\n",
      "\\end{aligned}"
     ]
    },
    {
     "cell_type": "markdown",
     "metadata": {},
     "source": [
      "First, let's consider the squared terms. This is very similar to the derivation for $E[X]$"
     ]
    },
    {
     "cell_type": "markdown",
     "metadata": {},
     "source": [
      "\\begin{aligned}\n",
      "E\\left[\\frac{1}{\\tau}\\sum_{i=0}^{N-1}\\frac{1}{\\tau}e^{-2t_i/\\tau}\\right] &= \n",
      " \\frac{1}{\\tau}E\\left[\\sum_{i=0}^{N-1}\\frac{1}{\\tau}e^{-2t_i/\\tau}\\right] \\\\\n",
      " &= \\frac{1}{\\tau}E\\left[E\\left[\\sum_{i=0}^{N-1}\\frac{1}{\\tau}e^{-2t_i/\\tau}\\bigg|N\\right]\\right] \\\\\n",
      " &= \\frac{1}{\\tau}E[N]E\\left[\\frac{1}{\\tau}e^{-2t_i/\\tau}\\right] \\\\\n",
      " &= \\frac{1}{\\tau}(\\lambda k\\tau)\\int_0^{k\\tau}\\frac{1}{\\tau}e^{-2t_i/\\tau}dt_i \\\\\n",
      " &= \\frac{\\lambda k}{2}\\left(1-e^{-2k\\tau/\\tau}\\right) \\\\\n",
      " &= \\frac{\\lambda k}{2}\\left(1-e^{-2k}\\right) \\\\\n",
      "\\end{aligned}"
     ]
    },
    {
     "cell_type": "markdown",
     "metadata": {},
     "source": [
      "Now let's consider the consider the cross terms."
     ]
    },
    {
     "cell_type": "markdown",
     "metadata": {},
     "source": [
      "\\begin{aligned}\n",
      "E\\left[\\sum_{i=0,i\\neq j}^{N-1}\\sum_{j=0}^{N-1}\\frac{1}{\\tau}e^{-t_i/\\tau}\\frac{1}{\\tau}e^{-t_j/\\tau}\\right] &=\n",
      "   E\\left[E\\left[\\sum_{i=0,i\\neq j}^{N-1}\\sum_{j=0}^{N-1}\\frac{1}{\\tau}e^{-t_i/\\tau}\\frac{1}{\\tau}e^{-t_j/\\tau}\\bigg|N\\right]\\right] \\\\\n",
      "  &= E\\left[\\sum_{i=0,i\\neq j}^{N-1}\\sum_{j=0}^{N-1}E\\left[\\frac{1}{\\tau}e^{-t_i/\\tau}\\frac{1}{\\tau}e^{-t_j/\\tau}\\bigg|N\\right]\\right] \\\\\n",
      "  &= E\\left[\\sum_{i=0,i\\neq j}^{N-1}\\sum_{j=0}^{N-1}E\\left[\\frac{1}{\\tau}e^{-t_i/\\tau}\\frac{1}{\\tau}e^{-t_j/\\tau}\\right]\\right] \\\\\n",
      "  &= E\\left[\\sum_{i=0,i\\neq j}^{N-1}\\sum_{j=0}^{N-1}1\\right]E\\left[\\frac{1}{\\tau}e^{-t_i/\\tau}\\frac{1}{\\tau}e^{-t_j/\\tau}\\right] \\\\\n",
      "  &= E\\left[N^2-N\\right]E\\left[\\frac{1}{\\tau}e^{-t_i/\\tau}\\frac{1}{\\tau}e^{-t_j/\\tau}\\right] \\\\\n",
      "  &= E\\left[N^2-N\\right]E\\left[\\frac{1}{\\tau}e^{-t_i/\\tau}\\right]E\\left[\\frac{1}{\\tau}e^{-t_j/\\tau}\\right]\n",
      "   \\quad t_i, t_j \\text{ are independent because }i\\neq j \\\\\n",
      "  &= \\left(E\\left[N^2\\right]-E[N]\\right)\\left(1-e^{-k}\\right)\\left(1-e^{-k}\\right) \\\\\n",
      "  &= \\left(E\\left[N^2\\right]-E[N]\\right)\\left(1-e^{-k}\\right)^2 \\\\\n",
      "\\end{aligned}"
     ]
    },
    {
     "cell_type": "markdown",
     "metadata": {},
     "source": [
      "For poisson random variable $N$ with parameter $\\lambda k\\tau$, $Var(N)=E[N]=\\lambda k\\tau$"
     ]
    },
    {
     "cell_type": "markdown",
     "metadata": {},
     "source": [
      "\\begin{aligned}\n",
      "\\lambda k\\tau &= E\\left[N^2\\right]-E[N]^2 \\\\\n",
      " &= E\\left[N^2\\right] - (\\lambda k\\tau)^2 \\\\\n",
      "E\\left[N^2\\right] &= \\lambda k\\tau + (\\lambda k\\tau)^2 \n",
      "\\end{aligned}"
     ]
    },
    {
     "cell_type": "markdown",
     "metadata": {},
     "source": [
      "Returning to the Expected cross term derivation"
     ]
    },
    {
     "cell_type": "markdown",
     "metadata": {},
     "source": [
      "\\begin{aligned}\n",
      "E\\left[\\sum_{i=0,i\\neq j}^{N-1}\\sum_{j=0}^{N-1}\\frac{1}{\\tau}e^{-t_i/\\tau}\\frac{1}{\\tau}e^{-t_j/\\tau}\\right] &=\n",
      "    \\left(E\\left[N^2\\right]-E[N]\\right)\\left(1-e^{-k}\\right)^2 \\\\\n",
      " &= \\left(\\lambda k\\tau + (\\lambda k\\tau)^2 - \\lambda k\\tau\\right)\\left(1-e^{-k}\\right)^2 \\\\\n",
      " &= \\left(\\lambda k\\tau\\right)^2\\left(1-e^{-k}\\right)^2 \\\\\n",
      " &= \\left(\\lambda k\\tau\\right)^2\\left(1-e^{-k}\\right)^2 \\\\\n",
      "\\end{aligned}"
     ]
    },
    {
     "cell_type": "markdown",
     "metadata": {},
     "source": [
      "Putting the Expectation of the squared terms with the Expectation of the cross terms,"
     ]
    },
    {
     "cell_type": "markdown",
     "metadata": {},
     "source": [
      "\\begin{aligned}\n",
      "E\\left[X^2\\right] &= + E\\left[\\frac{1}{\\tau}\\sum_{i=0}^{N-1}\\frac{1}{\\tau}e^{-2t_i/\\tau}\\right] +\n",
      "    E\\left[\\sum_{i=0,i\\neq j}^{N-1}\\sum_{j=0}^{N-1}\\frac{1}{\\tau}e^{-t_i/\\tau}\\frac{1}{\\tau}e^{-t_j/\\tau}\\right] \\\\\n",
      " &= \\frac{\\lambda k}{2}\\left(1-e^{-2k}\\right) + \\left(\\lambda k\\tau\\right)^2\\left(1-e^{-k}\\right)^2\n",
      "\\end{aligned}"
     ]
    },
    {
     "cell_type": "markdown",
     "metadata": {},
     "source": [
      "Plugging into the variance equation,"
     ]
    },
    {
     "cell_type": "markdown",
     "metadata": {},
     "source": [
      "\\begin{aligned}\n",
      "Var(X) &= E[X^2] - E[X]^2 \\\\\n",
      " &= \\frac{\\lambda k}{2}\\left(1-e^{-2k}\\right) + \\left(\\lambda k\\tau\\right)^2\\left(1-e^{-k}\\right)^2 \n",
      "    - \\left(\\lambda \\left(1-e^{-k}\\right)\\right)^2 \\\\\n",
      " &= \\frac{\\lambda k}{2}\\left(1-e^{-2k}\\right) + \\left(\\lambda k\\tau\\right)^2\\left(1-e^{-k}\\right)^2 \n",
      "    - \\lambda^2 \\left(1-e^{-k}\\right)^2 \\\\\n",
      " &= \\frac{\\lambda k}{2}\\left(1-e^{-2k}\\right) + \\lambda^2\\left(1-e^{-k}\\right)^2\\left(k^2\\tau^2-1\\right)^2\n",
      "\\end{aligned}"
     ]
    },
    {
     "cell_type": "heading",
     "level": 2,
     "metadata": {},
     "source": [
      "Synapse variance simulation validation"
     ]
    },
    {
     "cell_type": "markdown",
     "metadata": {},
     "source": [
      "To validate the variance calculation, I simulate a synapse with Poison spike train input and check the following:\n",
      "\n",
      "Does the simulated $E\\left[X^2\\right]$ match the theoretical formulas?\n",
      "\n",
      "$$E\\left[X^2\\right]=\\frac{\\lambda k}{2}\\left(1-e^{-2k}\\right) + \\left(\\lambda k\\tau\\right)^2\\left(1-e^{-k}\\right)^2$$\n",
      "\n",
      "Does the simulated variance match the theoretical variance?\n",
      "\n",
      "$$Var(X) = \\frac{\\lambda k}{2}\\left(1-e^{-2k}\\right) + \\lambda^2\\left(1-e^{-k}\\right)^2\\left(k^2\\tau^2-1\\right)^2 $$"
     ]
    },
    {
     "cell_type": "code",
     "collapsed": false,
     "input": [
      "def mean_sq_state(k, tau, freq):\n",
      "    \"\"\"Computes the mean square value of the state, E[X**2]\n",
      "    \n",
      "    Parameters:\n",
      "    -----------\n",
      "    k : int\n",
      "        Number of periods to consider before the current time\n",
      "    tau : float\n",
      "        Time constant of the synapse\n",
      "    freq : float\n",
      "        Frequency of the spiking input\n",
      "    \"\"\"\n",
      "    return freq*k/2.*(1.-exp(-2.*k)) + (freq*tau*k)**2.*(1.-exp(-k))**2.\n",
      "\n",
      "def var_state(k, tau, freq):\n",
      "    \"\"\"Computes the variance of the state, Var(X)\n",
      "    \n",
      "    Parameters:\n",
      "    -----------\n",
      "    k : int\n",
      "        Number of periods to consider before the current time\n",
      "    tau : float\n",
      "        Time constant of the synapse\n",
      "    freq : float\n",
      "        Frequency of the spiking input\n",
      "    \"\"\"\n",
      "    return mean_sq_state(k, tau, freq) - mean_state(k, freq)**2"
     ],
     "language": "python",
     "metadata": {},
     "outputs": [],
     "prompt_number": 6
    },
    {
     "cell_type": "code",
     "collapsed": false,
     "input": [
      "trials = 5000\n",
      "states = zeros(trials, dtype=float64)\n",
      "for t in xrange(trials):\n",
      "    times = sort(rng.uniform(0, total_time, E_N))\n",
      "    contributions = spike_contribution(times, tau)\n",
      "    states[t] = sum(contributions)\n",
      "mean_sq_state_obs = mean(states**2)\n",
      "mean_sq_state_th = mean_sq_state(k, tau, freq)\n",
      "\n",
      "mean_state_obs = mean(states)\n",
      "mean_state_th = mean_state(k, freq)\n",
      "\n",
      "mean_state_sq_obs = mean_state_obs**2\n",
      "mean_state_sq_th = mean_state_th**2\n",
      "\n",
      "# var_state_obs = var(states, ddof=1)\n",
      "var_state_obs = mean_sq_state_obs - mean_state_sq_obs\n",
      "var_state_th = var_state(k, tau, freq)\n",
      "\n",
      "# E[X^2]\n",
      "fig=figure('E[X^2]', figsize=(8,3))\n",
      "ax=fig.add_subplot(111)\n",
      "ret=ax.hist(states**2)\n",
      "ax.plot([mean_sq_state_th]*2, ylim(), 'r', label=r'theoretical $E[X^2]$')\n",
      "ax.plot([mean_sq_state_obs]*2, ylim(), 'r:', label=r'observed $E[X^2]$')\n",
      "ax.set_title(r'$X^2$ in %d simulations' % trials, fontsize=16)\n",
      "ax.set_xlabel(r'$X^2$', fontsize=16)\n",
      "ax.legend(loc='upper left')\n",
      "print r'observed E[X^2] = %.6f, theoretical E[X^2] = %.6f, observed/theory x 100 = %.2f%%' % \\\n",
      "    (mean_sq_state_obs, mean_sq_state_th, mean_sq_state_obs/mean_sq_state_th * 100)\n",
      "    \n",
      "# E[X]^2\n",
      "print 'observed E[X]^2 = %.6f, theoretical E[X]^2 = %.6f, observed/theory x 100 = %.2f%%' % \\\n",
      "    (mean_state_sq_obs, mean_state_sq_th, mean_state_sq_obs/mean_state_sq_th * 100)\n",
      "    \n",
      "# Var(X)\n",
      "print 'observed Var(X) = %.6f, theoretical Var(X) = %.6f, observed/theory x 100 = %.2f%%' % \\\n",
      "    (var_state_obs, var_state_th, var_state_obs/var_state_th * 100)"
     ],
     "language": "python",
     "metadata": {},
     "outputs": [
      {
       "output_type": "stream",
       "stream": "stdout",
       "text": [
        "observed E[X^2] = 4006091.204756, theoretical E[X^2] = 4009636.808786, observed/theory x 100 = 99.91%\n",
        "observed E[X]^2 = 3998090.362238, theoretical E[X]^2 = 3999636.808807, observed/theory x 100 = 99.96%\n",
        "observed Var(X) = 8000.842519, theoretical Var(X) = 9999.999979, observed/theory x 100 = 80.01%\n"
       ]
      },
      {
       "metadata": {},
       "output_type": "display_data",
       "png": "[encoded data removed]",
       "text": [
        "<matplotlib.figure.Figure at 0x5c2e1d0>"
       ]
      }
     ],
     "prompt_number": 7
    },
    {
     "cell_type": "heading",
     "level": 1,
     "metadata": {},
     "source": [
      "Synapse SNR"
     ]
    },
    {
     "cell_type": "markdown",
     "metadata": {},
     "source": [
      "\\begin{aligned}\n",
      "SNR &= \\frac{\\mu}{\\sigma} \\\\\n",
      " &= \\frac{\\lambda \\left(1-e^{-k}\\right)}\n",
      "    {\\sqrt{\\frac{\\lambda k}{2}\\left(1-e^{-2k}\\right) + \\lambda^2\\left(1-e^{-k}\\right)^2\\left(k^2\\tau^2-1\\right)^2}} \\\\\n",
      " &\\approx \\frac{\\lambda}\n",
      "    {\\sqrt{\\frac{\\lambda k}{2} + \\lambda^2\\left(k^2\\tau^2-1\\right)^2}} \\quad \\text{eliminate terms that go to 0}\\\\\n",
      " &\\approx \\frac{\\lambda}\n",
      "    {\\sqrt{\\lambda^2\\left(k^2\\tau^2-1\\right)^2}}  \\quad \\text{squared terms grow faster than linear terms}\\\\\n",
      " &= \\frac{\\lambda}\n",
      "    {\\lambda\\left(k^2\\tau^2-1\\right)} \\\\\n",
      " &= \\frac{1}\n",
      "    {\\left(k^2\\tau^2-1\\right)} \\\\\n",
      "\\end{aligned}"
     ]
    },
    {
     "cell_type": "markdown",
     "metadata": {},
     "source": [
      "This seems to counteract intuition that SNR grows with input spiking frequency and with synaptic time constant. \n",
      "\n",
      "Perhaps there is an error in the math somewhere?"
     ]
    }
   ],
   "metadata": {}
  }
 ]
}