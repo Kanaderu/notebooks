{
 "metadata": {
  "name": "",
  "signature": "sha256:1f9056ab182f4948a580f1a568470d6e08a20f16a6083a02a2d4be52b4bd4a4e"
 },
 "nbformat": 3,
 "nbformat_minor": 0,
 "worksheets": [
  {
   "cells": [
    {
     "cell_type": "heading",
     "level": 1,
     "metadata": {},
     "source": [
      "Notebook description"
     ]
    },
    {
     "cell_type": "markdown",
     "metadata": {},
     "source": [
      "This notebook looks at the signal to noise ratio (SNR) of different synapse implementations.\n",
      "\n",
      "$$SNR = \\mu / \\sigma$$\n",
      "\n",
      "at the steady state where $\\mu$ is the mean of the signal and $\\sigma$ is the standard devation of the signal.\n",
      "\n",
      "The synapse is a first order lowpass filter described by\n",
      "$$\\tau\\dot{x}=-x+u$$\n",
      "\n",
      "where $x$ is the synapse state and $u$ is the input. $u$ is the spike input. Each spike delivers an impulse input to the synapse.  That is,\n",
      "$$u=\\sum_i\\delta(t-t_i)$$\n",
      "\n",
      "We model the input spike train as a Poisson process with frequency $\\lambda$.\n",
      "\n",
      "We would like to obtain expressions for $\\mu=E[X]$ and $\\sigma = \\sqrt{Var(X)}$ where $X$ is the random variable describing the state of the synapse. \n",
      "\n",
      "Consider from the perspective of a point in time of the synapse. Each spike that arrive before that point in time contributes \n",
      "\n",
      "$$\\frac{1}{\\tau}e^{-t_i/\\tau}$$\n",
      "\n",
      "to the synapse's state. The value of the synapse is then\n",
      "\n",
      "$$x=\\sum_{i=1}^{N} \\frac{1}{\\tau}e^{-t_i/\\tau}$$\n",
      "\n",
      "where $N$ is the number of spikes received and $t_i$ is the time since arrival of the $i$th spike. "
     ]
    },
    {
     "cell_type": "heading",
     "level": 1,
     "metadata": {},
     "source": [
      "Synapse mean"
     ]
    },
    {
     "cell_type": "markdown",
     "metadata": {},
     "source": [
      "For random variable, $N$, describing the number of spikes received, and random variable, $t_i$, describing the time since the arrival of the $i$th spike. "
     ]
    },
    {
     "cell_type": "code",
     "collapsed": false,
     "input": [
      "%%latex\n",
      "\\begin{aligned}\n",
      "E[X] &= E\\left[\\sum_{i=1}^{N}\\frac{1}{\\tau}e^{-t_i/\\tau}\\right] \\\\\n",
      " &= E\\left[E\\left[\\sum_{i=1}^{N}\\frac{1}{\\tau}e^{-t_i/\\tau}\\bigg|N\\right]\\right]\\qquad\\text{condition on N} \\\\\n",
      " &= E\\left[\\sum_{i=1}^{N}E\\left[\\frac{1}{\\tau}e^{-t_i/\\tau}\\bigg|N\\right]\\right] \\\\\n",
      " &= E\\left[\\sum_{i=1}^{N}E\\left[\\frac{1}{\\tau}e^{-t_i/\\tau}\\right]\\right] \\\\\n",
      " &= E\\left[\\sum_{i=1}^{N}1\\right]E\\left[\\frac{1}{\\tau}e^{-t_i/\\tau}\\right] \\\\\n",
      " &= E[N]E\\left[\\frac{1}{\\tau}e^{-t_i/\\tau}\\right] \\\\\n",
      "\\end{aligned}\n"
     ],
     "language": "python",
     "metadata": {},
     "outputs": [
      {
       "latex": [
        "\\begin{aligned}\n",
        "E[X] &= E\\left[\\sum_{i=1}^{N}\\frac{1}{\\tau}e^{-t_i/\\tau}\\right] \\\\\n",
        " &= E\\left[E\\left[\\sum_{i=1}^{N}\\frac{1}{\\tau}e^{-t_i/\\tau}\\bigg|N\\right]\\right]\\qquad\\text{condition on N} \\\\\n",
        " &= E\\left[\\sum_{i=1}^{N}E\\left[\\frac{1}{\\tau}e^{-t_i/\\tau}\\bigg|N\\right]\\right] \\\\\n",
        " &= E\\left[\\sum_{i=1}^{N}E\\left[\\frac{1}{\\tau}e^{-t_i/\\tau}\\right]\\right] \\\\\n",
        " &= E\\left[\\sum_{i=1}^{N}1\\right]E\\left[\\frac{1}{\\tau}e^{-t_i/\\tau}\\right] \\\\\n",
        " &= E[N]E\\left[\\frac{1}{\\tau}e^{-t_i/\\tau}\\right] \\\\\n",
        "\\end{aligned}"
       ],
       "metadata": {},
       "output_type": "display_data",
       "text": [
        "<IPython.core.display.Latex at 0x15c2e10>"
       ]
      }
     ],
     "prompt_number": 1
    },
    {
     "cell_type": "markdown",
     "metadata": {},
     "source": [
      "Since the impulse response is a decaying exponential, it never reaches 0. To avoid having to then consider all spikes since the beginning of time,  we make the simplifying assumption that the impulse response is negligible after a certain time. That is, we only consider spikes within $k\\tau$ of the current time, where $k$ is an arbitrary, positive value. The higher $k$ is, the further back in time we consider. As $N$ is the number of spikes from a Poisson spike train with rate $\\lambda$ received within $k\\tau$, $E[N]=\\lambda k\\tau$. In addition, spike times within a time period are uniform for a Poisson spike train, so $t_i$ is uniform and"
     ]
    },
    {
     "cell_type": "code",
     "collapsed": false,
     "input": [
      "%%latex\n",
      "\\begin{aligned}\n",
      "E\\left[\\frac{1}{\\tau}e^{-t_i/\\tau}\\right] &= \\int_0^{k\\tau}\\frac{1}{k\\tau}\\frac{1}{\\tau}e^{-t_i/\\tau}dt_i \\\\\n",
      " &= \\frac{1}{k\\tau}\\int_0^{k\\tau}\\frac{1}{\\tau}e^{-t_i/\\tau}dt_i \\\\\n",
      " &= \\frac{1}{k\\tau}\\left(1-e^{-k\\tau/\\tau}\\right) \\\\\n",
      " &=  \\frac{1}{k\\tau}\\left(1-e^{-k}\\right)\n",
      "\\end{aligned}"
     ],
     "language": "python",
     "metadata": {},
     "outputs": [
      {
       "latex": [
        "\\begin{aligned}\n",
        "E\\left[\\frac{1}{\\tau}e^{-t_i/\\tau}\\right] &= \\int_0^{k\\tau}\\frac{1}{k\\tau}\\frac{1}{\\tau}e^{-t_i/\\tau}dt_i \\\\\n",
        " &= \\frac{1}{k\\tau}\\int_0^{k\\tau}\\frac{1}{\\tau}e^{-t_i/\\tau}dt_i \\\\\n",
        " &= \\frac{1}{k\\tau}\\left(1-e^{-k\\tau/\\tau}\\right) \\\\\n",
        " &=  \\frac{1}{k\\tau}\\left(1-e^{-k}\\right)\n",
        "\\end{aligned}"
       ],
       "metadata": {},
       "output_type": "display_data",
       "text": [
        "<IPython.core.display.Latex at 0x15cd210>"
       ]
      }
     ],
     "prompt_number": 2
    },
    {
     "cell_type": "markdown",
     "metadata": {},
     "source": [
      "Therefore "
     ]
    },
    {
     "cell_type": "code",
     "collapsed": false,
     "input": [
      "%%latex\n",
      "\\begin{aligned}\n",
      "E[X] &= E[N] E\\left[\\frac{1}{\\tau}e^{-t_i/\\tau}\\right] \\\\\n",
      " &= \\lambda k\\tau \\frac{1}{k\\tau}\\left(1-e^{-k}\\right) \\\\\n",
      " &= \\lambda \\left(1-e^{-k}\\right)\n",
      "\\end{aligned}"
     ],
     "language": "python",
     "metadata": {},
     "outputs": [
      {
       "latex": [
        "\\begin{aligned}\n",
        "E[X] &= E[N] E\\left[\\frac{1}{\\tau}e^{-t_i/\\tau}\\right] \\\\\n",
        " &= \\lambda k\\tau \\frac{1}{k\\tau}\\left(1-e^{-k}\\right) \\\\\n",
        " &= \\lambda \\left(1-e^{-k}\\right)\n",
        "\\end{aligned}"
       ],
       "metadata": {},
       "output_type": "display_data",
       "text": [
        "<IPython.core.display.Latex at 0x15cd110>"
       ]
      }
     ],
     "prompt_number": 3
    },
    {
     "cell_type": "markdown",
     "metadata": {},
     "source": [
      "Taking the limit as $k$ tends to infinity yields"
     ]
    },
    {
     "cell_type": "code",
     "collapsed": false,
     "input": [
      "%%latex\n",
      "\\begin{aligned}\n",
      "\\lim_{k\\rightarrow\\infty}E[X] &= \\lim_{k\\rightarrow\\infty}\\lambda \\left(1-e^{-k}\\right) \\\\\n",
      " &=\\lambda\n",
      "\\end{aligned}"
     ],
     "language": "python",
     "metadata": {},
     "outputs": [
      {
       "latex": [
        "\\begin{aligned}\n",
        "\\lim_{k\\rightarrow\\infty}E[X] &= \\lim_{k\\rightarrow\\infty}\\lambda \\left(1-e^{-k}\\right) \\\\\n",
        " &=\\lambda\n",
        "\\end{aligned}"
       ],
       "metadata": {},
       "output_type": "display_data",
       "text": [
        "<IPython.core.display.Latex at 0x15cd150>"
       ]
      }
     ],
     "prompt_number": 4
    },
    {
     "cell_type": "markdown",
     "metadata": {},
     "source": [
      "as would be expected."
     ]
    },
    {
     "cell_type": "heading",
     "level": 1,
     "metadata": {},
     "source": [
      "Syanpse variance"
     ]
    },
    {
     "cell_type": "markdown",
     "metadata": {},
     "source": [
      "By definition, \n",
      "\n",
      "$$Var(X) = E[X^2] - E[X]^2$$\n",
      "\n",
      "We've determined $E[X]$ already, so let's look at $E[X^2]$."
     ]
    },
    {
     "cell_type": "code",
     "collapsed": false,
     "input": [
      "%%latex\n",
      "\\begin{aligned}\n",
      "E[X^2] &= E\\left[\\left(\\sum_{i=1}^{N}\\frac{1}{\\tau}e^{-t_i/\\tau}\\right)^2\\right] \\\\\n",
      " &= E\\left[\\left(\\sum_{i=1}^{N}\\frac{1}{\\tau}e^{-t_i/\\tau}\\right)\\left(\\sum_{j=1}^{N}\\frac{1}{\\tau}e^{-t_j/\\tau}\\right)\\right] \\\\\n",
      " &= E\\left[\\frac{1}{\\tau^2}\\left(e^{-t_0/\\tau}+e^{-t_1/\\tau}+\\ldots+e^{-t_N/\\tau}\\right)\n",
      "  \\left(e^{-t_0/\\tau}+e^{-t_1/\\tau}+\\ldots+e^{-t_N/\\tau}\\right)\\right] \\\\\n",
      " &= E\\left[\\frac{1}{\\tau^2}\\left(\\overbrace{\\sum_{i=0}^{N-1}e^{-2t_i/\\tau}}^{\\text{squared terms}} + \n",
      "  \\overbrace{\\sum_{i=0,i\\neq j}^{N-1}\\sum_{j=0}^{N-1}e^{-t_i/\\tau}e^{-t_j/\\tau}}^{\\text{cross terms}}\\right)\\right] \\\\\n",
      " &= E\\left[\\frac{1}{\\tau}\\sum_{i=0}^{N-1}\\frac{1}{\\tau}e^{-2t_i/\\tau}+\n",
      "  \\sum_{i=0,i\\neq j}^{N-1}\\sum_{j=0}^{N-1}\\frac{1}{\\tau}e^{-t_i/\\tau}\\frac{1}{\\tau}e^{-t_j/\\tau}\\right] \\\\\n",
      " &= E\\left[\\frac{1}{\\tau}\\sum_{i=0}^{N-1}\\frac{1}{\\tau}e^{-2t_i/\\tau}\\right]+\n",
      "  E\\left[\\sum_{i=0,i\\neq j}^{N-1}\\sum_{j=0}^{N-1}\\frac{1}{\\tau}e^{-t_i/\\tau}\\frac{1}{\\tau}e^{-t_j/\\tau}\\right] \\\\\n",
      "\\end{aligned}"
     ],
     "language": "python",
     "metadata": {},
     "outputs": [
      {
       "latex": [
        "\\begin{aligned}\n",
        "E[X^2] &= E\\left[\\left(\\sum_{i=1}^{N}\\frac{1}{\\tau}e^{-t_i/\\tau}\\right)^2\\right] \\\\\n",
        " &= E\\left[\\left(\\sum_{i=1}^{N}\\frac{1}{\\tau}e^{-t_i/\\tau}\\right)\\left(\\sum_{j=1}^{N}\\frac{1}{\\tau}e^{-t_j/\\tau}\\right)\\right] \\\\\n",
        " &= E\\left[\\frac{1}{\\tau^2}\\left(e^{-t_0/\\tau}+e^{-t_1/\\tau}+\\ldots+e^{-t_N/\\tau}\\right)\n",
        "  \\left(e^{-t_0/\\tau}+e^{-t_1/\\tau}+\\ldots+e^{-t_N/\\tau}\\right)\\right] \\\\\n",
        " &= E\\left[\\frac{1}{\\tau^2}\\left(\\overbrace{\\sum_{i=0}^{N-1}e^{-2t_i/\\tau}}^{\\text{squared terms}} + \n",
        "  \\overbrace{\\sum_{i=0,i\\neq j}^{N-1}\\sum_{j=0}^{N-1}e^{-t_i/\\tau}e^{-t_j/\\tau}}^{\\text{cross terms}}\\right)\\right] \\\\\n",
        " &= E\\left[\\frac{1}{\\tau}\\sum_{i=0}^{N-1}\\frac{1}{\\tau}e^{-2t_i/\\tau}+\n",
        "  \\sum_{i=0,i\\neq j}^{N-1}\\sum_{j=0}^{N-1}\\frac{1}{\\tau}e^{-t_i/\\tau}\\frac{1}{\\tau}e^{-t_j/\\tau}\\right] \\\\\n",
        " &= E\\left[\\frac{1}{\\tau}\\sum_{i=0}^{N-1}\\frac{1}{\\tau}e^{-2t_i/\\tau}\\right]+\n",
        "  E\\left[\\sum_{i=0,i\\neq j}^{N-1}\\sum_{j=0}^{N-1}\\frac{1}{\\tau}e^{-t_i/\\tau}\\frac{1}{\\tau}e^{-t_j/\\tau}\\right] \\\\\n",
        "\\end{aligned}"
       ],
       "metadata": {},
       "output_type": "display_data",
       "text": [
        "<IPython.core.display.Latex at 0x15cda10>"
       ]
      }
     ],
     "prompt_number": 5
    },
    {
     "cell_type": "markdown",
     "metadata": {},
     "source": [
      "First, let's consider the squared terms. This is very similar to the derivation for $E[X]$"
     ]
    },
    {
     "cell_type": "code",
     "collapsed": false,
     "input": [
      "%%latex\n",
      "\\begin{aligned}\n",
      "E\\left[\\frac{1}{\\tau}\\sum_{i=0}^{N-1}\\frac{1}{\\tau}e^{-2t_i/\\tau}\\right] &= \n",
      " \\frac{1}{\\tau}E\\left[\\sum_{i=0}^{N-1}\\frac{1}{\\tau}e^{-2t_i/\\tau}\\right] \\\\\n",
      " &= \\frac{1}{\\tau}E\\left[E\\left[\\sum_{i=0}^{N-1}\\frac{1}{\\tau}e^{-2t_i/\\tau}\\bigg|N\\right]\\right] \\\\\n",
      " &= \\frac{1}{\\tau}E[N]E\\left[\\frac{1}{\\tau}e^{-2t_i/\\tau}\\right] \\\\\n",
      " &= \\frac{1}{\\tau}(\\lambda k\\tau)\\int_0^{k\\tau}\\frac{1}{\\tau}e^{-2t_i/\\tau}dt_i \\\\\n",
      " &= \\frac{\\lambda k}{2}\\left(1-e^{-2k\\tau/\\tau}\\right) \\\\\n",
      " &= \\frac{\\lambda k}{2}\\left(1-e^{-2k}\\right) \\\\\n",
      "\\end{aligned}"
     ],
     "language": "python",
     "metadata": {},
     "outputs": [
      {
       "latex": [
        "\\begin{aligned}\n",
        "E\\left[\\frac{1}{\\tau}\\sum_{i=0}^{N-1}\\frac{1}{\\tau}e^{-2t_i/\\tau}\\right] &= \n",
        " \\frac{1}{\\tau}E\\left[\\sum_{i=0}^{N-1}\\frac{1}{\\tau}e^{-2t_i/\\tau}\\right] \\\\\n",
        " &= \\frac{1}{\\tau}E\\left[E\\left[\\sum_{i=0}^{N-1}\\frac{1}{\\tau}e^{-2t_i/\\tau}\\bigg|N\\right]\\right] \\\\\n",
        " &= \\frac{1}{\\tau}E[N]E\\left[\\frac{1}{\\tau}e^{-2t_i/\\tau}\\right] \\\\\n",
        " &= \\frac{1}{\\tau}(\\lambda k\\tau)\\int_0^{k\\tau}\\frac{1}{\\tau}e^{-2t_i/\\tau}dt_i \\\\\n",
        " &= \\frac{\\lambda k}{2}\\left(1-e^{-2k\\tau/\\tau}\\right) \\\\\n",
        " &= \\frac{\\lambda k}{2}\\left(1-e^{-2k}\\right) \\\\\n",
        "\\end{aligned}"
       ],
       "metadata": {},
       "output_type": "display_data",
       "text": [
        "<IPython.core.display.Latex at 0x15cd9d0>"
       ]
      }
     ],
     "prompt_number": 6
    },
    {
     "cell_type": "markdown",
     "metadata": {},
     "source": [
      "Now let's consider the consider the cross terms."
     ]
    },
    {
     "cell_type": "code",
     "collapsed": false,
     "input": [
      "%%latex\n",
      "\\begin{aligned}\n",
      "E\\left[\\sum_{i=0,i\\neq j}^{N-1}\\sum_{j=0}^{N-1}\\frac{1}{\\tau}e^{-t_i/\\tau}\\frac{1}{\\tau}e^{-t_j/\\tau}\\right] &=\n",
      "   E\\left[E\\left[\\sum_{i=0,i\\neq j}^{N-1}\\sum_{j=0}^{N-1}\\frac{1}{\\tau}e^{-t_i/\\tau}\\frac{1}{\\tau}e^{-t_j/\\tau}\\bigg|N\\right]\\right] \\\\\n",
      "  &= E\\left[\\sum_{i=0,i\\neq j}^{N-1}\\sum_{j=0}^{N-1}E\\left[\\frac{1}{\\tau}e^{-t_i/\\tau}\\frac{1}{\\tau}e^{-t_j/\\tau}\\bigg|N\\right]\\right] \\\\\n",
      "  &= E\\left[\\sum_{i=0,i\\neq j}^{N-1}\\sum_{j=0}^{N-1}E\\left[\\frac{1}{\\tau}e^{-t_i/\\tau}\\frac{1}{\\tau}e^{-t_j/\\tau}\\right]\\right] \\\\\n",
      "  &= E\\left[\\sum_{i=0,i\\neq j}^{N-1}\\sum_{j=0}^{N-1}1\\right]E\\left[\\frac{1}{\\tau}e^{-t_i/\\tau}\\frac{1}{\\tau}e^{-t_j/\\tau}\\right] \\\\\n",
      "  &= E\\left[N^2-N\\right]E\\left[\\frac{1}{\\tau}e^{-t_i/\\tau}\\frac{1}{\\tau}e^{-t_j/\\tau}\\right] \\\\\n",
      "  &= E\\left[N^2-N\\right]E\\left[\\frac{1}{\\tau}e^{-t_i/\\tau}\\right]E\\left[\\frac{1}{\\tau}e^{-t_j/\\tau}\\right]\n",
      "   \\quad i\\neq j \\text{ so } t_i, t_j \\text{ are independent} \\\\\n",
      "  &= \\left(E\\left[N^2\\right]-E[N]\\right)\\left(1-e^{-k}\\right)\\left(1-e^{-k}\\right) \\\\\n",
      "  &= \\left(E\\left[N^2\\right]-E[N]\\right)\\left(1-e^{-k}\\right)^2 \\\\\n",
      "\\end{aligned}"
     ],
     "language": "python",
     "metadata": {},
     "outputs": [
      {
       "latex": [
        "\\begin{aligned}\n",
        "E\\left[\\sum_{i=0,i\\neq j}^{N-1}\\sum_{j=0}^{N-1}\\frac{1}{\\tau}e^{-t_i/\\tau}\\frac{1}{\\tau}e^{-t_j/\\tau}\\right] &=\n",
        "   E\\left[E\\left[\\sum_{i=0,i\\neq j}^{N-1}\\sum_{j=0}^{N-1}\\frac{1}{\\tau}e^{-t_i/\\tau}\\frac{1}{\\tau}e^{-t_j/\\tau}\\bigg|N\\right]\\right] \\\\\n",
        "  &= E\\left[\\sum_{i=0,i\\neq j}^{N-1}\\sum_{j=0}^{N-1}E\\left[\\frac{1}{\\tau}e^{-t_i/\\tau}\\frac{1}{\\tau}e^{-t_j/\\tau}\\bigg|N\\right]\\right] \\\\\n",
        "  &= E\\left[\\sum_{i=0,i\\neq j}^{N-1}\\sum_{j=0}^{N-1}E\\left[\\frac{1}{\\tau}e^{-t_i/\\tau}\\frac{1}{\\tau}e^{-t_j/\\tau}\\right]\\right] \\\\\n",
        "  &= E\\left[\\sum_{i=0,i\\neq j}^{N-1}\\sum_{j=0}^{N-1}1\\right]E\\left[\\frac{1}{\\tau}e^{-t_i/\\tau}\\frac{1}{\\tau}e^{-t_j/\\tau}\\right] \\\\\n",
        "  &= E\\left[N^2-N\\right]E\\left[\\frac{1}{\\tau}e^{-t_i/\\tau}\\frac{1}{\\tau}e^{-t_j/\\tau}\\right] \\\\\n",
        "  &= E\\left[N^2-N\\right]E\\left[\\frac{1}{\\tau}e^{-t_i/\\tau}\\right]E\\left[\\frac{1}{\\tau}e^{-t_j/\\tau}\\right]\n",
        "   \\quad i\\neq j \\text{ so } t_i, t_j \\text{ are independent} \\\\\n",
        "  &= \\left(E\\left[N^2\\right]-E[N]\\right)\\left(1-e^{-k}\\right)\\left(1-e^{-k}\\right) \\\\\n",
        "  &= \\left(E\\left[N^2\\right]-E[N]\\right)\\left(1-e^{-k}\\right)^2 \\\\\n",
        "\\end{aligned}"
       ],
       "metadata": {},
       "output_type": "display_data",
       "text": [
        "<IPython.core.display.Latex at 0x15cd250>"
       ]
      }
     ],
     "prompt_number": 7
    },
    {
     "cell_type": "markdown",
     "metadata": {},
     "source": [
      "For poisson random variable $N$ with parameter $\\lambda k\\tau$, $Var(N)=E[N]=\\lambda k\\tau$"
     ]
    },
    {
     "cell_type": "code",
     "collapsed": false,
     "input": [
      "%%latex\n",
      "\\begin{aligned}\n",
      "\\lambda k\\tau &= E\\left[N^2\\right]-E[N]^2 \\\\\n",
      " &= E\\left[N^2\\right] - (\\lambda k\\tau)^2 \\\\\n",
      "E\\left[N^2\\right] &= \\lambda k\\tau + (\\lambda k\\tau)^2 \n",
      "\\end{aligned}"
     ],
     "language": "python",
     "metadata": {},
     "outputs": [
      {
       "latex": [
        "\\begin{aligned}\n",
        "\\lambda k\\tau &= E\\left[N^2\\right]-E[N]^2 \\\\\n",
        " &= E\\left[N^2\\right] - (\\lambda k\\tau)^2 \\\\\n",
        "E\\left[N^2\\right] &= \\lambda k\\tau + (\\lambda k\\tau)^2 \n",
        "\\end{aligned}"
       ],
       "metadata": {},
       "output_type": "display_data",
       "text": [
        "<IPython.core.display.Latex at 0x15cd050>"
       ]
      }
     ],
     "prompt_number": 8
    },
    {
     "cell_type": "markdown",
     "metadata": {},
     "source": [
      "Returning to the Expected cross term derivation"
     ]
    },
    {
     "cell_type": "code",
     "collapsed": false,
     "input": [
      "%%latex\n",
      "\\begin{aligned}\n",
      "E\\left[\\sum_{i=0,i\\neq j}^{N-1}\\sum_{j=0}^{N-1}\\frac{1}{\\tau}e^{-t_i/\\tau}\\frac{1}{\\tau}e^{-t_j/\\tau}\\right] &=\n",
      "    \\left(E\\left[N^2\\right]-E[N]\\right)\\left(1-e^{-k}\\right)^2 \\\\\n",
      " &= \\left(\\lambda k\\tau + (\\lambda k\\tau)^2 - \\lambda k\\tau\\right)\\left(1-e^{-k}\\right)^2 \\\\\n",
      " &= \\left(\\lambda k\\tau\\right)^2\\left(1-e^{-k}\\right)^2 \\\\\n",
      " &= \\left(\\lambda k\\tau\\right)^2\\left(1-e^{-k}\\right)^2 \\\\\n",
      "\\end{aligned}"
     ],
     "language": "python",
     "metadata": {},
     "outputs": [
      {
       "latex": [
        "\\begin{aligned}\n",
        "E\\left[\\sum_{i=0,i\\neq j}^{N-1}\\sum_{j=0}^{N-1}\\frac{1}{\\tau}e^{-t_i/\\tau}\\frac{1}{\\tau}e^{-t_j/\\tau}\\right] &=\n",
        "    \\left(E\\left[N^2\\right]-E[N]\\right)\\left(1-e^{-k}\\right)^2 \\\\\n",
        " &= \\left(\\lambda k\\tau + (\\lambda k\\tau)^2 - \\lambda k\\tau\\right)\\left(1-e^{-k}\\right)^2 \\\\\n",
        " &= \\left(\\lambda k\\tau\\right)^2\\left(1-e^{-k}\\right)^2 \\\\\n",
        " &= \\left(\\lambda k\\tau\\right)^2\\left(1-e^{-k}\\right)^2 \\\\\n",
        "\\end{aligned}"
       ],
       "metadata": {},
       "output_type": "display_data",
       "text": [
        "<IPython.core.display.Latex at 0x15cdb90>"
       ]
      }
     ],
     "prompt_number": 9
    },
    {
     "cell_type": "markdown",
     "metadata": {},
     "source": [
      "Putting the Expectation of the squared terms with the Expectation of the cross terms,"
     ]
    },
    {
     "cell_type": "code",
     "collapsed": false,
     "input": [
      "%%latex\n",
      "\\begin{aligned}\n",
      "E\\left[X^2\\right] &= + E\\left[\\frac{1}{\\tau}\\sum_{i=0}^{N-1}\\frac{1}{\\tau}e^{-2t_i/\\tau}\\right] +\n",
      "    E\\left[\\sum_{i=0,i\\neq j}^{N-1}\\sum_{j=0}^{N-1}\\frac{1}{\\tau}e^{-t_i/\\tau}\\frac{1}{\\tau}e^{-t_j/\\tau}\\right] \\\\\n",
      " &= \\frac{\\lambda k}{2}\\left(1-e^{-2k}\\right) + \\left(\\lambda k\\tau\\right)^2\\left(1-e^{-k}\\right)^2\n",
      "\\end{aligned}"
     ],
     "language": "python",
     "metadata": {},
     "outputs": [
      {
       "latex": [
        "\\begin{aligned}\n",
        "E\\left[X^2\\right] &= + E\\left[\\frac{1}{\\tau}\\sum_{i=0}^{N-1}\\frac{1}{\\tau}e^{-2t_i/\\tau}\\right] +\n",
        "    E\\left[\\sum_{i=0,i\\neq j}^{N-1}\\sum_{j=0}^{N-1}\\frac{1}{\\tau}e^{-t_i/\\tau}\\frac{1}{\\tau}e^{-t_j/\\tau}\\right] \\\\\n",
        " &= \\frac{\\lambda k}{2}\\left(1-e^{-2k}\\right) + \\left(\\lambda k\\tau\\right)^2\\left(1-e^{-k}\\right)^2\n",
        "\\end{aligned}"
       ],
       "metadata": {},
       "output_type": "display_data",
       "text": [
        "<IPython.core.display.Latex at 0x15cdad0>"
       ]
      }
     ],
     "prompt_number": 10
    },
    {
     "cell_type": "markdown",
     "metadata": {},
     "source": [
      "Plugging into the variance equation,"
     ]
    },
    {
     "cell_type": "code",
     "collapsed": false,
     "input": [
      "%%latex\n",
      "\\begin{aligned}\n",
      "Var(X) &= E[X^2] - E[X]^2 \\\\\n",
      " &= \\frac{\\lambda k}{2}\\left(1-e^{-2k}\\right) + \\left(\\lambda k\\tau\\right)^2\\left(1-e^{-k}\\right)^2 \n",
      "    - \\left(\\lambda \\left(1-e^{-k}\\right)\\right)^2 \\\\\n",
      " &= \\frac{\\lambda k}{2}\\left(1-e^{-2k}\\right) + \\left(\\lambda k\\tau\\right)^2\\left(1-e^{-k}\\right)^2 \n",
      "    - \\lambda^2 \\left(1-e^{-k}\\right)^2 \\\\\n",
      " &= \\frac{\\lambda k}{2}\\left(1-e^{-2k}\\right) + \\lambda^2\\left(1-e^{-k}\\right)^2\\left(k^2\\tau^2-1\\right)^2\n",
      "\\end{aligned}"
     ],
     "language": "python",
     "metadata": {},
     "outputs": [
      {
       "latex": [
        "\\begin{aligned}\n",
        "Var(X) &= E[X^2] - E[X]^2 \\\\\n",
        " &= \\frac{\\lambda k}{2}\\left(1-e^{-2k}\\right) + \\left(\\lambda k\\tau\\right)^2\\left(1-e^{-k}\\right)^2 \n",
        "    - \\left(\\lambda \\left(1-e^{-k}\\right)\\right)^2 \\\\\n",
        " &= \\frac{\\lambda k}{2}\\left(1-e^{-2k}\\right) + \\left(\\lambda k\\tau\\right)^2\\left(1-e^{-k}\\right)^2 \n",
        "    - \\lambda^2 \\left(1-e^{-k}\\right)^2 \\\\\n",
        " &= \\frac{\\lambda k}{2}\\left(1-e^{-2k}\\right) + \\lambda^2\\left(1-e^{-k}\\right)^2\\left(k^2\\tau^2-1\\right)^2\n",
        "\\end{aligned}"
       ],
       "metadata": {},
       "output_type": "display_data",
       "text": [
        "<IPython.core.display.Latex at 0x15cdb50>"
       ]
      }
     ],
     "prompt_number": 11
    },
    {
     "cell_type": "markdown",
     "metadata": {},
     "source": [
      "Taking the limit of $k$ as $k$ tends to infinity does not converge."
     ]
    },
    {
     "cell_type": "heading",
     "level": 1,
     "metadata": {},
     "source": [
      "Synapse SNR"
     ]
    },
    {
     "cell_type": "code",
     "collapsed": false,
     "input": [
      "%%latex\n",
      "\\begin{aligned}\n",
      "SNR &= \\frac{\\mu}{\\sigma} \\\\\n",
      " &= \\frac{\\lambda \\left(1-e^{-k}\\right)}\n",
      "    {\\sqrt{\\frac{\\lambda k}{2}\\left(1-e^{-2k}\\right) + \\lambda^2\\left(1-e^{-k}\\right)^2\\left(k^2\\tau^2-1\\right)^2}} \\\\\n",
      " &\\approx \\frac{\\lambda}\n",
      "    {\\sqrt{\\frac{\\lambda k}{2} + \\lambda^2\\left(k^2\\tau^2-1\\right)^2}} \\quad \\text{eliminate terms that go to 0}\\\\\n",
      " &\\approx \\frac{\\lambda}\n",
      "    {\\sqrt{\\lambda^2\\left(k^2\\tau^2-1\\right)^2}}  \\quad \\text{squared terms grow faster than linear terms}\\\\\n",
      " &= \\frac{\\lambda}\n",
      "    {\\lambda\\left(k^2\\tau^2-1\\right)} \\\\\n",
      " &= \\frac{1}\n",
      "    {\\left(k^2\\tau^2-1\\right)} \\\\\n",
      "\\end{aligned}"
     ],
     "language": "python",
     "metadata": {},
     "outputs": [
      {
       "latex": [
        "\\begin{aligned}\n",
        "SNR &= \\frac{\\mu}{\\sigma} \\\\\n",
        " &= \\frac{\\lambda \\left(1-e^{-k}\\right)}\n",
        "    {\\sqrt{\\frac{\\lambda k}{2}\\left(1-e^{-2k}\\right) + \\lambda^2\\left(1-e^{-k}\\right)^2\\left(k^2\\tau^2-1\\right)^2}} \\\\\n",
        " &\\approx \\frac{\\lambda}\n",
        "    {\\sqrt{\\frac{\\lambda k}{2} + \\lambda^2\\left(k^2\\tau^2-1\\right)^2}} \\quad \\text{eliminate terms that go to 0}\\\\\n",
        " &\\approx \\frac{\\lambda}\n",
        "    {\\sqrt{\\lambda^2\\left(k^2\\tau^2-1\\right)^2}}  \\quad \\text{squared terms grow faster than linear terms}\\\\\n",
        " &= \\frac{\\lambda}\n",
        "    {\\lambda\\left(k^2\\tau^2-1\\right)} \\\\\n",
        " &= \\frac{1}\n",
        "    {\\left(k^2\\tau^2-1\\right)} \\\\\n",
        "\\end{aligned}"
       ],
       "metadata": {},
       "output_type": "display_data",
       "text": [
        "<IPython.core.display.Latex at 0x15cdc50>"
       ]
      }
     ],
     "prompt_number": 12
    },
    {
     "cell_type": "markdown",
     "metadata": {},
     "source": [
      "This seems to counteract intuition that SNR grows with input spiking frequency and with synaptic time constant. \n",
      "\n",
      "Perhaps there is an error in the math somewhere?"
     ]
    }
   ],
   "metadata": {}
  }
 ]
}