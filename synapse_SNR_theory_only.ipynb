{
 "metadata": {
  "name": "",
  "signature": "sha256:31ac2215981637ade2b27db4e117cee4a40ea36d430aa779ecaa85862b8b9cfe"
 },
 "nbformat": 3,
 "nbformat_minor": 0,
 "worksheets": [
  {
   "cells": [
    {
     "cell_type": "heading",
     "level": 1,
     "metadata": {},
     "source": [
      "Notebook description"
     ]
    },
    {
     "cell_type": "markdown",
     "metadata": {},
     "source": [
      "This notebook looks at the signal to noise ratio (SNR) of different synapse implementations.\n",
      "\n",
      "$$SNR = \\mu / \\sigma$$\n",
      "\n",
      "at the steady state where $\\mu$ is the mean of the signal and $\\sigma$ is the standard devation of the signal.\n",
      "\n",
      "The synapse is a first order lowpass filter described by\n",
      "$$\\tau\\dot{x}=-x+u$$\n",
      "\n",
      "where $x$ is the synapse state and $u$ is the input. $u$ is the spike input. Each spike delivers an impulse input to the synapse.  That is,\n",
      "$$u=\\sum_i\\delta(t-t_i)$$\n",
      "\n",
      "We model the input spike train as a Poisson process with frequency $\\lambda$.\n",
      "\n",
      "We would like to obtain expressions for $\\mu=E[X]$ and $\\sigma = \\sqrt{Var(X)}$ where $X$ is the random variable describing the state of the synapse. \n",
      "\n",
      "Consider from the perspective of a point in time of the synapse. Each spike that arrive before that point in time contributes \n",
      "\n",
      "$$\\frac{1}{\\tau}e^{-t_i/\\tau}$$\n",
      "\n",
      "to the synapse's state. The value of the synapse is then\n",
      "\n",
      "$$x=\\sum_{i=1}^{N} \\frac{1}{\\tau}e^{-t_i/\\tau}$$\n",
      "\n",
      "where $N$ is the number of spikes received and $t_i$ is the time since arrival of the $i$th spike. "
     ]
    },
    {
     "cell_type": "heading",
     "level": 1,
     "metadata": {},
     "source": [
      "Synapse mean"
     ]
    },
    {
     "cell_type": "markdown",
     "metadata": {},
     "source": [
      "For random variable, $N$, describing the number of spikes received, and random variable, $t_i$, describing the time since the arrival of the $i$th spike. "
     ]
    },
    {
     "cell_type": "markdown",
     "metadata": {},
     "source": [
      "\\begin{aligned}\n",
      "E[X] &= E\\left[\\sum_{i=1}^{N}\\frac{1}{\\tau}e^{-t_i/\\tau}\\right] \\\\\n",
      " &= E\\left[E\\left[\\sum_{i=1}^{N}\\frac{1}{\\tau}e^{-t_i/\\tau}\\bigg|N\\right]\\right]\\qquad\\text{condition on N} \\\\\n",
      " &= E\\left[\\sum_{i=1}^{N}E\\left[\\frac{1}{\\tau}e^{-t_i/\\tau}\\bigg|N\\right]\\right] \\\\\n",
      " &= E\\left[\\sum_{i=1}^{N}E\\left[\\frac{1}{\\tau}e^{-t_i/\\tau}\\right]\\right] \\\\\n",
      " &= E\\left[\\sum_{i=1}^{N}1\\right]E\\left[\\frac{1}{\\tau}e^{-t_i/\\tau}\\right] \\\\\n",
      " &= E[N]E\\left[\\frac{1}{\\tau}e^{-t_i/\\tau}\\right] \\\\\n",
      "\\end{aligned}\n"
     ]
    },
    {
     "cell_type": "markdown",
     "metadata": {},
     "source": [
      "Since the impulse response is a decaying exponential, it never reaches 0. To avoid having to then consider all spikes since the beginning of time,  we make the simplifying assumption that the impulse response is negligible after a certain time. That is, we only consider spikes within $k\\tau$ of the current time, where $k$ is an arbitrary, positive value. The higher $k$ is, the further back in time we consider. As $N$ is the number of spikes from a Poisson spike train with rate $\\lambda$ received within $k\\tau$, $E[N]=\\lambda k\\tau$. In addition, spike times within a time period are uniform for a Poisson spike train, so $t_i$ is uniform and"
     ]
    },
    {
     "cell_type": "markdown",
     "metadata": {},
     "source": [
      "\\begin{aligned}\n",
      "E\\left[\\frac{1}{\\tau}e^{-t_i/\\tau}\\right] &= \\int_0^{k\\tau}\\frac{1}{k\\tau}\\frac{1}{\\tau}e^{-t_i/\\tau}dt_i \\\\\n",
      " &= \\frac{1}{k\\tau}\\int_0^{k\\tau}\\frac{1}{\\tau}e^{-t_i/\\tau}dt_i \\\\\n",
      " &= \\frac{1}{k\\tau}\\left(1-e^{-k\\tau/\\tau}\\right) \\\\\n",
      " &=  \\frac{1}{k\\tau}\\left(1-e^{-k}\\right)\n",
      "\\end{aligned}"
     ]
    },
    {
     "cell_type": "markdown",
     "metadata": {},
     "source": [
      "Therefore "
     ]
    },
    {
     "cell_type": "markdown",
     "metadata": {},
     "source": [
      "\\begin{aligned}\n",
      "E[X] &= E[N] E\\left[\\frac{1}{\\tau}e^{-t_i/\\tau}\\right] \\\\\n",
      " &= \\lambda k\\tau \\frac{1}{k\\tau}\\left(1-e^{-k}\\right) \\\\\n",
      " &= \\lambda \\left(1-e^{-k}\\right)\n",
      "\\end{aligned}"
     ]
    },
    {
     "cell_type": "markdown",
     "metadata": {},
     "source": [
      "Taking the limit as $k$ tends to infinity yields"
     ]
    },
    {
     "cell_type": "markdown",
     "metadata": {},
     "source": [
      "\\begin{aligned}\n",
      "\\lim_{k\\rightarrow\\infty}E[X] &= \\lim_{k\\rightarrow\\infty}\\lambda \\left(1-e^{-k}\\right) \\\\\n",
      " &=\\lambda\n",
      "\\end{aligned}"
     ]
    },
    {
     "cell_type": "markdown",
     "metadata": {},
     "source": [
      "as would be expected."
     ]
    },
    {
     "cell_type": "heading",
     "level": 1,
     "metadata": {},
     "source": [
      "Syanpse variance"
     ]
    },
    {
     "cell_type": "markdown",
     "metadata": {},
     "source": [
      "By definition, \n",
      "\n",
      "$$\\operatorname{Var}(X) = E[X^2] - E[X]^2$$\n",
      "\n",
      "We've determined $E[X]$ already, so let's look at $E[X^2]$."
     ]
    },
    {
     "cell_type": "markdown",
     "metadata": {},
     "source": [
      "\\begin{aligned}\n",
      "E[X^2] &= E\\left[\\left(\\sum_{i=1}^{N}\\frac{1}{\\tau}e^{-t_i/\\tau}\\right)^2\\right] \\\\\n",
      " &= E\\left[\\left(\\sum_{i=1}^{N}\\frac{1}{\\tau}e^{-t_i/\\tau}\\right)\\left(\\sum_{j=1}^{N}\\frac{1}{\\tau}e^{-t_j/\\tau}\\right)\\right] \\\\\n",
      " &= E\\left[\\frac{1}{\\tau^2}\\left(e^{-t_0/\\tau}+e^{-t_1/\\tau}+\\ldots+e^{-t_N/\\tau}\\right)\n",
      "  \\left(e^{-t_0/\\tau}+e^{-t_1/\\tau}+\\ldots+e^{-t_N/\\tau}\\right)\\right] \\\\\n",
      " &= E\\left[\\frac{1}{\\tau^2}\\left(\\overbrace{\\sum_{i=0}^{N-1}e^{-2t_i/\\tau}}^{\\text{squared terms}} + \n",
      "  \\overbrace{\\sum_{i=0,i\\neq j}^{N-1}\\sum_{j=0}^{N-1}e^{-t_i/\\tau}e^{-t_j/\\tau}}^{\\text{cross terms}}\\right)\\right] \\\\\n",
      " &= E\\left[\\frac{1}{\\tau}\\sum_{i=0}^{N-1}\\frac{1}{\\tau}e^{-2t_i/\\tau}+\n",
      "  \\sum_{i=0,i\\neq j}^{N-1}\\sum_{j=0}^{N-1}\\frac{1}{\\tau}e^{-t_i/\\tau}\\frac{1}{\\tau}e^{-t_j/\\tau}\\right] \\\\\n",
      " &= E\\left[\\frac{1}{\\tau}\\sum_{i=0}^{N-1}\\frac{1}{\\tau}e^{-2t_i/\\tau}\\right]+\n",
      "  E\\left[\\sum_{i=0,i\\neq j}^{N-1}\\sum_{j=0}^{N-1}\\frac{1}{\\tau}e^{-t_i/\\tau}\\frac{1}{\\tau}e^{-t_j/\\tau}\\right] \\\\\n",
      "\\end{aligned}"
     ]
    },
    {
     "cell_type": "markdown",
     "metadata": {},
     "source": [
      "First, let's consider the squared terms. This is very similar to the derivation for $E[X]$"
     ]
    },
    {
     "cell_type": "markdown",
     "metadata": {},
     "source": [
      "\\begin{aligned}\n",
      "E\\left[\\frac{1}{\\tau}\\sum_{i=0}^{N-1}\\frac{1}{\\tau}e^{-2t_i/\\tau}\\right] &= \n",
      " \\frac{1}{\\tau}E\\left[\\sum_{i=0}^{N-1}\\frac{1}{\\tau}e^{-2t_i/\\tau}\\right] \\\\\n",
      " &= \\frac{1}{\\tau}E\\left[E\\left[\\sum_{i=0}^{N-1}\\frac{1}{\\tau}e^{-2t_i/\\tau}\\bigg|N\\right]\\right] \\\\\n",
      " &= \\frac{1}{\\tau}E[N]E\\left[\\frac{1}{\\tau}e^{-2t_i/\\tau}\\right] \\\\\n",
      " &= \\frac{1}{\\tau}(\\lambda k\\tau)\\int_0^{k\\tau}\\frac{1}{k\\tau}\\frac{1}{\\tau}e^{-2t_i/\\tau}dt_i \\\\\n",
      " &= \\frac{\\lambda}{\\tau}\\int_0^{k\\tau}\\frac{1}{\\tau}e^{-2t_i/\\tau}dt_i \\\\\n",
      " &= \\frac{\\lambda}{2\\tau}\\left(1-e^{-2k\\tau/\\tau}\\right) \\\\\n",
      " &= \\frac{\\lambda}{2\\tau}\\left(1-e^{-2k}\\right) \\\\\n",
      "\\end{aligned}"
     ]
    },
    {
     "cell_type": "markdown",
     "metadata": {},
     "source": [
      "Now let's consider the consider the cross terms."
     ]
    },
    {
     "cell_type": "markdown",
     "metadata": {},
     "source": [
      "\\begin{aligned}\n",
      "E\\left[\\sum_{i=0,i\\neq j}^{N-1}\\sum_{j=0}^{N-1}\\frac{1}{\\tau}e^{-t_i/\\tau}\\frac{1}{\\tau}e^{-t_j/\\tau}\\right] &=\n",
      "   E\\left[E\\left[\\sum_{i=0,i\\neq j}^{N-1}\\sum_{j=0}^{N-1}\\frac{1}{\\tau}e^{-t_i/\\tau}\\frac{1}{\\tau}e^{-t_j/\\tau}\\bigg|N\\right]\\right] \\\\\n",
      "  &= E\\left[\\sum_{i=0,i\\neq j}^{N-1}\\sum_{j=0}^{N-1}E\\left[\\frac{1}{\\tau}e^{-t_i/\\tau}\\frac{1}{\\tau}e^{-t_j/\\tau}\\bigg|N\\right]\\right] \\\\\n",
      "  &= E\\left[\\sum_{i=0,i\\neq j}^{N-1}\\sum_{j=0}^{N-1}E\\left[\\frac{1}{\\tau}e^{-t_i/\\tau}\\frac{1}{\\tau}e^{-t_j/\\tau}\\right]\\right] \\\\\n",
      "  &= E\\left[\\sum_{i=0,i\\neq j}^{N-1}\\sum_{j=0}^{N-1}1\\right]E\\left[\\frac{1}{\\tau}e^{-t_i/\\tau}\\frac{1}{\\tau}e^{-t_j/\\tau}\\right] \\\\\n",
      "  &= E\\left[N^2-N\\right]E\\left[\\frac{1}{\\tau}e^{-t_i/\\tau}\\frac{1}{\\tau}e^{-t_j/\\tau}\\right] \\\\\n",
      "  &= \\left(E\\left[N^2\\right]-E[N]\\right)E\\left[\\frac{1}{\\tau}e^{-t_i/\\tau}\\right]E\\left[\\frac{1}{\\tau}e^{-t_j/\\tau}\\right]\n",
      "   \\quad i\\neq j \\text{ so } t_i, t_j \\text{ are independent} \\\\\n",
      "  &= \\left(E\\left[N^2\\right]-E[N]\\right)\\frac{1}{k\\tau}\\left(1-e^{-k}\\right)\\frac{1}{k\\tau}\\left(1-e^{-k}\\right) \\\\\n",
      "  &= \\left(E\\left[N^2\\right]-E[N]\\right)\\frac{1}{k^2\\tau^2}\\left(1-e^{-k}\\right)^2 \\\\\n",
      "\\end{aligned}"
     ]
    },
    {
     "cell_type": "markdown",
     "metadata": {},
     "source": [
      "For poisson random variable $N$ with parameter $\\lambda k\\tau$, $\\operatorname{Var}(N)=E[N]=\\lambda k\\tau$"
     ]
    },
    {
     "cell_type": "markdown",
     "metadata": {},
     "source": [
      "\\begin{aligned}\n",
      "\\lambda k\\tau &= E\\left[N^2\\right]-E[N]^2 \\\\\n",
      " &= E\\left[N^2\\right] - (\\lambda k\\tau)^2 \\\\\n",
      "E\\left[N^2\\right] &= \\lambda k\\tau + (\\lambda k\\tau)^2 \n",
      "\\end{aligned}"
     ]
    },
    {
     "cell_type": "markdown",
     "metadata": {},
     "source": [
      "Returning to the Expected cross term derivation"
     ]
    },
    {
     "cell_type": "markdown",
     "metadata": {},
     "source": [
      "\\begin{aligned}\n",
      "E\\left[\\sum_{i=0,i\\neq j}^{N-1}\\sum_{j=0}^{N-1}\\frac{1}{\\tau}e^{-t_i/\\tau}\\frac{1}{\\tau}e^{-t_j/\\tau}\\right] &=\n",
      "    \\left(E\\left[N^2\\right]-E[N]\\right)\\frac{1}{k^2\\tau^2}\\left(1-e^{-k}\\right)^2 \\\\\n",
      " &= \\left(\\lambda k\\tau + (\\lambda k\\tau)^2 - \\lambda k\\tau\\right)\\frac{1}{k^2\\tau^2}\\left(1-e^{-k}\\right)^2 \\\\\n",
      " &= \\left(\\lambda k\\tau\\right)^2\\frac{1}{k^2\\tau^2}\\left(1-e^{-k}\\right)^2 \\\\\n",
      " &= \\lambda^2\\left(1-e^{-k}\\right)^2 \\\\\n",
      "\\end{aligned}"
     ]
    },
    {
     "cell_type": "markdown",
     "metadata": {},
     "source": [
      "Putting the Expectation of the squared terms with the Expectation of the cross terms,"
     ]
    },
    {
     "cell_type": "markdown",
     "metadata": {},
     "source": [
      "\\begin{aligned}\n",
      "E\\left[X^2\\right] &= E\\left[\\frac{1}{\\tau}\\sum_{i=0}^{N-1}\\frac{1}{\\tau}e^{-2t_i/\\tau}\\right] +\n",
      "    E\\left[\\sum_{i=0,i\\neq j}^{N-1}\\sum_{j=0}^{N-1}\\frac{1}{\\tau}e^{-t_i/\\tau}\\frac{1}{\\tau}e^{-t_j/\\tau}\\right] \\\\\n",
      " &= \\frac{\\lambda}{2\\tau}\\left(1-e^{-2k}\\right) + \\lambda^2\\left(1-e^{-k}\\right)^2\n",
      "\\end{aligned}"
     ]
    },
    {
     "cell_type": "markdown",
     "metadata": {},
     "source": [
      "Plugging into the variance equation,"
     ]
    },
    {
     "cell_type": "markdown",
     "metadata": {},
     "source": [
      "\\begin{aligned}\n",
      "\\operatorname{Var}(X) &= E[X^2] - E[X]^2 \\\\\n",
      " &= \\frac{\\lambda}{2\\tau}\\left(1-e^{-2k}\\right) + \\lambda^2\\left(1-e^{-k}\\right)^2 \n",
      "    - \\left(\\lambda \\left(1-e^{-k}\\right)\\right)^2 \\\\\n",
      " &= \\frac{\\lambda}{2\\tau}\\left(1-e^{-2k}\\right) + \\lambda^2\\left(1-e^{-k}\\right)^2 \n",
      "    - \\lambda^2\\left(1-e^{-k}\\right)^2 \\\\\n",
      " &= \\frac{\\lambda}{2\\tau}\\left(1-e^{-2k}\\right) \\\\\n",
      "\\end{aligned}"
     ]
    },
    {
     "cell_type": "markdown",
     "metadata": {},
     "source": [
      "Taking the limit of $k$ as $k$ tends to infinity yields"
     ]
    },
    {
     "cell_type": "markdown",
     "metadata": {},
     "source": [
      "\\begin{align}\n",
      "\\lim_{k\\rightarrow\\infty}\\operatorname{Var}(X) &= \\lim_{k\\rightarrow\\infty} \\frac{\\lambda}{2\\tau}\\left(1-e^{-2k}\\right) \\\\\n",
      " &= \\frac{\\lambda}{2\\tau}\n",
      "\\end{align}"
     ]
    },
    {
     "cell_type": "heading",
     "level": 1,
     "metadata": {},
     "source": [
      "Synapse SNR"
     ]
    },
    {
     "cell_type": "markdown",
     "metadata": {},
     "source": [
      "\\begin{aligned}\n",
      "SNR &= \\frac{\\mu}{\\sigma} \\\\\n",
      " &= \\frac{\\lambda}{\\sqrt{\\lambda/2\\tau}} \\\\\n",
      " &= \\sqrt{2\\lambda\\tau}\n",
      "\\end{aligned}"
     ]
    }
   ],
   "metadata": {}
  }
 ]
}