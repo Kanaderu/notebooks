{
 "metadata": {
  "name": "",
  "signature": "sha256:37fc26f862dd4ed5a499f295e6f7434feaf4970e1636d6e7e316eb4605445106"
 },
 "nbformat": 3,
 "nbformat_minor": 0,
 "worksheets": [
  {
   "cells": [
    {
     "cell_type": "heading",
     "level": 1,
     "metadata": {},
     "source": [
      "Notebook description"
     ]
    },
    {
     "cell_type": "markdown",
     "metadata": {},
     "source": [
      "NEF provides a method for mapping dynamical systems on to a population of neurons with recurrent connections.\n",
      "\n",
      "This notebook rehashes the NEF derivation and seeks answers to:\n",
      " - How can we say that the population dynamics are dominated by the synaptic time constant?\n",
      " - Is the NEF method robust to using different neuron models?\n",
      " - How does delay change the dynamics? (related to previous point)"
     ]
    },
    {
     "cell_type": "heading",
     "level": 1,
     "metadata": {},
     "source": [
      "How to find weights that map a dynamical system onto a recurrent neural system"
     ]
    },
    {
     "cell_type": "markdown",
     "metadata": {},
     "source": [
      "To implement the linear dynamical system\n",
      "\n",
      "![linear system](figures/linear_system.png \"linear system\")\n",
      "\n",
      "using the neurally plausible system\n",
      "\n",
      "![neural system](figures/neural_system.png \"neural system\")\n",
      "\n",
      "we find the $A'$ and $B'$ that make the neural system behave like the linear dynamical system. $h(t)=\\frac{1}{\\tau}e^{-t/\\tau}s(t)$ is the synaptic impulse response where $s(t)$ is the step function."
     ]
    },
    {
     "cell_type": "markdown",
     "metadata": {},
     "source": [
      "The the linear dynamical system is governed by\n",
      "\n",
      "\\begin{align}\n",
      "\\dot{x}(t) &= Ax(t)+Bu(t) \\\\\n",
      "sX(s) &= AX(s) + BU(s) \\\\\n",
      "\\end{align}\n",
      "\n",
      "The neural system is governed by\n",
      "\n",
      "\\begin{align}\n",
      "x(t) &= h(t)*[A'x(t)+B'u(t)] \\\\\n",
      "X(s) &= H(s)[A'X(s)+B'U(s)] \\\\\n",
      "\\end{align}\n",
      "\n",
      "Rearranging,\n",
      "\n",
      "\\begin{align}\n",
      "X(s) &= H(s)[A'X(s)+B'U(s)] \\\\\n",
      " &= \\frac{1}{\\tau s+1}[A'X(s)+B'U(s)] \\\\\n",
      "(\\tau s+I)X(s) &= A'X(s)+B'U(s) \\\\\n",
      "sX(s) &= \\frac{1}{\\tau}(A'-1)X(s)+\\frac{1}{\\tau}B'U(s)] \\\\\n",
      "\\end{align}\n",
      "\n",
      "To make the neural system implement the linear system, we compare the rearranged neural system equation with the linear system equation and set\n",
      "\n",
      "\\begin{align}\n",
      "\\frac{1}{\\tau}(A'-1) &= A  \\\\\n",
      "A'-1 &= \\tau A \\\\\n",
      "A' &= \\tau A + 1 \\\\\n",
      "\\end{align}\n",
      "\n",
      "and\n",
      "\n",
      "\\begin{align}\n",
      "\\frac{1}{\\tau}B' &= B \\\\\n",
      "B' &= \\tau B \\\\\n",
      "\\end{align}"
     ]
    },
    {
     "cell_type": "heading",
     "level": 1,
     "metadata": {},
     "source": [
      "Neural system dynamics are dominated by the synaptic time constant?"
     ]
    },
    {
     "cell_type": "markdown",
     "metadata": {},
     "source": [
      "Is this true always? When can we assume that the soma dynamics have no effect on the system dynamics?\n",
      "\n",
      "TODO\n",
      " - What if the firing rates are really slow? Membrane time constants are long?"
     ]
    },
    {
     "cell_type": "heading",
     "level": 1,
     "metadata": {},
     "source": [
      "What effects does the neural model have on system dynamics?"
     ]
    },
    {
     "cell_type": "markdown",
     "metadata": {},
     "source": [
      "TODO"
     ]
    },
    {
     "cell_type": "heading",
     "level": 1,
     "metadata": {},
     "source": [
      "Feedback delays cannot be compensated causally"
     ]
    },
    {
     "cell_type": "markdown",
     "metadata": {},
     "source": [
      "Introducing a delay in the feedback loop breaks the mapping between the neurally plausible system and the standard linear dynamical system.\n",
      "\n",
      "![neural system with delay](figures/neural_system_delayed.png \"neural system with delay\")\n",
      "\n",
      "In this system,\n",
      "\n",
      "\\begin{align}\n",
      "x(t) &= h(t)*[A'x(t)*\\delta(t-d) + B'u(t)] \\\\\n",
      "X(s) &= H(s)[A'X(s)e^{-ds} + B'U(s)] \\\\\n",
      " &= \\frac{1}{\\tau s+1}[A'X(s)e^{-ds} + B'U(s)] \\\\\n",
      " &= \\frac{\\tau^{-1}}{s+\\tau^{-1}}[A'X(s)e^{-ds} + B'U(s)] \\\\\n",
      "(s+\\tau^{-1})X(s) &= \\tau^{-1}[A'X(s)e^{-ds} + B'U(s)] \\\\\n",
      "sX(s) &= \\tau^{-1}(A'e^{-ds}-I)X(s) + \\tau^{-1}B'U(s) \\\\\n",
      "\\end{align}"
     ]
    },
    {
     "cell_type": "markdown",
     "metadata": {},
     "source": [
      "Comparing this with the standard dynamical system formulation,\n",
      "\n",
      "\\begin{align}\n",
      "sX(s) &= AX(s) + BU(s) \\\\\n",
      "\\end{align}\n",
      "\n",
      "we cannot equate $A$ to $\\tau^{-1}(A'e^{-ds}-I)$ because $A$ is a constant. Even doing so,\n",
      "\n",
      "\\begin{align}\n",
      "A &= \\tau^{-1}(A'e^{-ds}-I) \\\\\n",
      "\\tau A + I &= A'e^{-ds} \\\\\n",
      "A' &= e^{ds}(\\tau A + I) \\\\\n",
      "\\end{align}\n",
      "\n",
      "we see that mapping the neurally-plausible dynamical system onto a standard dynamical system requires an acausal transformation in $A'$ because $e^{ds}$ implies a a forward shift in time."
     ]
    }
   ],
   "metadata": {}
  }
 ]
}