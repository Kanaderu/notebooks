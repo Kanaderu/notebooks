{
 "metadata": {
  "name": "",
  "signature": "sha256:90a012f3a44694017fe1a3c32b073fdb8f52ee29a5fd4b785b80202ea6c89298"
 },
 "nbformat": 3,
 "nbformat_minor": 0,
 "worksheets": [
  {
   "cells": [
    {
     "cell_type": "heading",
     "level": 1,
     "metadata": {},
     "source": [
      "Notebook description"
     ]
    },
    {
     "cell_type": "markdown",
     "metadata": {},
     "source": [
      "This notebook looks at implementing linear dynamical systems with NEF when the synaptic time constant varies within a population. Specifically,\n",
      " - Can we implement linear dynamical systems when the synaptic time constants vary within a population?\n",
      " - How much mismatch can we tolerate?"
     ]
    },
    {
     "cell_type": "heading",
     "level": 1,
     "metadata": {},
     "source": [
      "Summary of results"
     ]
    },
    {
     "cell_type": "markdown",
     "metadata": {},
     "source": [
      "As far as I know, there is no systematic way to compensate for mismatch in the synaptic time constants, so your best bet is to just try it and pray. \n",
      "\n",
      "How much mismatch can be tolerated is another parameter that you'll just have to try and see."
     ]
    },
    {
     "cell_type": "heading",
     "level": 1,
     "metadata": {},
     "source": [
      "Background"
     ]
    },
    {
     "cell_type": "markdown",
     "metadata": {},
     "source": [
      "To implement the linear dynamical system\n",
      "\n",
      "![linear system](figures/linear_system.png \"linear system\")\n",
      "\n",
      "using the neurally plausible system\n",
      "\n",
      "![neural system](figures/neural_system.png \"neural system\")\n",
      "\n",
      "we find the $A'$ and $B'$ that make the neural system behave like the linear dynamical system. $h(t)=\\frac{1}{\\tau}e^{-t/\\tau}s(t)$ is the synaptic impulse response where $s(t)$ is the step function."
     ]
    },
    {
     "cell_type": "markdown",
     "metadata": {},
     "source": [
      "The the linear dynamical system will be governed by\n",
      "\n",
      "\\begin{align}\n",
      "\\dot{x}(t) &= Ax(t)+Bu(t) \\\\\n",
      "sX(s) &= AX(s) + BU(s) \\\\\n",
      "\\end{align}\n",
      "\n",
      "The neural system will be governed by\n",
      "\n",
      "\\begin{align}\n",
      "x(t) &= h(t)*[A'x(t)+B'u(t)] \\\\\n",
      "X(s) &= H(s)[A'X(s)+B'U(s)] \\\\\n",
      "\\end{align}\n",
      "\n",
      "Rearranging,\n",
      "\n",
      "\\begin{align}\n",
      "X(s) &= H(s)[A'X(s)+B'U(s)] \\\\\n",
      " &= \\frac{1}{\\tau s+1}[A'X(s)+B'U(s)] \\\\\n",
      "(\\tau s+I)X(s) &= A'X(s)+B'U(s) \\\\\n",
      "sX(s) &= \\frac{1}{\\tau}(A'-1)X(s)+\\frac{1}{\\tau}B'U(s)] \\\\\n",
      "\\end{align}\n",
      "\n",
      "To make the neural system implement the linear system, we compare the rearranged neural equations with the linear system equations and set\n",
      "\n",
      "\\begin{align}\n",
      "\\frac{1}{\\tau}(A'-1) &= A  \\\\\n",
      "A'-1 &= \\tau A \\\\\n",
      "A' &= \\tau A + 1 \\\\\n",
      "\\end{align}\n",
      "\n",
      "and\n",
      "\n",
      "\\begin{align}\n",
      "\\frac{1}{\\tau}B' &= B \\\\\n",
      "B' &= \\tau B \\\\\n",
      "\\end{align}"
     ]
    },
    {
     "cell_type": "heading",
     "level": 1,
     "metadata": {},
     "source": [
      "Analysis"
     ]
    },
    {
     "cell_type": "markdown",
     "metadata": {},
     "source": [
      "$x(t)$ is decoded from the activities of a population of neurons. \n",
      "\n",
      "\\begin{align}\n",
      "x(t) &= \\sum_id_ia_i(t) \\\\\n",
      " &= \\mathbf{d}^T\\mathbf{a}(t) \\\\\n",
      "\\end{align}\n",
      "\n",
      "where $a_i(t)$ and $d_i$ are the firing rate and decoding weight of the $i$th neuron, respectively. \n",
      "\n",
      "$a_i(t)$ is a filtered version of the spikes output by neuron $i$, so \n",
      "\n",
      "\\begin{align}\n",
      "a_i(t) &= h(t)*\\sum_j\\delta_i(t-t_j) \\\\\n",
      " &= \\sum_jh(t)*\\delta_i(t-t_j) \\\\\n",
      " &= \\sum_jh(t-t_j) \\\\\n",
      "\\end{align}\n",
      "\n",
      "Where $\\delta_i$ are the spikes emitted by neuron $i$. The rate at which the neuron emits spikes is a nonlinear function of the current state and the input. That is, $a_i(t)=a_i(Ax(t)+Bu(t))$. "
     ]
    },
    {
     "cell_type": "markdown",
     "metadata": {},
     "source": [
      "Therefore,\n",
      "\n",
      "\\begin{align}\n",
      "x(t) &= \\sum_id_ih(t)*\\sum_j\\delta_i(t-t_j) \\\\\n",
      " &= h(t)*\\sum_i\\sum_jd_i\\delta_i(t-t_j) \\\\\n",
      "\\end{align}\n",
      "\n",
      "Here, we can see that the impulse response can be factored out of the equation.\n",
      "\n",
      "In reality, neurons may have different synaptic time constants, so \n",
      "\n",
      "\\begin{align}\n",
      "a_i(t) &= h_i(t)*\\sum_j\\delta_i(t-t_j) \\\\\n",
      "\\end{align}\n",
      "\n",
      "where $h_i(t)=\\frac{1}{\\tau_i}e^{-t/\\tau_i}s(t)$. In this case, \n",
      "\n",
      "\\begin{align}\n",
      "x(t) &= \\sum_ih_i(t)*\\sum_jd_i\\delta_i(t-t_j) \\\\\n",
      "\\end{align}"
     ]
    }
   ],
   "metadata": {}
  }
 ]
}