{
 "cells": [
  {
   "cell_type": "markdown",
   "metadata": {},
   "source": [
    "# Notebook description"
   ]
  },
  {
   "cell_type": "markdown",
   "metadata": {},
   "source": [
    "This notebook looks at implementing linear dynamical systems with NEF when the synaptic time constant varies within a population. Specifically,\n",
    " - Can we implement linear dynamical systems when the synaptic time constants vary within a population?\n",
    " - How much mismatch can we tolerate?"
   ]
  },
  {
   "cell_type": "markdown",
   "metadata": {},
   "source": [
    "# Summary of results"
   ]
  },
  {
   "cell_type": "markdown",
   "metadata": {},
   "source": [
    "As far as I know, there is no systematic way to compensate for mismatch in the synaptic time constants, so your best bet is to just try it and pray. \n",
    "\n",
    "How much mismatch can be tolerated is another parameter that you'll just have to try and see until better methods are developed."
   ]
  },
  {
   "cell_type": "markdown",
   "metadata": {},
   "source": [
    "# A neural system with mismatched $\\tau$ implements higher order dynamics "
   ]
  },
  {
   "cell_type": "markdown",
   "metadata": {},
   "source": [
    "The NEF implementation of dynamical systems is described [here](http://nbviewer.ipython.org/github/fragapanagos/notebooks/blob/master/theory/NEF_dynamics.ipynb)\n",
    "\n",
    "First, we'll consider the case where there are two different time constants governing the neural system. Then we'll generalize to arbitrary number of different time constants.\n",
    "\n",
    "In the case of two time constants, $\\tau_1$ and $\\tau_2$, we have the neural system\n",
    "\n",
    "![neural system with two different time constants](figures/neural_system_2tau.png \"neural system with two different time constants\")\n",
    "\n",
    "where \n",
    "\n",
    "\\begin{align}\n",
    "h_1(t) &= \\frac{1}{\\tau_1}e^{-t/\\tau_1}s(t) \\\\\n",
    "h_2(t) &= \\frac{1}{\\tau_2}e^{-t/\\tau_2}s(t) \\\\\n",
    "\\end{align}\n",
    "\n",
    "differ only in their time constants. I introduce the $\\frac{1}{2}$ scaling factors just to simplify the math, and they are immeterial to the overall analysis.\n",
    "\n",
    "Your population of neurons would have these dynamics if their synaptic time constants were drawn equally from $\\tau_1$ or $\\tau_2$ and the neurons all contributed equally to the decoding of $x(t)$."
   ]
  },
  {
   "cell_type": "markdown",
   "metadata": {},
   "source": [
    "This system will be governed by\n",
    "\n",
    "\\begin{align}\n",
    "x(t) &= \\frac{1}{2}h_1(t)*[A'x(t)+B'u(t)] + \\frac{1}{2}h_2(t)*[A'x(t)+B'u(t)] \\\\\n",
    " &= \\frac{1}{2}[h_1(t)+h_2(t)]*[A'x(t)+B'u(t)] \\\\\n",
    "X(s) &= \\frac{1}{2}[H_1(s)+H_2(s)][A'X(s)+B'U(s)] \\\\\n",
    "\\end{align}"
   ]
  },
  {
   "cell_type": "markdown",
   "metadata": {},
   "source": [
    "Substituting,\n",
    "\n",
    "\\begin{align}\n",
    "X(s) &= \\frac{1}{2}\\left(\\frac{1}{\\tau_1s+1}+\\frac{1}{\\tau_2s+1}\\right)[A'X(s)+B'U(s)] \\\\\n",
    " &= \\frac{1}{2}\\left(\\frac{\\tau_1s+1+\\tau_2s+1}{(\\tau_1s+1)(\\tau_2s+1)}\\right)[A'X(s)+B'U(s)] \\\\\n",
    "\\end{align}\n",
    "\n",
    "As a crosscheck, we can see that if $\\tau_1=\\tau_2$, this system reduces to the original neural system.\n",
    "\n",
    "\\begin{align}\n",
    "X(s) &= \\frac{1}{2}\\left(\\frac{\\tau s+1+\\tau s+1}{(\\tau s+1)(\\tau s+1)}\\right)[A'X(s)+B'U(s)] & \\tau_1=\\tau_2=\\tau \\\\\n",
    " &= \\frac{1}{2}\\left(\\frac{2(\\tau s+1)}{(\\tau s+1)(\\tau s+1)}\\right)[A'X(s)+B'U(s)] \\\\\n",
    " &= \\frac{1}{\\tau s+1}[A'X(s)+B'U(s)] \\\\\n",
    "\\end{align}\n",
    "\n",
    "which is the original neural system.\n",
    "\n",
    "Returning to the case when $\\tau_1\\neq\\tau_2$\n",
    "\n",
    "\\begin{align}\n",
    "X(s) &= \\frac{1}{2}\\left(\\frac{(\\tau_1+\\tau_2)s+2}{\\tau_1\\tau_2s^2+(\\tau_1+\\tau_2)s+1}\\right)[A'X(s)+B'U(s)] \\\\\n",
    "\\end{align}\n",
    "\n",
    "we can see that this will never exactly match the original neural system because of the $\\tau_1\\tau_2s^2$ term."
   ]
  },
  {
   "cell_type": "markdown",
   "metadata": {},
   "source": [
    "In the more general case, where there are $k$ different time constants, we have\n",
    "\n",
    "![neural system with k time constants](figures/neural_system_ktau.png \"neural system with two different time constants\")"
   ]
  },
  {
   "cell_type": "markdown",
   "metadata": {},
   "source": [
    "Here,\n",
    "\n",
    "\\begin{align}\n",
    "X(s) &= \\sum_{i=1}^kd_iH_i(s)[A'X(s)+B'U(s)] \\\\\n",
    "\\end{align}\n",
    "\n",
    "where $d_i$ have taken the role of the $\\frac{1}{2}$ factors in the previous, two time constant neural system. Your neuron population maps to this system when you group your neurons by their synaptic time constant and have $k$ different synaptic time constants. The $d_i$ were named so exactly because they take on the same role as the decoders.\n",
    "\n",
    "To see what kind of system this implements, \n",
    "\n",
    "\\begin{align}\n",
    "X(s) &= \\sum_{i=1}^kd_iH_i(s)[A'X(s)+B'U(s)] \\\\\n",
    " &= \\left(\\frac{d_1}{\\tau_1s+1}+\\frac{d_2}{\\tau_2s+1}+\\cdots+\\frac{d_k}{\\tau_ks+1}\\right)[A'X(s)+B'U(s)] \\\\\n",
    " &= \\left(\\frac{\\sum_{i=1}^kd_i\\Pi_{j=1,j\\neq i}^k\\tau_js+1}{\\Pi_{i=1}^k(\\tau_is+1)}\\right)[A'X(s)+B'U(s)] \\\\\n",
    "\\end{align}\n",
    "\n",
    "which is really ugly and says that this is mathematically a $k$th order system. \n",
    "\n",
    "More work can be done here on what we can do to make this system behave like a first order system..."
   ]
  },
  {
   "cell_type": "markdown",
   "metadata": {},
   "source": [
    "# Appendix"
   ]
  },
  {
   "cell_type": "markdown",
   "metadata": {},
   "source": [
    "In the two time constant cast, what if $\\tau_1$ and $\\tau_2$ are small so that $\\tau_1\\tau_2\\approx0$?\n",
    "\n",
    "\\begin{align}\n",
    "X(s) &= \\frac{1}{2}\\left(\\frac{(\\tau_1+\\tau_2)s+2}{(\\tau_1+\\tau_2)s+1}\\right)[A'X(s)+B'U(s)] \\\\\n",
    "\\end{align}\n",
    "\n",
    "interesting...the system dynamic terms are on the same order and almost cancel each other out. hmmm...maybe there's something here...but do this sometime later..."
   ]
  }
 ],
 "metadata": {
  "kernelspec": {
   "display_name": "Python 2",
   "language": "python",
   "name": "python2"
  },
  "language_info": {
   "codemirror_mode": {
    "name": "ipython",
    "version": 2
   },
   "file_extension": ".py",
   "mimetype": "text/x-python",
   "name": "python",
   "nbconvert_exporter": "python",
   "pygments_lexer": "ipython2",
   "version": "2.7.6"
  }
 },
 "nbformat": 4,
 "nbformat_minor": 0
}
