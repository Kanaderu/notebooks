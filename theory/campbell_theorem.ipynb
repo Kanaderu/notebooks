{
 "cells": [
  {
   "cell_type": "markdown",
   "metadata": {},
   "source": [
    "#Campbell's Theorem\n",
    "$\\DeclareMathOperator{\\Var}{Var}$\n",
    "Let $\\Pi$ be a point process on $S$ ($S=\\mathbb{R}^d$, e.g.) with mean measure $\\mu$, and $f:S\\rightarrow\\mathbb{R}$ be measureable. Then\n",
    "\n",
    "$$\n",
    "\\Sigma = \\sum_{X\\in\\Pi}f(X)\n",
    "$$\n",
    "\n",
    "is _absolutely convergent with probability one_ iff\n",
    "\n",
    "$$\n",
    "\\int_S\\min(|f(x)|,1)\\mu(dx)<\\infty\n",
    "$$\n",
    "\n",
    "Further, if the sum is _absolutely convergent with probability one_, then\n",
    "\n",
    "$$\n",
    "E[e^{\\theta\\Sigma}]=\\exp\\left(\\int_S(e^{\\theta f(x)}-1)\\mu(dx)\\right)\n",
    "$$\n",
    "\n",
    "for any any complex $\\theta$ for which the initegral on the right converges (in particular, when $\\theta$ is purely imaginary). Further, if the integral converges,\n",
    "\n",
    "\\begin{align*}\n",
    "E[\\Sigma] &= \\int_Sf(x)\\mu(dx) \\\\\n",
    "\\Var(\\Sigma) &= \\int_Sf(x)^2\\mu(dx)\n",
    "\\end{align*}"
   ]
  },
  {
   "cell_type": "markdown",
   "metadata": {},
   "source": [
    "# Derivations\n",
    "\n",
    "If we take\n",
    "\n",
    "$$\n",
    "E[e^{\\theta\\Sigma}]=\\exp\\left(\\int_S(e^{\\theta f(x)}-1)\\mu(dx)\\right)\n",
    "$$\n",
    "\n",
    "and expand the exponentials as power series in $\\theta$, we get the expressions for $E[\\Sigma]$ and $\\Var(\\Sigma)$. \n",
    "\n",
    "Starting with the left side,\n",
    "\n",
    "\\begin{align*}\n",
    "E[e^{\\theta\\Sigma}] &= \n",
    "    E[e^{0} + \\Sigma e^{0}\\theta + \\frac{1}{2}\\Sigma^2e^0\\theta^2+\\ldots] \\\\\n",
    " &= E[1 + \\Sigma\\theta + \\frac{1}{2}\\Sigma^2\\theta^2+\\ldots] \\\\\n",
    " &= 1 + E[\\Sigma]\\theta + \\frac{1}{2}E[\\Sigma^2]\\theta^2+\\ldots \\\\\n",
    "\\end{align*}\n",
    "\n",
    "And now the right side (which has two exponentials to expand),\n",
    "\n",
    "\\begin{align*}\n",
    "\\exp\\left(\\int_S(e^{\\theta f(x)}-1)\\mu(dx)\\right) &= \n",
    "    \\exp\\left(\\int_S\\left(\\left(e^0+f(x)e^0\\theta+\\frac{1}{2}f(x)^2e^0\\theta^2+\\ldots\\right)-1\\right)\n",
    "    \\mu(dx)\\right) \\\\\n",
    " &= \\exp\\left(\\int_S\\left(\\left(1+f(x)\\theta+\\frac{1}{2}f(x)^2\\theta^2+\\ldots\\right)-1\\right)\\mu(dx)\\right) \\\\\n",
    " &= \\exp\\left(\\int_S\\left(f(x)\\theta+\\frac{1}{2}f(x)^2\\theta^2+\\ldots\\right)\\mu(dx)\\right) \\\\\n",
    " &= \\exp\\left(\\theta\\int_Sf(x)\\mu(dx)+\\frac{\\theta^2}{2}\\int_Sf(x)^2\\mu(dx)+\\ldots\\right) \\\\\n",
    " &= 1 + \\int_Sf(x)\\mu(dx)\\theta+\n",
    "     \\frac{1}{2}\\left(\\left(\\int_Sf(x)\\mu(dx)\\right)^2+\\int_Sf(x)^2\\mu(dx)\\right)\\theta^2 + \\ldots\\\\\n",
    "\\end{align*}\n",
    "\n",
    "Equating the left and right side expansions, we have\n",
    "\n",
    "$$\n",
    "1 + E[\\Sigma]\\theta + \\frac{1}{2}E[\\Sigma^2]\\theta^2+\\ldots =\n",
    "1 + \\int_Sf(x)\\mu(dx)\\theta+\n",
    "    \\frac{1}{2}\\left(\\left(\\int_Sf(x)\\mu(dx)\\right)^2+\\int_Sf(x)^2\\mu(dx)\\right)\\theta^2 + \\ldots\n",
    "$$\n",
    "\n",
    "Setting the coefficients of the powers of $\\theta$ equal, we have\n",
    "\n",
    "$$\n",
    "E[\\Sigma] = \\int_Sf(x)\\mu(dx)\n",
    "$$\n",
    "\n",
    "and\n",
    "\n",
    "\\begin{align*}\n",
    "\\frac{1}{2}E[\\Sigma^2] &= \\frac{1}{2}\\left(\\left(\\int_Sf(x)\\mu(dx)\\right)^2+\\int_Sf(x)^2\\mu(dx)\\right) \\\\\n",
    "E[\\Sigma^2] &= \\left(\\int_Sf(x)\\mu(dx)\\right)^2+\\int_Sf(x)^2\\mu(dx) \\\\\n",
    "\\end{align*}\n",
    "\n",
    "so\n",
    "\n",
    "\\begin{align*}\n",
    "\\Var(\\Sigma) &= E[\\Sigma^2] - E[\\Sigma]^2 \\\\\n",
    " &= \\int_Sf(x)^2\\mu(dx) \\\\\n",
    "\\end{align*}"
   ]
  },
  {
   "cell_type": "markdown",
   "metadata": {},
   "source": [
    "### Taylor (Maclaurin) series\n",
    "\n",
    "$$\n",
    "f(x) = f(0) + \\frac{f'(0)}{1!}(x) + \\frac{f''(0)}{2!}x^2 + \\frac{f^{(3)}(0)}{3!}x^3\\ldots\n",
    "$$"
   ]
  },
  {
   "cell_type": "markdown",
   "metadata": {},
   "source": [
    "# Open questions\n",
    "\n",
    " - What is a mean measure?"
   ]
  },
  {
   "cell_type": "markdown",
   "metadata": {},
   "source": [
    "# Filtered Renewal processes"
   ]
  },
  {
   "cell_type": "markdown",
   "metadata": {},
   "source": [
    "Renewal processes are generalizations of the Poisson point process. In the Poisson point process, each interval between events is independent and identically distributed according to the exponential distribution. In a renewal process, intervals are also idependent and identically distributed, but the distribution is not restricted to be exponential.\n",
    "\n",
    "Synaptic statistics can be described by a filtered renewal process where the filter is given by \n",
    "\n",
    "$$\n",
    "f(t) = \n",
    "\\begin{cases}\n",
    "\\frac{1}{\\tau}e^{-t/\\tau} & t\\ge0 \\\\\n",
    "0 & t<0 \\\\\n",
    "\\end{cases}\n",
    "$$\n",
    "\n",
    "and the incoming spike statistics are modeled by the renewal process. We are interested in the expected value and variance of the filtered renewal process. "
   ]
  },
  {
   "cell_type": "markdown",
   "metadata": {},
   "source": [
    "<div style=\"display:block; border: 1px solid black; padding: 15px;background-color: #EEEEFF;margin: 10px\">\n",
    "<h2> Summary of results</h2>\n",
    "\\begin{align*}\n",
    "E[X] &= \\frac{1}{\\tau}\\sum_{i=1}^\\infty E\\left[e^{-T/\\tau}\\right]^i \\\\\n",
    "E[X^2] &= \\frac{1}{\\tau^2}\\sum_{i=1}^{\\infty}E\\left[e^{-2T/\\tau}\\right]^i\\left(1 +\n",
    "    2\\sum_{j=1}^{\\infty}E\\left[e^{-T/\\tau}\\right]^{j}\\right) \\\\\n",
    "\\end{align*}\n",
    "</div>"
   ]
  },
  {
   "cell_type": "markdown",
   "metadata": {},
   "source": [
    "Our filtered point process will be given by\n",
    "\n",
    "\\begin{align*}\n",
    "X &= f(T_1) + f(T_1+T_2) + f(T_1+T_2+T_3) + \\ldots \\\\\n",
    " &= \\frac{1}{\\tau}e^{-T_1/\\tau} + \\frac{1}{\\tau}e^{-(T_1+T_2)/\\tau} + \n",
    "     \\frac{1}{\\tau}e^{-(T_1+T_2+T_3)/\\tau} + \\ldots \\\\\n",
    " &= \\frac{1}{\\tau}\\left(e^{-T_1/\\tau}+e^{-T_1/\\tau}e^{-T_2/\\tau}+\n",
    "     e^{-T_1/\\tau}e^{-T_2/\\tau}e^{-T_3/\\tau} + \\ldots\\right) \\\\\n",
    " &= \\frac{1}{\\tau}\\sum_{i=1}^\\infty\\prod_{j=1}^ie^{-T_j/\\tau}\n",
    "\\end{align*}"
   ]
  },
  {
   "cell_type": "markdown",
   "metadata": {},
   "source": [
    "The expected value is then\n",
    "\n",
    "\\begin{align*}\n",
    "E[X] &= E\\left[\\frac{1}{\\tau}\\sum_{i=1}^\\infty\\prod_{j=1}^ie^{-T_j/\\tau}\\right] \\\\\n",
    " &= \\frac{1}{\\tau}\\sum_{i=1}^\\infty E\\left[\\prod_{j=1}^ie^{-T_j/\\tau}\\right] & \\text{expectation is linear} \\\\\n",
    " &= \\frac{1}{\\tau}\\sum_{i=1}^\\infty\\prod_{j=1}^iE\\left[e^{-T_j/\\tau}\\right] & \\text{intervals are independent} \\\\\n",
    " &= \\frac{1}{\\tau}\\sum_{i=1}^\\infty E\\left[e^{-T/\\tau}\\right]^i & \\text{intervals are identically distributed} \\\\\n",
    "\\end{align*}"
   ]
  },
  {
   "cell_type": "markdown",
   "metadata": {},
   "source": [
    "To calculate the variance, we use $\\Var(X)=E[X^2]-E[X]^2$. To find $E[X^2]$, we start by expanding $X^2$.\n",
    "\n",
    "\\begin{align*}\n",
    "X^2 &= \\frac{1}{\\tau^2}\\left(e^{-T_1/\\tau}+e^{-T_1/\\tau}e^{-T_2/\\tau}+\n",
    "    e^{-T_1/\\tau}e^{-T_2/\\tau}e^{-T_3/\\tau} + \\ldots\\right)\n",
    "    \\left(e^{-T_1/\\tau}+e^{-T_1/\\tau}e^{-T_2/\\tau}+\n",
    "    e^{-T_1/\\tau}e^{-T_2/\\tau}e^{-T_3/\\tau} + \\ldots\\right) \\\\\n",
    " &= \\frac{1}{\\tau^2}\n",
    "    \\left(e^{-2T_1/\\tau}+e^{-2T_1/\\tau}e^{-2T_2/\\tau}+e^{-2T_1/\\tau}e^{-2T_2/\\tau}e^{-2T_3/\\tau}+\\ldots\\right)\n",
    "    & \\text{diagonal terms} \\\\\n",
    " &\\quad + \\frac{2}{\\tau^2}\\left(e^{-2T_1/\\tau}e^{-T_2/\\tau}+e^{-2T_1/\\tau}e^{-T_2/\\tau}e^{-T_3/\\tau} + \\ldots +\n",
    "    e^{-2T_1/\\tau}e^{-2T_2/\\tau}e^{-T_3/\\tau} + \\ldots\\right)\n",
    "    & \\text{cross terms} \\\\\n",
    " &= \\frac{1}{\\tau^2}\\sum_{i=1}^{\\infty}\\prod_{j=1}^{i}e^{-2T_j/\\tau} +\n",
    "    \\frac{2}{\\tau^2}\\sum_{i=1}^{\\infty}\\sum_{k=i+1}^{\\infty}\n",
    "    \\left(\\prod_{j=1}^ie^{-2T_j/\\tau}\\right)\\left(\\prod_{m=i+1}^{k}e^{-T_m/\\tau}\\right) \\\\\n",
    " &= \\frac{1}{\\tau^2}\\sum_{i=1}^{\\infty}\\prod_{j=1}^{i}e^{-2T_j/\\tau} +\n",
    "    \\frac{2}{\\tau^2}\\sum_{i=1}^{\\infty}\\left(\\prod_{j=1}^ie^{-2T_j/\\tau}\\right)\n",
    "    \\sum_{k=i+1}^{\\infty}\\left(\\prod_{m=i+1}^{k}e^{-T_m/\\tau}\\right) \\\\\n",
    "\\end{align*}\n",
    "\n",
    "Now,\n",
    "\n",
    "\\begin{align*}\n",
    "E[X^2] &= E\\left[\\frac{1}{\\tau^2}\\sum_{i=1}^{\\infty}\\prod_{j=1}^{i}e^{-2T_j/\\tau} +\n",
    "    \\frac{2}{\\tau^2}\\sum_{i=1}^{\\infty}\\left(\\prod_{j=1}^ie^{-2T_j/\\tau}\\right)\n",
    "    \\sum_{k=i+1}^{\\infty}\\left(\\prod_{m=i+1}^{k}e^{-T_m/\\tau}\\right)\\right] \\\\\n",
    " &= \\frac{1}{\\tau^2}\\sum_{i=1}^{\\infty}E\\left[e^{-2T/\\tau}\\right]^i +\n",
    "    \\frac{2}{\\tau^2}\\sum_{i=1}^{\\infty}E\\left[e^{-2T/\\tau}\\right]^i\n",
    "    \\sum_{k=i+1}^{\\infty}\\left(\\prod_{m=i+1}^{k}E\\left[e^{-T_m/\\tau}\\right]\\right) \\\\\n",
    " &= \\frac{1}{\\tau^2}\\sum_{i=1}^{\\infty}E\\left[e^{-2T/\\tau}\\right]^i +\n",
    "    \\frac{2}{\\tau^2}\\sum_{i=1}^{\\infty}E\\left[e^{-2T/\\tau}\\right]^i\n",
    "    \\sum_{k=i+1}^{\\infty}E\\left[e^{-T/\\tau}\\right]^{k-i} \\\\\n",
    " &= \\frac{1}{\\tau^2}\\sum_{i=1}^{\\infty}E\\left[e^{-2T/\\tau}\\right]^i +\n",
    "    \\frac{2}{\\tau^2}\\sum_{i=1}^{\\infty}E\\left[e^{-2T/\\tau}\\right]^i\n",
    "    \\sum_{n=1}^{\\infty}E\\left[e^{-T/\\tau}\\right]^{n} & \\text{substituting }n=k-i \\\\\n",
    " &= \\frac{1}{\\tau^2}\\sum_{i=1}^{\\infty}E\\left[e^{-2T/\\tau}\\right]^i\\left(1 +\n",
    "    2\\sum_{n=1}^{\\infty}E\\left[e^{-T/\\tau}\\right]^{n}\\right) \\\\\n",
    "\\end{align*}\n",
    "\n",
    "Therefore, an overall expression for the variance will be given by\n",
    "\n",
    "$$\n",
    "\\Var(X) = \\frac{1}{\\tau^2}\\sum_{i=1}^{\\infty}E\\left[e^{-2T/\\tau}\\right]^i\\left(1 +\n",
    "    2\\sum_{n=1}^{\\infty}E\\left[e^{-T/\\tau}\\right]^{n}\\right) -\n",
    "    \\left(\\frac{1}{\\tau}\\sum_{i=1}^\\infty E\\left[e^{-T/\\tau}\\right]^i\\right)^2\n",
    "$$"
   ]
  },
  {
   "cell_type": "markdown",
   "metadata": {},
   "source": [
    "### Checking the filtered renewal equations with a Poisson process\n",
    "\n",
    "With the Poisson process $T_i$ are iid and $T_i\\sim Exp(\\lambda)$.\n",
    "\n",
    "We see $E\\left[e^{-T/\\tau}\\right]$ and $E\\left[e^{-2T/\\tau}\\right]$ in the expressions we've derived for the mean and variance. Let's find a general expression for $E\\left[e^{-kT/\\tau}\\right]$ and then use this expression for $k=1$ and $k=2$\n",
    "\n",
    "\\begin{align*}\n",
    "E\\left[e^{-kT/\\tau}\\right] &= \\int_{-\\infty}^{\\infty}e^{-kt/\\tau}f_{T}(t)dt \\\\\n",
    " &= \\int_{0}^{\\infty}e^{-kt/\\tau}\\lambda e^{-\\lambda t}dt \\\\\n",
    " &= \\lambda\\int_{0}^{\\infty}e^{-t(k/\\tau+\\lambda)}dt \\\\\n",
    " &= \\frac{-\\lambda}{k/\\tau+\\lambda}\\left[e^{-t(k/\\tau+\\lambda)}\\right]_0^\\infty \\\\\n",
    " &= \\frac{\\lambda}{k/\\tau+\\lambda} \\\\\n",
    " &= \\frac{\\lambda\\tau}{k+\\lambda\\tau} \\\\\n",
    "\\end{align*}"
   ]
  },
  {
   "cell_type": "markdown",
   "metadata": {},
   "source": [
    "Plugging into the equation for the expected value,\n",
    "\n",
    "\\begin{align*}\n",
    "E[X] &= \\frac{1}{\\tau}\\sum_{i=1}^\\infty E\\left[e^{-T/\\tau}\\right]^i  \\\\\n",
    " &= \\frac{1}{\\tau}\\sum_{i=1}^\\infty\\left(\\frac{\\lambda\\tau}{1+\\lambda\\tau}\\right)^i \\\\\n",
    " &= \\frac{1}{\\tau}\\frac{\\frac{\\lambda\\tau}{1+\\lambda\\tau}}{1-\\frac{\\lambda\\tau}{1+\\lambda\\tau}} \\\\\n",
    " &= \\frac{1}{\\tau}\\frac{\\lambda\\tau}{1+\\lambda\\tau-\\lambda\\tau} \\\\\n",
    " &= \\frac{1}{\\tau}\\frac{\\lambda\\tau}{1} \\\\\n",
    " &= \\lambda\n",
    "\\end{align*}\n",
    "\n",
    "The sum converges because $\\lambda$ and $\\tau$ are both positive numbers so $0\\le\\frac{\\lambda\\tau}{1+\\lambda\\tau}<1$. The expected value matches what we derived in the Poisson synapse [notebook](http://nbviewer.ipython.org/github/fragapanagos/notebooks/blob/master/synapse/synapse_SNR_poisson.ipynb)."
   ]
  },
  {
   "cell_type": "markdown",
   "metadata": {},
   "source": [
    "Now for the second moment,\n",
    "\n",
    "\\begin{align*}\n",
    "E[X^2] &= \\frac{1}{\\tau^2}\\sum_{i=1}^{\\infty}E\\left[e^{-2T/\\tau}\\right]^i\\left(1 +\n",
    "    2\\sum_{j=1}^{\\infty}E\\left[e^{-T/\\tau}\\right]^{j}\\right) \\\\\n",
    " &= \\frac{1}{\\tau^2}\\sum_{i=1}^{\\infty}\\left(\\frac{\\lambda\\tau}{2+\\lambda\\tau}\\right)^i\\left(1 +\n",
    "    2\\sum_{j=1}^{\\infty}\\left(\\frac{\\lambda\\tau}{1+\\lambda\\tau}\\right)^{j}\\right) \\\\\n",
    " &= \\frac{1}{\\tau^2}\\frac{\\lambda\\tau}{2}\\left(1+2\\lambda\\tau\\right) \\\\\n",
    " &= \\frac{\\lambda}{2\\tau}+\\lambda^2 \\\\\n",
    "\\end{align*}\n",
    "\n",
    "which also matches what we derived in the Poisson synapse [notebook](http://nbviewer.ipython.org/github/fragapanagos/notebooks/blob/master/synapse/synapse_SNR_poisson.ipynb).\n",
    "\n",
    "Therefore,\n",
    "\n",
    "\\begin{align*}\n",
    "\\Var(X) &= \\frac{\\lambda}{2\\tau} + \\lambda^2 - \\lambda^2 \\\\\n",
    " &= \\frac{\\lambda}{2\\tau}\n",
    "\\end{align*}"
   ]
  },
  {
   "cell_type": "markdown",
   "metadata": {},
   "source": [
    "### Checking the filtered renewal equations with a uniform process\n",
    "\n",
    "The uniform process actually violates the assumption that the $T_i$ are iid because $T_1=\\frac{1}{\\lambda}-T_0$ where $T_0\\sim\\text{Uniform}(0, \\frac{1}{\\lambda})$ while $T_i=\\frac{1}{\\lambda}$ for $i>1$. That is, only the offset $T_0$ is actually random.\n",
    "\n",
    "Since the $T_i$ are not iid, we need to reexamine the first and second moment derivations. Without the assumption of identical distributions,\n",
    "\n",
    "\\begin{align*}\n",
    "E[X] &= \\frac{1}{\\tau}\\sum_{i=1}^\\infty\\prod_{j=1}^iE\\left[e^{-T_j/\\tau}\\right] \\\\\n",
    " &= \\frac{1}{\\tau}\\left(E\\left[e^{-T_1/\\tau}\\right]+\n",
    "    E\\left[e^{-T_1/\\tau}\\right]E\\left[e^{-T_2/\\tau}\\right] + \n",
    "    E\\left[e^{-T_1/\\tau}\\right]E\\left[e^{-T_2/\\tau}\\right]E\\left[e^{-T_3/\\tau}\\right] + \\ldots\\right) \\\\\n",
    " &= \\frac{1}{\\tau}E\\left[e^{-T_1/\\tau}\\right]\\left(1+\n",
    "    E\\left[e^{-T_2/\\tau}\\right] + \n",
    "    E\\left[e^{-T_2/\\tau}\\right]E\\left[e^{-T_3/\\tau}\\right] + \\ldots\\right) \\\\\n",
    " &= \\frac{1}{\\tau}E\\left[e^{-(1/\\lambda-T_0)/\\tau}\\right]\\left(1+\n",
    "    e^{-1/\\lambda\\tau} + e^{-2/\\lambda\\tau} + \\ldots\\right) \\\\\n",
    " &= \\frac{1}{\\tau}E\\left[e^{T_0/\\tau}\\right]\\left(e^{-1/\\lambda\\tau}+\n",
    "    e^{-2/\\lambda\\tau} + e^{-3/\\lambda\\tau} + \\ldots\\right) \\\\\n",
    " &= \\frac{1}{\\tau}E\\left[e^{T_0/\\tau}\\right]\\frac{e^{-1/\\lambda\\tau}}{1-e^{-1/\\lambda\\tau}} \\\\\n",
    " &= \\frac{1}{\\tau}\\lambda\\tau e^{1/\\lambda\\tau}\\left(1-e^{-1/\\lambda\\tau}\\right)\n",
    "    \\frac{e^{-1/\\lambda\\tau}}{1-e^{-1/\\lambda\\tau}} & E\\left[e^{T_0/\\tau}\\right] \\text{ derived below} \\\\\n",
    " &= \\lambda \\\\\n",
    "\\end{align*}\n",
    "\n",
    "which matches the value we derived in the uniform synapse [notebook](http://nbviewer.ipython.org/github/fragapanagos/notebooks/blob/master/synapse/synapse_SNR_uniform.ipynb)."
   ]
  },
  {
   "cell_type": "markdown",
   "metadata": {},
   "source": [
    "For the second moment, we step back to the original expression\n",
    "\n",
    "\\begin{align*}\n",
    "X^2 &= \\frac{1}{\\tau^2}\\left(e^{-T_1/\\tau}+e^{-T_1/\\tau}e^{-T_2/\\tau}+\n",
    "    e^{-T_1/\\tau}e^{-T_2/\\tau}e^{-T_3/\\tau} + \\ldots\\right)\n",
    "    \\left(e^{-T_1/\\tau}+e^{-T_1/\\tau}e^{-T_2/\\tau}+\n",
    "    e^{-T_1/\\tau}e^{-T_2/\\tau}e^{-T_3/\\tau} + \\ldots\\right) \\\\\n",
    " &= \\frac{1}{\\tau^2}e^{T_0/\\tau}\\left(e^{-T_1'/\\tau}+e^{-T_1'/\\tau}e^{-T_2/\\tau}+\n",
    "    e^{-T_1'/\\tau}e^{-T_2/\\tau}e^{-T_3/\\tau} + \\ldots\\right)\n",
    "    e^{T_0/\\tau}\\left(e^{-T_1'/\\tau}+e^{-T_1'/\\tau}e^{-T_2/\\tau}+\n",
    "    e^{-T_1'/\\tau}e^{-T_2/\\tau}e^{-T_3/\\tau} + \\ldots\\right) \\\\\n",
    " &= e^{2T_0/\\tau}\\frac{1}{\\tau^2}\\left(e^{-T_1'/\\tau}+e^{-T_1'/\\tau}e^{-T_2/\\tau}+\n",
    "    e^{-T_1'/\\tau}e^{-T_2/\\tau}e^{-T_3/\\tau} + \\ldots\\right)\n",
    "    \\left(e^{-T_1'/\\tau}+e^{-T_1'/\\tau}e^{-T_2/\\tau}+\n",
    "    e^{-T_1'/\\tau}e^{-T_2/\\tau}e^{-T_3/\\tau} + \\ldots\\right) \\\\\n",
    " &= e^{2T_0/\\tau}\\tilde{X}^2 \\\\\n",
    "\\end{align*}\n",
    "\n",
    "where $T_1'=\\frac{1}{\\lambda}$ and so $\\tilde{X}$ will be the filtered uniform process without any offset due to $T_0$."
   ]
  },
  {
   "cell_type": "markdown",
   "metadata": {},
   "source": [
    "\\begin{align*}\n",
    "E[X^2] &= E\\left[e^{2T_0/\\tau}\\right]\\frac{1}{\\tau^2}\\sum_{i=1}^{\\infty}E\\left[e^{-2T/\\tau}\\right]^i\\left(1 +\n",
    "    2\\sum_{n=1}^{\\infty}E\\left[e^{-T/\\tau}\\right]^{n}\\right) \\\\\n",
    " &= \\frac{\\lambda\\tau}{2}e^{2/\\lambda\\tau}\\left(1-e^{-2/\\lambda\\tau}\\right)\n",
    "    \\frac{1}{\\tau^2}\\sum_{i=1}^{\\infty}\\left(e^{-2/\\lambda\\tau}\\right)^i\\left(1 +\n",
    "    2\\sum_{n=1}^{\\infty}\\left(e^{-1/\\lambda\\tau}\\right)^{n}\\right) \\\\\n",
    " &= \\frac{\\lambda\\tau}{2}e^{2/\\lambda\\tau}\\left(1-e^{-2/\\lambda\\tau}\\right)\n",
    "    \\frac{1}{\\tau^2}\\frac{e^{-2/\\lambda\\tau}}{1-e^{-2/\\lambda\\tau}}\\left(1 +\n",
    "    2\\frac{e^{-1/\\lambda\\tau}}{1-e^{-1/\\lambda\\tau}}\\right) \\\\\n",
    " &= \\frac{\\lambda}{2\\tau}\\left(1 + 2\\frac{e^{-1/\\lambda\\tau}}{1-e^{-1/\\lambda\\tau}}\\right) \\\\\n",
    " &= \\frac{\\lambda}{2\\tau}\\left(\\frac{1-e^{-1/\\lambda\\tau}+2e^{-1/\\lambda\\tau}}{1-e^{-1/\\lambda\\tau}}\\right) \\\\\n",
    " &= \\frac{\\lambda}{2\\tau}\\left(\\frac{1+e^{-1/\\lambda\\tau}}{1-e^{-1/\\lambda\\tau}}\\right) \\\\\n",
    " &= \\frac{\\lambda}{2\\tau}\\coth\\left(\\frac{1}{2\\lambda\\tau}\\right) \\\\\n",
    "\\end{align*}\n",
    "\n",
    "which also matches the value we derived in the uniform synapse [notebook](http://nbviewer.ipython.org/github/fragapanagos/notebooks/blob/master/synapse/synapse_SNR_uniform.ipynb)."
   ]
  },
  {
   "cell_type": "markdown",
   "metadata": {},
   "source": [
    "Therefore,\n",
    "\n",
    "\\begin{align*}\n",
    "\\Var(x) &= E[x^2]-E[x]^2 \\\\\n",
    " &=  \\frac{\\lambda}{2\\tau}\\coth\\left(\\frac{1}{2\\lambda\\tau}\\right) - \\lambda^2 \\\\\n",
    " &=  \\lambda^2\\left(\\frac{1}{2\\lambda\\tau}\\coth\\left(\\frac{1}{2\\lambda\\tau}\\right) - 1\\right) \\\\\n",
    " &=  \\lambda^2\\left(\\frac{1}{2\\lambda\\tau}\\coth\\left(\\frac{1}{2\\lambda\\tau}\\right) - 1\\right). \\\\\n",
    "\\end{align*}"
   ]
  },
  {
   "cell_type": "markdown",
   "metadata": {},
   "source": [
    "For $c\\neq0$,\n",
    "\n",
    "\\begin{align*}\n",
    "E\\left[e^{cT_0/\\tau}\\right] &= \\int_0^{1/\\lambda}\\frac{1}{1/\\lambda}e^{ct/\\tau}dt \\\\\n",
    " &= \\frac{\\lambda\\tau}{c}\\left[e^{ct/\\tau}\\right]_0^{1/\\lambda} \\\\\n",
    " &= \\frac{\\lambda\\tau}{c}\\left(e^{c/\\lambda\\tau}-1\\right) \\\\\n",
    " &= \\frac{\\lambda\\tau}{c}e^{c/\\lambda\\tau}\\left(1-e^{-c/\\lambda\\tau}\\right) \\\\\n",
    "\\end{align*}"
   ]
  },
  {
   "cell_type": "markdown",
   "metadata": {},
   "source": [
    "# open questions and directions\n",
    "\n",
    "We are also interested in the covariance of the filtered renewal process.\n",
    "\n",
    "More generally, are there expressions for the moment generating function or characteristic equation?"
   ]
  }
 ],
 "metadata": {
  "kernelspec": {
   "display_name": "Python 2",
   "language": "python",
   "name": "python2"
  },
  "language_info": {
   "codemirror_mode": {
    "name": "ipython",
    "version": 2
   },
   "file_extension": ".py",
   "mimetype": "text/x-python",
   "name": "python",
   "nbconvert_exporter": "python",
   "pygments_lexer": "ipython2",
   "version": "2.7.3"
  }
 },
 "nbformat": 4,
 "nbformat_minor": 0
}
