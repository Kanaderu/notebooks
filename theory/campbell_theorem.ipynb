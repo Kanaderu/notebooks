{
 "cells": [
  {
   "cell_type": "markdown",
   "metadata": {},
   "source": [
    "#Campbell's Theorem\n",
    "$\\DeclareMathOperator{\\Var}{Var}$\n",
    "Let $\\Pi$ be a point process on $S$ ($S=\\mathbb{R}^d$, e.g.) with mean measure $\\mu$, and $f:S\\rightarrow\\mathbb{R}$ be measureable. Then\n",
    "\n",
    "$$\n",
    "\\Sigma = \\sum_{X\\in\\Pi}f(X)\n",
    "$$\n",
    "\n",
    "is _absolutely convergent with probability one_ iff\n",
    "\n",
    "$$\n",
    "\\int_S\\min(|f(x)|,1)\\mu(dx)<\\infty\n",
    "$$\n",
    "\n",
    "Further, if the sum is _absolutely convergent with probability one_, then\n",
    "\n",
    "$$\n",
    "E[e^{\\theta\\Sigma}]=\\exp\\left(\\int_S(e^{\\theta f(x)}-1)\\mu(dx)\\right)\n",
    "$$\n",
    "\n",
    "for any any complex $\\theta$ for which the initegral on the right converges (in particular, when $\\theta is purely imaginary). Further, if the integral converges,\n",
    "\n",
    "\\begin{align*}\n",
    "E[\\Sigma] &= \\int_Sf(x)\\mu(dx) \\\\\n",
    "\\Var(\\Sigma) &= \\int_Sf(x)^2\\mu(dx)\n",
    "\\end{align*}"
   ]
  },
  {
   "cell_type": "markdown",
   "metadata": {},
   "source": [
    "# Derivations\n",
    "\n",
    "If we take\n",
    "\n",
    "$$\n",
    "E[e^{\\theta\\Sigma}]=\\exp\\left(\\int_S(e^{\\theta f(x)}-1)\\mu(dx)\\right)\n",
    "$$\n",
    "\n",
    "and expand the exponentials as power series in $\\theta$, we get the expressions for $E[\\Sigma]$ and $\\Var(\\Sigma)$. \n",
    "\n",
    "Starting with the left side,\n",
    "\n",
    "\\begin{align*}\n",
    "E[e^{\\theta\\Sigma}] &= \n",
    "    E[e^{0} + \\Sigma e^{0}\\theta + \\frac{1}{2}\\Sigma^2e^0\\theta^2+\\ldots] \\\\\n",
    " &= E[1 + \\Sigma\\theta + \\frac{1}{2}\\Sigma^2\\theta^2+\\ldots] \\\\\n",
    " &= 1 + E[\\Sigma]\\theta + \\frac{1}{2}E[\\Sigma^2]\\theta^2+\\ldots \\\\\n",
    "\\end{align*}\n",
    "\n",
    "And now the right side (which has two exponentials to expand),\n",
    "\n",
    "\\begin{align*}\n",
    "\\exp\\left(\\int_S(e^{\\theta f(x)}-1)\\mu(dx)\\right) &= \n",
    "    \\exp\\left(\\int_S\\left(\\left(e^0+f(x)e^0\\theta+\\frac{1}{2}f(x)^2e^0\\theta^2+\\ldots\\right)-1\\right)\n",
    "    \\mu(dx)\\right) \\\\\n",
    " &= \\exp\\left(\\int_S\\left(\\left(1+f(x)\\theta+\\frac{1}{2}f(x)^2\\theta^2+\\ldots\\right)-1\\right)\\mu(dx)\\right) \\\\\n",
    " &= \\exp\\left(\\int_S\\left(f(x)\\theta+\\frac{1}{2}f(x)^2\\theta^2+\\ldots\\right)\\mu(dx)\\right) \\\\\n",
    " &= \\exp\\left(\\theta\\int_Sf(x)\\mu(dx)+\\frac{\\theta^2}{2}\\int_Sf(x)^2\\mu(dx)+\\ldots\\right) \\\\\n",
    " &= 1 + \\int_Sf(x)\\mu(dx)\\theta+\n",
    "     \\frac{1}{2}\\left(\\left(\\int_Sf(x)\\mu(dx)\\right)^2+\\int_Sf(x)^2\\mu(dx)\\right)\\theta^2 + \\ldots\\\\\n",
    "\\end{align*}\n",
    "\n",
    "Equating the left and right side expansions, we have\n",
    "\n",
    "$$\n",
    "1 + E[\\Sigma]\\theta + \\frac{1}{2}E[\\Sigma^2]\\theta^2+\\ldots =\n",
    "1 + \\int_Sf(x)\\mu(dx)\\theta+\n",
    "    \\frac{1}{2}\\left(\\left(\\int_Sf(x)\\mu(dx)\\right)^2+\\int_Sf(x)^2\\mu(dx)\\right)\\theta^2 + \\ldots\n",
    "$$\n",
    "\n",
    "Setting the coefficients of the powers of $\\theta$ equal, we have\n",
    "\n",
    "$$\n",
    "E[\\Sigma] = \\int_Sf(x)\\mu(dx)\n",
    "$$\n",
    "\n",
    "and\n",
    "\n",
    "\\begin{align*}\n",
    "\\frac{1}{2}E[\\Sigma^2] &= \\frac{1}{2}\\left(\\left(\\int_Sf(x)\\mu(dx)\\right)^2+\\int_Sf(x)^2\\mu(dx)\\right) \\\\\n",
    "E[\\Sigma^2] &= \\left(\\int_Sf(x)\\mu(dx)\\right)^2+\\int_Sf(x)^2\\mu(dx) \\\\\n",
    "\\end{align*}\n",
    "\n",
    "so\n",
    "\n",
    "\\begin{align*}\n",
    "\\Var(\\Sigma) &= E[\\Sigma^2] - E[\\Sigma]^2 \\\\\n",
    " &= \\int_Sf(x)^2\\mu(dx) \\\\\n",
    "\\end{align*}"
   ]
  },
  {
   "cell_type": "markdown",
   "metadata": {},
   "source": [
    "### Taylor (Maclaurin) series\n",
    "\n",
    "$$\n",
    "f(x) = f(0) + \\frac{f'(0)}{1!}(x) + \\frac{f''(0)}{2!}x^2 + \\frac{f^{(3)}(0)}{3!}x^3\\ldots\n",
    "$$"
   ]
  },
  {
   "cell_type": "markdown",
   "metadata": {},
   "source": [
    "# Open questions\n",
    "\n",
    " - What is a mean measure?"
   ]
  },
  {
   "cell_type": "markdown",
   "metadata": {},
   "source": [
    "# Filtered Renewal processes\n",
    "\n",
    "Renewal processes are generalizations of the Poisson point process. In the Poisson point process, each interval independent, and identically distributed according to the exponential distribution. In a renewal process, intervals are also idependent and identically distributed, but the distribution is not restricted to be exponential.\n",
    "\n",
    "Filter is given by \n",
    "\n",
    "$$\n",
    "f(t) = \n",
    "\\begin{cases}\n",
    "\\frac{1}{\\tau}e^{-t/\\tau} & t\\ge0 \\\\\n",
    "0 & t<0 \\\\\n",
    "\\end{cases}\n",
    "$$\n",
    "\n",
    "\\begin{align*}\n",
    "X &= f(t_1) + f(t_1+t_2) + f(t_1+t_2+t_3) + \\ldots \\\\\n",
    " &= \\frac{1}{\\tau}e^{-t_1/\\tau} + \\frac{1}{\\tau}e^{-(t_1+t_2)/\\tau} + \n",
    "     \\frac{1}{\\tau}e^{-(t_1+t_2+t_3)/\\tau} + \\ldots \\\\\n",
    " &= \\frac{1}{\\tau}\\left(e^{-t_1/\\tau}+e^{-t_1/\\tau}e^{-t_2/\\tau}+\n",
    "     e^{-t_1/\\tau}e^{-t_2/\\tau}e^{-t_3/\\tau} + \\ldots\\right) \\\\\n",
    " &= \\frac{1}{\\tau}\\sum_{i=1}^\\infty\\prod_{j=1}^ie^{-t_i/\\tau}\n",
    "\\end{align*}"
   ]
  },
  {
   "cell_type": "markdown",
   "metadata": {},
   "source": [
    "We are interested in the expected value and variance of the filtered renewal process. \n",
    "\n",
    "\\begin{align*}\n",
    "E[X] &= E\\left[\\frac{1}{\\tau}\\sum_{i=1}^\\infty\\prod_{j=1}^ie^{-t_i/\\tau}\\right] \\\\\n",
    " &= \\frac{1}{\\tau}\\sum_{i=1}^\\infty E\\left[\\prod_{j=1}^ie^{-t_i/\\tau}\\right] & \\text{expectation is linear} \\\\\n",
    " &= \\frac{1}{\\tau}\\sum_{i=1}^\\infty\\prod_{j=1}^iE\\left[e^{-t_i/\\tau}\\right] & \\text{intervals are iid} \\\\\n",
    " &= \\frac{1}{\\tau}\\sum_{i=1}^\\infty E\\left[e^{-t_i/\\tau}\\right]^i \\\\\n",
    "\\end{align*}"
   ]
  },
  {
   "cell_type": "markdown",
   "metadata": {},
   "source": [
    "\\begin{align*}\n",
    "E[X^2] = \n",
    "\\end{align*}"
   ]
  },
  {
   "cell_type": "markdown",
   "metadata": {},
   "source": [
    "### Crosscheck filtered renewal equations with filtered Poisson process\n",
    "\n",
    "With the Poisson process $t_i$ are iid and $t_i\\sim Exp(\\lambda)$.\n",
    "\n",
    "We see $E\\left[e^{-t_i/\\tau}\\right]$ and $E\\left[e^{-2t_i/\\tau}\\right]$ in the expressions we've derived. Let's find a general expression for $E\\left[e^{-kt_i/\\tau}\\right]$\n",
    "\n",
    "\\begin{align*}\n",
    "E\\left[e^{-kt/\\tau}\\right] &= \\int_{-\\infty}^{\\infty}e^{-kt/\\tau}f_{T}(t)dt \\\\\n",
    " &= \\int_{0}^{\\infty}e^{-kt/\\tau}\\lambda e^{-\\lambda t}dt \\\\\n",
    " &= \\lambda\\int_{0}^{\\infty}e^{-t(k/\\tau+\\lambda)}dt \\\\\n",
    " &= \\frac{-\\lambda}{(k/\\tau+\\lambda)}\\left[e^{-t(k/\\tau+\\lambda)}\\right]_0^\\infty \\\\\n",
    " &= \\frac{\\lambda}{(k/\\tau+\\lambda)} \\\\\n",
    " &= \\frac{\\lambda\\tau}{k+\\lambda\\tau} \\\\\n",
    "\\end{align*}"
   ]
  },
  {
   "cell_type": "markdown",
   "metadata": {},
   "source": [
    "Plugging into the equation for expectation,\n",
    "\n",
    "\\begin{align*}\n",
    "E[X] &= \\frac{1}{\\tau}\\sum_{i=1}^\\infty E\\left[e^{-t_i/\\tau}\\right]^i  \\\\\n",
    " &= \\frac{1}{\\tau}\\sum_{i=1}^\\infty\\left(\\frac{\\lambda\\tau}{1+\\lambda\\tau}\\right)^i \\\\\n",
    " &= \\frac{1}{\\tau}\\frac{\\frac{\\lambda\\tau}{1+\\lambda\\tau}}{1-\\frac{\\lambda\\tau}{1+\\lambda\\tau}} \\\\\n",
    " &= \\frac{1}{\\tau}\\frac{\\lambda\\tau}{1+\\lambda\\tau-\\lambda\\tau} \\\\\n",
    " &= \\lambda\n",
    "\\end{align*}\n",
    "\n",
    "The sum converges because $\\lambda$ and $\\tau$ are both positive numbers, so $0\\le\\frac{\\lambda\\tau}{1+\\lambda\\tau}<1$"
   ]
  },
  {
   "cell_type": "markdown",
   "metadata": {},
   "source": [
    "# open questions and directions\n",
    "\n",
    "We are also interested in the covariance of the filtered renewal process.\n",
    "\n",
    "More generally, are there expressions for the moment generating function or characteristic equation?"
   ]
  }
 ],
 "metadata": {
  "kernelspec": {
   "display_name": "Python 2",
   "language": "python",
   "name": "python2"
  },
  "language_info": {
   "codemirror_mode": {
    "name": "ipython",
    "version": 2
   },
   "file_extension": ".py",
   "mimetype": "text/x-python",
   "name": "python",
   "nbconvert_exporter": "python",
   "pygments_lexer": "ipython2",
   "version": "2.7.9"
  }
 },
 "nbformat": 4,
 "nbformat_minor": 0
}
