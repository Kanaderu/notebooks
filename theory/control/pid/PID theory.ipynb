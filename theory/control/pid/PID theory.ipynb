{
 "cells": [
  {
   "cell_type": "markdown",
   "metadata": {
    "run_control": {
     "frozen": false,
     "read_only": false
    }
   },
   "source": [
    "# PID\n",
    "\n",
    "There's a lot of folklore out there about PID control. Keep in mind that folklore arises in specific contexts, so the challenge is to separate the broadly applicable aspects of the folklore and the aspects of the folklore specific to the context in which it arose.\n",
    "\n",
    "Never forget that underneath the control systems are differential equations. Pay close attention to the link between the Laplace representation and the differential equation.\n",
    "\n",
    "We'll make extensive use of the Laplace transform. The Laplace transform converts the system into a representation in the the complex domain, often called the S-domain.\n",
    "\n",
    "\\begin{align}\n",
    "\\frac{dx}{dt} &\\Leftrightarrow sX(s)-x(0) \\\\\n",
    "\\frac{d^2x}{dt^2} &\\Leftrightarrow s^2X(s)-sx(0)-x'(0) \\\\\n",
    "&\\cdots \\\\\n",
    "\\frac{d^nx}{dt^n} &\\Leftrightarrow s^nX(s)-s^{n-1}x(0)-s^{n-2}x'(0)-\\ldots-sx^{(n-2)}(0)-x^{(n-1)}(0) \\\\\n",
    "\\end{align}\n",
    "\n",
    "To simplify, we'll assume 0 initial conditions. That is, $x$ and all its time derivatives are $0$ so that $x(0)=0, x'(0)=0,\\ldots,x^{(i)}(0)=0$.\n",
    "\n",
    "General setup is that we have a controller and a plant. \n",
    "\n",
    "![control_setup](figures/control_setup.svg)\n",
    "\n",
    "$$x=f(x,x_d)$$\n",
    "\n",
    "We're going to test with control input functions including the impulse, a unit step, and sin wave. An impulse is pretty unrealistic, but it's mathematically insightful as it captures the important aspects of the system's behavior.\n",
    "\n",
    "Another thing we can check is whether there will be steady state value for the system using the final value theorem:\n",
    "\n",
    "$$\\lim_{t\\rightarrow\\infty}f(t)=\\lim_{s\\rightarrow0}sF(s)$$\n",
    "\n",
    "What is the meaning of a pole or zero? The effectiveness of a PID controller depends almost entirely on the plant being controlled. Characterize the plant and you can design the controller.\n",
    "\n",
    "What are other control strategies?"
   ]
  },
  {
   "cell_type": "code",
   "execution_count": 1,
   "metadata": {
    "ExecuteTime": {
     "end_time": "2017-06-15T22:29:04.898303Z",
     "start_time": "2017-06-15T22:29:03.954967Z"
    },
    "run_control": {
     "frozen": false,
     "read_only": false
    }
   },
   "outputs": [
    {
     "data": {
      "text/html": [
       "\n",
       "    <div class=\"bk-root\">\n",
       "        <a href=\"http://bokeh.pydata.org\" target=\"_blank\" class=\"bk-logo bk-logo-small bk-logo-notebook\"></a>\n",
       "        <span id=\"e365184f-98a0-42e4-b56b-293f9d905aac\">Loading BokehJS ...</span>\n",
       "    </div>"
      ]
     },
     "metadata": {},
     "output_type": "display_data"
    },
    {
     "data": {
      "application/javascript": [
       "\n",
       "(function(global) {\n",
       "  function now() {\n",
       "    return new Date();\n",
       "  }\n",
       "\n",
       "  var force = true;\n",
       "\n",
       "  if (typeof (window._bokeh_onload_callbacks) === \"undefined\" || force === true) {\n",
       "    window._bokeh_onload_callbacks = [];\n",
       "    window._bokeh_is_loading = undefined;\n",
       "  }\n",
       "\n",
       "\n",
       "  \n",
       "  if (typeof (window._bokeh_timeout) === \"undefined\" || force === true) {\n",
       "    window._bokeh_timeout = Date.now() + 5000;\n",
       "    window._bokeh_failed_load = false;\n",
       "  }\n",
       "\n",
       "  var NB_LOAD_WARNING = {'data': {'text/html':\n",
       "     \"<div style='background-color: #fdd'>\\n\"+\n",
       "     \"<p>\\n\"+\n",
       "     \"BokehJS does not appear to have successfully loaded. If loading BokehJS from CDN, this \\n\"+\n",
       "     \"may be due to a slow or bad network connection. Possible fixes:\\n\"+\n",
       "     \"</p>\\n\"+\n",
       "     \"<ul>\\n\"+\n",
       "     \"<li>re-rerun `output_notebook()` to attempt to load from CDN again, or</li>\\n\"+\n",
       "     \"<li>use INLINE resources instead, as so:</li>\\n\"+\n",
       "     \"</ul>\\n\"+\n",
       "     \"<code>\\n\"+\n",
       "     \"from bokeh.resources import INLINE\\n\"+\n",
       "     \"output_notebook(resources=INLINE)\\n\"+\n",
       "     \"</code>\\n\"+\n",
       "     \"</div>\"}};\n",
       "\n",
       "  function display_loaded() {\n",
       "    if (window.Bokeh !== undefined) {\n",
       "      var el = document.getElementById(\"e365184f-98a0-42e4-b56b-293f9d905aac\");\n",
       "      el.textContent = \"BokehJS \" + Bokeh.version + \" successfully loaded.\";\n",
       "    } else if (Date.now() < window._bokeh_timeout) {\n",
       "      setTimeout(display_loaded, 100)\n",
       "    }\n",
       "  }\n",
       "\n",
       "  function run_callbacks() {\n",
       "    try {\n",
       "      window._bokeh_onload_callbacks.forEach(function(callback) { callback() });\n",
       "    }\n",
       "    finally {\n",
       "      delete window._bokeh_onload_callbacks\n",
       "    }\n",
       "    console.info(\"Bokeh: all callbacks have finished\");\n",
       "  }\n",
       "\n",
       "  function load_libs(js_urls, callback) {\n",
       "    window._bokeh_onload_callbacks.push(callback);\n",
       "    if (window._bokeh_is_loading > 0) {\n",
       "      console.log(\"Bokeh: BokehJS is being loaded, scheduling callback at\", now());\n",
       "      return null;\n",
       "    }\n",
       "    if (js_urls == null || js_urls.length === 0) {\n",
       "      run_callbacks();\n",
       "      return null;\n",
       "    }\n",
       "    console.log(\"Bokeh: BokehJS not loaded, scheduling load and callback at\", now());\n",
       "    window._bokeh_is_loading = js_urls.length;\n",
       "    for (var i = 0; i < js_urls.length; i++) {\n",
       "      var url = js_urls[i];\n",
       "      var s = document.createElement('script');\n",
       "      s.src = url;\n",
       "      s.async = false;\n",
       "      s.onreadystatechange = s.onload = function() {\n",
       "        window._bokeh_is_loading--;\n",
       "        if (window._bokeh_is_loading === 0) {\n",
       "          console.log(\"Bokeh: all BokehJS libraries loaded\");\n",
       "          run_callbacks()\n",
       "        }\n",
       "      };\n",
       "      s.onerror = function() {\n",
       "        console.warn(\"failed to load library \" + url);\n",
       "      };\n",
       "      console.log(\"Bokeh: injecting script tag for BokehJS library: \", url);\n",
       "      document.getElementsByTagName(\"head\")[0].appendChild(s);\n",
       "    }\n",
       "  };var element = document.getElementById(\"e365184f-98a0-42e4-b56b-293f9d905aac\");\n",
       "  if (element == null) {\n",
       "    console.log(\"Bokeh: ERROR: autoload.js configured with elementid 'e365184f-98a0-42e4-b56b-293f9d905aac' but no matching script tag was found. \")\n",
       "    return false;\n",
       "  }\n",
       "\n",
       "  var js_urls = [\"https://cdn.pydata.org/bokeh/release/bokeh-0.12.6.min.js\", \"https://cdn.pydata.org/bokeh/release/bokeh-widgets-0.12.6.min.js\"];\n",
       "\n",
       "  var inline_js = [\n",
       "    function(Bokeh) {\n",
       "      Bokeh.set_log_level(\"info\");\n",
       "    },\n",
       "    \n",
       "    function(Bokeh) {\n",
       "      \n",
       "    },\n",
       "    \n",
       "    function(Bokeh) {\n",
       "      \n",
       "      document.getElementById(\"e365184f-98a0-42e4-b56b-293f9d905aac\").textContent = \"BokehJS is loading...\";\n",
       "    },\n",
       "    function(Bokeh) {\n",
       "      console.log(\"Bokeh: injecting CSS: https://cdn.pydata.org/bokeh/release/bokeh-0.12.6.min.css\");\n",
       "      Bokeh.embed.inject_css(\"https://cdn.pydata.org/bokeh/release/bokeh-0.12.6.min.css\");\n",
       "      console.log(\"Bokeh: injecting CSS: https://cdn.pydata.org/bokeh/release/bokeh-widgets-0.12.6.min.css\");\n",
       "      Bokeh.embed.inject_css(\"https://cdn.pydata.org/bokeh/release/bokeh-widgets-0.12.6.min.css\");\n",
       "    }\n",
       "  ];\n",
       "\n",
       "  function run_inline_js() {\n",
       "    \n",
       "    if ((window.Bokeh !== undefined) || (force === true)) {\n",
       "      for (var i = 0; i < inline_js.length; i++) {\n",
       "        inline_js[i](window.Bokeh);\n",
       "      }if (force === true) {\n",
       "        display_loaded();\n",
       "      }} else if (Date.now() < window._bokeh_timeout) {\n",
       "      setTimeout(run_inline_js, 100);\n",
       "    } else if (!window._bokeh_failed_load) {\n",
       "      console.log(\"Bokeh: BokehJS failed to load within specified timeout.\");\n",
       "      window._bokeh_failed_load = true;\n",
       "    } else if (force !== true) {\n",
       "      var cell = $(document.getElementById(\"e365184f-98a0-42e4-b56b-293f9d905aac\")).parents('.cell').data().cell;\n",
       "      cell.output_area.append_execute_result(NB_LOAD_WARNING)\n",
       "    }\n",
       "\n",
       "  }\n",
       "\n",
       "  if (window._bokeh_is_loading === 0) {\n",
       "    console.log(\"Bokeh: BokehJS loaded, going straight to plotting\");\n",
       "    run_inline_js();\n",
       "  } else {\n",
       "    load_libs(js_urls, function() {\n",
       "      console.log(\"Bokeh: BokehJS plotting callback run at\", now());\n",
       "      run_inline_js();\n",
       "    });\n",
       "  }\n",
       "}(this));"
      ]
     },
     "metadata": {},
     "output_type": "display_data"
    }
   ],
   "source": [
    "%matplotlib inline\n",
    "import numpy as np\n",
    "import matplotlib as mpl\n",
    "import matplotlib.pyplot as plt\n",
    "import seaborn\n",
    "\n",
    "from bokeh.io import push_notebook, show, output_notebook\n",
    "from bokeh.plotting import figure\n",
    "output_notebook()"
   ]
  },
  {
   "cell_type": "markdown",
   "metadata": {
    "run_control": {
     "frozen": false,
     "read_only": false
    }
   },
   "source": [
    "# P control\n",
    "\n",
    "![control_setup](figures/controller_kp_plant_first_order_time_domain.svg)\n",
    "\n",
    "\\begin{align}\n",
    "\\frac{dx}{dt} &= k_px_d - k_px\n",
    "\\end{align}\n",
    "\n",
    "![control_setup](figures/controller_kp_plant_first_order_s_domain.svg)"
   ]
  },
  {
   "cell_type": "markdown",
   "metadata": {
    "run_control": {
     "frozen": false,
     "read_only": false
    }
   },
   "source": [
    "-----\n",
    "\n",
    "\n",
    "## $\\frac{1}{s}$ plant\n",
    "\n",
    "Converting to the s-domain with the Laplace transform...\n",
    "\n",
    "\\begin{align}\n",
    "sX &= k_pX_d - k_pX \\\\\n",
    "(s+k_p)X &= k_pX_d \\\\\n",
    "X &= \\frac{k_p}{s+k_p}X_d \\\\\n",
    "\\end{align}"
   ]
  },
  {
   "cell_type": "markdown",
   "metadata": {
    "run_control": {
     "frozen": false,
     "read_only": false
    }
   },
   "source": [
    "### $x_d=\\delta(t)\\Leftrightarrow1$ input\n",
    "\n",
    "With input set to a delta function,\n",
    "\n",
    "\\begin{align}\n",
    "X &= \\frac{k_p}{s+k_p} \\\\\n",
    "x(t) &= k_pe^{-k_pt}\n",
    "\\end{align}\n",
    "\n",
    "we see the plant state return to 0 exponentially with speed controlled by $k_p$"
   ]
  },
  {
   "cell_type": "code",
   "execution_count": 2,
   "metadata": {
    "ExecuteTime": {
     "end_time": "2017-06-15T22:29:05.126494Z",
     "start_time": "2017-06-15T22:29:04.899501Z"
    },
    "run_control": {
     "frozen": false,
     "read_only": false
    }
   },
   "outputs": [
    {
     "data": {
      "text/plain": [
       "[<matplotlib.lines.Line2D at 0x7f37ded677f0>]"
      ]
     },
     "execution_count": 2,
     "metadata": {},
     "output_type": "execute_result"
    },
    {
     "data": {
      "image/png": "[encoded data removed]",
      "text/plain": [
       "<matplotlib.figure.Figure at 0x7f37ded67828>"
      ]
     },
     "metadata": {},
     "output_type": "display_data"
    }
   ],
   "source": [
    "t = np.linspace(0, 8)\n",
    "fig, ax = plt.subplots(nrows=1, ncols=1, figsize=(8,6))\n",
    "ax.plot(t, np.exp(-t))"
   ]
  },
  {
   "cell_type": "code",
   "execution_count": 25,
   "metadata": {
    "ExecuteTime": {
     "end_time": "2017-06-15T23:58:34.081294Z",
     "start_time": "2017-06-15T23:58:34.053099Z"
    },
    "run_control": {
     "frozen": false,
     "read_only": false
    }
   },
   "outputs": [
    {
     "data": {
      "text/html": [
       "\n",
       "    <div class=\"bk-root\">\n",
       "        <a href=\"http://bokeh.pydata.org\" target=\"_blank\" class=\"bk-logo bk-logo-small bk-logo-notebook\"></a>\n",
       "        <span id=\"927ad444-4328-4a75-a0bb-f3f53e815c87\">Loading BokehJS ...</span>\n",
       "    </div>"
      ]
     },
     "metadata": {},
     "output_type": "display_data"
    },
    {
     "data": {
      "application/javascript": [
       "\n",
       "(function(global) {\n",
       "  function now() {\n",
       "    return new Date();\n",
       "  }\n",
       "\n",
       "  var force = true;\n",
       "\n",
       "  if (typeof (window._bokeh_onload_callbacks) === \"undefined\" || force === true) {\n",
       "    window._bokeh_onload_callbacks = [];\n",
       "    window._bokeh_is_loading = undefined;\n",
       "  }\n",
       "\n",
       "\n",
       "  \n",
       "  if (typeof (window._bokeh_timeout) === \"undefined\" || force === true) {\n",
       "    window._bokeh_timeout = Date.now() + 5000;\n",
       "    window._bokeh_failed_load = false;\n",
       "  }\n",
       "\n",
       "  var NB_LOAD_WARNING = {'data': {'text/html':\n",
       "     \"<div style='background-color: #fdd'>\\n\"+\n",
       "     \"<p>\\n\"+\n",
       "     \"BokehJS does not appear to have successfully loaded. If loading BokehJS from CDN, this \\n\"+\n",
       "     \"may be due to a slow or bad network connection. Possible fixes:\\n\"+\n",
       "     \"</p>\\n\"+\n",
       "     \"<ul>\\n\"+\n",
       "     \"<li>re-rerun `output_notebook()` to attempt to load from CDN again, or</li>\\n\"+\n",
       "     \"<li>use INLINE resources instead, as so:</li>\\n\"+\n",
       "     \"</ul>\\n\"+\n",
       "     \"<code>\\n\"+\n",
       "     \"from bokeh.resources import INLINE\\n\"+\n",
       "     \"output_notebook(resources=INLINE)\\n\"+\n",
       "     \"</code>\\n\"+\n",
       "     \"</div>\"}};\n",
       "\n",
       "  function display_loaded() {\n",
       "    if (window.Bokeh !== undefined) {\n",
       "      var el = document.getElementById(\"927ad444-4328-4a75-a0bb-f3f53e815c87\");\n",
       "      el.textContent = \"BokehJS \" + Bokeh.version + \" successfully loaded.\";\n",
       "    } else if (Date.now() < window._bokeh_timeout) {\n",
       "      setTimeout(display_loaded, 100)\n",
       "    }\n",
       "  }\n",
       "\n",
       "  function run_callbacks() {\n",
       "    try {\n",
       "      window._bokeh_onload_callbacks.forEach(function(callback) { callback() });\n",
       "    }\n",
       "    finally {\n",
       "      delete window._bokeh_onload_callbacks\n",
       "    }\n",
       "    console.info(\"Bokeh: all callbacks have finished\");\n",
       "  }\n",
       "\n",
       "  function load_libs(js_urls, callback) {\n",
       "    window._bokeh_onload_callbacks.push(callback);\n",
       "    if (window._bokeh_is_loading > 0) {\n",
       "      console.log(\"Bokeh: BokehJS is being loaded, scheduling callback at\", now());\n",
       "      return null;\n",
       "    }\n",
       "    if (js_urls == null || js_urls.length === 0) {\n",
       "      run_callbacks();\n",
       "      return null;\n",
       "    }\n",
       "    console.log(\"Bokeh: BokehJS not loaded, scheduling load and callback at\", now());\n",
       "    window._bokeh_is_loading = js_urls.length;\n",
       "    for (var i = 0; i < js_urls.length; i++) {\n",
       "      var url = js_urls[i];\n",
       "      var s = document.createElement('script');\n",
       "      s.src = url;\n",
       "      s.async = false;\n",
       "      s.onreadystatechange = s.onload = function() {\n",
       "        window._bokeh_is_loading--;\n",
       "        if (window._bokeh_is_loading === 0) {\n",
       "          console.log(\"Bokeh: all BokehJS libraries loaded\");\n",
       "          run_callbacks()\n",
       "        }\n",
       "      };\n",
       "      s.onerror = function() {\n",
       "        console.warn(\"failed to load library \" + url);\n",
       "      };\n",
       "      console.log(\"Bokeh: injecting script tag for BokehJS library: \", url);\n",
       "      document.getElementsByTagName(\"head\")[0].appendChild(s);\n",
       "    }\n",
       "  };var element = document.getElementById(\"927ad444-4328-4a75-a0bb-f3f53e815c87\");\n",
       "  if (element == null) {\n",
       "    console.log(\"Bokeh: ERROR: autoload.js configured with elementid '927ad444-4328-4a75-a0bb-f3f53e815c87' but no matching script tag was found. \")\n",
       "    return false;\n",
       "  }\n",
       "\n",
       "  var js_urls = [\"https://cdn.pydata.org/bokeh/release/bokeh-0.12.6.min.js\", \"https://cdn.pydata.org/bokeh/release/bokeh-widgets-0.12.6.min.js\"];\n",
       "\n",
       "  var inline_js = [\n",
       "    function(Bokeh) {\n",
       "      Bokeh.set_log_level(\"info\");\n",
       "    },\n",
       "    \n",
       "    function(Bokeh) {\n",
       "      \n",
       "    },\n",
       "    \n",
       "    function(Bokeh) {\n",
       "      \n",
       "      document.getElementById(\"927ad444-4328-4a75-a0bb-f3f53e815c87\").textContent = \"BokehJS is loading...\";\n",
       "    },\n",
       "    function(Bokeh) {\n",
       "      console.log(\"Bokeh: injecting CSS: https://cdn.pydata.org/bokeh/release/bokeh-0.12.6.min.css\");\n",
       "      Bokeh.embed.inject_css(\"https://cdn.pydata.org/bokeh/release/bokeh-0.12.6.min.css\");\n",
       "      console.log(\"Bokeh: injecting CSS: https://cdn.pydata.org/bokeh/release/bokeh-widgets-0.12.6.min.css\");\n",
       "      Bokeh.embed.inject_css(\"https://cdn.pydata.org/bokeh/release/bokeh-widgets-0.12.6.min.css\");\n",
       "    }\n",
       "  ];\n",
       "\n",
       "  function run_inline_js() {\n",
       "    \n",
       "    if ((window.Bokeh !== undefined) || (force === true)) {\n",
       "      for (var i = 0; i < inline_js.length; i++) {\n",
       "        inline_js[i](window.Bokeh);\n",
       "      }if (force === true) {\n",
       "        display_loaded();\n",
       "      }} else if (Date.now() < window._bokeh_timeout) {\n",
       "      setTimeout(run_inline_js, 100);\n",
       "    } else if (!window._bokeh_failed_load) {\n",
       "      console.log(\"Bokeh: BokehJS failed to load within specified timeout.\");\n",
       "      window._bokeh_failed_load = true;\n",
       "    } else if (force !== true) {\n",
       "      var cell = $(document.getElementById(\"927ad444-4328-4a75-a0bb-f3f53e815c87\")).parents('.cell').data().cell;\n",
       "      cell.output_area.append_execute_result(NB_LOAD_WARNING)\n",
       "    }\n",
       "\n",
       "  }\n",
       "\n",
       "  if (window._bokeh_is_loading === 0) {\n",
       "    console.log(\"Bokeh: BokehJS loaded, going straight to plotting\");\n",
       "    run_inline_js();\n",
       "  } else {\n",
       "    load_libs(js_urls, function() {\n",
       "      console.log(\"Bokeh: BokehJS plotting callback run at\", now());\n",
       "      run_inline_js();\n",
       "    });\n",
       "  }\n",
       "}(this));"
      ]
     },
     "metadata": {},
     "output_type": "display_data"
    }
   ],
   "source": [
    "from scipy.signal import (\n",
    "    ZerosPolesGain,\n",
    "    impulse, impulse2,\n",
    "    step, step2,\n",
    "    lsim, lsim2,\n",
    "    bode\n",
    ")\n",
    "\n",
    "from ipywidgets import interact\n",
    "from bokeh.io import push_notebook, show, output_notebook\n",
    "from bokeh.plotting import figure\n",
    "from bokeh.layouts import gridplot\n",
    "from abc import ABC, abstractmethod\n",
    "\n",
    "output_notebook()\n"
   ]
  },
  {
   "cell_type": "code",
   "execution_count": 42,
   "metadata": {
    "ExecuteTime": {
     "end_time": "2017-06-16T00:05:03.176104Z",
     "start_time": "2017-06-16T00:05:03.156637Z"
    },
    "collapsed": true,
    "run_control": {
     "frozen": false,
     "read_only": false
    }
   },
   "outputs": [],
   "source": [
    "class PControllerSPlant(object):\n",
    "    \"\"\"Provides a p controller and 1/s plant\n",
    "\n",
    "           kp \n",
    "    H(s)= ----\n",
    "          s+kp\n",
    "    \"\"\"\n",
    "    def __init__(self, sys):\n",
    "        self.sys = sys\n",
    "        self.update_kwargs = {'kp':(0.1, 3., 0.1)}\n",
    "    def update(self, kp):\n",
    "        self.sys.poles = [-kp]\n",
    "        self.sys.gain = kp\n",
    "    "
   ]
  },
  {
   "cell_type": "code",
   "execution_count": 44,
   "metadata": {
    "ExecuteTime": {
     "end_time": "2017-06-16T00:06:10.116461Z",
     "start_time": "2017-06-16T00:06:09.393127Z"
    },
    "run_control": {
     "frozen": false,
     "read_only": false
    }
   },
   "outputs": [
    {
     "data": {
      "text/html": [
       "\n",
       "\n",
       "    <div class=\"bk-root\">\n",
       "        <div class=\"bk-plotdiv\" id=\"4b868c16-d027-4a6e-802a-ed1b86a3f098\"></div>\n",
       "    </div>\n",
       "<script type=\"text/javascript\">\n",
       "  \n",
       "  (function(global) {\n",
       "    function now() {\n",
       "      return new Date();\n",
       "    }\n",
       "  \n",
       "    var force = false;\n",
       "  \n",
       "    if (typeof (window._bokeh_onload_callbacks) === \"undefined\" || force === true) {\n",
       "      window._bokeh_onload_callbacks = [];\n",
       "      window._bokeh_is_loading = undefined;\n",
       "    }\n",
       "  \n",
       "  \n",
       "    \n",
       "    if (typeof (window._bokeh_timeout) === \"undefined\" || force === true) {\n",
       "      window._bokeh_timeout = Date.now() + 0;\n",
       "      window._bokeh_failed_load = false;\n",
       "    }\n",
       "  \n",
       "    var NB_LOAD_WARNING = {'data': {'text/html':\n",
       "       \"<div style='background-color: #fdd'>\\n\"+\n",
       "       \"<p>\\n\"+\n",
       "       \"BokehJS does not appear to have successfully loaded. If loading BokehJS from CDN, this \\n\"+\n",
       "       \"may be due to a slow or bad network connection. Possible fixes:\\n\"+\n",
       "       \"</p>\\n\"+\n",
       "       \"<ul>\\n\"+\n",
       "       \"<li>re-rerun `output_notebook()` to attempt to load from CDN again, or</li>\\n\"+\n",
       "       \"<li>use INLINE resources instead, as so:</li>\\n\"+\n",
       "       \"</ul>\\n\"+\n",
       "       \"<code>\\n\"+\n",
       "       \"from bokeh.resources import INLINE\\n\"+\n",
       "       \"output_notebook(resources=INLINE)\\n\"+\n",
       "       \"</code>\\n\"+\n",
       "       \"</div>\"}};\n",
       "  \n",
       "    function display_loaded() {\n",
       "      if (window.Bokeh !== undefined) {\n",
       "        var el = document.getElementById(\"4b868c16-d027-4a6e-802a-ed1b86a3f098\");\n",
       "        el.textContent = \"BokehJS \" + Bokeh.version + \" successfully loaded.\";\n",
       "      } else if (Date.now() < window._bokeh_timeout) {\n",
       "        setTimeout(display_loaded, 100)\n",
       "      }\n",
       "    }if ((window.Jupyter !== undefined) && Jupyter.notebook.kernel) {\n",
       "      comm_manager = Jupyter.notebook.kernel.comm_manager\n",
       "      comm_manager.register_target(\"6d1700e4-aac6-40c1-b802-161ee36f2f5e\", function () {});\n",
       "    }\n",
       "  \n",
       "    function run_callbacks() {\n",
       "      try {\n",
       "        window._bokeh_onload_callbacks.forEach(function(callback) { callback() });\n",
       "      }\n",
       "      finally {\n",
       "        delete window._bokeh_onload_callbacks\n",
       "      }\n",
       "      console.info(\"Bokeh: all callbacks have finished\");\n",
       "    }\n",
       "  \n",
       "    function load_libs(js_urls, callback) {\n",
       "      window._bokeh_onload_callbacks.push(callback);\n",
       "      if (window._bokeh_is_loading > 0) {\n",
       "        console.log(\"Bokeh: BokehJS is being loaded, scheduling callback at\", now());\n",
       "        return null;\n",
       "      }\n",
       "      if (js_urls == null || js_urls.length === 0) {\n",
       "        run_callbacks();\n",
       "        return null;\n",
       "      }\n",
       "      console.log(\"Bokeh: BokehJS not loaded, scheduling load and callback at\", now());\n",
       "      window._bokeh_is_loading = js_urls.length;\n",
       "      for (var i = 0; i < js_urls.length; i++) {\n",
       "        var url = js_urls[i];\n",
       "        var s = document.createElement('script');\n",
       "        s.src = url;\n",
       "        s.async = false;\n",
       "        s.onreadystatechange = s.onload = function() {\n",
       "          window._bokeh_is_loading--;\n",
       "          if (window._bokeh_is_loading === 0) {\n",
       "            console.log(\"Bokeh: all BokehJS libraries loaded\");\n",
       "            run_callbacks()\n",
       "          }\n",
       "        };\n",
       "        s.onerror = function() {\n",
       "          console.warn(\"failed to load library \" + url);\n",
       "        };\n",
       "        console.log(\"Bokeh: injecting script tag for BokehJS library: \", url);\n",
       "        document.getElementsByTagName(\"head\")[0].appendChild(s);\n",
       "      }\n",
       "    };var element = document.getElementById(\"4b868c16-d027-4a6e-802a-ed1b86a3f098\");\n",
       "    if (element == null) {\n",
       "      console.log(\"Bokeh: ERROR: autoload.js configured with elementid '4b868c16-d027-4a6e-802a-ed1b86a3f098' but no matching script tag was found. \")\n",
       "      return false;\n",
       "    }\n",
       "  \n",
       "    var js_urls = [];\n",
       "  \n",
       "    var inline_js = [\n",
       "      function(Bokeh) {\n",
       "        (function() {\n",
       "          var fn = function() {\n",
       "            var docs_json = {\"9ec6c053-aaf9-4a2f-bdd9-57b014513a61\":{\"roots\":{\"references\":[{\"attributes\":{\"active_drag\":\"auto\",\"active_inspect\":\"auto\",\"active_scroll\":\"auto\",\"active_tap\":\"auto\",\"tools\":[{\"id\":\"75ff6bad-7d32-4288-a847-10c58539ac7f\",\"type\":\"PanTool\"},{\"id\":\"a0665055-8287-4697-ac78-c029b4b7cc99\",\"type\":\"WheelZoomTool\"},{\"id\":\"401e25c2-80d5-4ffb-bac6-1519bb63a6a3\",\"type\":\"BoxZoomTool\"},{\"id\":\"d7961c23-01d1-4c17-a7b4-a82997e3a383\",\"type\":\"SaveTool\"},{\"id\":\"79c92685-5571-413e-8467-1ffbcf27a47d\",\"type\":\"ResetTool\"},{\"id\":\"e43a5113-b17f-49c8-9896-9620e3b15eec\",\"type\":\"HelpTool\"}]},\"id\":\"c3abbf00-ef93-4826-93df-5dcff7a567bd\",\"type\":\"Toolbar\"},{\"attributes\":{\"below\":[{\"id\":\"8163f3ac-4e5e-4230-88d6-e13ad236a914\",\"type\":\"LinearAxis\"}],\"left\":[{\"id\":\"6d160ab2-943f-479d-869e-91ad18225832\",\"type\":\"LinearAxis\"}],\"plot_height\":300,\"plot_width\":300,\"renderers\":[{\"id\":\"8163f3ac-4e5e-4230-88d6-e13ad236a914\",\"type\":\"LinearAxis\"},{\"id\":\"3950a544-d225-4b0c-81ac-75003e1a172b\",\"type\":\"Grid\"},{\"id\":\"6d160ab2-943f-479d-869e-91ad18225832\",\"type\":\"LinearAxis\"},{\"id\":\"4cf088fa-c8f3-46b8-92cc-7c65c73c0886\",\"type\":\"Grid\"},{\"id\":\"fa2d04a1-7224-416c-a3dd-274819be2025\",\"type\":\"BoxAnnotation\"},{\"id\":\"c5ab8794-9791-4a9f-88fc-4c312b30252b\",\"type\":\"GlyphRenderer\"}],\"title\":{\"id\":\"666be409-11ec-4652-b58a-ba5ff485f4bb\",\"type\":\"Title\"},\"tool_events\":{\"id\":\"6e27b25a-573f-493a-8382-8c6d2fc67c8b\",\"type\":\"ToolEvents\"},\"toolbar\":{\"id\":\"c3abbf00-ef93-4826-93df-5dcff7a567bd\",\"type\":\"Toolbar\"},\"toolbar_location\":null,\"x_range\":{\"id\":\"ab993bb7-5637-4905-884a-eed111e9ed90\",\"type\":\"Range1d\"},\"x_scale\":{\"id\":\"9668d181-47ab-4568-8b94-8917157ba3d2\",\"type\":\"LinearScale\"},\"y_range\":{\"id\":\"9825c7ca-7ba1-45d1-af16-92736447e668\",\"type\":\"Range1d\"},\"y_scale\":{\"id\":\"43c9cfd9-fadd-4c51-81e0-52618c2a7635\",\"type\":\"LinearScale\"}},\"id\":\"0a8050e0-0f60-4f95-8318-7eb84c31de12\",\"subtype\":\"Figure\",\"type\":\"Plot\"},{\"attributes\":{\"callback\":null,\"column_names\":[\"x\",\"y\"],\"data\":{\"x\":{\"__ndarray__\":\"AAAAAAAAAABvZ0jM2xmyP29nSMzbGcI/Jptssskmyz9vZ0jM2xnSP0uBWr9SoNY/Jptssskm2z8CtX6lQK3fP29nSMzbGeI/XXTRRRdd5D9LgVq/UqDmPzmO4ziO4+g/Jptssskm6z8UqPUrBWrtPwK1fqVAre8/+OCDDz748D9vZ0jM2xnyP+btDIl5O/M/XXTRRRdd9D/U+pUCtX71P0uBWr9SoPY/wgcffPDB9z85juM4juP4P7AUqPUrBfo/Jptssskm+z+dITFvZ0j8PxSo9SsFav0/iy666KKL/j8CtX6lQK3/P72dITFvZwBA+OCDDz74AEA0JObtDIkBQG9nSMzbGQJAqqqqqqqqAkDm7QyJeTsDQCExb2dIzANAXXTRRRddBECYtzMk5u0EQNT6lQK1fgVADz744IMPBkBLgVq/UqAGQIbEvJ0hMQdAwgcffPDBB0D9SoFav1IIQDmO4ziO4whAdNFFF110CUCwFKj1KwUKQOtXCtT6lQpAJptssskmC0Bi3s6QmLcLQJ0hMW9nSAxA2WSTTTbZDEAUqPUrBWoNQFDrVwrU+g1Aiy666KKLDkDHcRzHcRwPQAK1fqVArQ9AH3zwwQcfEEC9nSExb2cQQFq/UqDWrxBA+OCDDz74EECWArV+pUARQDQk5u0MiRFA0UUXXXTREUBvZ0jM2xkSQA2JeTtDYhJAqqqqqqqqEkBIzNsZEvMSQObtDIl5OxNAhA8++OCDE0AhMW9nSMwTQL9SoNavFBRAXXTRRRddFED7lQK1fqUUQJi3MyTm7RRANtlkk002FUDU+pUCtX4VQHIcx3EcxxVADz744IMPFkCtXylQ61cWQEuBWr9SoBZA6KKLLrroFkCGxLydITEXQCTm7QyJeRdAwgcffPDBF0BfKVDrVwoYQP1KgVq/UhhAm2yyySabGEA5juM4juMYQNavFKj1KxlAdNFFF110GUAS83aGxLwZQLAUqPUrBRpATTbZZJNNGkDrVwrU+pUaQIl5O0Ni3hpAJptssskmG0DEvJ0hMW8bQGLezpCYtxtAAAAAAAAAHEA=\",\"dtype\":\"float64\",\"shape\":[100]},\"y\":{\"__ndarray__\":\"AAAAAAAA8D/Sgoh3xdDtP0Hle/S3x+s/pByPTjzi6T9lU6Po5B3oP0Vu25RueOY/jukGr73v5D/6h6xp24HjP9IeQErzLOI/5S9L0VDv4D/mjhCXuo7fP50ES5I7Z90/5PQmcWJl2z+1uOZEnYbZP5CgwgiHyNc/Jsz/kOQo1j+2BpyvoaXUP/ZC5orOPNM/oz2bIp3s0T8zXVkAX7PQP7vG7CAGH88/tnPqQCf/zD9boRQBaQTLP6jOk4tCLMk/yNmKVVd0xz+fNQgZdNrFP5F5zgOMXMQ/8NhYF7b4wj+SGb+2Kq3BP2xdV19BeMA/AJpVEt2wvj8YXApZg5i8P33oLdTGpLo/8TubpifTuD9c216hUSG3P4f8W0gZjbU/Bf4NC3kUtD9wgNetjrWyPxCejuCYbrE/gKov//Q9sD9EuKvzOUSuP3kUl8JKM6w/0AllK3dGqj/ZZuEpSHuoP4mka81xz6Y/gB8qSNBApT+AK6ExZc2jP8LqK/lUc6I/wSESheQwoT+LXy/7dgSgP5MXqmAX2Z0/pgWFd3jPmz/8OHlYdemZP8MO8rifJJg/pf1zybN+lj8IgzhPlfWUP28CePBMh5M/ouvrrwUykj8s8k+UCvSQP/vrwvGIl48/oXMhCHBvjT/Y1pCDB22LP4wlu728jYk/PuPIBirPhz+M15yTEy+GPx7Xs6Fkq4Q/ihr/zCxCgz/Qtk+UnfGBPxRrJQkIuIA/3AnVT7Unfz+Iv7SrPgd9PwZ8AATzC3s/QFXSzUgzeT8835rV4np3P8dhOjiN4HU/MCcAkTpidD/Eb/NYAf5yP2ixCHQZsnE/iJcg6dl8cD97AcqDbbluP6OGlh9+oGw/CyNlJzasaj8AToMLFdpoP8FloPbFJ2c/+NSd0RyTZT/2EYp7ExpkP7rLNjLHumI/EdUYKHZzYT/MWlpEfUJgP43yexSsTF4/OTlHSik7XD97/F0tzE1aP3iMdgkdglg/SB3gSc/VVj/57uOHvkZVP+SmmMzr0lM/XcmkAnt4Uj/foqqUsDVRPyofUTXvCFA/sakknGvhTT8=\",\"dtype\":\"float64\",\"shape\":[100]}}},\"id\":\"65e7083e-60f5-4ba7-9523-b9086595e476\",\"type\":\"ColumnDataSource\"},{\"attributes\":{\"plot\":null,\"text\":\"impulse response\"},\"id\":\"666be409-11ec-4652-b58a-ba5ff485f4bb\",\"type\":\"Title\"},{\"attributes\":{},\"id\":\"6e27b25a-573f-493a-8382-8c6d2fc67c8b\",\"type\":\"ToolEvents\"},{\"attributes\":{\"below\":[{\"id\":\"483b5fc3-cc3c-4634-b1c0-0c1a12ca5643\",\"type\":\"LinearAxis\"}],\"left\":[{\"id\":\"a9c15c28-b2c0-45ef-a5af-6367ba005658\",\"type\":\"LinearAxis\"}],\"plot_height\":300,\"plot_width\":300,\"renderers\":[{\"id\":\"483b5fc3-cc3c-4634-b1c0-0c1a12ca5643\",\"type\":\"LinearAxis\"},{\"id\":\"2c72bbcc-1c97-41fc-be22-fbaea3c49079\",\"type\":\"Grid\"},{\"id\":\"a9c15c28-b2c0-45ef-a5af-6367ba005658\",\"type\":\"LinearAxis\"},{\"id\":\"332aa1a9-3823-4360-93a8-3d825659c7d4\",\"type\":\"Grid\"},{\"id\":\"0043db7b-626e-4b6b-a366-6a73fce300a0\",\"type\":\"BoxAnnotation\"},{\"id\":\"4815148c-e7cf-4e17-bc4e-ce58fd30b67c\",\"type\":\"GlyphRenderer\"}],\"title\":{\"id\":\"7f9d5cdf-46e9-4f37-b8ed-916d84e48a3b\",\"type\":\"Title\"},\"tool_events\":{\"id\":\"74446c89-19c3-4bb1-9ce9-04e9bc7c45e0\",\"type\":\"ToolEvents\"},\"toolbar\":{\"id\":\"78dd4a97-4a4e-4cee-996e-fb515ff3bb4a\",\"type\":\"Toolbar\"},\"toolbar_location\":null,\"x_range\":{\"id\":\"c5ad252c-3c6e-427c-a96f-7f2d48938c01\",\"type\":\"Range1d\"},\"x_scale\":{\"id\":\"6e874583-7e06-46d6-8747-d843f42cb1e6\",\"type\":\"LinearScale\"},\"y_range\":{\"id\":\"d1a5b91f-468c-42c0-8152-fc31a6f1b0ee\",\"type\":\"Range1d\"},\"y_scale\":{\"id\":\"5147df9f-3c89-4a29-b32f-dba6161fe163\",\"type\":\"LinearScale\"}},\"id\":\"9adf5655-470b-403b-8e6f-650688bdfd2a\",\"subtype\":\"Figure\",\"type\":\"Plot\"},{\"attributes\":{\"callback\":null,\"column_names\":[\"x\",\"y\"],\"data\":{\"x\":{\"__ndarray__\":\"AAAAAAAAAABvZ0jM2xmyP29nSMzbGcI/Jptssskmyz9vZ0jM2xnSP0uBWr9SoNY/Jptssskm2z8CtX6lQK3fP29nSMzbGeI/XXTRRRdd5D9LgVq/UqDmPzmO4ziO4+g/Jptssskm6z8UqPUrBWrtPwK1fqVAre8/+OCDDz748D9vZ0jM2xnyP+btDIl5O/M/XXTRRRdd9D/U+pUCtX71P0uBWr9SoPY/wgcffPDB9z85juM4juP4P7AUqPUrBfo/Jptssskm+z+dITFvZ0j8PxSo9SsFav0/iy666KKL/j8CtX6lQK3/P72dITFvZwBA+OCDDz74AEA0JObtDIkBQG9nSMzbGQJAqqqqqqqqAkDm7QyJeTsDQCExb2dIzANAXXTRRRddBECYtzMk5u0EQNT6lQK1fgVADz744IMPBkBLgVq/UqAGQIbEvJ0hMQdAwgcffPDBB0D9SoFav1IIQDmO4ziO4whAdNFFF110CUCwFKj1KwUKQOtXCtT6lQpAJptssskmC0Bi3s6QmLcLQJ0hMW9nSAxA2WSTTTbZDEAUqPUrBWoNQFDrVwrU+g1Aiy666KKLDkDHcRzHcRwPQAK1fqVArQ9AH3zwwQcfEEC9nSExb2cQQFq/UqDWrxBA+OCDDz74EECWArV+pUARQDQk5u0MiRFA0UUXXXTREUBvZ0jM2xkSQA2JeTtDYhJAqqqqqqqqEkBIzNsZEvMSQObtDIl5OxNAhA8++OCDE0AhMW9nSMwTQL9SoNavFBRAXXTRRRddFED7lQK1fqUUQJi3MyTm7RRANtlkk002FUDU+pUCtX4VQHIcx3EcxxVADz744IMPFkCtXylQ61cWQEuBWr9SoBZA6KKLLrroFkCGxLydITEXQCTm7QyJeRdAwgcffPDBF0BfKVDrVwoYQP1KgVq/UhhAm2yyySabGEA5juM4juMYQNavFKj1KxlAdNFFF110GUAS83aGxLwZQLAUqPUrBRpATTbZZJNNGkDrVwrU+pUaQIl5O0Ni3hpAJptssskmG0DEvJ0hMW8bQGLezpCYtxtAAAAAAAAAHEA=\",\"dtype\":\"float64\",\"shape\":[100]},\"y\":{\"__ndarray__\":\"AAAAAAAAAAB06btD1HmxPwJrEC4g4cA/do3DxQ53yD9zsnJdbIjPP3ojSdYiD9M/6CzyoYQg1j8R8KYsSfzYP2LCf2sZpts/PKBpXV4h3j+QuHe0ojjgP7V92jZiTOE/koVsx05N4j+qo4xdsTzjP7yvnnu8G+Q/8hmAt43r5D+q/DEoL63lP4rejLqYYeY/NGGybrEJ5z9sUdN/UKbnP1bOxHc+OOg/GGPFLzbA6D+u17q/5T7pP1oMG13vtOk/kkmdKuoi6j+c8r35YonqP6BhDP/c6Oo/yMkpetJB6z+gOVBStZTrP6ooKqjv4es/xky1XeQp7D+EtN6U72zsP/hCeiVnq+w/ipgsC5vl7D+cJNTL1RvtP3aA9NZcTu0/RkCe3nB97T/4D0UqTqntP0Qs7uMs0u0/tgoaYEH47T+CRMVgvBvuP76O1lPLPO4/aK9JjZhb7j+Y6WF9S3juP75FKeMIk+4/Dl59+/Kr7j9O7eWsKcPuP1pBbbDK2O4/6t2ut/Hs7j8OCk2QuP/uP0qv+kQ3Ee8/2tdDPIQh7z9ANjxVtDDvP5JvOALbPu8/GmC0YQpM7z/uO4ZVU1jvP/I/fJjFY+8/qKCA0m9u7z90gF2rX3jvP1b0ONyhge8/OHrfP0KK7z+svPHhS5LvP3ITCQ3Jme8/fNzkV8Og7z+qjLGxQ6fvP6wweW1Sre8/ngPMTPey7z8swa6JObjvP1pq298fve8/8lVglbDB7z+GlqiC8cXvPw7/9xnoye8/XFtkbpnN7z9IylQ6CtHvP0KLj+U+1O8/uP/dijvX7z8mGU79A9rvP6LuF82b3O8/1r4tTAbf7z8ENnySRuHvP35p4IFf4+8/4prYyVPl7z+4fPTqJefvP6BfCTrY6O8/MGIu42zq7z/0dYTs5evvPzrJzThF7e8/MOfXiYzu7z+qpbuCve/vPwzC9anZ8O8/aNxaa+Lx7z8GUekZ2fLvP75Ee/G+8+8/9g9bGJX07z8ODrygXPXvP7KzGYoW9u8/oK1+wsP27z+0qrUnZffvP3ZXZYj79+8/3PYYpYf47z8=\",\"dtype\":\"float64\",\"shape\":[100]}}},\"id\":\"7840b323-611f-47b4-9215-629a9e8b404e\",\"type\":\"ColumnDataSource\"},{\"attributes\":{\"plot\":{\"id\":\"67c0d0c1-b960-4728-ab5a-8f52e507eefa\",\"subtype\":\"Figure\",\"type\":\"Plot\"}},\"id\":\"83d1e731-3250-4ed4-9bab-8f9973ad77a1\",\"type\":\"SaveTool\"},{\"attributes\":{},\"id\":\"1a174fef-cf05-4fa1-8cfc-7cef237d979c\",\"type\":\"LinearScale\"},{\"attributes\":{\"plot\":{\"id\":\"67c0d0c1-b960-4728-ab5a-8f52e507eefa\",\"subtype\":\"Figure\",\"type\":\"Plot\"}},\"id\":\"3af3fc90-dfe0-451b-ae04-38c6a4549699\",\"type\":\"WheelZoomTool\"},{\"attributes\":{\"data_source\":{\"id\":\"1dc11e44-798d-4653-ac76-604b9583e353\",\"type\":\"ColumnDataSource\"},\"glyph\":{\"id\":\"b1478534-964c-4a72-b078-b256b0935f9f\",\"type\":\"Line\"},\"hover_glyph\":null,\"muted_glyph\":null,\"nonselection_glyph\":{\"id\":\"948b208d-7f34-4dfb-8a42-3d28b6e3ad2e\",\"type\":\"Line\"},\"selection_glyph\":null},\"id\":\"a9159498-7851-4e60-a30f-da6ec9538153\",\"type\":\"GlyphRenderer\"},{\"attributes\":{\"line_alpha\":{\"value\":0.1},\"line_color\":{\"value\":\"#1f77b4\"},\"x\":{\"field\":\"x\"},\"y\":{\"field\":\"y\"}},\"id\":\"948b208d-7f34-4dfb-8a42-3d28b6e3ad2e\",\"type\":\"Line\"},{\"attributes\":{\"callback\":null,\"column_names\":[\"x\",\"y\"],\"data\":{\"x\":[0,-10],\"y\":[0,0]}},\"id\":\"1dc11e44-798d-4653-ac76-604b9583e353\",\"type\":\"ColumnDataSource\"},{\"attributes\":{\"line_color\":{\"value\":\"red\"},\"x\":{\"field\":\"x\"},\"y\":{\"field\":\"y\"}},\"id\":\"b1478534-964c-4a72-b078-b256b0935f9f\",\"type\":\"Line\"},{\"attributes\":{},\"id\":\"6e3e2e7f-c6d7-45e7-837d-0e3fc76c36c0\",\"type\":\"BasicTickFormatter\"},{\"attributes\":{\"overlay\":{\"id\":\"c451f3ec-6a2d-4ea4-a87f-0174882493a3\",\"type\":\"BoxAnnotation\"},\"plot\":{\"id\":\"67c0d0c1-b960-4728-ab5a-8f52e507eefa\",\"subtype\":\"Figure\",\"type\":\"Plot\"}},\"id\":\"2341f2a7-7cc5-4cc9-8077-5adec585bd3d\",\"type\":\"BoxZoomTool\"},{\"attributes\":{},\"id\":\"6e874583-7e06-46d6-8747-d843f42cb1e6\",\"type\":\"LinearScale\"},{\"attributes\":{\"sizing_mode\":\"scale_width\",\"toolbar_location\":\"above\",\"tools\":[{\"id\":\"75ff6bad-7d32-4288-a847-10c58539ac7f\",\"type\":\"PanTool\"},{\"id\":\"a0665055-8287-4697-ac78-c029b4b7cc99\",\"type\":\"WheelZoomTool\"},{\"id\":\"401e25c2-80d5-4ffb-bac6-1519bb63a6a3\",\"type\":\"BoxZoomTool\"},{\"id\":\"d7961c23-01d1-4c17-a7b4-a82997e3a383\",\"type\":\"SaveTool\"},{\"id\":\"79c92685-5571-413e-8467-1ffbcf27a47d\",\"type\":\"ResetTool\"},{\"id\":\"e43a5113-b17f-49c8-9896-9620e3b15eec\",\"type\":\"HelpTool\"},{\"id\":\"2e26fd70-2d3d-4e8d-bb9c-ab9ed5b5708c\",\"type\":\"PanTool\"},{\"id\":\"8fec7b5d-7836-454a-a06f-10422786aff7\",\"type\":\"WheelZoomTool\"},{\"id\":\"6a703377-41d6-4d2c-b410-983625121409\",\"type\":\"BoxZoomTool\"},{\"id\":\"aaf874db-3c74-427a-b9d5-a71db697ae65\",\"type\":\"SaveTool\"},{\"id\":\"0d28f49b-0be9-4867-af50-d1e1a3d83177\",\"type\":\"ResetTool\"},{\"id\":\"d9c3c5ee-7cdf-4f86-836f-3bcdf8360d1f\",\"type\":\"HelpTool\"},{\"id\":\"9d0c6f07-f481-4e03-bdfc-9d95c61a7af8\",\"type\":\"PanTool\"},{\"id\":\"3af3fc90-dfe0-451b-ae04-38c6a4549699\",\"type\":\"WheelZoomTool\"},{\"id\":\"2341f2a7-7cc5-4cc9-8077-5adec585bd3d\",\"type\":\"BoxZoomTool\"},{\"id\":\"83d1e731-3250-4ed4-9bab-8f9973ad77a1\",\"type\":\"SaveTool\"},{\"id\":\"53e26a4b-b142-42b6-834a-ffccbd1b6f9f\",\"type\":\"ResetTool\"},{\"id\":\"353510f9-0606-4655-80fd-b3c755700a50\",\"type\":\"HelpTool\"}]},\"id\":\"9afd9299-b38f-40a4-90c7-5506609c0b9f\",\"type\":\"ToolbarBox\"},{\"attributes\":{\"callback\":null,\"start\":-4},\"id\":\"b63fdfb4-5fe5-4b05-804b-9d2ebac81063\",\"type\":\"Range1d\"},{\"attributes\":{\"overlay\":{\"id\":\"fa2d04a1-7224-416c-a3dd-274819be2025\",\"type\":\"BoxAnnotation\"},\"plot\":{\"id\":\"0a8050e0-0f60-4f95-8318-7eb84c31de12\",\"subtype\":\"Figure\",\"type\":\"Plot\"}},\"id\":\"401e25c2-80d5-4ffb-bac6-1519bb63a6a3\",\"type\":\"BoxZoomTool\"},{\"attributes\":{\"plot\":{\"id\":\"67c0d0c1-b960-4728-ab5a-8f52e507eefa\",\"subtype\":\"Figure\",\"type\":\"Plot\"},\"ticker\":{\"id\":\"b10d4887-ac40-4593-bc5b-a18e64319067\",\"type\":\"BasicTicker\"}},\"id\":\"7455cdd5-bf39-4fc9-94f3-72b7c488dddb\",\"type\":\"Grid\"},{\"attributes\":{\"data_source\":{\"id\":\"7840b323-611f-47b4-9215-629a9e8b404e\",\"type\":\"ColumnDataSource\"},\"glyph\":{\"id\":\"2430e661-408e-4ca9-8532-ae2aebaa6799\",\"type\":\"Line\"},\"hover_glyph\":null,\"muted_glyph\":null,\"nonselection_glyph\":{\"id\":\"517f06bd-ddd8-4984-96a7-36506536a570\",\"type\":\"Line\"},\"selection_glyph\":null},\"id\":\"4815148c-e7cf-4e17-bc4e-ce58fd30b67c\",\"type\":\"GlyphRenderer\"},{\"attributes\":{\"callback\":null,\"end\":3,\"start\":-0.1},\"id\":\"9825c7ca-7ba1-45d1-af16-92736447e668\",\"type\":\"Range1d\"},{\"attributes\":{},\"id\":\"dd89a4cc-333b-443e-8fdc-1cfb19f1e2e5\",\"type\":\"BasicTicker\"},{\"attributes\":{},\"id\":\"b10d4887-ac40-4593-bc5b-a18e64319067\",\"type\":\"BasicTicker\"},{\"attributes\":{\"plot\":{\"id\":\"0a8050e0-0f60-4f95-8318-7eb84c31de12\",\"subtype\":\"Figure\",\"type\":\"Plot\"}},\"id\":\"79c92685-5571-413e-8467-1ffbcf27a47d\",\"type\":\"ResetTool\"},{\"attributes\":{\"children\":[{\"id\":\"801e64a9-3efa-4016-a7c5-7b8850108489\",\"type\":\"Row\"},{\"id\":\"694f7668-3c61-47a9-b68d-d806d7fef2de\",\"type\":\"Row\"}]},\"id\":\"8e497df1-ab0b-4ed6-957c-670825fade8c\",\"type\":\"Column\"},{\"attributes\":{\"plot\":{\"id\":\"9adf5655-470b-403b-8e6f-650688bdfd2a\",\"subtype\":\"Figure\",\"type\":\"Plot\"}},\"id\":\"2e26fd70-2d3d-4e8d-bb9c-ab9ed5b5708c\",\"type\":\"PanTool\"},{\"attributes\":{},\"id\":\"74446c89-19c3-4bb1-9ce9-04e9bc7c45e0\",\"type\":\"ToolEvents\"},{\"attributes\":{},\"id\":\"d43cb9b9-b550-4489-a1a4-8666d4c0c617\",\"type\":\"BasicTicker\"},{\"attributes\":{\"fill_alpha\":{\"value\":0.1},\"fill_color\":{\"value\":\"#1f77b4\"},\"line_alpha\":{\"value\":0.1},\"line_color\":{\"value\":\"#1f77b4\"},\"size\":{\"units\":\"screen\",\"value\":10},\"x\":{\"field\":\"x\"},\"y\":{\"field\":\"y\"}},\"id\":\"e3b416cb-e393-42cc-86ac-e85ce0201d2e\",\"type\":\"Circle\"},{\"attributes\":{\"formatter\":{\"id\":\"d5cbacf6-3e1d-4734-9568-10661b915504\",\"type\":\"BasicTickFormatter\"},\"plot\":{\"id\":\"9adf5655-470b-403b-8e6f-650688bdfd2a\",\"subtype\":\"Figure\",\"type\":\"Plot\"},\"ticker\":{\"id\":\"1f36455e-f35e-4fe5-b2a8-5c2bb3ba61b4\",\"type\":\"BasicTicker\"}},\"id\":\"a9c15c28-b2c0-45ef-a5af-6367ba005658\",\"type\":\"LinearAxis\"},{\"attributes\":{\"active_drag\":\"auto\",\"active_inspect\":\"auto\",\"active_scroll\":\"auto\",\"active_tap\":\"auto\",\"tools\":[{\"id\":\"9d0c6f07-f481-4e03-bdfc-9d95c61a7af8\",\"type\":\"PanTool\"},{\"id\":\"3af3fc90-dfe0-451b-ae04-38c6a4549699\",\"type\":\"WheelZoomTool\"},{\"id\":\"2341f2a7-7cc5-4cc9-8077-5adec585bd3d\",\"type\":\"BoxZoomTool\"},{\"id\":\"83d1e731-3250-4ed4-9bab-8f9973ad77a1\",\"type\":\"SaveTool\"},{\"id\":\"53e26a4b-b142-42b6-834a-ffccbd1b6f9f\",\"type\":\"ResetTool\"},{\"id\":\"353510f9-0606-4655-80fd-b3c755700a50\",\"type\":\"HelpTool\"}]},\"id\":\"cb2feba1-0d0d-49d6-84b5-44dad6546aec\",\"type\":\"Toolbar\"},{\"attributes\":{\"formatter\":{\"id\":\"6e3e2e7f-c6d7-45e7-837d-0e3fc76c36c0\",\"type\":\"BasicTickFormatter\"},\"plot\":{\"id\":\"67c0d0c1-b960-4728-ab5a-8f52e507eefa\",\"subtype\":\"Figure\",\"type\":\"Plot\"},\"ticker\":{\"id\":\"b10d4887-ac40-4593-bc5b-a18e64319067\",\"type\":\"BasicTicker\"}},\"id\":\"3674338d-6930-4834-8d3b-8fa37e5ffc72\",\"type\":\"LinearAxis\"},{\"attributes\":{},\"id\":\"263ebe3c-181c-402d-9298-d42d8c04c4d5\",\"type\":\"BasicTickFormatter\"},{\"attributes\":{\"plot\":{\"id\":\"67c0d0c1-b960-4728-ab5a-8f52e507eefa\",\"subtype\":\"Figure\",\"type\":\"Plot\"}},\"id\":\"53e26a4b-b142-42b6-834a-ffccbd1b6f9f\",\"type\":\"ResetTool\"},{\"attributes\":{},\"id\":\"9668d181-47ab-4568-8b94-8917157ba3d2\",\"type\":\"LinearScale\"},{\"attributes\":{\"axis_label\":\"$$time$$\",\"formatter\":{\"id\":\"f24f356c-95f7-40b8-8c19-8f63341457dd\",\"type\":\"BasicTickFormatter\"},\"plot\":{\"id\":\"0a8050e0-0f60-4f95-8318-7eb84c31de12\",\"subtype\":\"Figure\",\"type\":\"Plot\"},\"ticker\":{\"id\":\"6ea36eff-d946-43c8-a584-6751128f4b5c\",\"type\":\"BasicTicker\"}},\"id\":\"8163f3ac-4e5e-4230-88d6-e13ad236a914\",\"type\":\"LinearAxis\"},{\"attributes\":{\"dimension\":1,\"plot\":{\"id\":\"67c0d0c1-b960-4728-ab5a-8f52e507eefa\",\"subtype\":\"Figure\",\"type\":\"Plot\"},\"ticker\":{\"id\":\"b437d515-5bde-48aa-9022-ede84e5c1c9e\",\"type\":\"BasicTicker\"}},\"id\":\"fac52247-0373-42f6-93be-baee35616597\",\"type\":\"Grid\"},{\"attributes\":{\"plot\":{\"id\":\"67c0d0c1-b960-4728-ab5a-8f52e507eefa\",\"subtype\":\"Figure\",\"type\":\"Plot\"}},\"id\":\"9d0c6f07-f481-4e03-bdfc-9d95c61a7af8\",\"type\":\"PanTool\"},{\"attributes\":{\"children\":[{\"id\":\"9afd9299-b38f-40a4-90c7-5506609c0b9f\",\"type\":\"ToolbarBox\"},{\"id\":\"8e497df1-ab0b-4ed6-957c-670825fade8c\",\"type\":\"Column\"}]},\"id\":\"07b89c2d-baf4-44fe-b84e-4bb62d3950e6\",\"type\":\"Column\"},{\"attributes\":{\"line_alpha\":{\"value\":0.1},\"line_color\":{\"value\":\"#1f77b4\"},\"x\":{\"field\":\"x\"},\"y\":{\"field\":\"y\"}},\"id\":\"ac837d90-4e41-4ae5-83db-74ebc5e3ec6b\",\"type\":\"Line\"},{\"attributes\":{\"plot\":{\"id\":\"0a8050e0-0f60-4f95-8318-7eb84c31de12\",\"subtype\":\"Figure\",\"type\":\"Plot\"},\"ticker\":{\"id\":\"6ea36eff-d946-43c8-a584-6751128f4b5c\",\"type\":\"BasicTicker\"}},\"id\":\"3950a544-d225-4b0c-81ac-75003e1a172b\",\"type\":\"Grid\"},{\"attributes\":{\"data_source\":{\"id\":\"16dcd8c4-77a9-4dc4-b5cf-2833dde5b5f6\",\"type\":\"ColumnDataSource\"},\"glyph\":{\"id\":\"92c909db-6971-40ea-b43c-99bc17cbc352\",\"type\":\"Circle\"},\"hover_glyph\":null,\"muted_glyph\":null,\"nonselection_glyph\":{\"id\":\"e3b416cb-e393-42cc-86ac-e85ce0201d2e\",\"type\":\"Circle\"},\"selection_glyph\":null},\"id\":\"20725950-872d-4b37-a9d6-1eae875bc7e5\",\"type\":\"GlyphRenderer\"},{\"attributes\":{\"callback\":null,\"end\":1.04,\"start\":-0.04},\"id\":\"d1a5b91f-468c-42c0-8152-fc31a6f1b0ee\",\"type\":\"Range1d\"},{\"attributes\":{\"formatter\":{\"id\":\"55a0ce8b-9c8d-48a9-83a5-faec883d3e41\",\"type\":\"BasicTickFormatter\"},\"plot\":{\"id\":\"9adf5655-470b-403b-8e6f-650688bdfd2a\",\"subtype\":\"Figure\",\"type\":\"Plot\"},\"ticker\":{\"id\":\"dd89a4cc-333b-443e-8fdc-1cfb19f1e2e5\",\"type\":\"BasicTicker\"}},\"id\":\"483b5fc3-cc3c-4634-b1c0-0c1a12ca5643\",\"type\":\"LinearAxis\"},{\"attributes\":{\"plot\":{\"id\":\"9adf5655-470b-403b-8e6f-650688bdfd2a\",\"subtype\":\"Figure\",\"type\":\"Plot\"}},\"id\":\"8fec7b5d-7836-454a-a06f-10422786aff7\",\"type\":\"WheelZoomTool\"},{\"attributes\":{\"plot\":null,\"text\":\"step response\"},\"id\":\"7f9d5cdf-46e9-4f37-b8ed-916d84e48a3b\",\"type\":\"Title\"},{\"attributes\":{\"dimension\":1,\"plot\":{\"id\":\"0a8050e0-0f60-4f95-8318-7eb84c31de12\",\"subtype\":\"Figure\",\"type\":\"Plot\"},\"ticker\":{\"id\":\"d43cb9b9-b550-4489-a1a4-8666d4c0c617\",\"type\":\"BasicTicker\"}},\"id\":\"4cf088fa-c8f3-46b8-92cc-7c65c73c0886\",\"type\":\"Grid\"},{\"attributes\":{\"plot\":{\"id\":\"0a8050e0-0f60-4f95-8318-7eb84c31de12\",\"subtype\":\"Figure\",\"type\":\"Plot\"}},\"id\":\"75ff6bad-7d32-4288-a847-10c58539ac7f\",\"type\":\"PanTool\"},{\"attributes\":{\"plot\":{\"id\":\"9adf5655-470b-403b-8e6f-650688bdfd2a\",\"subtype\":\"Figure\",\"type\":\"Plot\"}},\"id\":\"0d28f49b-0be9-4867-af50-d1e1a3d83177\",\"type\":\"ResetTool\"},{\"attributes\":{\"data_source\":{\"id\":\"65e7083e-60f5-4ba7-9523-b9086595e476\",\"type\":\"ColumnDataSource\"},\"glyph\":{\"id\":\"bda5a14d-2838-4f93-a1ec-15439f9130b2\",\"type\":\"Line\"},\"hover_glyph\":null,\"muted_glyph\":null,\"nonselection_glyph\":{\"id\":\"ac837d90-4e41-4ae5-83db-74ebc5e3ec6b\",\"type\":\"Line\"},\"selection_glyph\":null},\"id\":\"c5ab8794-9791-4a9f-88fc-4c312b30252b\",\"type\":\"GlyphRenderer\"},{\"attributes\":{\"formatter\":{\"id\":\"ed7f7938-9cf7-4458-90d1-5d36cd68c508\",\"type\":\"BasicTickFormatter\"},\"plot\":{\"id\":\"67c0d0c1-b960-4728-ab5a-8f52e507eefa\",\"subtype\":\"Figure\",\"type\":\"Plot\"},\"ticker\":{\"id\":\"b437d515-5bde-48aa-9022-ede84e5c1c9e\",\"type\":\"BasicTicker\"}},\"id\":\"f9f7312d-c680-4612-b001-3a6a8454698d\",\"type\":\"LinearAxis\"},{\"attributes\":{\"bottom_units\":\"screen\",\"fill_alpha\":{\"value\":0.5},\"fill_color\":{\"value\":\"lightgrey\"},\"left_units\":\"screen\",\"level\":\"overlay\",\"line_alpha\":{\"value\":1.0},\"line_color\":{\"value\":\"black\"},\"line_dash\":[4,4],\"line_width\":{\"value\":2},\"plot\":null,\"render_mode\":\"css\",\"right_units\":\"screen\",\"top_units\":\"screen\"},\"id\":\"0043db7b-626e-4b6b-a366-6a73fce300a0\",\"type\":\"BoxAnnotation\"},{\"attributes\":{\"height\":300,\"width\":300},\"id\":\"74fe007a-f537-4775-8cdc-ee2801f17794\",\"type\":\"Spacer\"},{\"attributes\":{},\"id\":\"6ea36eff-d946-43c8-a584-6751128f4b5c\",\"type\":\"BasicTicker\"},{\"attributes\":{},\"id\":\"933881d4-3a9c-4b52-b413-ed1a650ed20c\",\"type\":\"ToolEvents\"},{\"attributes\":{\"line_alpha\":{\"value\":0.1},\"line_color\":{\"value\":\"#1f77b4\"},\"x\":{\"field\":\"x\"},\"y\":{\"field\":\"y\"}},\"id\":\"517f06bd-ddd8-4984-96a7-36506536a570\",\"type\":\"Line\"},{\"attributes\":{\"plot\":{\"id\":\"9adf5655-470b-403b-8e6f-650688bdfd2a\",\"subtype\":\"Figure\",\"type\":\"Plot\"}},\"id\":\"aaf874db-3c74-427a-b9d5-a71db697ae65\",\"type\":\"SaveTool\"},{\"attributes\":{},\"id\":\"d5cbacf6-3e1d-4734-9568-10661b915504\",\"type\":\"BasicTickFormatter\"},{\"attributes\":{\"plot\":null,\"text\":\"pole-zero plot\"},\"id\":\"82539fc3-907b-4051-9948-1055b606ed35\",\"type\":\"Title\"},{\"attributes\":{\"line_color\":{\"value\":\"#1f77b4\"},\"x\":{\"field\":\"x\"},\"y\":{\"field\":\"y\"}},\"id\":\"2430e661-408e-4ca9-8532-ae2aebaa6799\",\"type\":\"Line\"},{\"attributes\":{\"overlay\":{\"id\":\"0043db7b-626e-4b6b-a366-6a73fce300a0\",\"type\":\"BoxAnnotation\"},\"plot\":{\"id\":\"9adf5655-470b-403b-8e6f-650688bdfd2a\",\"subtype\":\"Figure\",\"type\":\"Plot\"}},\"id\":\"6a703377-41d6-4d2c-b410-983625121409\",\"type\":\"BoxZoomTool\"},{\"attributes\":{\"active_drag\":\"auto\",\"active_inspect\":\"auto\",\"active_scroll\":\"auto\",\"active_tap\":\"auto\",\"tools\":[{\"id\":\"2e26fd70-2d3d-4e8d-bb9c-ab9ed5b5708c\",\"type\":\"PanTool\"},{\"id\":\"8fec7b5d-7836-454a-a06f-10422786aff7\",\"type\":\"WheelZoomTool\"},{\"id\":\"6a703377-41d6-4d2c-b410-983625121409\",\"type\":\"BoxZoomTool\"},{\"id\":\"aaf874db-3c74-427a-b9d5-a71db697ae65\",\"type\":\"SaveTool\"},{\"id\":\"0d28f49b-0be9-4867-af50-d1e1a3d83177\",\"type\":\"ResetTool\"},{\"id\":\"d9c3c5ee-7cdf-4f86-836f-3bcdf8360d1f\",\"type\":\"HelpTool\"}]},\"id\":\"78dd4a97-4a4e-4cee-996e-fb515ff3bb4a\",\"type\":\"Toolbar\"},{\"attributes\":{\"plot\":{\"id\":\"0a8050e0-0f60-4f95-8318-7eb84c31de12\",\"subtype\":\"Figure\",\"type\":\"Plot\"}},\"id\":\"a0665055-8287-4697-ac78-c029b4b7cc99\",\"type\":\"WheelZoomTool\"},{\"attributes\":{},\"id\":\"d9fc056a-7760-4305-bada-b7c674a51fdc\",\"type\":\"LinearScale\"},{\"attributes\":{\"children\":[{\"id\":\"0a8050e0-0f60-4f95-8318-7eb84c31de12\",\"subtype\":\"Figure\",\"type\":\"Plot\"},{\"id\":\"9adf5655-470b-403b-8e6f-650688bdfd2a\",\"subtype\":\"Figure\",\"type\":\"Plot\"}]},\"id\":\"801e64a9-3efa-4016-a7c5-7b8850108489\",\"type\":\"Row\"},{\"attributes\":{\"callback\":null,\"end\":2,\"start\":-2},\"id\":\"1a42b26e-d97c-4a4b-90e3-1297bb32f8db\",\"type\":\"Range1d\"},{\"attributes\":{\"dimension\":1,\"plot\":{\"id\":\"9adf5655-470b-403b-8e6f-650688bdfd2a\",\"subtype\":\"Figure\",\"type\":\"Plot\"},\"ticker\":{\"id\":\"1f36455e-f35e-4fe5-b2a8-5c2bb3ba61b4\",\"type\":\"BasicTicker\"}},\"id\":\"332aa1a9-3823-4360-93a8-3d825659c7d4\",\"type\":\"Grid\"},{\"attributes\":{\"callback\":null,\"column_names\":[\"x\",\"y\"],\"data\":{\"x\":[-1],\"y\":[0]}},\"id\":\"16dcd8c4-77a9-4dc4-b5cf-2833dde5b5f6\",\"type\":\"ColumnDataSource\"},{\"attributes\":{\"formatter\":{\"id\":\"263ebe3c-181c-402d-9298-d42d8c04c4d5\",\"type\":\"BasicTickFormatter\"},\"plot\":{\"id\":\"0a8050e0-0f60-4f95-8318-7eb84c31de12\",\"subtype\":\"Figure\",\"type\":\"Plot\"},\"ticker\":{\"id\":\"d43cb9b9-b550-4489-a1a4-8666d4c0c617\",\"type\":\"BasicTicker\"}},\"id\":\"6d160ab2-943f-479d-869e-91ad18225832\",\"type\":\"LinearAxis\"},{\"attributes\":{\"callback\":null,\"end\":10},\"id\":\"ab993bb7-5637-4905-884a-eed111e9ed90\",\"type\":\"Range1d\"},{\"attributes\":{\"fill_alpha\":{\"value\":0},\"fill_color\":{\"value\":\"#1f77b4\"},\"line_color\":{\"value\":\"#1f77b4\"},\"size\":{\"units\":\"screen\",\"value\":10},\"x\":{\"field\":\"x\"},\"y\":{\"field\":\"y\"}},\"id\":\"92c909db-6971-40ea-b43c-99bc17cbc352\",\"type\":\"Circle\"},{\"attributes\":{\"plot\":{\"id\":\"0a8050e0-0f60-4f95-8318-7eb84c31de12\",\"subtype\":\"Figure\",\"type\":\"Plot\"}},\"id\":\"e43a5113-b17f-49c8-9896-9620e3b15eec\",\"type\":\"HelpTool\"},{\"attributes\":{},\"id\":\"b437d515-5bde-48aa-9022-ede84e5c1c9e\",\"type\":\"BasicTicker\"},{\"attributes\":{},\"id\":\"5147df9f-3c89-4a29-b32f-dba6161fe163\",\"type\":\"LinearScale\"},{\"attributes\":{},\"id\":\"ed7f7938-9cf7-4458-90d1-5d36cd68c508\",\"type\":\"BasicTickFormatter\"},{\"attributes\":{\"bottom_units\":\"screen\",\"fill_alpha\":{\"value\":0.5},\"fill_color\":{\"value\":\"lightgrey\"},\"left_units\":\"screen\",\"level\":\"overlay\",\"line_alpha\":{\"value\":1.0},\"line_color\":{\"value\":\"black\"},\"line_dash\":[4,4],\"line_width\":{\"value\":2},\"plot\":null,\"render_mode\":\"css\",\"right_units\":\"screen\",\"top_units\":\"screen\"},\"id\":\"fa2d04a1-7224-416c-a3dd-274819be2025\",\"type\":\"BoxAnnotation\"},{\"attributes\":{\"plot\":{\"id\":\"0a8050e0-0f60-4f95-8318-7eb84c31de12\",\"subtype\":\"Figure\",\"type\":\"Plot\"}},\"id\":\"d7961c23-01d1-4c17-a7b4-a82997e3a383\",\"type\":\"SaveTool\"},{\"attributes\":{\"plot\":{\"id\":\"67c0d0c1-b960-4728-ab5a-8f52e507eefa\",\"subtype\":\"Figure\",\"type\":\"Plot\"}},\"id\":\"353510f9-0606-4655-80fd-b3c755700a50\",\"type\":\"HelpTool\"},{\"attributes\":{\"children\":[{\"id\":\"67c0d0c1-b960-4728-ab5a-8f52e507eefa\",\"subtype\":\"Figure\",\"type\":\"Plot\"},{\"id\":\"74fe007a-f537-4775-8cdc-ee2801f17794\",\"type\":\"Spacer\"}]},\"id\":\"694f7668-3c61-47a9-b68d-d806d7fef2de\",\"type\":\"Row\"},{\"attributes\":{},\"id\":\"55a0ce8b-9c8d-48a9-83a5-faec883d3e41\",\"type\":\"BasicTickFormatter\"},{\"attributes\":{},\"id\":\"1f36455e-f35e-4fe5-b2a8-5c2bb3ba61b4\",\"type\":\"BasicTicker\"},{\"attributes\":{\"plot\":{\"id\":\"9adf5655-470b-403b-8e6f-650688bdfd2a\",\"subtype\":\"Figure\",\"type\":\"Plot\"}},\"id\":\"d9c3c5ee-7cdf-4f86-836f-3bcdf8360d1f\",\"type\":\"HelpTool\"},{\"attributes\":{\"plot\":{\"id\":\"9adf5655-470b-403b-8e6f-650688bdfd2a\",\"subtype\":\"Figure\",\"type\":\"Plot\"},\"ticker\":{\"id\":\"dd89a4cc-333b-443e-8fdc-1cfb19f1e2e5\",\"type\":\"BasicTicker\"}},\"id\":\"2c72bbcc-1c97-41fc-be22-fbaea3c49079\",\"type\":\"Grid\"},{\"attributes\":{\"below\":[{\"id\":\"3674338d-6930-4834-8d3b-8fa37e5ffc72\",\"type\":\"LinearAxis\"}],\"left\":[{\"id\":\"f9f7312d-c680-4612-b001-3a6a8454698d\",\"type\":\"LinearAxis\"}],\"plot_height\":300,\"plot_width\":300,\"renderers\":[{\"id\":\"3674338d-6930-4834-8d3b-8fa37e5ffc72\",\"type\":\"LinearAxis\"},{\"id\":\"7455cdd5-bf39-4fc9-94f3-72b7c488dddb\",\"type\":\"Grid\"},{\"id\":\"f9f7312d-c680-4612-b001-3a6a8454698d\",\"type\":\"LinearAxis\"},{\"id\":\"fac52247-0373-42f6-93be-baee35616597\",\"type\":\"Grid\"},{\"id\":\"c451f3ec-6a2d-4ea4-a87f-0174882493a3\",\"type\":\"BoxAnnotation\"},{\"id\":\"20725950-872d-4b37-a9d6-1eae875bc7e5\",\"type\":\"GlyphRenderer\"},{\"id\":\"a9159498-7851-4e60-a30f-da6ec9538153\",\"type\":\"GlyphRenderer\"}],\"title\":{\"id\":\"82539fc3-907b-4051-9948-1055b606ed35\",\"type\":\"Title\"},\"tool_events\":{\"id\":\"933881d4-3a9c-4b52-b413-ed1a650ed20c\",\"type\":\"ToolEvents\"},\"toolbar\":{\"id\":\"cb2feba1-0d0d-49d6-84b5-44dad6546aec\",\"type\":\"Toolbar\"},\"toolbar_location\":null,\"x_range\":{\"id\":\"b63fdfb4-5fe5-4b05-804b-9d2ebac81063\",\"type\":\"Range1d\"},\"x_scale\":{\"id\":\"d9fc056a-7760-4305-bada-b7c674a51fdc\",\"type\":\"LinearScale\"},\"y_range\":{\"id\":\"1a42b26e-d97c-4a4b-90e3-1297bb32f8db\",\"type\":\"Range1d\"},\"y_scale\":{\"id\":\"1a174fef-cf05-4fa1-8cfc-7cef237d979c\",\"type\":\"LinearScale\"}},\"id\":\"67c0d0c1-b960-4728-ab5a-8f52e507eefa\",\"subtype\":\"Figure\",\"type\":\"Plot\"},{\"attributes\":{},\"id\":\"43c9cfd9-fadd-4c51-81e0-52618c2a7635\",\"type\":\"LinearScale\"},{\"attributes\":{\"bottom_units\":\"screen\",\"fill_alpha\":{\"value\":0.5},\"fill_color\":{\"value\":\"lightgrey\"},\"left_units\":\"screen\",\"level\":\"overlay\",\"line_alpha\":{\"value\":1.0},\"line_color\":{\"value\":\"black\"},\"line_dash\":[4,4],\"line_width\":{\"value\":2},\"plot\":null,\"render_mode\":\"css\",\"right_units\":\"screen\",\"top_units\":\"screen\"},\"id\":\"c451f3ec-6a2d-4ea4-a87f-0174882493a3\",\"type\":\"BoxAnnotation\"},{\"attributes\":{\"line_color\":{\"value\":\"#1f77b4\"},\"x\":{\"field\":\"x\"},\"y\":{\"field\":\"y\"}},\"id\":\"bda5a14d-2838-4f93-a1ec-15439f9130b2\",\"type\":\"Line\"},{\"attributes\":{},\"id\":\"f24f356c-95f7-40b8-8c19-8f63341457dd\",\"type\":\"BasicTickFormatter\"},{\"attributes\":{\"callback\":null,\"end\":10},\"id\":\"c5ad252c-3c6e-427c-a96f-7f2d48938c01\",\"type\":\"Range1d\"}],\"root_ids\":[\"07b89c2d-baf4-44fe-b84e-4bb62d3950e6\"]},\"title\":\"Bokeh Application\",\"version\":\"0.12.6\"}};\n",
       "            var render_items = [{\"docid\":\"9ec6c053-aaf9-4a2f-bdd9-57b014513a61\",\"elementid\":\"4b868c16-d027-4a6e-802a-ed1b86a3f098\",\"modelid\":\"07b89c2d-baf4-44fe-b84e-4bb62d3950e6\",\"notebook_comms_target\":\"6d1700e4-aac6-40c1-b802-161ee36f2f5e\"}];\n",
       "            \n",
       "            Bokeh.embed.embed_items(docs_json, render_items);\n",
       "          };\n",
       "          if (document.readyState != \"loading\") fn();\n",
       "          else document.addEventListener(\"DOMContentLoaded\", fn);\n",
       "        })();\n",
       "      },\n",
       "      function(Bokeh) {\n",
       "      }\n",
       "    ];\n",
       "  \n",
       "    function run_inline_js() {\n",
       "      \n",
       "      if ((window.Bokeh !== undefined) || (force === true)) {\n",
       "        for (var i = 0; i < inline_js.length; i++) {\n",
       "          inline_js[i](window.Bokeh);\n",
       "        }if (force === true) {\n",
       "          display_loaded();\n",
       "        }} else if (Date.now() < window._bokeh_timeout) {\n",
       "        setTimeout(run_inline_js, 100);\n",
       "      } else if (!window._bokeh_failed_load) {\n",
       "        console.log(\"Bokeh: BokehJS failed to load within specified timeout.\");\n",
       "        window._bokeh_failed_load = true;\n",
       "      } else if (force !== true) {\n",
       "        var cell = $(document.getElementById(\"4b868c16-d027-4a6e-802a-ed1b86a3f098\")).parents('.cell').data().cell;\n",
       "        cell.output_area.append_execute_result(NB_LOAD_WARNING)\n",
       "      }\n",
       "  \n",
       "    }\n",
       "  \n",
       "    if (window._bokeh_is_loading === 0) {\n",
       "      console.log(\"Bokeh: BokehJS loaded, going straight to plotting\");\n",
       "      run_inline_js();\n",
       "    } else {\n",
       "      load_libs(js_urls, function() {\n",
       "        console.log(\"Bokeh: BokehJS plotting callback run at\", now());\n",
       "        run_inline_js();\n",
       "      });\n",
       "    }\n",
       "  }(this));\n",
       "</script>"
      ]
     },
     "metadata": {},
     "output_type": "display_data"
    },
    {
     "data": {
      "application/vnd.jupyter.widget-view+json": {
       "model_id": "7ba80e83c2634bca893d1da55fc91ebc"
      }
     },
     "metadata": {},
     "output_type": "display_data"
    }
   ],
   "source": [
    "def analyze_lti(lti, t=np.linspace(0,10,100)):\n",
    "    \"\"\"Create a set of plots to analyze an lti system\n",
    "    \n",
    "    \"\"\"\n",
    "    t_impulse, y_impulse = impulse(lti.sys)\n",
    "    fig_impulse = figure(title=\"impulse response\", x_range=(0, 10), y_range=(-0.1, 3), x_axis_label=r'$$time$$')\n",
    "    g_impulse = fig_impulse.line(x=t_impulse, y=y_impulse)\n",
    "\n",
    "    t_step, y_step = step(lti.sys)\n",
    "    fig_step = figure(title=\"step response\", x_range=(0, 10), y_range=(-0.04, 1.04))\n",
    "    g_step = fig_step.line(x=t_step, y=y_step)\n",
    "    \n",
    "    fig_pz = figure(title=\"pole-zero plot\", x_range=(-4, 1), y_range=(-2,2))\n",
    "    g_poles = fig_pz.circle(x=lti.sys.poles.real, y=lti.sys.poles.imag, size=10, fill_alpha=0)\n",
    "    g_rootlocus = fig_pz.line(x=[0, -10], y=[0, 0], line_color='red')\n",
    "\n",
    "    def update(**kwargs):\n",
    "        lti.update(**kwargs)\n",
    "        g_impulse.data_source.data['x'], g_impulse.data_source.data['y'] = impulse(lti.sys, T=t)\n",
    "        \n",
    "        g_step.data_source.data['x'], g_step.data_source.data['y'] = step(lti.sys, T=t)\n",
    "        \n",
    "        g_poles.data_source.data['x'] = lti.sys.poles.real\n",
    "        g_poles.data_source.data['y'] = lti.sys.poles.imag\n",
    "        push_notebook()\n",
    "\n",
    "    grid = gridplot(\n",
    "        [fig_impulse, fig_step],\n",
    "        [fig_pz, None],\n",
    "        plot_width=300, plot_height=300\n",
    "    )\n",
    "\n",
    "    show(grid, notebook_handle=True)\n",
    "\n",
    "    interact(update, **lti.update_kwargs)\n",
    "\n",
    "sys = PControllerSPlant(ZerosPolesGain([], [-1], [1]))\n",
    "analyze_lti(sys)"
   ]
  },
  {
   "cell_type": "code",
   "execution_count": null,
   "metadata": {
    "ExecuteTime": {
     "end_time": "2017-06-15T22:11:20.260860Z",
     "start_time": "2017-06-15T22:11:19.803435Z"
    },
    "collapsed": true,
    "run_control": {
     "frozen": false,
     "read_only": false
    }
   },
   "outputs": [],
   "source": [
    "sys = ZeroPolesGain(poles=[-1], zeros=[], gain=[1])\n",
    "analyze_lti(poles=[-1], zeros=[], gain=[1])"
   ]
  },
  {
   "cell_type": "markdown",
   "metadata": {
    "run_control": {
     "frozen": false,
     "read_only": false
    }
   },
   "source": [
    "### $x_d=u(t)\\Leftrightarrow\\frac{1}{s}$ input\n",
    "\n",
    "With input set to a unit step function\n",
    "\n",
    "\\begin{align}\n",
    "X &= \\frac{k_p}{s+k_p}\\frac{1}{s} \\\\\n",
    "\\end{align}\n",
    "\n",
    "Do the partial fraction expansion\n",
    "\n",
    "\\begin{align}\n",
    "\\frac{k_p}{s+k_p}\\frac{1}{s} &= \\frac{a}{s+k_p} + \\frac{b}{s} \\\\\n",
    "\\end{align}\n",
    "\n",
    "so \n",
    "\n",
    "\\begin{align}\n",
    " k_p &= as + b(s+k_p) \\\\\n",
    "\\end{align}\n",
    "\n",
    "setting $s=0$ and solving for $b$,\n",
    "\n",
    "$$b=1$$\n",
    "\n",
    "setting $s=-k_p$ and solving for $a$,\n",
    "\n",
    "$$a=-1$$\n",
    "\n",
    "so overall\n",
    "\n",
    "\\begin{align}\n",
    "X &= -\\frac{1}{s+k_p} + \\frac{1}{s} \\\\\n",
    "x(t) &= -e^{-k_pt} + u(t) \\\\\n",
    " &= u(t) - e^{-k_pt} \\\\\n",
    "\\end{align}\n",
    "\n",
    "$x$ exponentially approaches the control step input with speed controlled by $k_p$! Make $k_p$ larger and it will converge faster. Make $k_p$ negative and the system will explode!\n",
    "\n",
    "[would be fun to have an interactive slider plot]"
   ]
  },
  {
   "cell_type": "code",
   "execution_count": null,
   "metadata": {
    "ExecuteTime": {
     "end_time": "2017-06-15T21:25:02.776558Z",
     "start_time": "2017-06-15T21:25:02.555866Z"
    },
    "collapsed": true,
    "run_control": {
     "frozen": false,
     "read_only": false
    }
   },
   "outputs": [],
   "source": [
    "t = np.linspace(0, 8)\n",
    "xd = t>=0\n",
    "x = -np.exp(-t) + xd\n",
    "fig, ax = plt.subplots(nrows=1, ncols=1, figsize=(8,6))\n",
    "ax.plot(t, xd)\n",
    "ax.plot(t, x)"
   ]
  },
  {
   "cell_type": "markdown",
   "metadata": {
    "run_control": {
     "frozen": false,
     "read_only": false
    }
   },
   "source": [
    "### $x_d=\\sin(t)\\Leftrightarrow\\frac{1}{s^2+1}$ input\n",
    "\n",
    "$$\\frac{dx}{dt}=-k_px+k_p\\sin(t)$$\n",
    "\n",
    "$$X=\\frac{k_p}{s+k_p}\\frac{1}{s^2+1}$$\n",
    "\n",
    "Solve with Laplace or method of undertermined coefficients.\n",
    "\n",
    "\\begin{align}\n",
    "x(t) &= \\frac{k_p}{k_p^2+1}\\left(k_p\\sin(t)-\\cos(t)+e^{-k_pt}\\right)\n",
    "\\end{align}"
   ]
  },
  {
   "cell_type": "code",
   "execution_count": null,
   "metadata": {
    "ExecuteTime": {
     "end_time": "2017-06-09T00:54:39.764953Z",
     "start_time": "2017-06-09T00:54:39.506501Z"
    },
    "collapsed": true,
    "run_control": {
     "frozen": false,
     "read_only": false
    }
   },
   "outputs": [],
   "source": [
    "# kp=1\n",
    "t = np.linspace(0, 20, 100)\n",
    "xd = np.sin(t)\n",
    "x = (np.sin(t)-np.cos(t) + np.exp(-t))/2.\n",
    "fig, ax = plt.subplots(nrows=1, ncols=1, figsize=(12,6))\n",
    "ax.plot(t, xd)\n",
    "ax.plot(t, x)"
   ]
  },
  {
   "cell_type": "markdown",
   "metadata": {
    "run_control": {
     "frozen": false,
     "read_only": false
    }
   },
   "source": [
    "The system settles in to a sin wave following the input signal with a phase shift and attenuation."
   ]
  },
  {
   "cell_type": "markdown",
   "metadata": {
    "run_control": {
     "frozen": false,
     "read_only": false
    }
   },
   "source": [
    "-----\n",
    "\n",
    "## $\\frac{1}{s^2}$ plant\n",
    "\n",
    "The $\\frac{1}{s}$ plant is unrealistic in the setting of a mechanical system because we cannot change velocities directly. (Can we do this electrically?). We can only apply a force. Force and displacement are related via the acceleration and velocity. So a $\\frac{1}{s^2}$ plant is more realistic.\n",
    "\n",
    "$$s^2X=k_pX_d-k_pX$$\n",
    "\n",
    "after rearrangement,\n",
    "\n",
    "$$X=\\frac{k_p}{s^2+k_p}X_d$$\n",
    "\n",
    "see how increasing the degree of the plant increased the degree of the $s$ term in the denominator."
   ]
  },
  {
   "cell_type": "markdown",
   "metadata": {
    "run_control": {
     "frozen": false,
     "read_only": false
    }
   },
   "source": [
    "### $x_d=\\delta(t)\\Leftrightarrow1$ input\n",
    "\n",
    "\\begin{align}\n",
    "X &= \\frac{k_p}{s^2+k_p} \\\\\n",
    "x(t) &= \\sqrt{k_p}\\sin\\left(\\sqrt{k_p}\\ t\\right) \\\\\n",
    "\\end{align}"
   ]
  },
  {
   "cell_type": "code",
   "execution_count": null,
   "metadata": {
    "ExecuteTime": {
     "end_time": "2017-06-08T17:26:39.572600Z",
     "start_time": "2017-06-08T17:26:39.311736Z"
    },
    "collapsed": true,
    "run_control": {
     "frozen": false,
     "read_only": false
    }
   },
   "outputs": [],
   "source": [
    "t = np.linspace(0, 8)\n",
    "x = np.sin(t)\n",
    "fig, ax = plt.subplots(nrows=1, ncols=1, figsize=(8,6))\n",
    "ax.plot(t, x)"
   ]
  },
  {
   "cell_type": "markdown",
   "metadata": {
    "run_control": {
     "frozen": false,
     "read_only": false
    }
   },
   "source": [
    "The impulse just kicks off the system and it oscillates forever."
   ]
  },
  {
   "cell_type": "markdown",
   "metadata": {
    "run_control": {
     "frozen": false,
     "read_only": false
    }
   },
   "source": [
    "### $x_d=u(t)\\Leftrightarrow\\frac{1}{s}$ input\n",
    "\n",
    "\\begin{align}\n",
    "X &= \\frac{k_p}{s^2+k_p}\\frac{1}{s} \\\\\n",
    "\\end{align}\n",
    "\n",
    "\\begin{align}\n",
    "\\frac{k_p}{s^2+k_p}\\frac{1}{s} &= \\frac{as+b}{s^2+k_p} + \\frac{c}{s} \\\\\n",
    "k_p &= (as+b)s + c(s^2+k_p) \\\\\n",
    "\\end{align}\n",
    "\n",
    "set $s=0$ and solve for $c$\n",
    "\n",
    "$$c=1$$\n",
    "\n",
    "plug in the value of $c$ and expand the right hand side\n",
    "\n",
    "\\begin{align}\n",
    "k_p &= as^2+bs + s^2+k_p \\\\\n",
    "0 &= (a+1)s^2+bs \\\\\n",
    "\\end{align}\n",
    "\n",
    "comparing like terms, we see that there are no $s^2$ or $s$ terms on the left-hand side, so\n",
    "\n",
    "\\begin{align}\n",
    "0 &= a+1 \\\\\n",
    "a &= -1 \n",
    "\\end{align}\n",
    "\n",
    "and\n",
    "\n",
    "$$b=0$$\n",
    "\n",
    "so overall\n",
    "\n",
    "\\begin{align}\n",
    "X &= -\\frac{s}{s^2+k_p}+\\frac{1}{s} \\\\\n",
    "x(t) &= -\\cos\\left(\\sqrt{k_p}\\ t\\right) + u(t) \\\\\n",
    "\\end{align}"
   ]
  },
  {
   "cell_type": "code",
   "execution_count": null,
   "metadata": {
    "ExecuteTime": {
     "end_time": "2017-06-08T17:27:07.075599Z",
     "start_time": "2017-06-08T17:27:06.838860Z"
    },
    "collapsed": true,
    "run_control": {
     "frozen": false,
     "read_only": false
    }
   },
   "outputs": [],
   "source": [
    "t = np.linspace(0, 8)\n",
    "xd = t>=0\n",
    "x = -np.cos(-t) + xd\n",
    "fig, ax = plt.subplots(nrows=1, ncols=1, figsize=(8,6))\n",
    "ax.plot(t, xd)\n",
    "ax.plot(t, x)"
   ]
  },
  {
   "cell_type": "markdown",
   "metadata": {
    "run_control": {
     "frozen": false,
     "read_only": false
    }
   },
   "source": [
    "See how the system oscillates around the input signal. With only P control, we cannot keep a 2nd order system under control!"
   ]
  },
  {
   "cell_type": "markdown",
   "metadata": {
    "run_control": {
     "frozen": false,
     "read_only": false
    }
   },
   "source": [
    "### $x_d=\\sin(t)\\Leftrightarrow\\frac{1}{s^2+1}$ input\n",
    "\n",
    "$$\\frac{d^2x}{dt^2}=-k_px+k_p\\sin(t)$$\n",
    "\n",
    "$$X=\\frac{k_p}{s^2+k_p}\\frac{1}{s^2+1}$$\n",
    "\n",
    "Solve with Laplace or method of undertermined coefficients.\n",
    "\n",
    "$$x(t)=\\frac{k_p}{k_p-1}\\left(\\frac{-1}{\\sqrt{k_p}}\\sin\\left(\\sqrt{k_p}\\ t\\right)+\\sin(t)\\right)$$"
   ]
  },
  {
   "cell_type": "code",
   "execution_count": null,
   "metadata": {
    "ExecuteTime": {
     "end_time": "2017-06-09T17:18:29.277544Z",
     "start_time": "2017-06-09T17:18:29.039709Z"
    },
    "collapsed": true,
    "run_control": {
     "frozen": false,
     "read_only": false
    }
   },
   "outputs": [],
   "source": [
    "kp = 2.\n",
    "t = np.linspace(0, 20, 100)\n",
    "xd = np.sin(t)\n",
    "x = kp/(kp-1)*(np.sin(np.sqrt(kp)*t)/np.sqrt(kp)+np.sin(t))\n",
    "fig, ax = plt.subplots(nrows=1, ncols=1, figsize=(8,6))\n",
    "ax.plot(t, xd)\n",
    "ax.plot(t, x)"
   ]
  },
  {
   "cell_type": "markdown",
   "metadata": {
    "run_control": {
     "frozen": false,
     "read_only": false
    }
   },
   "source": [
    "Wacky! I think we can safely disregard the folklore that using P-only control will usually result in a stable system. A better statement would be that a system typically has dampening built in to it so we can use P-only control and hope to remain stable."
   ]
  },
  {
   "cell_type": "markdown",
   "metadata": {
    "run_control": {
     "frozen": false,
     "read_only": false
    }
   },
   "source": [
    "# PD control\n",
    "\n",
    "## $\\frac{1}{s}$ plant\n",
    "\n",
    "### $\\delta(t) \\Leftrightarrow 1$ input\n",
    "\n",
    "### $u(t) \\Leftrightarrow \\frac{1}{s}$ input\n",
    "\n",
    "## $\\frac{1}{s^2}$ plant\n",
    "\n",
    "### $\\delta(t) \\Leftrightarrow 1$ input\n",
    "\n",
    "### $u(t) \\Leftrightarrow \\frac{1}{s}$ input\n"
   ]
  },
  {
   "cell_type": "markdown",
   "metadata": {
    "run_control": {
     "frozen": false,
     "read_only": false
    }
   },
   "source": [
    "# PID control\n",
    "\n",
    "## $\\frac{1}{s}$ plant\n",
    "\n",
    "### $\\delta(t) \\Leftrightarrow 1$ input\n",
    "\n",
    "### $u(t) \\Leftrightarrow \\frac{1}{s}$ input\n",
    "\n",
    "## $\\frac{1}{s^2}$ plant\n",
    "\n",
    "### $\\delta(t) \\Leftrightarrow 1$ input\n",
    "\n",
    "### $u(t) \\Leftrightarrow \\frac{1}{s}$ input\n"
   ]
  },
  {
   "cell_type": "markdown",
   "metadata": {
    "run_control": {
     "frozen": false,
     "read_only": false
    }
   },
   "source": [
    "# PID control full system\n",
    "\n",
    "Consider a mass-spring-damper system.\n",
    "\n",
    "[Picture!]\n",
    "\n",
    "The net force governs the acceleration via Newton's first law.\n",
    "\n",
    "$$M\\frac{d^2x}{dt^2}=f(t)-k_0x-k_1\\frac{dx}{dt}$$\n",
    "\n",
    "setting $M=1$ and rearranging for conveinence,\n",
    "\n",
    "$$\\frac{d^2x}{dt^2}+k_1\\frac{dx}{dt}+k_0x=f(t)$$\n",
    "\n",
    "Switching to the Laplace domain (and assuming 0 initial conditions),\n",
    "\n",
    "\\begin{align}\n",
    "s^2X + k_1sX + k_0X &= F \\\\\n",
    "X &= \\frac{1}{s^2 + k_1s + k_0}F \\\\\n",
    "\\end{align}\n",
    "\n",
    "We'll take $F$ to be our control input.\n",
    "\n",
    "## $\\delta(t) \\Leftrightarrow 1$ input\n",
    "\n",
    "## $u(t) \\Leftrightarrow \\frac{1}{s}$ input\n",
    "\n",
    "## $u(t) \\Leftrightarrow \\frac{1}{s^2+1}$ input\n"
   ]
  },
  {
   "cell_type": "markdown",
   "metadata": {
    "run_control": {
     "frozen": false,
     "read_only": false
    }
   },
   "source": [
    "# Solving diffeq with initial conditions\n",
    "\n",
    "\\begin{align}\n",
    "\\frac{dx}{dt} &= -x +u(t) \\\\ \n",
    "x(0) &= 1\n",
    "\\end{align}\n",
    "\n",
    "$$sX-x(0) = -X + U$$\n",
    "\n",
    "$$X = \\frac{U+x(0)}{s+1}$$\n",
    "\n",
    "$$U=\\frac{1}{s}$$\n",
    "\n",
    "$$X = \\frac{1}{s+1}\\frac{1}{s}+\\frac{x(0)}{1+s}$$\n",
    "\n",
    "Partial fraction expand \n",
    "\n",
    "\\begin{align}\n",
    "\\frac{1}{s+1}\\frac{1}{s} &= \\frac{a}{s+1} + \\frac{b}{s} \\\\\n",
    "1 &= as + b(s+1)\n",
    "\\end{align}\n",
    "\n",
    "Set $s=0$\n",
    "\n",
    "$$b=1$$\n",
    "\n",
    "Set $s=-1$\n",
    "\n",
    "$$a=-1$$\n",
    "\n",
    "so overall\n",
    "\n",
    "\\begin{align}\n",
    "X &= -\\frac{1}{s+1} + \\frac{1}{s} + \\frac{x(0)}{1+s} \\\\\n",
    "x(t) &= -e^{-t} + u(t) + x(0)e^{-t} \\\\\n",
    "x(t) &= (x(0)-1)e^{-t} + u(t) \\\\\n",
    "\\end{align}"
   ]
  },
  {
   "cell_type": "code",
   "execution_count": null,
   "metadata": {
    "ExecuteTime": {
     "end_time": "2017-06-08T17:49:28.564399Z",
     "start_time": "2017-06-08T17:49:28.337117Z"
    },
    "collapsed": true,
    "run_control": {
     "frozen": false,
     "read_only": false
    }
   },
   "outputs": [],
   "source": [
    "fig, ax = plt.subplots(nrows=1, ncols=1, figsize=(8,6))\n",
    "ax.plot(t, xd)\n",
    "\n",
    "t = np.linspace(0, 8)\n",
    "xd = t>=0\n",
    "\n",
    "x0s = [0,2]\n",
    "for x0 in x0s:\n",
    "    x = (x0-1)*np.exp(-t) + xd\n",
    "    ax.plot(t, x)"
   ]
  },
  {
   "cell_type": "markdown",
   "metadata": {
    "run_control": {
     "frozen": false,
     "read_only": false
    }
   },
   "source": [
    "See how the sytem decomposes into a exponentially decaying initial condition and an exponentially approaching steady state input."
   ]
  }
 ],
 "metadata": {
  "hide_input": false,
  "kernelspec": {
   "display_name": "Python 3",
   "language": "python",
   "name": "python3"
  },
  "language_info": {
   "codemirror_mode": {
    "name": "ipython",
    "version": 3
   },
   "file_extension": ".py",
   "mimetype": "text/x-python",
   "name": "python",
   "nbconvert_exporter": "python",
   "pygments_lexer": "ipython3",
   "version": "3.6.0"
  },
  "toc": {
   "colors": {
    "hover_highlight": "#DAA520",
    "running_highlight": "#FF0000",
    "selected_highlight": "#FFD700"
   },
   "moveMenuLeft": true,
   "nav_menu": {
    "height": "66px",
    "width": "415px"
   },
   "navigate_menu": true,
   "number_sections": true,
   "sideBar": true,
   "threshold": 4,
   "toc_cell": false,
   "toc_position": {
    "height": "1895px",
    "left": "0px",
    "right": "1508px",
    "top": "106px",
    "width": "402px"
   },
   "toc_section_display": "block",
   "toc_window_display": true,
   "widenNotebook": false
  }
 },
 "nbformat": 4,
 "nbformat_minor": 2
}
