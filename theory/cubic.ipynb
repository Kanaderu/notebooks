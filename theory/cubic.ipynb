{
 "metadata": {
  "name": "",
  "signature": "sha256:45b3310d245770f4b8e494c568bc636a1f72f5f63aa452f6869ca60b81ed7133"
 },
 "nbformat": 3,
 "nbformat_minor": 0,
 "worksheets": [
  {
   "cells": [
    {
     "cell_type": "markdown",
     "metadata": {},
     "source": [
      "\\begin{align}\n",
      "y &= a_3x^3 + a_2x^2 + a_1x + a_0\\\\\n",
      "\\end{align}"
     ]
    },
    {
     "cell_type": "code",
     "collapsed": false,
     "input": [
      "%matplotlib inline"
     ],
     "language": "python",
     "metadata": {},
     "outputs": [],
     "prompt_number": 1
    },
    {
     "cell_type": "code",
     "collapsed": false,
     "input": [
      "from IPython.html.widgets import interactive\n",
      "from IPython.display import display\n",
      "from matplotlib import pyplot as plt\n",
      "import numpy as np"
     ],
     "language": "python",
     "metadata": {},
     "outputs": [],
     "prompt_number": 2
    },
    {
     "cell_type": "code",
     "collapsed": false,
     "input": [
      "def cubic(a3=1, a2=10, a1=-10, a0=0, xmin=-5, xmax=5):\n",
      "    fig = plt.figure()\n",
      "    ax = fig.add_subplot(111)\n",
      "    x = np.linspace(xmin, xmax, 50)\n",
      "    y = a3 * x**3 + a2 * x**2 + a1 * x + a0\n",
      "    ax.axhline(0, c='k', alpha=.5)\n",
      "    ax.axvline(0, c='k', alpha=.5)\n",
      "    ax.plot(x, y)\n",
      "    plt.show()"
     ],
     "language": "python",
     "metadata": {},
     "outputs": [],
     "prompt_number": 3
    },
    {
     "cell_type": "code",
     "collapsed": false,
     "input": [
      "w = interactive(cubic, a3=(-10., 10.), a2=(-10., 10.), a1=(-10., 10.), a0=(-10., 10), xmin=(-10, 10), xmax=(-10, 10))\n",
      "display(w)"
     ],
     "language": "python",
     "metadata": {},
     "outputs": [
      {
       "metadata": {},
       "output_type": "display_data",
       "png": "[encoded data removed]",
       "text": [
        "<matplotlib.figure.Figure at 0x7f1ef5378650>"
       ]
      }
     ],
     "prompt_number": 4
    }
   ],
   "metadata": {}
  }
 ]
}