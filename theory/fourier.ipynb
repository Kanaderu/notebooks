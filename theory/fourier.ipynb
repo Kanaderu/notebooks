{
 "cells": [
  {
   "cell_type": "markdown",
   "metadata": {},
   "source": [
    "# Notebook description\n",
    "$\\DeclareMathOperator{\\shah}{III}$\n",
    "This notebook is for tracking some useful theorems and facts related to the Fourier Transform."
   ]
  },
  {
   "cell_type": "markdown",
   "metadata": {},
   "source": [
    "# Fourier series\n",
    "\n",
    "A periodic function $f(t)$ with period $T$ can be expressed as the Fourier series\n",
    "\n",
    "$$f(t) = \\sum_{n=-\\infty}^{\\infty}c_ne^{2\\pi int/T}$$\n",
    "\n",
    "where the Fourier coefficents $c_n$ are given by\n",
    "\n",
    "$$c_n=\\frac{1}{T}\\int_Tf(t)e^{-2\\pi int/T}dt$$\n",
    "\n",
    "The integral is over one period of the $f(t)$. Note that the mean value (aka DC value) of a signal is given by the $0$th Fourier coefficent $c_0$.\n",
    "\n",
    "$$c_0=\\frac{1}{T}\\int_Tf(t)dt$$"
   ]
  },
  {
   "cell_type": "markdown",
   "metadata": {},
   "source": [
    "# Fourier transform\n",
    "\n",
    "We will denote the Fourier transform of $f(t)$ with $\\mathfrak{F}\\{f\\}=\\hat{f}$.\n",
    "\n",
    "$$\\hat{f}(s)=\\int_{-\\infty}^{\\infty}f(t)e^{-2\\pi ist}dt$$\n",
    "\n",
    "The inverse Fourier transform is given by\n",
    "\n",
    "$$f(t)=\\int_{-\\infty}^{\\infty}\\hat{f}(s)e^{2\\pi ist}ds$$\n",
    "\n",
    "From the definitions, we can see that\n",
    "$$\\hat{f}(0)=\\int_{-\\infty}^{\\infty}f(t)dt$$\n",
    "and  \n",
    "$$f(0)=\\int_{-\\infty}^{\\infty}\\hat{f}(s)ds$$\n"
   ]
  },
  {
   "cell_type": "markdown",
   "metadata": {},
   "source": [
    "# Delta function\n",
    "\n",
    "The delta function $\\delta(t)$ has infinite value at $t=0$ and unit area. A non-rigorous definition can be given by\n",
    "\n",
    "$$\n",
    "\\delta(t) =\n",
    "\\begin{cases}\n",
    "\\infty & t=0 \\\\\n",
    "0 & \\mathrm{otherwise} \\\\\n",
    "\\end{cases}\n",
    "$$\n",
    "\n",
    "The Fourier tranform of the delta function is\n",
    "\n",
    "\\begin{align*}\n",
    "\\mathfrak{F}\\{\\delta(t-c)\\} &= \\int_{-\\infty}^{\\infty}\\delta(t-c)e^{-2\\pi ist}dt \\\\\n",
    " &= e^{-2\\pi isc} \\\\\n",
    "\\end{align*}\n",
    "\n",
    "so the Fourier transform pair for the delta function is given by\n",
    "\n",
    "$$\n",
    "\\delta(t-c) \\overset{\\mathfrak{F}}{\\Leftrightarrow} e^{-2\\pi isc}\n",
    "$$"
   ]
  },
  {
   "cell_type": "markdown",
   "metadata": {},
   "source": [
    "# Shah function\n",
    "\n",
    "The shah function, also known as the dirac comb function, is defined as\n",
    "\n",
    "$$\n",
    "\\shah(t)=\\sum_{n=-\\infty}^{\\infty}\\delta(t-n)\n",
    "$$\n",
    "\n",
    "and is often used in sampling. We are interested in the shah function because it represents a periodic spike train.\n",
    "\n",
    "Since it is periodic, we express the shah function as a Fourier series. Its Fourier coefficients will be\n",
    "\n",
    "\\begin{align*}\n",
    "c_n &= \\int_{-1/2}^{1/2}\\shah(t)e^{-2\\pi int}dt \\\\\n",
    " &= \\int_{-1/2}^{1/2}\\sum_{k=-\\infty}^\\infty\\delta(t-k)e^{-2\\pi int}dt \\\\\n",
    " &= 1\n",
    "\\end{align*}\n",
    "\n",
    "Therefore,\n",
    "\n",
    "\n",
    "\\begin{align*}\n",
    "\\shah(t) &= \\sum_{n=-\\infty}^\\infty c_ne^{2\\pi int} \\\\\n",
    " &= \\sum_{n=-\\infty}^\\infty e^{2\\pi int} \\\\\n",
    "\\end{align*}\n",
    "\n",
    "Now we can take the Fourier transform of the shah function\n",
    "\n",
    "\\begin{align*}\n",
    "\\hat{\\shah}(s) &= \\int_{-\\infty}^{\\infty}\\sha(t)e^{-2\\pi ist}dt \\\\\n",
    " &= \\int_{-\\infty}^{\\infty}\\sum_{n=-\\infty}^{\\infty}e^{2\\pi int}e^{-2\\pi ist}dt \\\\\n",
    " &= \\sum_{n=-\\infty}^{\\infty}\\int_{-\\infty}^{\\infty}e^{2\\pi int}e^{-2\\pi ist}dt \\\\\n",
    " &= \\sum_{n=-\\infty}^{\\infty}\\delta(n-s) \\\\\n",
    " &= \\sum_{n=-\\infty}^{\\infty}\\delta(s-n) \\\\\n",
    "\\end{align*}\n",
    "\n",
    "and we see that the Fourier transform of the shah function is the shah function. For a shah function with arbitrary period $T$,\n",
    "\n",
    "\\begin{align*}\n",
    "\\shah_T(t) &= \\sum_{n=-\\infty}^{\\infty}\\delta(t-nT) \\\\\n",
    "\\hat{\\shah}(s) &= \\frac{1}{T}\\sum_{n=-\\infty}^{\\infty}\\delta(s-\\frac{n}{T}) \\\\\n",
    "\\end{align*}\n",
    "\n",
    "TODO:\n",
    " - make an interactive plot of the delta function and its fourier transform."
   ]
  },
  {
   "cell_type": "markdown",
   "metadata": {},
   "source": [
    "# Synapse\n",
    "\n",
    "We can use the Fourier series to find the mean value of a synapse receiving periodic spikes\n",
    "\n",
    "TODO:\n",
    "Approach:\n",
    " - find $x(t)$. It should be periodic.\n",
    " - Since it is periodic, find $c_0$ Fourier coefficient. This is the mean value.\n",
    " - Should be able to do something with the remaining coefficients to find the variance.\n",
    "\n",
    "Transfer function:\n",
    "\n",
    "\\begin{align*}\n",
    "\\tau\\dot{x} &= -x + u \\\\\n",
    " &\\updownarrow \\mathfrak{F} \\\\\n",
    "\\tau2\\pi is\\hat{x}(s) &= -\\hat{x}(s)+\\hat{u}(s) \\\\\n",
    "\\frac{\\hat{x}(s)}{\\hat{u}(s)} &= \\frac{1}{\\tau2\\pi is+1} \\\\\n",
    "\\end{align*}\n",
    "\n"
   ]
  }
 ],
 "metadata": {
  "kernelspec": {
   "display_name": "Python 2",
   "language": "python",
   "name": "python2"
  },
  "language_info": {
   "codemirror_mode": {
    "name": "ipython",
    "version": 2
   },
   "file_extension": ".py",
   "mimetype": "text/x-python",
   "name": "python",
   "nbconvert_exporter": "python",
   "pygments_lexer": "ipython2",
   "version": "2.7.3"
  }
 },
 "nbformat": 4,
 "nbformat_minor": 0
}
