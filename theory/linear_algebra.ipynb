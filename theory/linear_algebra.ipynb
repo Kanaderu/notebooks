{
 "cells": [
  {
   "cell_type": "markdown",
   "metadata": {},
   "source": [
    "#Notebook description\n",
    "\n",
    "This notebook contains some proofs for linear algebra facts used in other notebooks"
   ]
  },
  {
   "cell_type": "markdown",
   "metadata": {},
   "source": [
    "# Only symmetric matrices affect the quadratic form\n",
    "\n",
    "Consider the quadratic form,\n",
    "\n",
    "$$\\mathbf{x}^TA\\mathbf{x}$$\n",
    "\n",
    "where $\\mathbf{x}$ is a vector and $A$ is a matrix. Here, we will show that only the symmetric portion of $A$ is relevant. \n",
    "\n",
    "$A$ can be decomposed into symmetric and skew-symmetric components $A_{sym}$ and $A_{ss}$ where\n",
    "\n",
    "\\begin{align}\n",
    "A_{sym} = \\frac{1}{2}(A+A^T) \\\\\n",
    "A_{ss} = \\frac{1}{2}(A-A^T) \\\\\n",
    "\\end{align}\n",
    "\n",
    "so that\n",
    "\n",
    "\\begin{align}\n",
    "A_{sym}+A_{ss} &= \\frac{1}{2}(A+A^T)+\\frac{1}{2}(A-A^T) \\\\\n",
    " &= A\n",
    "\\end{align}\n",
    "\n",
    "$A_{ss}$ skew-symmetric means that $A_{ss}=-A_{ss}^T$ so that $A_{ss}+A_{ss}^T=0$. Skew-symmetric also implies that the the quadratic form\n",
    "\n",
    "\\begin{align}\n",
    "\\mathbf{x}^TA_{ss}\\mathbf{x} &= \\mathbf{x}^T\\frac{1}{2}(A-A^T)\\mathbf{x} \\\\\n",
    " &= \\frac{1}{2}(\\mathbf{x}^TA\\mathbf{x}-\\mathbf{x}^TA^T\\mathbf{x}) \\\\\n",
    " &= \\frac{1}{2}(\\mathbf{x}^TA\\mathbf{x}-\\mathbf{x}^TA\\mathbf{x}) \\\\\n",
    " &= 0\n",
    "\\end{align}\n",
    "\n",
    "\n",
    "Now, substituting into the original quadratic form,\n",
    "\n",
    "\\begin{align}\n",
    "\\mathbf{x}^TA\\mathbf{x} &= \\mathbf{x}^T(A_{sym}+A_{ss})\\mathbf{x} \\\\\n",
    " &= \\mathbf{x}^TA_{sym}\\mathbf{x}+\\mathbf{x}^TA_{ss}\\mathbf{x} \\\\\n",
    " &= \\mathbf{x}^TA_{sym}\\mathbf{x}\n",
    "\\end{align}\n",
    "\n",
    "Showing that only symmetric portion of $A$ affects the quadratic form."
   ]
  }
 ],
 "metadata": {
  "kernelspec": {
   "display_name": "Python 2",
   "language": "python",
   "name": "python2"
  },
  "language_info": {
   "codemirror_mode": {
    "name": "ipython",
    "version": 2
   },
   "file_extension": ".py",
   "mimetype": "text/x-python",
   "name": "python",
   "nbconvert_exporter": "python",
   "pygments_lexer": "ipython2",
   "version": "2.7.6"
  }
 },
 "nbformat": 4,
 "nbformat_minor": 0
}
