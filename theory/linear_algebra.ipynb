{
 "cells": [
  {
   "cell_type": "markdown",
   "metadata": {},
   "source": [
    "#Notebook description\n",
    "\n",
    "This notebook contains some proofs for linear algebra facts used in other notebooks"
   ]
  },
  {
   "cell_type": "markdown",
   "metadata": {},
   "source": [
    "# Only symmetric matrices affect the quadratic form\n",
    "\n",
    "Consider the quadratic form,\n",
    "\n",
    "$$\\mathbf{x}^TA\\mathbf{x}$$\n",
    "\n",
    "where $\\mathbf{x}$ is a vector and $A$ is a matrix. Here, we will show that only the symmetric portion of $A$ is relevant. \n",
    "\n",
    "$A$ can be decomposed into symmetric and skew-symmetric components $A_{sym}$ and $A_{ss}$ where\n",
    "\n",
    "\\begin{align}\n",
    "A_{sym} = \\frac{1}{2}(A+A^T) \\\\\n",
    "A_{ss} = \\frac{1}{2}(A-A^T) \\\\\n",
    "\\end{align}\n",
    "\n",
    "so that\n",
    "\n",
    "\\begin{align}\n",
    "A_{sym}+A_{ss} &= \\frac{1}{2}(A+A^T)+\\frac{1}{2}(A-A^T) \\\\\n",
    " &= A\n",
    "\\end{align}\n",
    "\n",
    "$A_{ss}$ skew-symmetric means that $A_{ss}=-A_{ss}^T$ so that $A_{ss}+A_{ss}^T=0$. Skew-symmetric also implies that the the quadratic form\n",
    "\n",
    "\\begin{align}\n",
    "\\mathbf{x}^TA_{ss}\\mathbf{x} &= \\mathbf{x}^T\\frac{1}{2}(A-A^T)\\mathbf{x} \\\\\n",
    " &= \\frac{1}{2}(\\mathbf{x}^TA\\mathbf{x}-\\mathbf{x}^TA^T\\mathbf{x}) \\\\\n",
    " &= \\frac{1}{2}(\\mathbf{x}^TA\\mathbf{x}-\\mathbf{x}^TA\\mathbf{x}) \\\\\n",
    " &= 0\n",
    "\\end{align}\n",
    "\n",
    "\n",
    "Now, substituting into the original quadratic form,\n",
    "\n",
    "\\begin{align}\n",
    "\\mathbf{x}^TA\\mathbf{x} &= \\mathbf{x}^T(A_{sym}+A_{ss})\\mathbf{x} \\\\\n",
    " &= \\mathbf{x}^TA_{sym}\\mathbf{x}+\\mathbf{x}^TA_{ss}\\mathbf{x} \\\\\n",
    " &= \\mathbf{x}^TA_{sym}\\mathbf{x}\n",
    "\\end{align}\n",
    "\n",
    "Showing that only symmetric portion of $A$ affects the quadratic form."
   ]
  },
  {
   "cell_type": "markdown",
   "metadata": {},
   "source": [
    "# Similar matrices share eigenvalues\n",
    "\n",
    "Matrices $A$ and $B$ are similar if there exists some matrix $S$ such that \n",
    "\n",
    "$$B=S^{-1}AS$$\n",
    "\n",
    "or equivalently\n",
    "\n",
    "$$A=SBS^{-1}$$\n",
    "\n",
    "Now, consider eigenvalue $\\lambda$ and eigenvector $x$ of $A$. \n",
    "\n",
    "\\begin{align}\n",
    "Ax &= \\lambda x \\\\\n",
    "(A-\\lambda I)x &= 0 \\\\\n",
    "(SBS^{-1} - \\lambda I)x &= \\\\\n",
    "S(BS^{-1} - \\lambda S^{-1})x &= \\\\\n",
    "S(B - \\lambda I)S^{-1}x &= \\\\\n",
    "(B - \\lambda I)S^{-1}x &= S^{-1}0 \\\\\n",
    "(B - \\lambda I)S^{-1}x &= 0 \\\\\n",
    "\\end{align}\n",
    "\n",
    "This shows that $\\lambda$ is also an eigenvalue of $B$ and its corresponding eigenvector will be $S^{-1}x$."
   ]
  }
 ],
 "metadata": {
  "kernelspec": {
   "display_name": "Python 2",
   "language": "python",
   "name": "python2"
  },
  "language_info": {
   "codemirror_mode": {
    "name": "ipython",
    "version": 2
   },
   "file_extension": ".py",
   "mimetype": "text/x-python",
   "name": "python",
   "nbconvert_exporter": "python",
   "pygments_lexer": "ipython2",
   "version": "2.7.3"
  }
 },
 "nbformat": 4,
 "nbformat_minor": 0
}
